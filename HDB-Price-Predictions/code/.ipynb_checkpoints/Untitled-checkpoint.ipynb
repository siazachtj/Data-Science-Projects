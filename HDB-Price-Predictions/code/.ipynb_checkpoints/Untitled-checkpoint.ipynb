{
 "cells": [
  {
   "cell_type": "markdown",
   "id": "2e799285-77d4-4ca3-abb2-db84e9cb6f44",
   "metadata": {},
   "source": [
    "### Project 2 "
   ]
  },
  {
   "cell_type": "markdown",
   "id": "0cdb3a2c-ccda-4364-b549-98b9ebe08def",
   "metadata": {},
   "source": [
    "### Overview\n",
    "-hi"
   ]
  }
 ],
 "metadata": {
  "kernelspec": {
   "display_name": "Python 3 (ipykernel)",
   "language": "python",
   "name": "python3"
  },
  "language_info": {
   "codemirror_mode": {
    "name": "ipython",
    "version": 3
   },
   "file_extension": ".py",
   "mimetype": "text/x-python",
   "name": "python",
   "nbconvert_exporter": "python",
   "pygments_lexer": "ipython3",
   "version": "3.8.13"
  }
 },
 "nbformat": 4,
 "nbformat_minor": 5
}
