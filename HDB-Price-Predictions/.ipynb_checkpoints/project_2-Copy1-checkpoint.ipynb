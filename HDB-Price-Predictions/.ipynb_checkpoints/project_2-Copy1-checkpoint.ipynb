{
 "cells": [
  {
   "cell_type": "markdown",
   "id": "2e799285-77d4-4ca3-abb2-db84e9cb6f44",
   "metadata": {},
   "source": [
    "### Project 2 "
   ]
  },
  {
   "cell_type": "markdown",
   "id": "0cdb3a2c-ccda-4364-b549-98b9ebe08def",
   "metadata": {},
   "source": [
    "### Overview\n",
    "- Background \n",
    "- EDA\n",
    "- Regression"
   ]
  },
  {
   "cell_type": "markdown",
   "id": "d2983d52-de20-4929-8b4f-83de08919dca",
   "metadata": {},
   "source": [
    "### Background"
   ]
  },
  {
   "cell_type": "markdown",
   "id": "9a7a35dc-5c03-4960-9167-8fab3393a1ba",
   "metadata": {},
   "source": [
    "We have been tasked with creating a regression model based on Singapore Housing Dataset. This model will predict the price of a house at sale.\n",
    "\n",
    "This Dataset is an exceptionally detailed one with over 70 columns of different features relating to houses.\n",
    "\n",
    "**Land**\n",
    "According to an article by seedly, approximately 102 of Singapore's 728.6 square kilometre land area is used for housing.\n",
    "\n",
    "The two housing markets can be roughly divided into _**Public**_ and _**Private**_ housing.\n",
    "\n",
    "**Factors to consider**\n",
    "A quick search on the most important factors when considering housing include:\n"
   ]
  },
  {
   "cell_type": "code",
   "execution_count": null,
   "id": "31fdc488-9512-405d-b7e8-0d9261e6d206",
   "metadata": {},
   "outputs": [],
   "source": [
    "import pandas as pd\n",
    "import numpy as np\n",
    "import seaborn as sns\n",
    "import matplotlib.pyplot as plt\n",
    "from sklearn.linear_model import LinearRegression, LassoCV, RidgeCV\n",
    "from sklearn.preprocessing import StandardScaler, OneHotEncoder\n",
    "from sklearn.model_selection import train_test_split, cross_val_score\n",
    "from sklearn.metrics import r2_score\n",
    "from sklearn.impute import SimpleImputer"
   ]
  },
  {
   "cell_type": "code",
   "execution_count": null,
   "id": "7ad0ecd9-7ecb-42ea-8452-02af91bd20c7",
   "metadata": {},
   "outputs": [],
   "source": [
    "#Functions\n",
    "def explorify_df(x):\n",
    "    return x.shape, x.info\n",
    "    \n",
    "    "
   ]
  },
  {
   "cell_type": "markdown",
   "id": "ae572a3d-cb7a-407f-be1d-517539d260b6",
   "metadata": {},
   "source": [
    "### EDA"
   ]
  },
  {
   "cell_type": "code",
   "execution_count": null,
   "id": "9248b834-cdf6-40fe-bf1c-b034454abda4",
   "metadata": {},
   "outputs": [
    {
     "name": "stderr",
     "output_type": "stream",
     "text": [
      "C:\\Users\\siaza\\AppData\\Local\\Temp\\ipykernel_4740\\124349598.py:2: DtypeWarning: Columns (41) have mixed types. Specify dtype option on import or set low_memory=False.\n",
      "  train_data = pd.read_csv(\"./datasets/train.csv\")\n"
     ]
    },
    {
     "name": "stdout",
     "output_type": "stream",
     "text": [
      "(150634, 77)\n"
     ]
    }
   ],
   "source": [
    "#reading the test dataset\n",
    "train_data = pd.read_csv(\"./datasets/train.csv\")\n",
    "print(train_data.shape)\n",
    "#assessing the missing values\n",
    "y = train_data.isna().sum().sort_values(ascending = False).to_frame('vals')\n",
    "train_data.drop(columns=['Hawker_Within_500m', 'Mall_Within_500m', 'Hawker_Within_1km', 'Hawker_Within_2km','Mall_Within_1km', 'Mall_Nearest_Distance', 'Mall_Within_2km'],\n",
    "                         inplace=True)\n",
    "# y2 = train_data.isna().sum().sort_values(ascending = False).to_frame('vals')\n",
    "# plt.hist(train_data.groupby('town')['Mall_Nearest_Distance'])\n",
    "# train_data['Mall_Nearest_Distance'].hist(by=train_data['town'])\n",
    "# train_data['bus_stop_nearest_distance'].max()\n",
    "# train_data['town']\n",
    "#checked values of entry 691 nad 150388 and saw that there was no relationship between the two locations in google maps one was 1 km away and the other was 2.5 km away\n",
    "# train_data['Mall_Within_2km'].unique()"
   ]
  },
  {
   "cell_type": "code",
   "execution_count": null,
   "id": "fc7d9c43-b2da-4c9f-bca5-17a110c36177",
   "metadata": {},
   "outputs": [],
   "source": [
    "# plt.scatter(train_data['Mall_Within_2km'], train_data['town'],s=2)\n",
    "# plt.xlabel('Mall_Nearest_Distance')\n",
    "# plt.ylabel('resale price')"
   ]
  },
  {
   "cell_type": "code",
   "execution_count": null,
   "id": "d5971fa1-aa26-4cd0-b7ce-54fa2a767bcd",
   "metadata": {},
   "outputs": [],
   "source": []
  },
  {
   "cell_type": "code",
   "execution_count": null,
   "id": "b1916022-51aa-439f-88cb-aaccfe32f2fc",
   "metadata": {},
   "outputs": [],
   "source": [
    "# plt.hist(train_data['Mall_Within_500m'])\n",
    "# plt.xlabel('Mall_Within_500m')\n",
    "# plt.ylabel('resale price')"
   ]
  },
  {
   "cell_type": "code",
   "execution_count": null,
   "id": "89afccb8-c9a9-4803-9150-f3ccb461a23e",
   "metadata": {},
   "outputs": [],
   "source": [
    "# plt.hist(train_data['Hawker_Within_1km'])\n",
    "# plt.xlabel('Hawker_Within_1km')\n",
    "# plt.ylabel('resale price')"
   ]
  },
  {
   "cell_type": "code",
   "execution_count": null,
   "id": "03064520-1b31-42f3-a02b-7dcca38e37a7",
   "metadata": {},
   "outputs": [],
   "source": [
    "# plt.hist(train_data['Hawker_Within_2km'],bins=20)"
   ]
  },
  {
   "cell_type": "code",
   "execution_count": null,
   "id": "a90bd97f-e433-4841-a5d5-9cc1e24851ef",
   "metadata": {},
   "outputs": [
    {
     "data": {
      "text/plain": [
       "[]"
      ]
     },
     "execution_count": 8,
     "metadata": {},
     "output_type": "execute_result"
    }
   ],
   "source": [
    "#NA values\n",
    "[print(k,v) for k,v in train_data.isna().sum().items() if v> 0]\n"
   ]
  },
  {
   "cell_type": "code",
   "execution_count": null,
   "id": "37c100e4-1620-4ce4-baa7-375148f85036",
   "metadata": {},
   "outputs": [],
   "source": [
    "# train_data.dropna()\n",
    "# #drop id column\n",
    "# train_data.drop('id', axis=1, inplace=True)"
   ]
  },
  {
   "cell_type": "code",
   "execution_count": null,
   "id": "bc8f1454-96cd-4bf7-badd-1c6b34fe48c8",
   "metadata": {},
   "outputs": [
    {
     "name": "stdout",
     "output_type": "stream",
     "text": [
      "['town', 'flat_type', 'street_name', 'storey_range', 'flat_model', 'full_flat_type', 'residential', 'commercial', 'market_hawker', 'multistorey_carpark', 'precinct_pavilion', 'postal', 'mrt_name', 'bus_stop_name', 'pri_sch_name', 'sec_sch_name']\n"
     ]
    }
   ],
   "source": [
    "objects = [k for k,v in train_data.dtypes.items() if v == object]\n",
    "# #isolate objects_df\n",
    "objects_df = train_data.loc[:, objects].copy()\n",
    "#no null values in the objects only df\n",
    "objects_df.isna().sum()\n",
    "# #isolate numeric_df\n",
    "objects_2 = [i for i in list(objects_df.columns) if i not in ['block', 'postal','planning_area','Tranc_YearMonth','address']]\n",
    "#dealing with date\n",
    "numeric_df = train_data.loc [:, ~train_data.columns.isin(objects_2)].copy()\n",
    "numeric_df.drop(columns='Tranc_YearMonth')\n"
   ]
  },
  {
   "cell_type": "code",
   "execution_count": null,
   "id": "756124c7-9c1a-4ee8-ab84-09892ff7b1eb",
   "metadata": {},
   "outputs": [
    {
     "name": "stdout",
     "output_type": "stream",
     "text": [
      "(150634, 66)\n"
     ]
    }
   ],
   "source": [
    "#remove all duplicates\n",
    "print(train_data.shape)\n",
    "# train_data.drop_duplicates(inplace=True)"
   ]
  },
  {
   "cell_type": "markdown",
   "id": "ef48011d-efef-41a0-ab4d-29e2cc76773e",
   "metadata": {},
   "source": [
    "### Exploring the Data"
   ]
  },
  {
   "cell_type": "code",
   "execution_count": null,
   "id": "11503de8-5bd2-4ff9-99d6-95449bf224ca",
   "metadata": {},
   "outputs": [
    {
     "name": "stderr",
     "output_type": "stream",
     "text": [
      "C:\\Users\\siaza\\AppData\\Local\\Temp\\ipykernel_4740\\389481351.py:1: FutureWarning: The default value of numeric_only in DataFrame.corr is deprecated. In a future version, it will default to False. Select only valid columns or specify the value of numeric_only to silence this warning.\n",
      "  print(train_data.corr()['resale_price'].describe())\n"
     ]
    },
    {
     "name": "stdout",
     "output_type": "stream",
     "text": [
      "count    50.000000\n",
      "mean      0.090404\n",
      "std       0.272502\n",
      "min      -0.410368\n",
      "25%      -0.039074\n",
      "50%       0.031436\n",
      "75%       0.280353\n",
      "max       1.000000\n",
      "Name: resale_price, dtype: float64\n"
     ]
    }
   ],
   "source": [
    "print(train_data.corr()['resale_price'].describe())"
   ]
  },
  {
   "cell_type": "code",
   "execution_count": null,
   "id": "3940c4e3-58ae-4907-bad4-5611381f870f",
   "metadata": {},
   "outputs": [
    {
     "name": "stderr",
     "output_type": "stream",
     "text": [
      "C:\\Users\\siaza\\AppData\\Local\\Temp\\ipykernel_4740\\2599497196.py:2: FutureWarning: The default value of numeric_only in DataFrame.corr is deprecated. In a future version, it will default to False. Select only valid columns or specify the value of numeric_only to silence this warning.\n",
      "  train_data.corr()[train_data.corr()['resale_price'] > 0.37][['resale_price']].sort_values(by=['resale_price'],ascending=False)\n"
     ]
    },
    {
     "data": {
      "text/html": [
       "<div>\n",
       "<style scoped>\n",
       "    .dataframe tbody tr th:only-of-type {\n",
       "        vertical-align: middle;\n",
       "    }\n",
       "\n",
       "    .dataframe tbody tr th {\n",
       "        vertical-align: top;\n",
       "    }\n",
       "\n",
       "    .dataframe thead th {\n",
       "        text-align: right;\n",
       "    }\n",
       "</style>\n",
       "<table border=\"1\" class=\"dataframe\">\n",
       "  <thead>\n",
       "    <tr style=\"text-align: right;\">\n",
       "      <th></th>\n",
       "      <th>resale_price</th>\n",
       "    </tr>\n",
       "  </thead>\n",
       "  <tbody>\n",
       "    <tr>\n",
       "      <th>resale_price</th>\n",
       "      <td>1.000000</td>\n",
       "    </tr>\n",
       "    <tr>\n",
       "      <th>floor_area_sqm</th>\n",
       "      <td>0.654120</td>\n",
       "    </tr>\n",
       "    <tr>\n",
       "      <th>floor_area_sqft</th>\n",
       "      <td>0.654120</td>\n",
       "    </tr>\n",
       "    <tr>\n",
       "      <th>id</th>\n",
       "      <td>0.521504</td>\n",
       "    </tr>\n",
       "    <tr>\n",
       "      <th>max_floor_lvl</th>\n",
       "      <td>0.495650</td>\n",
       "    </tr>\n",
       "  </tbody>\n",
       "</table>\n",
       "</div>"
      ],
      "text/plain": [
       "                 resale_price\n",
       "resale_price         1.000000\n",
       "floor_area_sqm       0.654120\n",
       "floor_area_sqft      0.654120\n",
       "id                   0.521504\n",
       "max_floor_lvl        0.495650"
      ]
     },
     "execution_count": 13,
     "metadata": {},
     "output_type": "execute_result"
    }
   ],
   "source": [
    "#higher end of correlation\n",
    "train_data.corr()[train_data.corr()['resale_price'] > 0.37][['resale_price']].sort_values(by=['resale_price'],ascending=False)"
   ]
  },
  {
   "cell_type": "code",
   "execution_count": null,
   "id": "aca74ee2-9cae-4052-b530-826fec284601",
   "metadata": {},
   "outputs": [
    {
     "name": "stderr",
     "output_type": "stream",
     "text": [
      "C:\\Users\\siaza\\AppData\\Local\\Temp\\ipykernel_4740\\3535059119.py:2: FutureWarning: The default value of numeric_only in DataFrame.corr is deprecated. In a future version, it will default to False. Select only valid columns or specify the value of numeric_only to silence this warning.\n",
      "  train_data.corr()[train_data.corr()['resale_price'] < 0][['resale_price']].sort_values(by=['resale_price'])\n"
     ]
    },
    {
     "data": {
      "text/html": [
       "<div>\n",
       "<style scoped>\n",
       "    .dataframe tbody tr th:only-of-type {\n",
       "        vertical-align: middle;\n",
       "    }\n",
       "\n",
       "    .dataframe tbody tr th {\n",
       "        vertical-align: top;\n",
       "    }\n",
       "\n",
       "    .dataframe thead th {\n",
       "        text-align: right;\n",
       "    }\n",
       "</style>\n",
       "<table border=\"1\" class=\"dataframe\">\n",
       "  <thead>\n",
       "    <tr style=\"text-align: right;\">\n",
       "      <th></th>\n",
       "      <th>resale_price</th>\n",
       "    </tr>\n",
       "  </thead>\n",
       "  <tbody>\n",
       "    <tr>\n",
       "      <th>3room_sold</th>\n",
       "      <td>-0.410368</td>\n",
       "    </tr>\n",
       "    <tr>\n",
       "      <th>hdb_age</th>\n",
       "      <td>-0.350337</td>\n",
       "    </tr>\n",
       "    <tr>\n",
       "      <th>sec_sch_latitude</th>\n",
       "      <td>-0.216303</td>\n",
       "    </tr>\n",
       "    <tr>\n",
       "      <th>Latitude</th>\n",
       "      <td>-0.216153</td>\n",
       "    </tr>\n",
       "    <tr>\n",
       "      <th>bus_stop_latitude</th>\n",
       "      <td>-0.215760</td>\n",
       "    </tr>\n",
       "    <tr>\n",
       "      <th>mrt_latitude</th>\n",
       "      <td>-0.214939</td>\n",
       "    </tr>\n",
       "    <tr>\n",
       "      <th>pri_sch_latitude</th>\n",
       "      <td>-0.214707</td>\n",
       "    </tr>\n",
       "    <tr>\n",
       "      <th>2room_sold</th>\n",
       "      <td>-0.145287</td>\n",
       "    </tr>\n",
       "    <tr>\n",
       "      <th>total_dwelling_units</th>\n",
       "      <td>-0.140725</td>\n",
       "    </tr>\n",
       "    <tr>\n",
       "      <th>mrt_nearest_distance</th>\n",
       "      <td>-0.128222</td>\n",
       "    </tr>\n",
       "    <tr>\n",
       "      <th>3room_rental</th>\n",
       "      <td>-0.079965</td>\n",
       "    </tr>\n",
       "    <tr>\n",
       "      <th>2room_rental</th>\n",
       "      <td>-0.077548</td>\n",
       "    </tr>\n",
       "    <tr>\n",
       "      <th>1room_sold</th>\n",
       "      <td>-0.039434</td>\n",
       "    </tr>\n",
       "    <tr>\n",
       "      <th>1room_rental</th>\n",
       "      <td>-0.037993</td>\n",
       "    </tr>\n",
       "    <tr>\n",
       "      <th>hawker_food_stalls</th>\n",
       "      <td>-0.033581</td>\n",
       "    </tr>\n",
       "    <tr>\n",
       "      <th>Tranc_Year</th>\n",
       "      <td>-0.019146</td>\n",
       "    </tr>\n",
       "    <tr>\n",
       "      <th>vacancy</th>\n",
       "      <td>-0.016140</td>\n",
       "    </tr>\n",
       "    <tr>\n",
       "      <th>Hawker_Nearest_Distance</th>\n",
       "      <td>-0.014537</td>\n",
       "    </tr>\n",
       "    <tr>\n",
       "      <th>pri_sch_nearest_distance</th>\n",
       "      <td>-0.011004</td>\n",
       "    </tr>\n",
       "    <tr>\n",
       "      <th>hawker_market_stalls</th>\n",
       "      <td>-0.009378</td>\n",
       "    </tr>\n",
       "    <tr>\n",
       "      <th>Tranc_Month</th>\n",
       "      <td>-0.006823</td>\n",
       "    </tr>\n",
       "    <tr>\n",
       "      <th>affiliation</th>\n",
       "      <td>-0.000466</td>\n",
       "    </tr>\n",
       "  </tbody>\n",
       "</table>\n",
       "</div>"
      ],
      "text/plain": [
       "                          resale_price\n",
       "3room_sold                   -0.410368\n",
       "hdb_age                      -0.350337\n",
       "sec_sch_latitude             -0.216303\n",
       "Latitude                     -0.216153\n",
       "bus_stop_latitude            -0.215760\n",
       "mrt_latitude                 -0.214939\n",
       "pri_sch_latitude             -0.214707\n",
       "2room_sold                   -0.145287\n",
       "total_dwelling_units         -0.140725\n",
       "mrt_nearest_distance         -0.128222\n",
       "3room_rental                 -0.079965\n",
       "2room_rental                 -0.077548\n",
       "1room_sold                   -0.039434\n",
       "1room_rental                 -0.037993\n",
       "hawker_food_stalls           -0.033581\n",
       "Tranc_Year                   -0.019146\n",
       "vacancy                      -0.016140\n",
       "Hawker_Nearest_Distance      -0.014537\n",
       "pri_sch_nearest_distance     -0.011004\n",
       "hawker_market_stalls         -0.009378\n",
       "Tranc_Month                  -0.006823\n",
       "affiliation                  -0.000466"
      ]
     },
     "execution_count": 14,
     "metadata": {},
     "output_type": "execute_result"
    }
   ],
   "source": [
    "#lower end of correlation\n",
    "train_data.corr()[train_data.corr()['resale_price'] < 0][['resale_price']].sort_values(by=['resale_price'])\n",
    "# train_data.corr()[train_data.corr()['resale_price'] < -0.3][['resale_price']].sort_values(by=['resale_price'])"
   ]
  },
  {
   "cell_type": "code",
   "execution_count": null,
   "id": "077ad2eb-ae36-4332-95b5-74c4b8ce1f66",
   "metadata": {},
   "outputs": [
    {
     "name": "stdout",
     "output_type": "stream",
     "text": [
      "0    680000.0\n",
      "1    665000.0\n",
      "2    838000.0\n",
      "3    550000.0\n",
      "4    298000.0\n",
      "Name: resale_price, dtype: float64\n",
      "       id             town  flat_type       street_name storey_range  \\\n",
      "0   88471  KALLANG/WHAMPOA     4 ROOM  UPP BOON KENG RD     10 TO 12   \n",
      "1  122598           BISHAN     5 ROOM      BISHAN ST 13     07 TO 09   \n",
      "2  170897      BUKIT BATOK  EXECUTIVE    BT BATOK ST 25     13 TO 15   \n",
      "3   86070           BISHAN     4 ROOM      BISHAN ST 22     01 TO 05   \n",
      "4  153632           YISHUN     4 ROOM      YISHUN ST 81     01 TO 03   \n",
      "\n",
      "   floor_area_sqm  flat_model  lease_commence_date  Tranc_Year  Tranc_Month  \\\n",
      "0            90.0     Model A                 2006        2016            5   \n",
      "1           130.0    Improved                 1987        2012            7   \n",
      "2           144.0   Apartment                 1997        2013            7   \n",
      "3           103.0     Model A                 1992        2012            4   \n",
      "4            83.0  Simplified                 1987        2017           12   \n",
      "\n",
      "   ...  vacancy  pri_sch_affiliation  pri_sch_latitude  pri_sch_longitude  \\\n",
      "0  ...       78                    1          1.317659         103.882504   \n",
      "1  ...       45                    1          1.349783         103.854529   \n",
      "2  ...       39                    0          1.345245         103.756265   \n",
      "3  ...       20                    1          1.354789         103.844934   \n",
      "4  ...       74                    0          1.416280         103.838798   \n",
      "\n",
      "  sec_sch_nearest_dist                             sec_sch_name  cutoff_point  \\\n",
      "0          1138.633422                 Geylang Methodist School           224   \n",
      "1           447.894399  Kuo Chuan Presbyterian Secondary School           232   \n",
      "2           180.074558             Yusof Ishak Secondary School           188   \n",
      "3           389.515528                     Catholic High School           253   \n",
      "4           312.025435             Orchid Park Secondary School           208   \n",
      "\n",
      "   affiliation  sec_sch_latitude sec_sch_longitude  \n",
      "0            0          1.317659        103.882504  \n",
      "1            0          1.350110        103.854892  \n",
      "2            0          1.342334        103.760013  \n",
      "3            1          1.354789        103.844934  \n",
      "4            0          1.414888        103.838335  \n",
      "\n",
      "[5 rows x 65 columns]\n"
     ]
    }
   ],
   "source": [
    "#remember to scale the data before fitting for baseline model\n",
    "# X = train_data.drop('resale_price')\n",
    "y = train_data['resale_price']\n",
    "X = train_data.drop(columns='resale_price')\n",
    "X.loc[X['postal'].str.contains('NIL',na=False), 'postal'] = 0\n",
    "X['postal'] = X['postal'].astype('int64')\n",
    "print(y.head())\n",
    "print(X.head())\n",
    "# y = train_data['resale_price']\n",
    "# X_train, X_test, y_train, y_test = "
   ]
  },
  {
   "cell_type": "code",
   "execution_count": null,
   "id": "c135b64d-d14a-45d8-a968-74f275ec887e",
   "metadata": {},
   "outputs": [],
   "source": [
    "X_train, X_test, y_train, y_test = train_test_split(X, y, random_state=1337)"
   ]
  },
  {
   "cell_type": "code",
   "execution_count": null,
   "id": "110c3850-8abb-415e-9be0-9e2a703dd73c",
   "metadata": {},
   "outputs": [],
   "source": []
  },
  {
   "cell_type": "code",
   "execution_count": null,
   "id": "301565dd-7a0d-4bd9-8170-6e7547d8a329",
   "metadata": {},
   "outputs": [],
   "source": [
    "lr = LinearRegression()"
   ]
  },
  {
   "cell_type": "code",
   "execution_count": null,
   "id": "46208afe-f7de-490b-a832-fd9e4fb2ba3f",
   "metadata": {},
   "outputs": [],
   "source": [
    "ss = StandardScaler()\n",
    "# X_train = ss.fit_transform(X_train)\n",
    "# X_test = ss.fit_transform(X_test)"
   ]
  },
  {
   "cell_type": "code",
   "execution_count": null,
   "id": "7ec0271d-065c-4f65-a508-613cf08bd892",
   "metadata": {},
   "outputs": [],
   "source": [
    "X_train_cat = X_train.loc[:, objects].copy().astype(str)\n",
    "X_train_cat.drop(columns=['block', 'postal','planning_area','Tranc_YearMonth','address'], inplace=True)\n",
    "X_test_cat = X_test.loc[:, objects].copy().astype(str)\n",
    "X_test_cat.drop(columns=['block', 'postal','planning_area','Tranc_YearMonth','address'], inplace=True)"
   ]
  },
  {
   "cell_type": "code",
   "execution_count": null,
   "id": "cedaee8d-dc53-4e3f-ac68-fa350de7c741",
   "metadata": {},
   "outputs": [],
   "source": []
  },
  {
   "cell_type": "code",
   "execution_count": null,
   "id": "f86f9151-5edb-424a-934f-5a54b388d2d1",
   "metadata": {},
   "outputs": [
    {
     "name": "stderr",
     "output_type": "stream",
     "text": [
      "C:\\Users\\siaza\\.conda\\envs\\dsi-sg\\lib\\site-packages\\sklearn\\preprocessing\\_encoders.py:188: UserWarning: Found unknown categories in columns [11, 13] during transform. These unknown categories will be encoded as all zeros\n",
      "  warnings.warn(\n"
     ]
    }
   ],
   "source": [
    "ohe = OneHotEncoder(handle_unknown='ignore',drop='first')\n",
    "\n",
    "X_train_cat = pd.DataFrame((ohe.fit_transform(X_train_cat).toarray()), columns = ohe.get_feature_names_out())\n",
    "X_test_cat = pd.DataFrame(ohe.transform(X_test_cat).toarray(), columns = ohe.get_feature_names_out())"
   ]
  },
  {
   "cell_type": "code",
   "execution_count": null,
   "id": "d724d11c-5903-467f-bbf7-7cb718b13549",
   "metadata": {},
   "outputs": [
    {
     "data": {
      "text/plain": [
       "town_BEDOK                                0\n",
       "postal_730307                             0\n",
       "postal_730215                             0\n",
       "postal_730216                             0\n",
       "postal_730217                             0\n",
       "                                         ..\n",
       "postal_530240                             0\n",
       "postal_530241                             0\n",
       "postal_530242                             0\n",
       "postal_530243                             0\n",
       "sec_sch_name_Zhonghua Secondary School    0\n",
       "Length: 11810, dtype: int64"
      ]
     },
     "execution_count": 20,
     "metadata": {},
     "output_type": "execute_result"
    }
   ],
   "source": [
    "X_train_cat.isna().sum().sort_values(ascending=False)"
   ]
  },
  {
   "cell_type": "code",
   "execution_count": null,
   "id": "a805b474-4952-4787-a781-e8e193049c66",
   "metadata": {},
   "outputs": [
    {
     "data": {
      "text/plain": [
       "id                           0\n",
       "floor_area_sqm               0\n",
       "lease_commence_date          0\n",
       "Tranc_Year                   0\n",
       "Tranc_Month                  0\n",
       "mid_storey                   0\n",
       "lower                        0\n",
       "upper                        0\n",
       "mid                          0\n",
       "floor_area_sqft              0\n",
       "hdb_age                      0\n",
       "max_floor_lvl                0\n",
       "year_completed               0\n",
       "total_dwelling_units         0\n",
       "1room_sold                   0\n",
       "2room_sold                   0\n",
       "3room_sold                   0\n",
       "4room_sold                   0\n",
       "5room_sold                   0\n",
       "exec_sold                    0\n",
       "multigen_sold                0\n",
       "studio_apartment_sold        0\n",
       "1room_rental                 0\n",
       "2room_rental                 0\n",
       "3room_rental                 0\n",
       "other_room_rental            0\n",
       "Latitude                     0\n",
       "Longitude                    0\n",
       "Hawker_Nearest_Distance      0\n",
       "hawker_food_stalls           0\n",
       "hawker_market_stalls         0\n",
       "mrt_nearest_distance         0\n",
       "bus_interchange              0\n",
       "mrt_interchange              0\n",
       "mrt_latitude                 0\n",
       "mrt_longitude                0\n",
       "bus_stop_nearest_distance    0\n",
       "bus_stop_latitude            0\n",
       "bus_stop_longitude           0\n",
       "pri_sch_nearest_distance     0\n",
       "vacancy                      0\n",
       "pri_sch_affiliation          0\n",
       "pri_sch_latitude             0\n",
       "pri_sch_longitude            0\n",
       "sec_sch_nearest_dist         0\n",
       "cutoff_point                 0\n",
       "affiliation                  0\n",
       "sec_sch_latitude             0\n",
       "sec_sch_longitude            0\n",
       "dtype: int64"
      ]
     },
     "execution_count": 22,
     "metadata": {},
     "output_type": "execute_result"
    }
   ],
   "source": [
    "\n",
    "X_num_train = X_train.loc [:, ~X_train.columns.isin(objects_2)].drop(columns=['Tranc_YearMonth', 'block','address','planning_area'])\n",
    "X_train_num2 = pd.DataFrame(ss.fit_transform(X_num_train), columns = ss.get_feature_names_out())\n",
    "X_train_num2.isna().sum()"
   ]
  },
  {
   "cell_type": "code",
   "execution_count": null,
   "id": "7a3209bf-e51a-4c05-8759-a859793f6c04",
   "metadata": {},
   "outputs": [],
   "source": [
    "\n",
    "X_num_test = X_test.loc [:, ~X_test.columns.isin(objects_2)].drop(columns=['Tranc_YearMonth', 'block','address','planning_area'])\n",
    "X_test_num = pd.DataFrame(ss.transform(X_num_test), columns = ss.get_feature_names_out())\n"
   ]
  },
  {
   "cell_type": "code",
   "execution_count": null,
   "id": "5ba3de3f-07c6-4b85-96a9-4ed4e4dd592d",
   "metadata": {},
   "outputs": [
    {
     "ename": "MemoryError",
     "evalue": "Unable to allocate 9.94 GiB for an array with shape (11810, 112975) and data type float64",
     "output_type": "error",
     "traceback": [
      "\u001b[1;31m---------------------------------------------------------------------------\u001b[0m",
      "\u001b[1;31mMemoryError\u001b[0m                               Traceback (most recent call last)",
      "Cell \u001b[1;32mIn [25], line 3\u001b[0m\n\u001b[0;32m      1\u001b[0m \u001b[38;5;66;03m# X_num_train.index = X_num_train.index.astype(int)\u001b[39;00m\n\u001b[0;32m      2\u001b[0m \u001b[38;5;66;03m# X_train_cat.index = X_train_cat.index.astype(int)\u001b[39;00m\n\u001b[1;32m----> 3\u001b[0m X_train_final \u001b[38;5;241m=\u001b[39m \u001b[43mX_train_cat\u001b[49m\u001b[38;5;241;43m.\u001b[39;49m\u001b[43mjoin\u001b[49m\u001b[43m(\u001b[49m\u001b[43mX_train_num2\u001b[49m\u001b[43m)\u001b[49m\n\u001b[0;32m      4\u001b[0m X_test_final \u001b[38;5;241m=\u001b[39m X_test_cat\u001b[38;5;241m.\u001b[39mjoin(X_test_num)\n",
      "File \u001b[1;32m~\\.conda\\envs\\dsi-sg\\lib\\site-packages\\pandas\\core\\frame.py:9966\u001b[0m, in \u001b[0;36mDataFrame.join\u001b[1;34m(self, other, on, how, lsuffix, rsuffix, sort, validate)\u001b[0m\n\u001b[0;32m   9803\u001b[0m \u001b[38;5;28;01mdef\u001b[39;00m \u001b[38;5;21mjoin\u001b[39m(\n\u001b[0;32m   9804\u001b[0m     \u001b[38;5;28mself\u001b[39m,\n\u001b[0;32m   9805\u001b[0m     other: DataFrame \u001b[38;5;241m|\u001b[39m Series \u001b[38;5;241m|\u001b[39m \u001b[38;5;28mlist\u001b[39m[DataFrame \u001b[38;5;241m|\u001b[39m Series],\n\u001b[1;32m   (...)\u001b[0m\n\u001b[0;32m   9811\u001b[0m     validate: \u001b[38;5;28mstr\u001b[39m \u001b[38;5;241m|\u001b[39m \u001b[38;5;28;01mNone\u001b[39;00m \u001b[38;5;241m=\u001b[39m \u001b[38;5;28;01mNone\u001b[39;00m,\n\u001b[0;32m   9812\u001b[0m ) \u001b[38;5;241m-\u001b[39m\u001b[38;5;241m>\u001b[39m DataFrame:\n\u001b[0;32m   9813\u001b[0m     \u001b[38;5;124;03m\"\"\"\u001b[39;00m\n\u001b[0;32m   9814\u001b[0m \u001b[38;5;124;03m    Join columns of another DataFrame.\u001b[39;00m\n\u001b[0;32m   9815\u001b[0m \n\u001b[1;32m   (...)\u001b[0m\n\u001b[0;32m   9964\u001b[0m \u001b[38;5;124;03m    5  K1  A5   B1\u001b[39;00m\n\u001b[0;32m   9965\u001b[0m \u001b[38;5;124;03m    \"\"\"\u001b[39;00m\n\u001b[1;32m-> 9966\u001b[0m     \u001b[38;5;28;01mreturn\u001b[39;00m \u001b[38;5;28;43mself\u001b[39;49m\u001b[38;5;241;43m.\u001b[39;49m\u001b[43m_join_compat\u001b[49m\u001b[43m(\u001b[49m\n\u001b[0;32m   9967\u001b[0m \u001b[43m        \u001b[49m\u001b[43mother\u001b[49m\u001b[43m,\u001b[49m\n\u001b[0;32m   9968\u001b[0m \u001b[43m        \u001b[49m\u001b[43mon\u001b[49m\u001b[38;5;241;43m=\u001b[39;49m\u001b[43mon\u001b[49m\u001b[43m,\u001b[49m\n\u001b[0;32m   9969\u001b[0m \u001b[43m        \u001b[49m\u001b[43mhow\u001b[49m\u001b[38;5;241;43m=\u001b[39;49m\u001b[43mhow\u001b[49m\u001b[43m,\u001b[49m\n\u001b[0;32m   9970\u001b[0m \u001b[43m        \u001b[49m\u001b[43mlsuffix\u001b[49m\u001b[38;5;241;43m=\u001b[39;49m\u001b[43mlsuffix\u001b[49m\u001b[43m,\u001b[49m\n\u001b[0;32m   9971\u001b[0m \u001b[43m        \u001b[49m\u001b[43mrsuffix\u001b[49m\u001b[38;5;241;43m=\u001b[39;49m\u001b[43mrsuffix\u001b[49m\u001b[43m,\u001b[49m\n\u001b[0;32m   9972\u001b[0m \u001b[43m        \u001b[49m\u001b[43msort\u001b[49m\u001b[38;5;241;43m=\u001b[39;49m\u001b[43msort\u001b[49m\u001b[43m,\u001b[49m\n\u001b[0;32m   9973\u001b[0m \u001b[43m        \u001b[49m\u001b[43mvalidate\u001b[49m\u001b[38;5;241;43m=\u001b[39;49m\u001b[43mvalidate\u001b[49m\u001b[43m,\u001b[49m\n\u001b[0;32m   9974\u001b[0m \u001b[43m    \u001b[49m\u001b[43m)\u001b[49m\n",
      "File \u001b[1;32m~\\.conda\\envs\\dsi-sg\\lib\\site-packages\\pandas\\core\\frame.py:10005\u001b[0m, in \u001b[0;36mDataFrame._join_compat\u001b[1;34m(self, other, on, how, lsuffix, rsuffix, sort, validate)\u001b[0m\n\u001b[0;32m   9995\u001b[0m     \u001b[38;5;28;01mif\u001b[39;00m how \u001b[38;5;241m==\u001b[39m \u001b[38;5;124m\"\u001b[39m\u001b[38;5;124mcross\u001b[39m\u001b[38;5;124m\"\u001b[39m:\n\u001b[0;32m   9996\u001b[0m         \u001b[38;5;28;01mreturn\u001b[39;00m merge(\n\u001b[0;32m   9997\u001b[0m             \u001b[38;5;28mself\u001b[39m,\n\u001b[0;32m   9998\u001b[0m             other,\n\u001b[1;32m   (...)\u001b[0m\n\u001b[0;32m  10003\u001b[0m             validate\u001b[38;5;241m=\u001b[39mvalidate,\n\u001b[0;32m  10004\u001b[0m         )\n\u001b[1;32m> 10005\u001b[0m     \u001b[38;5;28;01mreturn\u001b[39;00m \u001b[43mmerge\u001b[49m\u001b[43m(\u001b[49m\n\u001b[0;32m  10006\u001b[0m \u001b[43m        \u001b[49m\u001b[38;5;28;43mself\u001b[39;49m\u001b[43m,\u001b[49m\n\u001b[0;32m  10007\u001b[0m \u001b[43m        \u001b[49m\u001b[43mother\u001b[49m\u001b[43m,\u001b[49m\n\u001b[0;32m  10008\u001b[0m \u001b[43m        \u001b[49m\u001b[43mleft_on\u001b[49m\u001b[38;5;241;43m=\u001b[39;49m\u001b[43mon\u001b[49m\u001b[43m,\u001b[49m\n\u001b[0;32m  10009\u001b[0m \u001b[43m        \u001b[49m\u001b[43mhow\u001b[49m\u001b[38;5;241;43m=\u001b[39;49m\u001b[43mhow\u001b[49m\u001b[43m,\u001b[49m\n\u001b[0;32m  10010\u001b[0m \u001b[43m        \u001b[49m\u001b[43mleft_index\u001b[49m\u001b[38;5;241;43m=\u001b[39;49m\u001b[43mon\u001b[49m\u001b[43m \u001b[49m\u001b[38;5;129;43;01mis\u001b[39;49;00m\u001b[43m \u001b[49m\u001b[38;5;28;43;01mNone\u001b[39;49;00m\u001b[43m,\u001b[49m\n\u001b[0;32m  10011\u001b[0m \u001b[43m        \u001b[49m\u001b[43mright_index\u001b[49m\u001b[38;5;241;43m=\u001b[39;49m\u001b[38;5;28;43;01mTrue\u001b[39;49;00m\u001b[43m,\u001b[49m\n\u001b[0;32m  10012\u001b[0m \u001b[43m        \u001b[49m\u001b[43msuffixes\u001b[49m\u001b[38;5;241;43m=\u001b[39;49m\u001b[43m(\u001b[49m\u001b[43mlsuffix\u001b[49m\u001b[43m,\u001b[49m\u001b[43m \u001b[49m\u001b[43mrsuffix\u001b[49m\u001b[43m)\u001b[49m\u001b[43m,\u001b[49m\n\u001b[0;32m  10013\u001b[0m \u001b[43m        \u001b[49m\u001b[43msort\u001b[49m\u001b[38;5;241;43m=\u001b[39;49m\u001b[43msort\u001b[49m\u001b[43m,\u001b[49m\n\u001b[0;32m  10014\u001b[0m \u001b[43m        \u001b[49m\u001b[43mvalidate\u001b[49m\u001b[38;5;241;43m=\u001b[39;49m\u001b[43mvalidate\u001b[49m\u001b[43m,\u001b[49m\n\u001b[0;32m  10015\u001b[0m \u001b[43m    \u001b[49m\u001b[43m)\u001b[49m\n\u001b[0;32m  10016\u001b[0m \u001b[38;5;28;01melse\u001b[39;00m:\n\u001b[0;32m  10017\u001b[0m     \u001b[38;5;28;01mif\u001b[39;00m on \u001b[38;5;129;01mis\u001b[39;00m \u001b[38;5;129;01mnot\u001b[39;00m \u001b[38;5;28;01mNone\u001b[39;00m:\n",
      "File \u001b[1;32m~\\.conda\\envs\\dsi-sg\\lib\\site-packages\\pandas\\core\\reshape\\merge.py:124\u001b[0m, in \u001b[0;36mmerge\u001b[1;34m(left, right, how, on, left_on, right_on, left_index, right_index, sort, suffixes, copy, indicator, validate)\u001b[0m\n\u001b[0;32m     93\u001b[0m \u001b[38;5;129m@Substitution\u001b[39m(\u001b[38;5;124m\"\u001b[39m\u001b[38;5;130;01m\\n\u001b[39;00m\u001b[38;5;124mleft : DataFrame or named Series\u001b[39m\u001b[38;5;124m\"\u001b[39m)\n\u001b[0;32m     94\u001b[0m \u001b[38;5;129m@Appender\u001b[39m(_merge_doc, indents\u001b[38;5;241m=\u001b[39m\u001b[38;5;241m0\u001b[39m)\n\u001b[0;32m     95\u001b[0m \u001b[38;5;28;01mdef\u001b[39;00m \u001b[38;5;21mmerge\u001b[39m(\n\u001b[1;32m   (...)\u001b[0m\n\u001b[0;32m    108\u001b[0m     validate: \u001b[38;5;28mstr\u001b[39m \u001b[38;5;241m|\u001b[39m \u001b[38;5;28;01mNone\u001b[39;00m \u001b[38;5;241m=\u001b[39m \u001b[38;5;28;01mNone\u001b[39;00m,\n\u001b[0;32m    109\u001b[0m ) \u001b[38;5;241m-\u001b[39m\u001b[38;5;241m>\u001b[39m DataFrame:\n\u001b[0;32m    110\u001b[0m     op \u001b[38;5;241m=\u001b[39m _MergeOperation(\n\u001b[0;32m    111\u001b[0m         left,\n\u001b[0;32m    112\u001b[0m         right,\n\u001b[1;32m   (...)\u001b[0m\n\u001b[0;32m    122\u001b[0m         validate\u001b[38;5;241m=\u001b[39mvalidate,\n\u001b[0;32m    123\u001b[0m     )\n\u001b[1;32m--> 124\u001b[0m     \u001b[38;5;28;01mreturn\u001b[39;00m \u001b[43mop\u001b[49m\u001b[38;5;241;43m.\u001b[39;49m\u001b[43mget_result\u001b[49m\u001b[43m(\u001b[49m\u001b[43mcopy\u001b[49m\u001b[38;5;241;43m=\u001b[39;49m\u001b[43mcopy\u001b[49m\u001b[43m)\u001b[49m\n",
      "File \u001b[1;32m~\\.conda\\envs\\dsi-sg\\lib\\site-packages\\pandas\\core\\reshape\\merge.py:775\u001b[0m, in \u001b[0;36m_MergeOperation.get_result\u001b[1;34m(self, copy)\u001b[0m\n\u001b[0;32m    771\u001b[0m     \u001b[38;5;28mself\u001b[39m\u001b[38;5;241m.\u001b[39mleft, \u001b[38;5;28mself\u001b[39m\u001b[38;5;241m.\u001b[39mright \u001b[38;5;241m=\u001b[39m \u001b[38;5;28mself\u001b[39m\u001b[38;5;241m.\u001b[39m_indicator_pre_merge(\u001b[38;5;28mself\u001b[39m\u001b[38;5;241m.\u001b[39mleft, \u001b[38;5;28mself\u001b[39m\u001b[38;5;241m.\u001b[39mright)\n\u001b[0;32m    773\u001b[0m join_index, left_indexer, right_indexer \u001b[38;5;241m=\u001b[39m \u001b[38;5;28mself\u001b[39m\u001b[38;5;241m.\u001b[39m_get_join_info()\n\u001b[1;32m--> 775\u001b[0m result \u001b[38;5;241m=\u001b[39m \u001b[38;5;28;43mself\u001b[39;49m\u001b[38;5;241;43m.\u001b[39;49m\u001b[43m_reindex_and_concat\u001b[49m\u001b[43m(\u001b[49m\n\u001b[0;32m    776\u001b[0m \u001b[43m    \u001b[49m\u001b[43mjoin_index\u001b[49m\u001b[43m,\u001b[49m\u001b[43m \u001b[49m\u001b[43mleft_indexer\u001b[49m\u001b[43m,\u001b[49m\u001b[43m \u001b[49m\u001b[43mright_indexer\u001b[49m\u001b[43m,\u001b[49m\u001b[43m \u001b[49m\u001b[43mcopy\u001b[49m\u001b[38;5;241;43m=\u001b[39;49m\u001b[43mcopy\u001b[49m\n\u001b[0;32m    777\u001b[0m \u001b[43m\u001b[49m\u001b[43m)\u001b[49m\n\u001b[0;32m    778\u001b[0m result \u001b[38;5;241m=\u001b[39m result\u001b[38;5;241m.\u001b[39m__finalize__(\u001b[38;5;28mself\u001b[39m, method\u001b[38;5;241m=\u001b[39m\u001b[38;5;28mself\u001b[39m\u001b[38;5;241m.\u001b[39m_merge_type)\n\u001b[0;32m    780\u001b[0m \u001b[38;5;28;01mif\u001b[39;00m \u001b[38;5;28mself\u001b[39m\u001b[38;5;241m.\u001b[39mindicator:\n",
      "File \u001b[1;32m~\\.conda\\envs\\dsi-sg\\lib\\site-packages\\pandas\\core\\reshape\\merge.py:766\u001b[0m, in \u001b[0;36m_MergeOperation._reindex_and_concat\u001b[1;34m(self, join_index, left_indexer, right_indexer, copy)\u001b[0m\n\u001b[0;32m    764\u001b[0m left\u001b[38;5;241m.\u001b[39mcolumns \u001b[38;5;241m=\u001b[39m llabels\n\u001b[0;32m    765\u001b[0m right\u001b[38;5;241m.\u001b[39mcolumns \u001b[38;5;241m=\u001b[39m rlabels\n\u001b[1;32m--> 766\u001b[0m result \u001b[38;5;241m=\u001b[39m \u001b[43mconcat\u001b[49m\u001b[43m(\u001b[49m\u001b[43m[\u001b[49m\u001b[43mleft\u001b[49m\u001b[43m,\u001b[49m\u001b[43m \u001b[49m\u001b[43mright\u001b[49m\u001b[43m]\u001b[49m\u001b[43m,\u001b[49m\u001b[43m \u001b[49m\u001b[43maxis\u001b[49m\u001b[38;5;241;43m=\u001b[39;49m\u001b[38;5;241;43m1\u001b[39;49m\u001b[43m,\u001b[49m\u001b[43m \u001b[49m\u001b[43mcopy\u001b[49m\u001b[38;5;241;43m=\u001b[39;49m\u001b[43mcopy\u001b[49m\u001b[43m)\u001b[49m\n\u001b[0;32m    767\u001b[0m \u001b[38;5;28;01mreturn\u001b[39;00m result\n",
      "File \u001b[1;32m~\\.conda\\envs\\dsi-sg\\lib\\site-packages\\pandas\\util\\_decorators.py:331\u001b[0m, in \u001b[0;36mdeprecate_nonkeyword_arguments.<locals>.decorate.<locals>.wrapper\u001b[1;34m(*args, **kwargs)\u001b[0m\n\u001b[0;32m    325\u001b[0m \u001b[38;5;28;01mif\u001b[39;00m \u001b[38;5;28mlen\u001b[39m(args) \u001b[38;5;241m>\u001b[39m num_allow_args:\n\u001b[0;32m    326\u001b[0m     warnings\u001b[38;5;241m.\u001b[39mwarn(\n\u001b[0;32m    327\u001b[0m         msg\u001b[38;5;241m.\u001b[39mformat(arguments\u001b[38;5;241m=\u001b[39m_format_argument_list(allow_args)),\n\u001b[0;32m    328\u001b[0m         \u001b[38;5;167;01mFutureWarning\u001b[39;00m,\n\u001b[0;32m    329\u001b[0m         stacklevel\u001b[38;5;241m=\u001b[39mfind_stack_level(),\n\u001b[0;32m    330\u001b[0m     )\n\u001b[1;32m--> 331\u001b[0m \u001b[38;5;28;01mreturn\u001b[39;00m \u001b[43mfunc\u001b[49m\u001b[43m(\u001b[49m\u001b[38;5;241;43m*\u001b[39;49m\u001b[43margs\u001b[49m\u001b[43m,\u001b[49m\u001b[43m \u001b[49m\u001b[38;5;241;43m*\u001b[39;49m\u001b[38;5;241;43m*\u001b[39;49m\u001b[43mkwargs\u001b[49m\u001b[43m)\u001b[49m\n",
      "File \u001b[1;32m~\\.conda\\envs\\dsi-sg\\lib\\site-packages\\pandas\\core\\reshape\\concat.py:381\u001b[0m, in \u001b[0;36mconcat\u001b[1;34m(objs, axis, join, ignore_index, keys, levels, names, verify_integrity, sort, copy)\u001b[0m\n\u001b[0;32m    159\u001b[0m \u001b[38;5;124;03m\"\"\"\u001b[39;00m\n\u001b[0;32m    160\u001b[0m \u001b[38;5;124;03mConcatenate pandas objects along a particular axis.\u001b[39;00m\n\u001b[0;32m    161\u001b[0m \n\u001b[1;32m   (...)\u001b[0m\n\u001b[0;32m    366\u001b[0m \u001b[38;5;124;03m1   3   4\u001b[39;00m\n\u001b[0;32m    367\u001b[0m \u001b[38;5;124;03m\"\"\"\u001b[39;00m\n\u001b[0;32m    368\u001b[0m op \u001b[38;5;241m=\u001b[39m _Concatenator(\n\u001b[0;32m    369\u001b[0m     objs,\n\u001b[0;32m    370\u001b[0m     axis\u001b[38;5;241m=\u001b[39maxis,\n\u001b[1;32m   (...)\u001b[0m\n\u001b[0;32m    378\u001b[0m     sort\u001b[38;5;241m=\u001b[39msort,\n\u001b[0;32m    379\u001b[0m )\n\u001b[1;32m--> 381\u001b[0m \u001b[38;5;28;01mreturn\u001b[39;00m \u001b[43mop\u001b[49m\u001b[38;5;241;43m.\u001b[39;49m\u001b[43mget_result\u001b[49m\u001b[43m(\u001b[49m\u001b[43m)\u001b[49m\n",
      "File \u001b[1;32m~\\.conda\\envs\\dsi-sg\\lib\\site-packages\\pandas\\core\\reshape\\concat.py:616\u001b[0m, in \u001b[0;36m_Concatenator.get_result\u001b[1;34m(self)\u001b[0m\n\u001b[0;32m    612\u001b[0m             indexers[ax] \u001b[38;5;241m=\u001b[39m obj_labels\u001b[38;5;241m.\u001b[39mget_indexer(new_labels)\n\u001b[0;32m    614\u001b[0m     mgrs_indexers\u001b[38;5;241m.\u001b[39mappend((obj\u001b[38;5;241m.\u001b[39m_mgr, indexers))\n\u001b[1;32m--> 616\u001b[0m new_data \u001b[38;5;241m=\u001b[39m \u001b[43mconcatenate_managers\u001b[49m\u001b[43m(\u001b[49m\n\u001b[0;32m    617\u001b[0m \u001b[43m    \u001b[49m\u001b[43mmgrs_indexers\u001b[49m\u001b[43m,\u001b[49m\u001b[43m \u001b[49m\u001b[38;5;28;43mself\u001b[39;49m\u001b[38;5;241;43m.\u001b[39;49m\u001b[43mnew_axes\u001b[49m\u001b[43m,\u001b[49m\u001b[43m \u001b[49m\u001b[43mconcat_axis\u001b[49m\u001b[38;5;241;43m=\u001b[39;49m\u001b[38;5;28;43mself\u001b[39;49m\u001b[38;5;241;43m.\u001b[39;49m\u001b[43mbm_axis\u001b[49m\u001b[43m,\u001b[49m\u001b[43m \u001b[49m\u001b[43mcopy\u001b[49m\u001b[38;5;241;43m=\u001b[39;49m\u001b[38;5;28;43mself\u001b[39;49m\u001b[38;5;241;43m.\u001b[39;49m\u001b[43mcopy\u001b[49m\n\u001b[0;32m    618\u001b[0m \u001b[43m\u001b[49m\u001b[43m)\u001b[49m\n\u001b[0;32m    619\u001b[0m \u001b[38;5;28;01mif\u001b[39;00m \u001b[38;5;129;01mnot\u001b[39;00m \u001b[38;5;28mself\u001b[39m\u001b[38;5;241m.\u001b[39mcopy:\n\u001b[0;32m    620\u001b[0m     new_data\u001b[38;5;241m.\u001b[39m_consolidate_inplace()\n",
      "File \u001b[1;32m~\\.conda\\envs\\dsi-sg\\lib\\site-packages\\pandas\\core\\internals\\concat.py:212\u001b[0m, in \u001b[0;36mconcatenate_managers\u001b[1;34m(mgrs_indexers, axes, concat_axis, copy)\u001b[0m\n\u001b[0;32m    210\u001b[0m values \u001b[38;5;241m=\u001b[39m blk\u001b[38;5;241m.\u001b[39mvalues\n\u001b[0;32m    211\u001b[0m \u001b[38;5;28;01mif\u001b[39;00m copy:\n\u001b[1;32m--> 212\u001b[0m     values \u001b[38;5;241m=\u001b[39m \u001b[43mvalues\u001b[49m\u001b[38;5;241;43m.\u001b[39;49m\u001b[43mcopy\u001b[49m\u001b[43m(\u001b[49m\u001b[43m)\u001b[49m\n\u001b[0;32m    213\u001b[0m \u001b[38;5;28;01melse\u001b[39;00m:\n\u001b[0;32m    214\u001b[0m     values \u001b[38;5;241m=\u001b[39m values\u001b[38;5;241m.\u001b[39mview()\n",
      "\u001b[1;31mMemoryError\u001b[0m: Unable to allocate 9.94 GiB for an array with shape (11810, 112975) and data type float64"
     ]
    }
   ],
   "source": [
    "X_num_train.index = X_num_train.index.astype(int)\n",
    "X_train_cat.index = X_train_cat.index.astype(int)\n",
    "X_train_final = X_train_cat.join(X_train_num2)\n",
    "# X_test_final = X_test_cat.join(X_test_num)"
   ]
  },
  {
   "cell_type": "code",
   "execution_count": null,
   "id": "d3f5203d-7ea4-40bc-ac22-79319612eaec",
   "metadata": {},
   "outputs": [],
   "source": [
    "X_train_final.isna().sum()"
   ]
  },
  {
   "cell_type": "code",
   "execution_count": null,
   "id": "e4a963cd-9f7c-4764-a4b1-81a8ad1431e3",
   "metadata": {},
   "outputs": [],
   "source": [
    "lr = LinearRegression()"
   ]
  },
  {
   "cell_type": "code",
   "execution_count": null,
   "id": "044b5db7-8892-48c8-b2a3-9947004a786b",
   "metadata": {},
   "outputs": [],
   "source": [
    "lr.fit(X_train_final,y_train)"
   ]
  },
  {
   "cell_type": "code",
   "execution_count": null,
   "id": "c24cc709-1ffc-4c13-a215-a7c1eef77a57",
   "metadata": {},
   "outputs": [],
   "source": [
    "lr.score(X_train_final,y_train)"
   ]
  },
  {
   "cell_type": "code",
   "execution_count": null,
   "id": "e5fd86b5-2a3b-40fa-9600-07acd07a0b83",
   "metadata": {},
   "outputs": [],
   "source": [
    "lr.score(X_train_final,y_train)"
   ]
  }
 ],
 "metadata": {
  "kernelspec": {
   "display_name": "Python 3 (ipykernel)",
   "language": "python",
   "name": "python3"
  },
  "language_info": {
   "codemirror_mode": {
    "name": "ipython",
    "version": 3
   },
   "file_extension": ".py",
   "mimetype": "text/x-python",
   "name": "python",
   "nbconvert_exporter": "python",
   "pygments_lexer": "ipython3",
   "version": "3.8.13"
  },
  "toc-autonumbering": false
 },
 "nbformat": 4,
 "nbformat_minor": 5
}
