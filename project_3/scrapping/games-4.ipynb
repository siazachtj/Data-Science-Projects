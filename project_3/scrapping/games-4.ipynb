{
 "cells": [
  {
   "cell_type": "markdown",
   "id": "f3c73ce6-a2b2-4358-8e8b-62fc5c10b6a3",
   "metadata": {},
   "source": [
    "# About This Notebook "
   ]
  },
  {
   "cell_type": "markdown",
   "id": "9199ea71-8d68-407f-af29-e6512f23a71f",
   "metadata": {},
   "source": [
    "This notebook was done on Kaggle and downloaded after. It contains code that we use to scrape the games data from the 30k to 40k rows of our list of games. "
   ]
  },
  {
   "cell_type": "code",
   "execution_count": 1,
   "id": "f96c7dac",
   "metadata": {
    "_cell_guid": "b1076dfc-b9ad-4769-8c92-a6c4dae69d19",
    "_uuid": "8f2839f25d086af736a60e9eeb907d3b93b6e0e5",
    "execution": {
     "iopub.execute_input": "2023-01-20T07:49:40.735851Z",
     "iopub.status.busy": "2023-01-20T07:49:40.735391Z",
     "iopub.status.idle": "2023-01-20T07:49:40.754337Z",
     "shell.execute_reply": "2023-01-20T07:49:40.753514Z"
    },
    "papermill": {
     "duration": 0.02644,
     "end_time": "2023-01-20T07:49:40.756714",
     "exception": false,
     "start_time": "2023-01-20T07:49:40.730274",
     "status": "completed"
    },
    "tags": []
   },
   "outputs": [
    {
     "name": "stdout",
     "output_type": "stream",
     "text": [
      "/kaggle/input/steam60kgamesdata/gamesdata.csv\n"
     ]
    }
   ],
   "source": [
    "# This Python 3 environment comes with many helpful analytics libraries installed\n",
    "# It is defined by the kaggle/python Docker image: https://github.com/kaggle/docker-python\n",
    "# For example, here's several helpful packages to load\n",
    "\n",
    "import numpy as np # linear algebra\n",
    "import pandas as pd # data processing, CSV file I/O (e.g. pd.read_csv)\n",
    "\n",
    "# Input data files are available in the read-only \"../input/\" directory\n",
    "# For example, running this (by clicking run or pressing Shift+Enter) will list all files under the input directory\n",
    "\n",
    "import os\n",
    "for dirname, _, filenames in os.walk('/kaggle/input'):\n",
    "    for filename in filenames:\n",
    "        print(os.path.join(dirname, filename))\n",
    "\n",
    "# You can write up to 20GB to the current directory (/kaggle/working/) that gets preserved as output when you create a version using \"Save & Run All\" \n",
    "# You can also write temporary files to /kaggle/temp/, but they won't be saved outside of the current session"
   ]
  },
  {
   "cell_type": "code",
   "execution_count": 2,
   "id": "0be9537b",
   "metadata": {
    "execution": {
     "iopub.execute_input": "2023-01-20T07:49:40.763945Z",
     "iopub.status.busy": "2023-01-20T07:49:40.763404Z",
     "iopub.status.idle": "2023-01-20T07:49:41.074971Z",
     "shell.execute_reply": "2023-01-20T07:49:41.073964Z"
    },
    "papermill": {
     "duration": 0.3183,
     "end_time": "2023-01-20T07:49:41.077786",
     "exception": false,
     "start_time": "2023-01-20T07:49:40.759486",
     "status": "completed"
    },
    "tags": []
   },
   "outputs": [],
   "source": [
    "df = pd.read_csv('/kaggle/input/steam60kgamesdata/gamesdata.csv')"
   ]
  },
  {
   "cell_type": "code",
   "execution_count": 3,
   "id": "1312651f",
   "metadata": {
    "execution": {
     "iopub.execute_input": "2023-01-20T07:49:41.088764Z",
     "iopub.status.busy": "2023-01-20T07:49:41.087997Z",
     "iopub.status.idle": "2023-01-20T07:49:41.298784Z",
     "shell.execute_reply": "2023-01-20T07:49:41.297589Z"
    },
    "papermill": {
     "duration": 0.217934,
     "end_time": "2023-01-20T07:49:41.301548",
     "exception": false,
     "start_time": "2023-01-20T07:49:41.083614",
     "status": "completed"
    },
    "tags": []
   },
   "outputs": [],
   "source": [
    "from bs4 import BeautifulSoup\n",
    "import time\n",
    "import requests\n",
    "import json\n",
    "from tqdm import tqdm"
   ]
  },
  {
   "cell_type": "code",
   "execution_count": 4,
   "id": "bd119ea5",
   "metadata": {
    "execution": {
     "iopub.execute_input": "2023-01-20T07:49:41.309386Z",
     "iopub.status.busy": "2023-01-20T07:49:41.308511Z",
     "iopub.status.idle": "2023-01-20T10:34:43.697032Z",
     "shell.execute_reply": "2023-01-20T10:34:43.695041Z"
    },
    "papermill": {
     "duration": 9902.397397,
     "end_time": "2023-01-20T10:34:43.701797",
     "exception": false,
     "start_time": "2023-01-20T07:49:41.304400",
     "status": "completed"
    },
    "tags": []
   },
   "outputs": [
    {
     "name": "stderr",
     "output_type": "stream",
     "text": [
      "100%|██████████| 10000/10000 [2:45:02<00:00,  1.01it/s]\n"
     ]
    }
   ],
   "source": [
    "counter = 0\n",
    "data = []\n",
    "\n",
    "for counter in tqdm(range(30000,40000)):\n",
    "        hlink = df['Link'][counter]\n",
    "        response = requests.get(hlink)\n",
    "        soup1 = BeautifulSoup(response.text, 'html.parser')\n",
    "\n",
    "        description = soup1.find('div',id='game_area_description')\n",
    "        description = description.text.strip().replace('\\r','').replace('\\t','').replace('\\n','') if description else None\n",
    "\n",
    "        reviews = soup1.find('div', class_='user_reviews_summary_row')\n",
    "        reviews = reviews.text.strip().replace('\\r','').replace('\\t','').replace('\\n','') if reviews else None\n",
    "        tags_div = soup1.find('div', class_='glance_tags popular_tags')\n",
    "        tags = tags_div.find_all('a', class_='app_tag') if tags_div else 'N/A'\n",
    "\n",
    "        if tags != 'N/A':\n",
    "            tagged = [tag.text.strip() for tag in tags]\n",
    "            tagged_string = ', '.join(tagged)\n",
    "        else:\n",
    "            tagged_string = 'N/A'\n",
    "\n",
    "       \n",
    "        data.append([description, reviews, tagged_string])\n",
    "        \n",
    "        counter+=1\n",
    "    "
   ]
  },
  {
   "cell_type": "code",
   "execution_count": 5,
   "id": "5b87e24d",
   "metadata": {
    "execution": {
     "iopub.execute_input": "2023-01-20T10:34:44.917959Z",
     "iopub.status.busy": "2023-01-20T10:34:44.917162Z",
     "iopub.status.idle": "2023-01-20T10:34:44.944385Z",
     "shell.execute_reply": "2023-01-20T10:34:44.942973Z"
    },
    "papermill": {
     "duration": 0.6362,
     "end_time": "2023-01-20T10:34:44.946951",
     "exception": false,
     "start_time": "2023-01-20T10:34:44.310751",
     "status": "completed"
    },
    "tags": []
   },
   "outputs": [
    {
     "data": {
      "text/html": [
       "<div>\n",
       "<style scoped>\n",
       "    .dataframe tbody tr th:only-of-type {\n",
       "        vertical-align: middle;\n",
       "    }\n",
       "\n",
       "    .dataframe tbody tr th {\n",
       "        vertical-align: top;\n",
       "    }\n",
       "\n",
       "    .dataframe thead th {\n",
       "        text-align: right;\n",
       "    }\n",
       "</style>\n",
       "<table border=\"1\" class=\"dataframe\">\n",
       "  <thead>\n",
       "    <tr style=\"text-align: right;\">\n",
       "      <th></th>\n",
       "      <th>description</th>\n",
       "      <th>reviews</th>\n",
       "      <th>tags</th>\n",
       "    </tr>\n",
       "  </thead>\n",
       "  <tbody>\n",
       "    <tr>\n",
       "      <th>0</th>\n",
       "      <td>About This GameWarPlan is a World War II simul...</td>\n",
       "      <td>All Reviews:Mostly Positive(104)- 77% of the 1...</td>\n",
       "      <td>Strategy, Simulation, Wargame, Turn-Based Stra...</td>\n",
       "    </tr>\n",
       "    <tr>\n",
       "      <th>1</th>\n",
       "      <td>About This GameBloodlust 2: Nemesis is a \"Hack...</td>\n",
       "      <td>All Reviews:Mostly Positive(88)- 75% of the 88...</td>\n",
       "      <td>RPG, Action, Indie, Vampire, Hack and Slash, D...</td>\n",
       "    </tr>\n",
       "    <tr>\n",
       "      <th>2</th>\n",
       "      <td>About This Game-----Include---------------1 bi...</td>\n",
       "      <td>All Reviews:7 user reviews- Need more user rev...</td>\n",
       "      <td>Action, Indie, Casual, Racing, Fast-Paced</td>\n",
       "    </tr>\n",
       "    <tr>\n",
       "      <th>3</th>\n",
       "      <td>About This GameWelcome to the magic city of pa...</td>\n",
       "      <td>All Reviews:Mostly Positive(99)- 79% of the 99...</td>\n",
       "      <td>Adventure, Casual, Hidden Object, 2D, Detectiv...</td>\n",
       "    </tr>\n",
       "    <tr>\n",
       "      <th>4</th>\n",
       "      <td>About This GameTip: Please enter the number “8...</td>\n",
       "      <td>All Reviews:Mostly Positive(38)- 71% of the 38...</td>\n",
       "      <td>Indie, Casual, Sexual Content, Nudity, Mature,...</td>\n",
       "    </tr>\n",
       "    <tr>\n",
       "      <th>...</th>\n",
       "      <td>...</td>\n",
       "      <td>...</td>\n",
       "      <td>...</td>\n",
       "    </tr>\n",
       "    <tr>\n",
       "      <th>9995</th>\n",
       "      <td>About This GameIn Witch of the Woods, you play...</td>\n",
       "      <td>All Reviews:7 user reviews- Need more user rev...</td>\n",
       "      <td>Indie, Strategy</td>\n",
       "    </tr>\n",
       "    <tr>\n",
       "      <th>9996</th>\n",
       "      <td>About This GameSTOP PLAYING AS SOMEONE ELSE!Th...</td>\n",
       "      <td>All Reviews:2 user reviews- Need more user rev...</td>\n",
       "      <td>Action, Indie, Adventure</td>\n",
       "    </tr>\n",
       "    <tr>\n",
       "      <th>9997</th>\n",
       "      <td>About This GameSpellFront is a first person ac...</td>\n",
       "      <td>All Reviews:Mixed(39)- 61% of the 39 user revi...</td>\n",
       "      <td>Early Access, Action, Indie, Violent, Adventur...</td>\n",
       "    </tr>\n",
       "    <tr>\n",
       "      <th>9998</th>\n",
       "      <td>About This GameBeyond the Void is a new hybrid...</td>\n",
       "      <td>All Reviews:Mixed(124)- 58% of the 124 user re...</td>\n",
       "      <td>Free to Play, Strategy, Indie, Multiplayer, Sp...</td>\n",
       "    </tr>\n",
       "    <tr>\n",
       "      <th>9999</th>\n",
       "      <td>About This GameThe gravest Citadale adventure ...</td>\n",
       "      <td>All Reviews:8 user reviews- Need more user rev...</td>\n",
       "      <td>Adventure, Indie, Pixel Graphics</td>\n",
       "    </tr>\n",
       "  </tbody>\n",
       "</table>\n",
       "<p>10000 rows × 3 columns</p>\n",
       "</div>"
      ],
      "text/plain": [
       "                                            description  \\\n",
       "0     About This GameWarPlan is a World War II simul...   \n",
       "1     About This GameBloodlust 2: Nemesis is a \"Hack...   \n",
       "2     About This Game-----Include---------------1 bi...   \n",
       "3     About This GameWelcome to the magic city of pa...   \n",
       "4     About This GameTip: Please enter the number “8...   \n",
       "...                                                 ...   \n",
       "9995  About This GameIn Witch of the Woods, you play...   \n",
       "9996  About This GameSTOP PLAYING AS SOMEONE ELSE!Th...   \n",
       "9997  About This GameSpellFront is a first person ac...   \n",
       "9998  About This GameBeyond the Void is a new hybrid...   \n",
       "9999  About This GameThe gravest Citadale adventure ...   \n",
       "\n",
       "                                                reviews  \\\n",
       "0     All Reviews:Mostly Positive(104)- 77% of the 1...   \n",
       "1     All Reviews:Mostly Positive(88)- 75% of the 88...   \n",
       "2     All Reviews:7 user reviews- Need more user rev...   \n",
       "3     All Reviews:Mostly Positive(99)- 79% of the 99...   \n",
       "4     All Reviews:Mostly Positive(38)- 71% of the 38...   \n",
       "...                                                 ...   \n",
       "9995  All Reviews:7 user reviews- Need more user rev...   \n",
       "9996  All Reviews:2 user reviews- Need more user rev...   \n",
       "9997  All Reviews:Mixed(39)- 61% of the 39 user revi...   \n",
       "9998  All Reviews:Mixed(124)- 58% of the 124 user re...   \n",
       "9999  All Reviews:8 user reviews- Need more user rev...   \n",
       "\n",
       "                                                   tags  \n",
       "0     Strategy, Simulation, Wargame, Turn-Based Stra...  \n",
       "1     RPG, Action, Indie, Vampire, Hack and Slash, D...  \n",
       "2             Action, Indie, Casual, Racing, Fast-Paced  \n",
       "3     Adventure, Casual, Hidden Object, 2D, Detectiv...  \n",
       "4     Indie, Casual, Sexual Content, Nudity, Mature,...  \n",
       "...                                                 ...  \n",
       "9995                                    Indie, Strategy  \n",
       "9996                           Action, Indie, Adventure  \n",
       "9997  Early Access, Action, Indie, Violent, Adventur...  \n",
       "9998  Free to Play, Strategy, Indie, Multiplayer, Sp...  \n",
       "9999                   Adventure, Indie, Pixel Graphics  \n",
       "\n",
       "[10000 rows x 3 columns]"
      ]
     },
     "execution_count": 5,
     "metadata": {},
     "output_type": "execute_result"
    }
   ],
   "source": [
    "data_df = pd.DataFrame(data, columns=['description','reviews','tags'])\n",
    "data_df"
   ]
  },
  {
   "cell_type": "code",
   "execution_count": 6,
   "id": "8f1b2c62",
   "metadata": {
    "execution": {
     "iopub.execute_input": "2023-01-20T10:34:46.225706Z",
     "iopub.status.busy": "2023-01-20T10:34:46.224728Z",
     "iopub.status.idle": "2023-01-20T10:34:46.563816Z",
     "shell.execute_reply": "2023-01-20T10:34:46.562578Z"
    },
    "papermill": {
     "duration": 1.023483,
     "end_time": "2023-01-20T10:34:46.566607",
     "exception": false,
     "start_time": "2023-01-20T10:34:45.543124",
     "status": "completed"
    },
    "tags": []
   },
   "outputs": [],
   "source": [
    "data_df.to_csv('30to40_k_games.csv', index=False)"
   ]
  },
  {
   "cell_type": "code",
   "execution_count": null,
   "id": "8b6daf16",
   "metadata": {
    "papermill": {
     "duration": 0.594596,
     "end_time": "2023-01-20T10:34:47.759032",
     "exception": false,
     "start_time": "2023-01-20T10:34:47.164436",
     "status": "completed"
    },
    "tags": []
   },
   "outputs": [],
   "source": []
  }
 ],
 "metadata": {
  "kernelspec": {
   "display_name": "Python 3 (ipykernel)",
   "language": "python",
   "name": "python3"
  },
  "language_info": {
   "codemirror_mode": {
    "name": "ipython",
    "version": 3
   },
   "file_extension": ".py",
   "mimetype": "text/x-python",
   "name": "python",
   "nbconvert_exporter": "python",
   "pygments_lexer": "ipython3",
   "version": "3.8.15"
  },
  "papermill": {
   "default_parameters": {},
   "duration": 9917.348419,
   "end_time": "2023-01-20T10:34:49.175945",
   "environment_variables": {},
   "exception": null,
   "input_path": "__notebook__.ipynb",
   "output_path": "__notebook__.ipynb",
   "parameters": {},
   "start_time": "2023-01-20T07:49:31.827526",
   "version": "2.3.4"
  }
 },
 "nbformat": 4,
 "nbformat_minor": 5
}
