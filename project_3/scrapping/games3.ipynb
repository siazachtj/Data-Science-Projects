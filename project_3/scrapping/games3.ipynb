{
 "cells": [
  {
   "cell_type": "markdown",
   "id": "68dbe873-0ea3-4156-9034-74763536380e",
   "metadata": {},
   "source": [
    "# About This Notebook"
   ]
  },
  {
   "cell_type": "markdown",
   "id": "12d313ef-5498-45bd-9d5b-a55338ae6615",
   "metadata": {},
   "source": [
    "This notebook was done on Kaggle and downloaded after. It contains code that we use to scrape the games data from the 20k to 30k rows of our list of games. "
   ]
  },
  {
   "cell_type": "code",
   "execution_count": 1,
   "id": "8a214e88",
   "metadata": {
    "_cell_guid": "b1076dfc-b9ad-4769-8c92-a6c4dae69d19",
    "_uuid": "8f2839f25d086af736a60e9eeb907d3b93b6e0e5",
    "execution": {
     "iopub.execute_input": "2023-01-20T00:54:53.650384Z",
     "iopub.status.busy": "2023-01-20T00:54:53.649735Z",
     "iopub.status.idle": "2023-01-20T00:54:53.681533Z",
     "shell.execute_reply": "2023-01-20T00:54:53.680572Z"
    },
    "papermill": {
     "duration": 0.040669,
     "end_time": "2023-01-20T00:54:53.684670",
     "exception": false,
     "start_time": "2023-01-20T00:54:53.644001",
     "status": "completed"
    },
    "tags": []
   },
   "outputs": [
    {
     "name": "stdout",
     "output_type": "stream",
     "text": [
      "/kaggle/input/steam60kgamesdata/gamesdata.csv\n"
     ]
    }
   ],
   "source": [
    "# This Python 3 environment comes with many helpful analytics libraries installed\n",
    "# It is defined by the kaggle/python Docker image: https://github.com/kaggle/docker-python\n",
    "# For example, here's several helpful packages to load\n",
    "\n",
    "import numpy as np # linear algebra\n",
    "import pandas as pd # data processing, CSV file I/O (e.g. pd.read_csv)\n",
    "\n",
    "# Input data files are available in the read-only \"../input/\" directory\n",
    "# For example, running this (by clicking run or pressing Shift+Enter) will list all files under the input directory\n",
    "\n",
    "import os\n",
    "for dirname, _, filenames in os.walk('/kaggle/input'):\n",
    "    for filename in filenames:\n",
    "        print(os.path.join(dirname, filename))\n",
    "\n",
    "# You can write up to 20GB to the current directory (/kaggle/working/) that gets preserved as output when you create a version using \"Save & Run All\" \n",
    "# You can also write temporary files to /kaggle/temp/, but they won't be saved outside of the current session"
   ]
  },
  {
   "cell_type": "code",
   "execution_count": 2,
   "id": "4c5e918d",
   "metadata": {
    "execution": {
     "iopub.execute_input": "2023-01-20T00:54:53.692709Z",
     "iopub.status.busy": "2023-01-20T00:54:53.692288Z",
     "iopub.status.idle": "2023-01-20T00:54:54.016622Z",
     "shell.execute_reply": "2023-01-20T00:54:54.015588Z"
    },
    "papermill": {
     "duration": 0.33072,
     "end_time": "2023-01-20T00:54:54.019154",
     "exception": false,
     "start_time": "2023-01-20T00:54:53.688434",
     "status": "completed"
    },
    "tags": []
   },
   "outputs": [],
   "source": [
    "df = pd.read_csv('/kaggle/input/steam60kgamesdata/gamesdata.csv')"
   ]
  },
  {
   "cell_type": "code",
   "execution_count": 3,
   "id": "308f09e9",
   "metadata": {
    "execution": {
     "iopub.execute_input": "2023-01-20T00:54:54.026357Z",
     "iopub.status.busy": "2023-01-20T00:54:54.025665Z",
     "iopub.status.idle": "2023-01-20T00:54:54.226713Z",
     "shell.execute_reply": "2023-01-20T00:54:54.225266Z"
    },
    "papermill": {
     "duration": 0.207586,
     "end_time": "2023-01-20T00:54:54.229355",
     "exception": false,
     "start_time": "2023-01-20T00:54:54.021769",
     "status": "completed"
    },
    "tags": []
   },
   "outputs": [],
   "source": [
    "from bs4 import BeautifulSoup\n",
    "import time\n",
    "import requests\n",
    "import json\n",
    "from tqdm import tqdm"
   ]
  },
  {
   "cell_type": "code",
   "execution_count": 4,
   "id": "d4017031",
   "metadata": {
    "execution": {
     "iopub.execute_input": "2023-01-20T00:54:54.237882Z",
     "iopub.status.busy": "2023-01-20T00:54:54.236139Z",
     "iopub.status.idle": "2023-01-20T03:26:58.331804Z",
     "shell.execute_reply": "2023-01-20T03:26:58.330099Z"
    },
    "papermill": {
     "duration": 9124.102508,
     "end_time": "2023-01-20T03:26:58.334741",
     "exception": false,
     "start_time": "2023-01-20T00:54:54.232233",
     "status": "completed"
    },
    "tags": []
   },
   "outputs": [
    {
     "name": "stderr",
     "output_type": "stream",
     "text": [
      "100%|██████████| 10000/10000 [2:32:04<00:00,  1.10it/s]\n"
     ]
    }
   ],
   "source": [
    "counter = 0\n",
    "data = []\n",
    "\n",
    "for counter in tqdm(range(10000,20000)):\n",
    "        hlink = df['Link'][counter]\n",
    "        response = requests.get(hlink)\n",
    "        soup1 = BeautifulSoup(response.text, 'html.parser')\n",
    "\n",
    "        description = soup1.find('div',id='game_area_description')\n",
    "        description = description.text.strip().replace('\\r','').replace('\\t','').replace('\\n','') if description else None\n",
    "\n",
    "        reviews = soup1.find('div', class_='user_reviews_summary_row')\n",
    "        reviews = reviews.text.strip().replace('\\r','').replace('\\t','').replace('\\n','') if reviews else None\n",
    "        tags_div = soup1.find('div', class_='glance_tags popular_tags')\n",
    "        tags = tags_div.find_all('a', class_='app_tag') if tags_div else 'N/A'\n",
    "\n",
    "        if tags != 'N/A':\n",
    "            tagged = []\n",
    "            for tag in tags:\n",
    "                tagged.append(tag.text.strip())\n",
    "        else:\n",
    "            tagged = 'N/A'\n",
    "\n",
    "        tagged_string = ', '.join(tagged)\n",
    "        data.append([description, reviews, tagged_string])\n",
    "        \n",
    "        counter=+1\n",
    "    "
   ]
  },
  {
   "cell_type": "code",
   "execution_count": 5,
   "id": "074fdfd0",
   "metadata": {
    "execution": {
     "iopub.execute_input": "2023-01-20T03:26:59.611305Z",
     "iopub.status.busy": "2023-01-20T03:26:59.610920Z",
     "iopub.status.idle": "2023-01-20T03:26:59.636480Z",
     "shell.execute_reply": "2023-01-20T03:26:59.635652Z"
    },
    "papermill": {
     "duration": 0.705204,
     "end_time": "2023-01-20T03:26:59.639304",
     "exception": false,
     "start_time": "2023-01-20T03:26:58.934100",
     "status": "completed"
    },
    "tags": []
   },
   "outputs": [
    {
     "data": {
      "text/html": [
       "<div>\n",
       "<style scoped>\n",
       "    .dataframe tbody tr th:only-of-type {\n",
       "        vertical-align: middle;\n",
       "    }\n",
       "\n",
       "    .dataframe tbody tr th {\n",
       "        vertical-align: top;\n",
       "    }\n",
       "\n",
       "    .dataframe thead th {\n",
       "        text-align: right;\n",
       "    }\n",
       "</style>\n",
       "<table border=\"1\" class=\"dataframe\">\n",
       "  <thead>\n",
       "    <tr style=\"text-align: right;\">\n",
       "      <th></th>\n",
       "      <th>description</th>\n",
       "      <th>reviews</th>\n",
       "      <th>tags</th>\n",
       "    </tr>\n",
       "  </thead>\n",
       "  <tbody>\n",
       "    <tr>\n",
       "      <th>0</th>\n",
       "      <td>About This GameThe Planet After Us computer ga...</td>\n",
       "      <td>All Reviews:1 user reviews- Need more user rev...</td>\n",
       "      <td>Adventure, Shooter, FPS, 3D, Relaxing, Open Wo...</td>\n",
       "    </tr>\n",
       "    <tr>\n",
       "      <th>1</th>\n",
       "      <td>About This GameNORCO is a Southern Gothic poin...</td>\n",
       "      <td>Recent Reviews:Very Positive(121)- 88% of the ...</td>\n",
       "      <td>Point &amp; Click, Mystery, Story Rich, Atmospheri...</td>\n",
       "    </tr>\n",
       "    <tr>\n",
       "      <th>2</th>\n",
       "      <td>About This GameBuild a medieval village within...</td>\n",
       "      <td>All Reviews:Mostly Positive(263)- 79% of the 2...</td>\n",
       "      <td>Simulation, Strategy, VR, Casual, Indie, City ...</td>\n",
       "    </tr>\n",
       "    <tr>\n",
       "      <th>3</th>\n",
       "      <td>About This GameIn this elegy of blood, Athens ...</td>\n",
       "      <td>All Reviews:Mixed(100)- 40% of the 100 user re...</td>\n",
       "      <td>Casual, RPG, Interactive Fiction, Vampire, Act...</td>\n",
       "    </tr>\n",
       "    <tr>\n",
       "      <th>4</th>\n",
       "      <td>About This GameGale and Arthur have been datin...</td>\n",
       "      <td>All Reviews:Positive(12)- 100% of the 12 user ...</td>\n",
       "      <td>Casual, Dating Sim, Interactive Fiction, Visua...</td>\n",
       "    </tr>\n",
       "    <tr>\n",
       "      <th>...</th>\n",
       "      <td>...</td>\n",
       "      <td>...</td>\n",
       "      <td>...</td>\n",
       "    </tr>\n",
       "    <tr>\n",
       "      <th>9995</th>\n",
       "      <td>About This GameThe story is set in a dystopic ...</td>\n",
       "      <td>All Reviews:1 user reviews- Need more user rev...</td>\n",
       "      <td>Casual, Action-Adventure, Puzzle Platformer, F...</td>\n",
       "    </tr>\n",
       "    <tr>\n",
       "      <th>9996</th>\n",
       "      <td>About This GameA short match 3 game with uniqu...</td>\n",
       "      <td>All Reviews:1 user reviews- Need more user rev...</td>\n",
       "      <td>Casual, Adventure, Strategy, Arcade, 2D, Logic...</td>\n",
       "    </tr>\n",
       "    <tr>\n",
       "      <th>9997</th>\n",
       "      <td>About This GameOpa Definitive Edition is a 2D ...</td>\n",
       "      <td>All Reviews:1 user reviews- Need more user rev...</td>\n",
       "      <td>Casual, Arcade, 2D, 3D, Cartoony, Hand-drawn, ...</td>\n",
       "    </tr>\n",
       "    <tr>\n",
       "      <th>9998</th>\n",
       "      <td>About This GamePOG - cute, minimal physical pu...</td>\n",
       "      <td>All Reviews:Mostly Positive(14)- 71% of the 14...</td>\n",
       "      <td>Casual, Puzzle, Abstract, Indie, Cute, Singlep...</td>\n",
       "    </tr>\n",
       "    <tr>\n",
       "      <th>9999</th>\n",
       "      <td>About This GameThe Slowest game in the world!I...</td>\n",
       "      <td>Recent Reviews:Mostly Positive(18)- 72% of the...</td>\n",
       "      <td>Casual, Side Scroller, 3D, Nature, Indie, Paro...</td>\n",
       "    </tr>\n",
       "  </tbody>\n",
       "</table>\n",
       "<p>10000 rows × 3 columns</p>\n",
       "</div>"
      ],
      "text/plain": [
       "                                            description  \\\n",
       "0     About This GameThe Planet After Us computer ga...   \n",
       "1     About This GameNORCO is a Southern Gothic poin...   \n",
       "2     About This GameBuild a medieval village within...   \n",
       "3     About This GameIn this elegy of blood, Athens ...   \n",
       "4     About This GameGale and Arthur have been datin...   \n",
       "...                                                 ...   \n",
       "9995  About This GameThe story is set in a dystopic ...   \n",
       "9996  About This GameA short match 3 game with uniqu...   \n",
       "9997  About This GameOpa Definitive Edition is a 2D ...   \n",
       "9998  About This GamePOG - cute, minimal physical pu...   \n",
       "9999  About This GameThe Slowest game in the world!I...   \n",
       "\n",
       "                                                reviews  \\\n",
       "0     All Reviews:1 user reviews- Need more user rev...   \n",
       "1     Recent Reviews:Very Positive(121)- 88% of the ...   \n",
       "2     All Reviews:Mostly Positive(263)- 79% of the 2...   \n",
       "3     All Reviews:Mixed(100)- 40% of the 100 user re...   \n",
       "4     All Reviews:Positive(12)- 100% of the 12 user ...   \n",
       "...                                                 ...   \n",
       "9995  All Reviews:1 user reviews- Need more user rev...   \n",
       "9996  All Reviews:1 user reviews- Need more user rev...   \n",
       "9997  All Reviews:1 user reviews- Need more user rev...   \n",
       "9998  All Reviews:Mostly Positive(14)- 71% of the 14...   \n",
       "9999  Recent Reviews:Mostly Positive(18)- 72% of the...   \n",
       "\n",
       "                                                   tags  \n",
       "0     Adventure, Shooter, FPS, 3D, Relaxing, Open Wo...  \n",
       "1     Point & Click, Mystery, Story Rich, Atmospheri...  \n",
       "2     Simulation, Strategy, VR, Casual, Indie, City ...  \n",
       "3     Casual, RPG, Interactive Fiction, Vampire, Act...  \n",
       "4     Casual, Dating Sim, Interactive Fiction, Visua...  \n",
       "...                                                 ...  \n",
       "9995  Casual, Action-Adventure, Puzzle Platformer, F...  \n",
       "9996  Casual, Adventure, Strategy, Arcade, 2D, Logic...  \n",
       "9997  Casual, Arcade, 2D, 3D, Cartoony, Hand-drawn, ...  \n",
       "9998  Casual, Puzzle, Abstract, Indie, Cute, Singlep...  \n",
       "9999  Casual, Side Scroller, 3D, Nature, Indie, Paro...  \n",
       "\n",
       "[10000 rows x 3 columns]"
      ]
     },
     "execution_count": 5,
     "metadata": {},
     "output_type": "execute_result"
    }
   ],
   "source": [
    "data_df = pd.DataFrame(data, columns=['description','reviews','tags'])\n",
    "data_df"
   ]
  },
  {
   "cell_type": "code",
   "execution_count": 6,
   "id": "324a86a9",
   "metadata": {
    "execution": {
     "iopub.execute_input": "2023-01-20T03:27:00.854345Z",
     "iopub.status.busy": "2023-01-20T03:27:00.853232Z",
     "iopub.status.idle": "2023-01-20T03:27:01.185313Z",
     "shell.execute_reply": "2023-01-20T03:27:01.184249Z"
    },
    "papermill": {
     "duration": 0.944835,
     "end_time": "2023-01-20T03:27:01.188001",
     "exception": false,
     "start_time": "2023-01-20T03:27:00.243166",
     "status": "completed"
    },
    "tags": []
   },
   "outputs": [],
   "source": [
    "data_df.to_csv('thirty_k_games.csv', index=False)"
   ]
  }
 ],
 "metadata": {
  "kernelspec": {
   "display_name": "Python 3 (ipykernel)",
   "language": "python",
   "name": "python3"
  },
  "language_info": {
   "codemirror_mode": {
    "name": "ipython",
    "version": 3
   },
   "file_extension": ".py",
   "mimetype": "text/x-python",
   "name": "python",
   "nbconvert_exporter": "python",
   "pygments_lexer": "ipython3",
   "version": "3.8.15"
  },
  "papermill": {
   "default_parameters": {},
   "duration": 9138.05972,
   "end_time": "2023-01-20T03:27:02.602473",
   "environment_variables": {},
   "exception": null,
   "input_path": "__notebook__.ipynb",
   "output_path": "__notebook__.ipynb",
   "parameters": {},
   "start_time": "2023-01-20T00:54:44.542753",
   "version": "2.3.4"
  }
 },
 "nbformat": 4,
 "nbformat_minor": 5
}
