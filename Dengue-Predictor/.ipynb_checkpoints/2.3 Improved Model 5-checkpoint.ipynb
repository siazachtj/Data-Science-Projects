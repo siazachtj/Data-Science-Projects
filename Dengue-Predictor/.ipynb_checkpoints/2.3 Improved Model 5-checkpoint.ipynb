{
 "cells": [
  {
   "cell_type": "markdown",
   "id": "5223f639-21dc-4c85-9e31-2650e981a17f",
   "metadata": {},
   "source": [
    "## Contents\n",
    "* [1. Improved Model](#1.-Improved-Model)\n",
    "* [2. Read & Clean Data](#2.-Read-&-Clean-Data)\n",
    "* [3. Modelling](#3.-Modelling)"
   ]
  },
  {
   "cell_type": "markdown",
   "id": "4a9c16f5-e65d-4c6a-baaf-4eece2a1d341",
   "metadata": {},
   "source": [
    "---\n",
    "## 1. Improved Model 3\n",
    "---\n",
    "- To develop an improved ARIMA model using a shorter training timeframe for a shorter 12-week prediction timeframe.\n",
    "\n",
    "\n",
    "| Models        | Improved 5                                         |\n",
    "|---------------|----------------------------------------------------|\n",
    "| Model         | SARIMA                                             |\n",
    "| Training data | - 2021-2022 Sep weekly dengue data<br>- Season = 3 |\n",
    "| Testing data  | Oct - Dec 2022 (12 weeks)                          |"
   ]
  },
  {
   "cell_type": "markdown",
   "id": "dae4b876-44f4-49f1-9d74-a022cc4765b6",
   "metadata": {},
   "source": [
    "---\n",
    "## 2. Read & Clean Data\n",
    "---"
   ]
  },
  {
   "cell_type": "code",
   "execution_count": 13,
   "id": "2a09f6f4-ab4d-49f4-9aef-5cc79edb98cc",
   "metadata": {},
   "outputs": [],
   "source": [
    "import numpy as np \n",
    "import pandas as pd\n",
    "\n",
    "from IPython.core.interactiveshell import InteractiveShell\n",
    "InteractiveShell.ast_node_interactivity = \"all\"\n",
    "\n",
    "\n",
    "#Visualisation:\n",
    "import seaborn               as sns\n",
    "import matplotlib.pyplot     as plt\n",
    "sns.set_theme(style=\"whitegrid\")\n",
    "\n",
    "from tqdm import tqdm\n",
    "tqdm.pandas()\n",
    "\n",
    "#Showing missing, duplicates, shape, dtypes\n",
    "def df_summary(df):\n",
    "    print(f\"Shape(col,rows): {df.shape}\")\n",
    "    print(f\"Number of duplicates: {df.duplicated().sum()}\")\n",
    "    print('---'*20)\n",
    "    print(f'Number of each unqiue datatypes:\\n{df.dtypes.value_counts()}')\n",
    "    print('---'*20)\n",
    "    print(\"Columns with missing values:\")\n",
    "    isnull_df = pd.DataFrame(df.isnull().sum()).reset_index()\n",
    "    isnull_df.columns = ['col','num_nulls']\n",
    "    isnull_df['perc_null'] = ((isnull_df['num_nulls'])/(len(df))).round(2)\n",
    "    print(isnull_df[isnull_df['num_nulls']>0])\n",
    "    \n",
    "#modelling metrics:\n",
    "from sklearn.metrics import mean_absolute_percentage_error"
   ]
  },
  {
   "cell_type": "code",
   "execution_count": 2,
   "id": "677ba7e7-1360-4c38-8b70-9350f1a39f5f",
   "metadata": {},
   "outputs": [],
   "source": [
    "df = pd.read_csv(\"data/input/Dengue_weekly.csv\")"
   ]
  },
  {
   "cell_type": "code",
   "execution_count": 3,
   "id": "f158bfb7-4add-4946-8571-3aa9ac7d505a",
   "metadata": {},
   "outputs": [
    {
     "name": "stdout",
     "output_type": "stream",
     "text": [
      "Shape(col,rows): (574, 6)\n",
      "Number of duplicates: 0\n",
      "------------------------------------------------------------\n",
      "Number of each unqiue datatypes:\n",
      "object     3\n",
      "int64      2\n",
      "float64    1\n",
      "dtype: int64\n",
      "------------------------------------------------------------\n",
      "Columns with missing values:\n",
      "Empty DataFrame\n",
      "Columns: [col, num_nulls, perc_null]\n",
      "Index: []\n"
     ]
    }
   ],
   "source": [
    "df_summary(df)"
   ]
  },
  {
   "cell_type": "code",
   "execution_count": 4,
   "id": "5e6338fd-3f8c-43f4-babd-930443406415",
   "metadata": {},
   "outputs": [
    {
     "data": {
      "text/plain": [
       "Epidemiology Wk    float64\n",
       "Start               object\n",
       "End                 object\n",
       "Dengue               int64\n",
       "DHF                  int64\n",
       "month_year          object\n",
       "dtype: object"
      ]
     },
     "execution_count": 4,
     "metadata": {},
     "output_type": "execute_result"
    }
   ],
   "source": [
    "df.dtypes"
   ]
  },
  {
   "cell_type": "code",
   "execution_count": 5,
   "id": "d3bdd0e6-66a7-4bac-b19c-c4a56d2126ec",
   "metadata": {},
   "outputs": [],
   "source": [
    "df[['Start','End']] = df[['Start','End']].apply(pd.to_datetime, yearfirst=True)"
   ]
  },
  {
   "cell_type": "code",
   "execution_count": 6,
   "id": "67ceaced-3870-4e01-be52-b18d34e52f54",
   "metadata": {},
   "outputs": [
    {
     "data": {
      "text/plain": [
       "Epidemiology Wk           float64\n",
       "Start              datetime64[ns]\n",
       "End                datetime64[ns]\n",
       "Dengue                      int64\n",
       "DHF                         int64\n",
       "month_year                 object\n",
       "dtype: object"
      ]
     },
     "execution_count": 6,
     "metadata": {},
     "output_type": "execute_result"
    }
   ],
   "source": [
    "df.dtypes"
   ]
  },
  {
   "cell_type": "code",
   "execution_count": 7,
   "id": "94a27763-3963-4037-9bec-03992dd570a5",
   "metadata": {},
   "outputs": [],
   "source": [
    "_df = df.copy()\n",
    "_df.rename(columns={'Start':'Week'},inplace=True)\n",
    "_df.set_index('Week',inplace=True)\n",
    "_df.sort_index(inplace=True)"
   ]
  },
  {
   "cell_type": "code",
   "execution_count": 8,
   "id": "7210e93e-9b2c-4219-8fca-f783d3eda1de",
   "metadata": {},
   "outputs": [
    {
     "data": {
      "text/html": [
       "<div>\n",
       "<style scoped>\n",
       "    .dataframe tbody tr th:only-of-type {\n",
       "        vertical-align: middle;\n",
       "    }\n",
       "\n",
       "    .dataframe tbody tr th {\n",
       "        vertical-align: top;\n",
       "    }\n",
       "\n",
       "    .dataframe thead th {\n",
       "        text-align: right;\n",
       "    }\n",
       "</style>\n",
       "<table border=\"1\" class=\"dataframe\">\n",
       "  <thead>\n",
       "    <tr style=\"text-align: right;\">\n",
       "      <th></th>\n",
       "      <th>Dengue</th>\n",
       "    </tr>\n",
       "    <tr>\n",
       "      <th>Week</th>\n",
       "      <th></th>\n",
       "    </tr>\n",
       "  </thead>\n",
       "  <tbody>\n",
       "    <tr>\n",
       "      <th>2012-01-01</th>\n",
       "      <td>74</td>\n",
       "    </tr>\n",
       "    <tr>\n",
       "      <th>2012-01-08</th>\n",
       "      <td>64</td>\n",
       "    </tr>\n",
       "    <tr>\n",
       "      <th>2012-01-15</th>\n",
       "      <td>60</td>\n",
       "    </tr>\n",
       "    <tr>\n",
       "      <th>2012-01-22</th>\n",
       "      <td>50</td>\n",
       "    </tr>\n",
       "    <tr>\n",
       "      <th>2012-01-29</th>\n",
       "      <td>84</td>\n",
       "    </tr>\n",
       "    <tr>\n",
       "      <th>...</th>\n",
       "      <td>...</td>\n",
       "    </tr>\n",
       "    <tr>\n",
       "      <th>2022-11-27</th>\n",
       "      <td>242</td>\n",
       "    </tr>\n",
       "    <tr>\n",
       "      <th>2022-12-04</th>\n",
       "      <td>326</td>\n",
       "    </tr>\n",
       "    <tr>\n",
       "      <th>2022-12-11</th>\n",
       "      <td>289</td>\n",
       "    </tr>\n",
       "    <tr>\n",
       "      <th>2022-12-18</th>\n",
       "      <td>272</td>\n",
       "    </tr>\n",
       "    <tr>\n",
       "      <th>2022-12-25</th>\n",
       "      <td>285</td>\n",
       "    </tr>\n",
       "  </tbody>\n",
       "</table>\n",
       "<p>574 rows × 1 columns</p>\n",
       "</div>"
      ],
      "text/plain": [
       "            Dengue\n",
       "Week              \n",
       "2012-01-01      74\n",
       "2012-01-08      64\n",
       "2012-01-15      60\n",
       "2012-01-22      50\n",
       "2012-01-29      84\n",
       "...            ...\n",
       "2022-11-27     242\n",
       "2022-12-04     326\n",
       "2022-12-11     289\n",
       "2022-12-18     272\n",
       "2022-12-25     285\n",
       "\n",
       "[574 rows x 1 columns]"
      ]
     },
     "execution_count": 8,
     "metadata": {},
     "output_type": "execute_result"
    }
   ],
   "source": [
    "dengue_df = _df['Dengue'].resample('W').sum()\n",
    "dengue_df = pd.DataFrame(dengue_df)\n",
    "dengue_df"
   ]
  },
  {
   "cell_type": "markdown",
   "id": "d263a838-a574-487e-b532-9e06aa2a4460",
   "metadata": {},
   "source": [
    "---\n",
    "## 3. Modelling\n",
    "---\n",
    "- SARIMA model using only 2021 and 2022 data"
   ]
  },
  {
   "cell_type": "code",
   "execution_count": 14,
   "id": "d950541c-f565-40ff-9c1d-aac28bb5c8b4",
   "metadata": {},
   "outputs": [],
   "source": [
    "import pmdarima as pm # to do Auto ARIMA"
   ]
  },
  {
   "cell_type": "code",
   "execution_count": 33,
   "id": "0c103b4e-7791-40e4-897b-78040f1b01a2",
   "metadata": {},
   "outputs": [
    {
     "data": {
      "text/plain": [
       "0.11538461538461539"
      ]
     },
     "execution_count": 33,
     "metadata": {},
     "output_type": "execute_result"
    }
   ],
   "source": [
    "_df = dengue_df.copy()\n",
    "\n",
    "_df = _df[-52*2:]# takes 2021 and 2022 data\n",
    "\n",
    "train = _df[:-12]#takes 2021-2022 data but exclude last 12 weeks\n",
    "test = _df[-12:]#takes last 12 weeks data\n",
    "len(test)/len(_df)#show that test is ~10% of overall data (2021-2022)"
   ]
  },
  {
   "cell_type": "code",
   "execution_count": 34,
   "id": "5cc395cf-73ea-426b-addb-32a0939e4af8",
   "metadata": {
    "scrolled": true,
    "tags": []
   },
   "outputs": [
    {
     "name": "stderr",
     "output_type": "stream",
     "text": [
      "C:\\Users\\geok1\\.conda\\envs\\dsi-sg\\lib\\site-packages\\pmdarima\\arima\\_auto_solvers.py:103: VisibleDeprecationWarning: Creating an ndarray from ragged nested sequences (which is a list-or-tuple of lists-or-tuples-or ndarrays with different lengths or shapes) is deprecated. If you meant to do this, you must specify 'dtype=object' when creating the ndarray.\n",
      "  gen = random_state.permutation(list(gen))[:n_fits]\n"
     ]
    },
    {
     "name": "stdout",
     "output_type": "stream",
     "text": [
      " ARIMA(3,1,1)(0,0,0)[1] intercept   : AIC=1065.455, Time=0.33 sec\n",
      " ARIMA(4,1,1)(0,0,0)[1] intercept   : AIC=1067.412, Time=0.36 sec\n",
      " ARIMA(4,1,0)(0,0,0)[1] intercept   : AIC=1066.068, Time=0.14 sec\n",
      " ARIMA(0,1,4)(0,0,0)[1] intercept   : AIC=1068.322, Time=0.26 sec\n",
      " ARIMA(0,1,1)(0,0,0)[1] intercept   : AIC=1074.808, Time=0.06 sec\n",
      " ARIMA(2,1,1)(0,0,0)[1] intercept   : AIC=1063.464, Time=0.16 sec\n",
      " ARIMA(2,1,2)(0,0,0)[1] intercept   : AIC=1065.453, Time=0.26 sec\n",
      " ARIMA(3,1,2)(0,0,0)[1] intercept   : AIC=1067.445, Time=0.27 sec\n",
      " ARIMA(2,1,3)(0,0,0)[1] intercept   : AIC=1067.412, Time=0.33 sec\n",
      " ARIMA(5,1,0)(0,0,0)[1] intercept   : AIC=1067.623, Time=0.16 sec\n",
      " ARIMA(1,1,4)(0,0,0)[1] intercept   : AIC=1066.900, Time=0.31 sec\n",
      " ARIMA(0,1,5)(0,0,0)[1] intercept   : AIC=1069.698, Time=0.17 sec\n",
      " ARIMA(1,1,2)(0,0,0)[1] intercept   : AIC=1065.397, Time=0.20 sec\n",
      " ARIMA(1,1,0)(0,0,0)[1] intercept   : AIC=1074.359, Time=0.07 sec\n",
      " ARIMA(0,1,0)(0,0,0)[1] intercept   : AIC=1073.446, Time=0.02 sec\n",
      " ARIMA(0,1,2)(0,0,0)[1] intercept   : AIC=1065.949, Time=0.09 sec\n",
      " ARIMA(1,1,1)(0,0,0)[1] intercept   : AIC=1072.984, Time=0.15 sec\n",
      " ARIMA(2,1,0)(0,0,0)[1] intercept   : AIC=1065.218, Time=0.11 sec\n",
      " ARIMA(1,1,3)(0,0,0)[1] intercept   : AIC=1066.351, Time=0.24 sec\n",
      " ARIMA(3,1,0)(0,0,0)[1] intercept   : AIC=1064.893, Time=0.13 sec\n",
      " ARIMA(0,1,3)(0,0,0)[1] intercept   : AIC=1067.811, Time=0.13 sec\n",
      "\n",
      "Best model:  ARIMA(2,1,1)(0,0,0)[1] intercept\n",
      "Total fit time: 3.986 seconds\n"
     ]
    },
    {
     "data": {
      "text/html": [
       "<style>#sk-container-id-11 {color: black;background-color: white;}#sk-container-id-11 pre{padding: 0;}#sk-container-id-11 div.sk-toggleable {background-color: white;}#sk-container-id-11 label.sk-toggleable__label {cursor: pointer;display: block;width: 100%;margin-bottom: 0;padding: 0.3em;box-sizing: border-box;text-align: center;}#sk-container-id-11 label.sk-toggleable__label-arrow:before {content: \"▸\";float: left;margin-right: 0.25em;color: #696969;}#sk-container-id-11 label.sk-toggleable__label-arrow:hover:before {color: black;}#sk-container-id-11 div.sk-estimator:hover label.sk-toggleable__label-arrow:before {color: black;}#sk-container-id-11 div.sk-toggleable__content {max-height: 0;max-width: 0;overflow: hidden;text-align: left;background-color: #f0f8ff;}#sk-container-id-11 div.sk-toggleable__content pre {margin: 0.2em;color: black;border-radius: 0.25em;background-color: #f0f8ff;}#sk-container-id-11 input.sk-toggleable__control:checked~div.sk-toggleable__content {max-height: 200px;max-width: 100%;overflow: auto;}#sk-container-id-11 input.sk-toggleable__control:checked~label.sk-toggleable__label-arrow:before {content: \"▾\";}#sk-container-id-11 div.sk-estimator input.sk-toggleable__control:checked~label.sk-toggleable__label {background-color: #d4ebff;}#sk-container-id-11 div.sk-label input.sk-toggleable__control:checked~label.sk-toggleable__label {background-color: #d4ebff;}#sk-container-id-11 input.sk-hidden--visually {border: 0;clip: rect(1px 1px 1px 1px);clip: rect(1px, 1px, 1px, 1px);height: 1px;margin: -1px;overflow: hidden;padding: 0;position: absolute;width: 1px;}#sk-container-id-11 div.sk-estimator {font-family: monospace;background-color: #f0f8ff;border: 1px dotted black;border-radius: 0.25em;box-sizing: border-box;margin-bottom: 0.5em;}#sk-container-id-11 div.sk-estimator:hover {background-color: #d4ebff;}#sk-container-id-11 div.sk-parallel-item::after {content: \"\";width: 100%;border-bottom: 1px solid gray;flex-grow: 1;}#sk-container-id-11 div.sk-label:hover label.sk-toggleable__label {background-color: #d4ebff;}#sk-container-id-11 div.sk-serial::before {content: \"\";position: absolute;border-left: 1px solid gray;box-sizing: border-box;top: 0;bottom: 0;left: 50%;z-index: 0;}#sk-container-id-11 div.sk-serial {display: flex;flex-direction: column;align-items: center;background-color: white;padding-right: 0.2em;padding-left: 0.2em;position: relative;}#sk-container-id-11 div.sk-item {position: relative;z-index: 1;}#sk-container-id-11 div.sk-parallel {display: flex;align-items: stretch;justify-content: center;background-color: white;position: relative;}#sk-container-id-11 div.sk-item::before, #sk-container-id-11 div.sk-parallel-item::before {content: \"\";position: absolute;border-left: 1px solid gray;box-sizing: border-box;top: 0;bottom: 0;left: 50%;z-index: -1;}#sk-container-id-11 div.sk-parallel-item {display: flex;flex-direction: column;z-index: 1;position: relative;background-color: white;}#sk-container-id-11 div.sk-parallel-item:first-child::after {align-self: flex-end;width: 50%;}#sk-container-id-11 div.sk-parallel-item:last-child::after {align-self: flex-start;width: 50%;}#sk-container-id-11 div.sk-parallel-item:only-child::after {width: 0;}#sk-container-id-11 div.sk-dashed-wrapped {border: 1px dashed gray;margin: 0 0.4em 0.5em 0.4em;box-sizing: border-box;padding-bottom: 0.4em;background-color: white;}#sk-container-id-11 div.sk-label label {font-family: monospace;font-weight: bold;display: inline-block;line-height: 1.2em;}#sk-container-id-11 div.sk-label-container {text-align: center;}#sk-container-id-11 div.sk-container {/* jupyter's `normalize.less` sets `[hidden] { display: none; }` but bootstrap.min.css set `[hidden] { display: none !important; }` so we also need the `!important` here to be able to override the default hidden behavior on the sphinx rendered scikit-learn.org. See: https://github.com/scikit-learn/scikit-learn/issues/21755 */display: inline-block !important;position: relative;}#sk-container-id-11 div.sk-text-repr-fallback {display: none;}</style><div id=\"sk-container-id-11\" class=\"sk-top-container\"><div class=\"sk-text-repr-fallback\"><pre>AutoARIMA(max_p=10, max_q=10, n_fits=50, random=True, random_state=20,\n",
       "          start_p=0, start_q=0, stepwise=False, trace=True)</pre><b>In a Jupyter environment, please rerun this cell to show the HTML representation or trust the notebook. <br />On GitHub, the HTML representation is unable to render, please try loading this page with nbviewer.org.</b></div><div class=\"sk-container\" hidden><div class=\"sk-item\"><div class=\"sk-estimator sk-toggleable\"><input class=\"sk-toggleable__control sk-hidden--visually\" id=\"sk-estimator-id-11\" type=\"checkbox\" checked><label for=\"sk-estimator-id-11\" class=\"sk-toggleable__label sk-toggleable__label-arrow\">AutoARIMA</label><div class=\"sk-toggleable__content\"><pre>AutoARIMA(max_p=10, max_q=10, n_fits=50, random=True, random_state=20,\n",
       "          start_p=0, start_q=0, stepwise=False, trace=True)</pre></div></div></div></div></div>"
      ],
      "text/plain": [
       "AutoARIMA(max_p=10, max_q=10, n_fits=50, random=True, random_state=20,\n",
       "          start_p=0, start_q=0, stepwise=False, trace=True)"
      ]
     },
     "execution_count": 34,
     "metadata": {},
     "output_type": "execute_result"
    },
    {
     "data": {
      "text/plain": [
       "0.07903703602785125"
      ]
     },
     "execution_count": 34,
     "metadata": {},
     "output_type": "execute_result"
    }
   ],
   "source": [
    "arima_model = pm.AutoARIMA(start_p=0, max_p=10, \n",
    "                           d=None,    # find optimum value of d automatically\n",
    "                           start_q=0, max_q=10,\n",
    "                           trace=True, # Print values in console for each fit in the grid search\n",
    "                           random=True, # to not perform an exhaustive search & set an internal stop (refer doc)\n",
    "                           stepwise = False, #If want to truly randomise Param search, need to set stepwise=False and random=True\n",
    "                           random_state=20, # repeatability of steps in the same order\n",
    "                           n_fits=50 # max no. of ARIMA models fits, the algorithm MUST stop at the end of 50 fits\n",
    "                          )\n",
    "\n",
    "arima_model.fit(train) # only fit on the one column that we have, y_train\n",
    "pred = arima_model.predict(n_periods = len(test))\n",
    "mean_absolute_percentage_error(test, pred)"
   ]
  },
  {
   "cell_type": "markdown",
   "id": "92a095c2-3198-46be-a4fc-9816c43d336b",
   "metadata": {},
   "source": [
    "### Analysis\n",
    "The improved model 5 performed the best of all developed models:\n",
    "\n",
    "|         | Improved 5                                         |\n",
    "|------------------------------------------------------|----------------------------------------------------|\n",
    "| Model         | SARIMA                                             |\n",
    "| Training data | - 2021-2022 Sep weekly dengue data<br>- Season = 3 |\n",
    "| Testing data  | Oct - Dec 2022 (12 weeks)                          |\n",
    "| MAPE score    | 0.08                                               |"
   ]
  }
 ],
 "metadata": {
  "kernelspec": {
   "display_name": "Python 3 (ipykernel)",
   "language": "python",
   "name": "python3"
  },
  "language_info": {
   "codemirror_mode": {
    "name": "ipython",
    "version": 3
   },
   "file_extension": ".py",
   "mimetype": "text/x-python",
   "name": "python",
   "nbconvert_exporter": "python",
   "pygments_lexer": "ipython3",
   "version": "3.8.13"
  }
 },
 "nbformat": 4,
 "nbformat_minor": 5
}
