{
 "cells": [
  {
   "cell_type": "markdown",
   "id": "845289a3",
   "metadata": {
    "papermill": {
     "duration": 0.003492,
     "end_time": "2023-01-20T08:02:20.130231",
     "exception": false,
     "start_time": "2023-01-20T08:02:20.126739",
     "status": "completed"
    },
    "tags": []
   },
   "source": [
    "# About This Notebook"
   ]
  },
  {
   "cell_type": "markdown",
   "id": "7d85d88c-ad7d-4c8d-817a-c0ec0f9b4953",
   "metadata": {},
   "source": [
    "This notebook was done on Kaggle and downloaded after. It contains code that we use to scrape the games data from the 40k to 50k rows of our list of games. "
   ]
  },
  {
   "cell_type": "code",
   "execution_count": 1,
   "id": "c1892fb1",
   "metadata": {
    "_cell_guid": "b1076dfc-b9ad-4769-8c92-a6c4dae69d19",
    "_uuid": "8f2839f25d086af736a60e9eeb907d3b93b6e0e5",
    "execution": {
     "iopub.execute_input": "2023-01-20T08:02:20.137706Z",
     "iopub.status.busy": "2023-01-20T08:02:20.137242Z",
     "iopub.status.idle": "2023-01-20T08:02:20.157295Z",
     "shell.execute_reply": "2023-01-20T08:02:20.156024Z"
    },
    "papermill": {
     "duration": 0.027331,
     "end_time": "2023-01-20T08:02:20.160363",
     "exception": false,
     "start_time": "2023-01-20T08:02:20.133032",
     "status": "completed"
    },
    "tags": []
   },
   "outputs": [
    {
     "name": "stdout",
     "output_type": "stream",
     "text": [
      "/kaggle/input/steam60kgamesdata/gamesdata.csv\n"
     ]
    }
   ],
   "source": [
    "# This Python 3 environment comes with many helpful analytics libraries installed\n",
    "# It is defined by the kaggle/python Docker image: https://github.com/kaggle/docker-python\n",
    "# For example, here's several helpful packages to load\n",
    "\n",
    "import numpy as np # linear algebra\n",
    "import pandas as pd # data processing, CSV file I/O (e.g. pd.read_csv)\n",
    "\n",
    "# Input data files are available in the read-only \"../input/\" directory\n",
    "# For example, running this (by clicking run or pressing Shift+Enter) will list all files under the input directory\n",
    "\n",
    "import os\n",
    "for dirname, _, filenames in os.walk('/kaggle/input'):\n",
    "    for filename in filenames:\n",
    "        print(os.path.join(dirname, filename))\n",
    "\n",
    "# You can write up to 20GB to the current directory (/kaggle/working/) that gets preserved as output when you create a version using \"Save & Run All\" \n",
    "# You can also write temporary files to /kaggle/temp/, but they won't be saved outside of the current session"
   ]
  },
  {
   "cell_type": "code",
   "execution_count": 2,
   "id": "6cd6202e",
   "metadata": {
    "execution": {
     "iopub.execute_input": "2023-01-20T08:02:20.168369Z",
     "iopub.status.busy": "2023-01-20T08:02:20.167421Z",
     "iopub.status.idle": "2023-01-20T08:02:20.482346Z",
     "shell.execute_reply": "2023-01-20T08:02:20.481063Z"
    },
    "papermill": {
     "duration": 0.322044,
     "end_time": "2023-01-20T08:02:20.485653",
     "exception": false,
     "start_time": "2023-01-20T08:02:20.163609",
     "status": "completed"
    },
    "tags": []
   },
   "outputs": [],
   "source": [
    "df = pd.read_csv('/kaggle/input/steam60kgamesdata/gamesdata.csv')"
   ]
  },
  {
   "cell_type": "code",
   "execution_count": 3,
   "id": "c58c2d7a",
   "metadata": {
    "execution": {
     "iopub.execute_input": "2023-01-20T08:02:20.494820Z",
     "iopub.status.busy": "2023-01-20T08:02:20.494099Z",
     "iopub.status.idle": "2023-01-20T08:02:20.678231Z",
     "shell.execute_reply": "2023-01-20T08:02:20.677169Z"
    },
    "papermill": {
     "duration": 0.190964,
     "end_time": "2023-01-20T08:02:20.681005",
     "exception": false,
     "start_time": "2023-01-20T08:02:20.490041",
     "status": "completed"
    },
    "tags": []
   },
   "outputs": [],
   "source": [
    "from bs4 import BeautifulSoup\n",
    "import time\n",
    "import requests\n",
    "import json\n",
    "from tqdm import tqdm"
   ]
  },
  {
   "cell_type": "code",
   "execution_count": 4,
   "id": "928fee5b",
   "metadata": {
    "execution": {
     "iopub.execute_input": "2023-01-20T08:02:20.688693Z",
     "iopub.status.busy": "2023-01-20T08:02:20.688106Z",
     "iopub.status.idle": "2023-01-20T12:06:50.566945Z",
     "shell.execute_reply": "2023-01-20T12:06:50.565576Z"
    },
    "papermill": {
     "duration": 14669.886098,
     "end_time": "2023-01-20T12:06:50.569958",
     "exception": false,
     "start_time": "2023-01-20T08:02:20.683860",
     "status": "completed"
    },
    "tags": []
   },
   "outputs": [
    {
     "name": "stderr",
     "output_type": "stream",
     "text": [
      "100%|██████████| 10000/10000 [4:04:29<00:00,  1.47s/it]\n"
     ]
    }
   ],
   "source": [
    "counter = 0\n",
    "data = []\n",
    "\n",
    "for counter in tqdm(range(40000,50000)):\n",
    "        hlink = df['Link'][counter]\n",
    "        response = requests.get(hlink)\n",
    "        soup1 = BeautifulSoup(response.text, 'html.parser')\n",
    "\n",
    "        description = soup1.find('div',id='game_area_description')\n",
    "        description = description.text.strip().replace('\\r','').replace('\\t','').replace('\\n','') if description else None\n",
    "\n",
    "        reviews = soup1.find('div', class_='user_reviews_summary_row')\n",
    "        reviews = reviews.text.strip().replace('\\r','').replace('\\t','').replace('\\n','') if reviews else None\n",
    "        tags_div = soup1.find('div', class_='glance_tags popular_tags')\n",
    "        tags = tags_div.find_all('a', class_='app_tag') if tags_div else 'N/A'\n",
    "\n",
    "        if tags != 'N/A':\n",
    "            tagged = [tag.text.strip() for tag in tags]\n",
    "            tagged_string = ', '.join(tagged)\n",
    "        else:\n",
    "            tagged_string = 'N/A'\n",
    "\n",
    "       \n",
    "        data.append([description, reviews, tagged_string])\n",
    "        \n",
    "        counter+=1\n",
    "    "
   ]
  },
  {
   "cell_type": "code",
   "execution_count": 5,
   "id": "18bf65ea",
   "metadata": {
    "execution": {
     "iopub.execute_input": "2023-01-20T12:06:51.875509Z",
     "iopub.status.busy": "2023-01-20T12:06:51.875008Z",
     "iopub.status.idle": "2023-01-20T12:06:51.902816Z",
     "shell.execute_reply": "2023-01-20T12:06:51.901992Z"
    },
    "papermill": {
     "duration": 0.639686,
     "end_time": "2023-01-20T12:06:51.904822",
     "exception": false,
     "start_time": "2023-01-20T12:06:51.265136",
     "status": "completed"
    },
    "tags": []
   },
   "outputs": [
    {
     "data": {
      "text/html": [
       "<div>\n",
       "<style scoped>\n",
       "    .dataframe tbody tr th:only-of-type {\n",
       "        vertical-align: middle;\n",
       "    }\n",
       "\n",
       "    .dataframe tbody tr th {\n",
       "        vertical-align: top;\n",
       "    }\n",
       "\n",
       "    .dataframe thead th {\n",
       "        text-align: right;\n",
       "    }\n",
       "</style>\n",
       "<table border=\"1\" class=\"dataframe\">\n",
       "  <thead>\n",
       "    <tr style=\"text-align: right;\">\n",
       "      <th></th>\n",
       "      <th>description</th>\n",
       "      <th>reviews</th>\n",
       "      <th>tags</th>\n",
       "    </tr>\n",
       "  </thead>\n",
       "  <tbody>\n",
       "    <tr>\n",
       "      <th>0</th>\n",
       "      <td>About This GameThe Horologist's Legacy is a de...</td>\n",
       "      <td>All Reviews:7 user reviews- Need more user rev...</td>\n",
       "      <td>Indie, Horror, Psychological Horror, Psycholog...</td>\n",
       "    </tr>\n",
       "    <tr>\n",
       "      <th>1</th>\n",
       "      <td>About This GameMODERN COMBAT 5 IS AN INTENSE F...</td>\n",
       "      <td>Recent Reviews:Mixed(57)- 45% of the 57 user r...</td>\n",
       "      <td>Free to Play, FPS, Action, Shooter, Massively ...</td>\n",
       "    </tr>\n",
       "    <tr>\n",
       "      <th>2</th>\n",
       "      <td>About This GameIntelligence: Underwater Kingdo...</td>\n",
       "      <td>All Reviews:6 user reviews- Need more user rev...</td>\n",
       "      <td>Puzzle, Underwater, Fishing, Card Game, Tablet...</td>\n",
       "    </tr>\n",
       "    <tr>\n",
       "      <th>3</th>\n",
       "      <td>About This GameDRAW, PLAY AND BLUFF, FOR ONLY ...</td>\n",
       "      <td>All Reviews:Very Positive(175)- 89% of the 175...</td>\n",
       "      <td>Strategy, Card Game, Board Game, Multiplayer, ...</td>\n",
       "    </tr>\n",
       "    <tr>\n",
       "      <th>4</th>\n",
       "      <td>About This GamePlay as a serial killer and use...</td>\n",
       "      <td>All Reviews:1 user reviews- Need more user rev...</td>\n",
       "      <td>Action, Indie, Violent</td>\n",
       "    </tr>\n",
       "    <tr>\n",
       "      <th>...</th>\n",
       "      <td>...</td>\n",
       "      <td>...</td>\n",
       "      <td>...</td>\n",
       "    </tr>\n",
       "    <tr>\n",
       "      <th>9995</th>\n",
       "      <td>About This GameSTORY The year is 2021, America...</td>\n",
       "      <td>All Reviews:Very Positive(480)- 93% of the 480...</td>\n",
       "      <td>Memes, Anime, Visual Novel, Nudity, Sexual Con...</td>\n",
       "    </tr>\n",
       "    <tr>\n",
       "      <th>9996</th>\n",
       "      <td>About This Game****This game is on Alpha test ...</td>\n",
       "      <td>All Reviews:Mostly Negative(29)- 27% of the 29...</td>\n",
       "      <td>RPG, Nudity, Adventure, Indie, Early Access, G...</td>\n",
       "    </tr>\n",
       "    <tr>\n",
       "      <th>9997</th>\n",
       "      <td>About This GameIn this VR exclusive game, trav...</td>\n",
       "      <td>All Reviews:2 user reviews- Need more user rev...</td>\n",
       "      <td>Casual, VR</td>\n",
       "    </tr>\n",
       "    <tr>\n",
       "      <th>9998</th>\n",
       "      <td>About This GameExperience real casino flair on...</td>\n",
       "      <td>All Reviews:Mixed(11)- 63% of the 11 user revi...</td>\n",
       "      <td>Casual, Solitaire, Card Game, Puzzle, Strategy...</td>\n",
       "    </tr>\n",
       "    <tr>\n",
       "      <th>9999</th>\n",
       "      <td>About This GameEnjoy a different and twisted w...</td>\n",
       "      <td>All Reviews:2 user reviews- Need more user rev...</td>\n",
       "      <td>Action, Indie, Casual, Zombies</td>\n",
       "    </tr>\n",
       "  </tbody>\n",
       "</table>\n",
       "<p>10000 rows × 3 columns</p>\n",
       "</div>"
      ],
      "text/plain": [
       "                                            description  \\\n",
       "0     About This GameThe Horologist's Legacy is a de...   \n",
       "1     About This GameMODERN COMBAT 5 IS AN INTENSE F...   \n",
       "2     About This GameIntelligence: Underwater Kingdo...   \n",
       "3     About This GameDRAW, PLAY AND BLUFF, FOR ONLY ...   \n",
       "4     About This GamePlay as a serial killer and use...   \n",
       "...                                                 ...   \n",
       "9995  About This GameSTORY The year is 2021, America...   \n",
       "9996  About This Game****This game is on Alpha test ...   \n",
       "9997  About This GameIn this VR exclusive game, trav...   \n",
       "9998  About This GameExperience real casino flair on...   \n",
       "9999  About This GameEnjoy a different and twisted w...   \n",
       "\n",
       "                                                reviews  \\\n",
       "0     All Reviews:7 user reviews- Need more user rev...   \n",
       "1     Recent Reviews:Mixed(57)- 45% of the 57 user r...   \n",
       "2     All Reviews:6 user reviews- Need more user rev...   \n",
       "3     All Reviews:Very Positive(175)- 89% of the 175...   \n",
       "4     All Reviews:1 user reviews- Need more user rev...   \n",
       "...                                                 ...   \n",
       "9995  All Reviews:Very Positive(480)- 93% of the 480...   \n",
       "9996  All Reviews:Mostly Negative(29)- 27% of the 29...   \n",
       "9997  All Reviews:2 user reviews- Need more user rev...   \n",
       "9998  All Reviews:Mixed(11)- 63% of the 11 user revi...   \n",
       "9999  All Reviews:2 user reviews- Need more user rev...   \n",
       "\n",
       "                                                   tags  \n",
       "0     Indie, Horror, Psychological Horror, Psycholog...  \n",
       "1     Free to Play, FPS, Action, Shooter, Massively ...  \n",
       "2     Puzzle, Underwater, Fishing, Card Game, Tablet...  \n",
       "3     Strategy, Card Game, Board Game, Multiplayer, ...  \n",
       "4                                Action, Indie, Violent  \n",
       "...                                                 ...  \n",
       "9995  Memes, Anime, Visual Novel, Nudity, Sexual Con...  \n",
       "9996  RPG, Nudity, Adventure, Indie, Early Access, G...  \n",
       "9997                                         Casual, VR  \n",
       "9998  Casual, Solitaire, Card Game, Puzzle, Strategy...  \n",
       "9999                     Action, Indie, Casual, Zombies  \n",
       "\n",
       "[10000 rows x 3 columns]"
      ]
     },
     "execution_count": 5,
     "metadata": {},
     "output_type": "execute_result"
    }
   ],
   "source": [
    "data_df = pd.DataFrame(data, columns=['description','reviews','tags'])\n",
    "data_df"
   ]
  },
  {
   "cell_type": "code",
   "execution_count": 6,
   "id": "6d1262c1",
   "metadata": {
    "execution": {
     "iopub.execute_input": "2023-01-20T12:06:53.125778Z",
     "iopub.status.busy": "2023-01-20T12:06:53.125378Z",
     "iopub.status.idle": "2023-01-20T12:06:53.453602Z",
     "shell.execute_reply": "2023-01-20T12:06:53.452332Z"
    },
    "papermill": {
     "duration": 0.938302,
     "end_time": "2023-01-20T12:06:53.456449",
     "exception": false,
     "start_time": "2023-01-20T12:06:52.518147",
     "status": "completed"
    },
    "tags": []
   },
   "outputs": [],
   "source": [
    "data_df.to_csv('40to50_k_games.csv', index=False)"
   ]
  }
 ],
 "metadata": {
  "kernelspec": {
   "display_name": "Python 3 (ipykernel)",
   "language": "python",
   "name": "python3"
  },
  "language_info": {
   "codemirror_mode": {
    "name": "ipython",
    "version": 3
   },
   "file_extension": ".py",
   "mimetype": "text/x-python",
   "name": "python",
   "nbconvert_exporter": "python",
   "pygments_lexer": "ipython3",
   "version": "3.8.15"
  },
  "papermill": {
   "default_parameters": {},
   "duration": 14683.553315,
   "end_time": "2023-01-20T12:06:54.892770",
   "environment_variables": {},
   "exception": null,
   "input_path": "__notebook__.ipynb",
   "output_path": "__notebook__.ipynb",
   "parameters": {},
   "start_time": "2023-01-20T08:02:11.339455",
   "version": "2.3.4"
  }
 },
 "nbformat": 4,
 "nbformat_minor": 5
}
