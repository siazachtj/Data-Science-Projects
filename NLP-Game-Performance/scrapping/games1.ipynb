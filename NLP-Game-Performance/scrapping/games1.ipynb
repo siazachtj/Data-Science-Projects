{
 "cells": [
  {
   "cell_type": "markdown",
   "id": "7c835001-3909-4763-96d5-5858e0f2c47b",
   "metadata": {},
   "source": [
    "# About This Notebook"
   ]
  },
  {
   "cell_type": "markdown",
   "id": "1195657e-bb01-4097-a64e-3d2b9c88440e",
   "metadata": {},
   "source": [
    "This notebook was done on Kaggle and downloaded after. It contains code that we use to scrape the games data from the 1st to 10k rows of our list of games. "
   ]
  },
  {
   "cell_type": "code",
   "execution_count": 1,
   "id": "e7dce2d4",
   "metadata": {
    "_cell_guid": "b1076dfc-b9ad-4769-8c92-a6c4dae69d19",
    "_uuid": "8f2839f25d086af736a60e9eeb907d3b93b6e0e5",
    "execution": {
     "iopub.execute_input": "2023-01-20T03:30:15.043012Z",
     "iopub.status.busy": "2023-01-20T03:30:15.042330Z",
     "iopub.status.idle": "2023-01-20T03:30:15.059905Z",
     "shell.execute_reply": "2023-01-20T03:30:15.058611Z"
    },
    "papermill": {
     "duration": 0.025921,
     "end_time": "2023-01-20T03:30:15.063049",
     "exception": false,
     "start_time": "2023-01-20T03:30:15.037128",
     "status": "completed"
    },
    "tags": []
   },
   "outputs": [
    {
     "name": "stdout",
     "output_type": "stream",
     "text": [
      "/kaggle/input/steam60kgamesdata/gamesdata.csv\n"
     ]
    }
   ],
   "source": [
    "# This Python 3 environment comes with many helpful analytics libraries installed\n",
    "# It is defined by the kaggle/python Docker image: https://github.com/kaggle/docker-python\n",
    "# For example, here's several helpful packages to load\n",
    "\n",
    "import numpy as np # linear algebra\n",
    "import pandas as pd # data processing, CSV file I/O (e.g. pd.read_csv)\n",
    "\n",
    "# Input data files are available in the read-only \"../input/\" directory\n",
    "# For example, running this (by clicking run or pressing Shift+Enter) will list all files under the input directory\n",
    "\n",
    "import os\n",
    "for dirname, _, filenames in os.walk('/kaggle/input'):\n",
    "    for filename in filenames:\n",
    "        print(os.path.join(dirname, filename))\n",
    "\n",
    "# You can write up to 20GB to the current directory (/kaggle/working/) that gets preserved as output when you create a version using \"Save & Run All\" \n",
    "# You can also write temporary files to /kaggle/temp/, but they won't be saved outside of the current session"
   ]
  },
  {
   "cell_type": "code",
   "execution_count": 2,
   "id": "b6047201",
   "metadata": {
    "execution": {
     "iopub.execute_input": "2023-01-20T03:30:15.070156Z",
     "iopub.status.busy": "2023-01-20T03:30:15.069783Z",
     "iopub.status.idle": "2023-01-20T03:30:15.334076Z",
     "shell.execute_reply": "2023-01-20T03:30:15.332847Z"
    },
    "papermill": {
     "duration": 0.270702,
     "end_time": "2023-01-20T03:30:15.336745",
     "exception": false,
     "start_time": "2023-01-20T03:30:15.066043",
     "status": "completed"
    },
    "tags": []
   },
   "outputs": [],
   "source": [
    "df = pd.read_csv('/kaggle/input/steam60kgamesdata/gamesdata.csv')"
   ]
  },
  {
   "cell_type": "code",
   "execution_count": 3,
   "id": "92e1537e",
   "metadata": {
    "execution": {
     "iopub.execute_input": "2023-01-20T03:30:15.345680Z",
     "iopub.status.busy": "2023-01-20T03:30:15.345098Z",
     "iopub.status.idle": "2023-01-20T03:30:15.540183Z",
     "shell.execute_reply": "2023-01-20T03:30:15.539105Z"
    },
    "papermill": {
     "duration": 0.202575,
     "end_time": "2023-01-20T03:30:15.542945",
     "exception": false,
     "start_time": "2023-01-20T03:30:15.340370",
     "status": "completed"
    },
    "tags": []
   },
   "outputs": [],
   "source": [
    "from bs4 import BeautifulSoup\n",
    "import time\n",
    "import requests\n",
    "import json\n",
    "from tqdm import tqdm"
   ]
  },
  {
   "cell_type": "code",
   "execution_count": 4,
   "id": "de5ef6d7",
   "metadata": {
    "execution": {
     "iopub.execute_input": "2023-01-20T03:30:15.550468Z",
     "iopub.status.busy": "2023-01-20T03:30:15.549875Z",
     "iopub.status.idle": "2023-01-20T03:30:15.572015Z",
     "shell.execute_reply": "2023-01-20T03:30:15.570894Z"
    },
    "papermill": {
     "duration": 0.028757,
     "end_time": "2023-01-20T03:30:15.574523",
     "exception": false,
     "start_time": "2023-01-20T03:30:15.545766",
     "status": "completed"
    },
    "tags": []
   },
   "outputs": [
    {
     "data": {
      "text/html": [
       "<div>\n",
       "<style scoped>\n",
       "    .dataframe tbody tr th:only-of-type {\n",
       "        vertical-align: middle;\n",
       "    }\n",
       "\n",
       "    .dataframe tbody tr th {\n",
       "        vertical-align: top;\n",
       "    }\n",
       "\n",
       "    .dataframe thead th {\n",
       "        text-align: right;\n",
       "    }\n",
       "</style>\n",
       "<table border=\"1\" class=\"dataframe\">\n",
       "  <thead>\n",
       "    <tr style=\"text-align: right;\">\n",
       "      <th></th>\n",
       "      <th>Name</th>\n",
       "      <th>Link</th>\n",
       "      <th>Release Date</th>\n",
       "      <th>Price</th>\n",
       "    </tr>\n",
       "  </thead>\n",
       "  <tbody>\n",
       "    <tr>\n",
       "      <th>0</th>\n",
       "      <td>Persona 3 Portable</td>\n",
       "      <td>https://store.steampowered.com/app/1809700/Per...</td>\n",
       "      <td>18 Jan, 2023</td>\n",
       "      <td>CDN$ 27.99</td>\n",
       "    </tr>\n",
       "    <tr>\n",
       "      <th>1</th>\n",
       "      <td>Boing</td>\n",
       "      <td>https://store.steampowered.com/app/2180390/Boi...</td>\n",
       "      <td>18 Jan, 2023</td>\n",
       "      <td>-20%\\n\\n\\nCDN$ 10.49CDN$ 8.39</td>\n",
       "    </tr>\n",
       "    <tr>\n",
       "      <th>2</th>\n",
       "      <td>Fraymakers</td>\n",
       "      <td>https://store.steampowered.com/app/1420350/Fra...</td>\n",
       "      <td>18 Jan, 2023</td>\n",
       "      <td>CDN$ 22.79</td>\n",
       "    </tr>\n",
       "    <tr>\n",
       "      <th>3</th>\n",
       "      <td>【VR】Physical Exam / イタズラ身体測定</td>\n",
       "      <td>https://store.steampowered.com/app/2262110/VRP...</td>\n",
       "      <td>18 Jan, 2023</td>\n",
       "      <td>-10%\\n\\n\\nCDN$ 25.99CDN$ 23.39</td>\n",
       "    </tr>\n",
       "    <tr>\n",
       "      <th>4</th>\n",
       "      <td>FPS Seduce - Hentai</td>\n",
       "      <td>https://store.steampowered.com/app/1853780/FPS...</td>\n",
       "      <td>18 Jan, 2023</td>\n",
       "      <td>-10%\\n\\n\\nCDN$ 5.69CDN$ 5.12</td>\n",
       "    </tr>\n",
       "  </tbody>\n",
       "</table>\n",
       "</div>"
      ],
      "text/plain": [
       "                           Name  \\\n",
       "0            Persona 3 Portable   \n",
       "1                         Boing   \n",
       "2                    Fraymakers   \n",
       "3  【VR】Physical Exam / イタズラ身体測定   \n",
       "4           FPS Seduce - Hentai   \n",
       "\n",
       "                                                Link  Release Date  \\\n",
       "0  https://store.steampowered.com/app/1809700/Per...  18 Jan, 2023   \n",
       "1  https://store.steampowered.com/app/2180390/Boi...  18 Jan, 2023   \n",
       "2  https://store.steampowered.com/app/1420350/Fra...  18 Jan, 2023   \n",
       "3  https://store.steampowered.com/app/2262110/VRP...  18 Jan, 2023   \n",
       "4  https://store.steampowered.com/app/1853780/FPS...  18 Jan, 2023   \n",
       "\n",
       "                            Price  \n",
       "0                      CDN$ 27.99  \n",
       "1   -20%\\n\\n\\nCDN$ 10.49CDN$ 8.39  \n",
       "2                      CDN$ 22.79  \n",
       "3  -10%\\n\\n\\nCDN$ 25.99CDN$ 23.39  \n",
       "4    -10%\\n\\n\\nCDN$ 5.69CDN$ 5.12  "
      ]
     },
     "execution_count": 4,
     "metadata": {},
     "output_type": "execute_result"
    }
   ],
   "source": [
    "df.head()"
   ]
  },
  {
   "cell_type": "code",
   "execution_count": 5,
   "id": "e67d6667",
   "metadata": {
    "execution": {
     "iopub.execute_input": "2023-01-20T03:30:15.582786Z",
     "iopub.status.busy": "2023-01-20T03:30:15.581906Z",
     "iopub.status.idle": "2023-01-20T05:04:40.836288Z",
     "shell.execute_reply": "2023-01-20T05:04:40.834682Z"
    },
    "papermill": {
     "duration": 5665.261103,
     "end_time": "2023-01-20T05:04:40.838694",
     "exception": false,
     "start_time": "2023-01-20T03:30:15.577591",
     "status": "completed"
    },
    "tags": []
   },
   "outputs": [
    {
     "name": "stderr",
     "output_type": "stream",
     "text": [
      "100%|██████████| 10000/10000 [1:34:25<00:00,  1.77it/s]\n"
     ]
    }
   ],
   "source": [
    "counter = 0\n",
    "data = []\n",
    "\n",
    "for counter in tqdm(range(0,10000)):\n",
    "        hlink = df['Link'][counter]\n",
    "        response = requests.get(hlink)\n",
    "        soup1 = BeautifulSoup(response.text, 'html.parser')\n",
    "\n",
    "        description = soup1.find('div',id='game_area_description')\n",
    "        description = description.text.strip().replace('\\r','').replace('\\t','').replace('\\n','') if description else None\n",
    "\n",
    "        reviews = soup1.find('div', class_='user_reviews_summary_row')\n",
    "        reviews = reviews.text.strip().replace('\\r','').replace('\\t','').replace('\\n','') if reviews else None\n",
    "        tags_div = soup1.find('div', class_='glance_tags popular_tags')\n",
    "        tags = tags_div.find_all('a', class_='app_tag') if tags_div else 'N/A'\n",
    "\n",
    "        if tags != 'N/A':\n",
    "            tagged = []\n",
    "            for tag in tags:\n",
    "                tagged.append(tag.text.strip())\n",
    "        else:\n",
    "            tagged = 'N/A'\n",
    "\n",
    "        tagged_string = ', '.join(tagged)\n",
    "        data.append([description, reviews, tagged_string])\n",
    "        \n",
    "        counter=+1\n",
    "    "
   ]
  },
  {
   "cell_type": "code",
   "execution_count": 6,
   "id": "867efa52",
   "metadata": {
    "execution": {
     "iopub.execute_input": "2023-01-20T05:04:42.016659Z",
     "iopub.status.busy": "2023-01-20T05:04:42.016259Z",
     "iopub.status.idle": "2023-01-20T05:04:42.039010Z",
     "shell.execute_reply": "2023-01-20T05:04:42.037737Z"
    },
    "papermill": {
     "duration": 0.57637,
     "end_time": "2023-01-20T05:04:42.041542",
     "exception": false,
     "start_time": "2023-01-20T05:04:41.465172",
     "status": "completed"
    },
    "tags": []
   },
   "outputs": [
    {
     "data": {
      "text/html": [
       "<div>\n",
       "<style scoped>\n",
       "    .dataframe tbody tr th:only-of-type {\n",
       "        vertical-align: middle;\n",
       "    }\n",
       "\n",
       "    .dataframe tbody tr th {\n",
       "        vertical-align: top;\n",
       "    }\n",
       "\n",
       "    .dataframe thead th {\n",
       "        text-align: right;\n",
       "    }\n",
       "</style>\n",
       "<table border=\"1\" class=\"dataframe\">\n",
       "  <thead>\n",
       "    <tr style=\"text-align: right;\">\n",
       "      <th></th>\n",
       "      <th>description</th>\n",
       "      <th>reviews</th>\n",
       "      <th>tags</th>\n",
       "    </tr>\n",
       "  </thead>\n",
       "  <tbody>\n",
       "    <tr>\n",
       "      <th>0</th>\n",
       "      <td>About This GameExperience the iconic, critical...</td>\n",
       "      <td>All Reviews:Mostly Positive(771)- 74% of the 7...</td>\n",
       "      <td>RPG, Story Rich, Anime, Turn-Based Combat, JRP...</td>\n",
       "    </tr>\n",
       "    <tr>\n",
       "      <th>1</th>\n",
       "      <td>About This GameLong ago in the deepest and dar...</td>\n",
       "      <td>All Reviews:1 user reviews- Need more user rev...</td>\n",
       "      <td>Casual, Action, Arcade, Atmospheric, 2D, Singl...</td>\n",
       "    </tr>\n",
       "    <tr>\n",
       "      <th>2</th>\n",
       "      <td>About This GameWhat is Fraymakers?Fraymakers i...</td>\n",
       "      <td>All Reviews:Mixed(214)- 68% of the 214 user re...</td>\n",
       "      <td>Indie, Fighting, 2D Fighter, Multiplayer, Acti...</td>\n",
       "    </tr>\n",
       "    <tr>\n",
       "      <th>3</th>\n",
       "      <td>About This GameThis game is for Meta Quest2 on...</td>\n",
       "      <td>All Reviews:1 user reviews- Need more user rev...</td>\n",
       "      <td>Simulation, VR, Dating Sim, Cute, Immersive Si...</td>\n",
       "    </tr>\n",
       "    <tr>\n",
       "      <th>4</th>\n",
       "      <td>About This GameMake love to many beautiful ani...</td>\n",
       "      <td>All Reviews:2 user reviews- Need more user rev...</td>\n",
       "      <td>Nudity, Sexual Content, Hentai, Romance, Anime...</td>\n",
       "    </tr>\n",
       "    <tr>\n",
       "      <th>...</th>\n",
       "      <td>...</td>\n",
       "      <td>...</td>\n",
       "      <td>...</td>\n",
       "    </tr>\n",
       "    <tr>\n",
       "      <th>9995</th>\n",
       "      <td>About This GameWhen we talk about outer space ...</td>\n",
       "      <td>All Reviews:5 user reviews- Need more user rev...</td>\n",
       "      <td>Adventure, Point &amp; Click, Space, 2D, Clicker, ...</td>\n",
       "    </tr>\n",
       "    <tr>\n",
       "      <th>9996</th>\n",
       "      <td>About This GameFrom Cloisters Interactive, A M...</td>\n",
       "      <td>Recent Reviews:Very Positive(17)- 88% of the 1...</td>\n",
       "      <td>Adventure, Casual, Interactive Fiction, 2D, 3D...</td>\n",
       "    </tr>\n",
       "    <tr>\n",
       "      <th>9997</th>\n",
       "      <td>About This GameWorld of Contraptions is a phys...</td>\n",
       "      <td>All Reviews:Very Positive(73)- 90% of the 73 u...</td>\n",
       "      <td>Simulation, Indie, Strategy, Building, Sandbox...</td>\n",
       "    </tr>\n",
       "    <tr>\n",
       "      <th>9998</th>\n",
       "      <td>About This GameWelcome to Teraphobia: The Begi...</td>\n",
       "      <td>All Reviews:5 user reviews- Need more user rev...</td>\n",
       "      <td>Action, Singleplayer, Multiplayer, Horror, Psy...</td>\n",
       "    </tr>\n",
       "    <tr>\n",
       "      <th>9999</th>\n",
       "      <td>About This GameThe Lost and The Wicked is a Br...</td>\n",
       "      <td>All Reviews:Positive(15)- 86% of the 15 user r...</td>\n",
       "      <td>Twin Stick Shooter, Action-Adventure, Top-Down...</td>\n",
       "    </tr>\n",
       "  </tbody>\n",
       "</table>\n",
       "<p>10000 rows × 3 columns</p>\n",
       "</div>"
      ],
      "text/plain": [
       "                                            description  \\\n",
       "0     About This GameExperience the iconic, critical...   \n",
       "1     About This GameLong ago in the deepest and dar...   \n",
       "2     About This GameWhat is Fraymakers?Fraymakers i...   \n",
       "3     About This GameThis game is for Meta Quest2 on...   \n",
       "4     About This GameMake love to many beautiful ani...   \n",
       "...                                                 ...   \n",
       "9995  About This GameWhen we talk about outer space ...   \n",
       "9996  About This GameFrom Cloisters Interactive, A M...   \n",
       "9997  About This GameWorld of Contraptions is a phys...   \n",
       "9998  About This GameWelcome to Teraphobia: The Begi...   \n",
       "9999  About This GameThe Lost and The Wicked is a Br...   \n",
       "\n",
       "                                                reviews  \\\n",
       "0     All Reviews:Mostly Positive(771)- 74% of the 7...   \n",
       "1     All Reviews:1 user reviews- Need more user rev...   \n",
       "2     All Reviews:Mixed(214)- 68% of the 214 user re...   \n",
       "3     All Reviews:1 user reviews- Need more user rev...   \n",
       "4     All Reviews:2 user reviews- Need more user rev...   \n",
       "...                                                 ...   \n",
       "9995  All Reviews:5 user reviews- Need more user rev...   \n",
       "9996  Recent Reviews:Very Positive(17)- 88% of the 1...   \n",
       "9997  All Reviews:Very Positive(73)- 90% of the 73 u...   \n",
       "9998  All Reviews:5 user reviews- Need more user rev...   \n",
       "9999  All Reviews:Positive(15)- 86% of the 15 user r...   \n",
       "\n",
       "                                                   tags  \n",
       "0     RPG, Story Rich, Anime, Turn-Based Combat, JRP...  \n",
       "1     Casual, Action, Arcade, Atmospheric, 2D, Singl...  \n",
       "2     Indie, Fighting, 2D Fighter, Multiplayer, Acti...  \n",
       "3     Simulation, VR, Dating Sim, Cute, Immersive Si...  \n",
       "4     Nudity, Sexual Content, Hentai, Romance, Anime...  \n",
       "...                                                 ...  \n",
       "9995  Adventure, Point & Click, Space, 2D, Clicker, ...  \n",
       "9996  Adventure, Casual, Interactive Fiction, 2D, 3D...  \n",
       "9997  Simulation, Indie, Strategy, Building, Sandbox...  \n",
       "9998  Action, Singleplayer, Multiplayer, Horror, Psy...  \n",
       "9999  Twin Stick Shooter, Action-Adventure, Top-Down...  \n",
       "\n",
       "[10000 rows x 3 columns]"
      ]
     },
     "execution_count": 6,
     "metadata": {},
     "output_type": "execute_result"
    }
   ],
   "source": [
    "data_df = pd.DataFrame(data, columns=['description','reviews','tags'])\n",
    "data_df"
   ]
  },
  {
   "cell_type": "code",
   "execution_count": 7,
   "id": "c0365b86",
   "metadata": {
    "execution": {
     "iopub.execute_input": "2023-01-20T05:04:43.251052Z",
     "iopub.status.busy": "2023-01-20T05:04:43.250639Z",
     "iopub.status.idle": "2023-01-20T05:04:43.485353Z",
     "shell.execute_reply": "2023-01-20T05:04:43.483787Z"
    },
    "papermill": {
     "duration": 0.891839,
     "end_time": "2023-01-20T05:04:43.488694",
     "exception": false,
     "start_time": "2023-01-20T05:04:42.596855",
     "status": "completed"
    },
    "tags": []
   },
   "outputs": [],
   "source": [
    "data_df.to_csv('first_ten_k_games.csv', index=False)"
   ]
  },
  {
   "cell_type": "code",
   "execution_count": null,
   "id": "6dacf315",
   "metadata": {
    "papermill": {
     "duration": 0.542929,
     "end_time": "2023-01-20T05:04:44.586723",
     "exception": false,
     "start_time": "2023-01-20T05:04:44.043794",
     "status": "completed"
    },
    "tags": []
   },
   "outputs": [],
   "source": []
  }
 ],
 "metadata": {
  "kernelspec": {
   "display_name": "Python 3 (ipykernel)",
   "language": "python",
   "name": "python3"
  },
  "language_info": {
   "codemirror_mode": {
    "name": "ipython",
    "version": 3
   },
   "file_extension": ".py",
   "mimetype": "text/x-python",
   "name": "python",
   "nbconvert_exporter": "python",
   "pygments_lexer": "ipython3",
   "version": "3.8.13"
  },
  "papermill": {
   "default_parameters": {},
   "duration": 5679.363755,
   "end_time": "2023-01-20T05:04:45.969019",
   "environment_variables": {},
   "exception": null,
   "input_path": "__notebook__.ipynb",
   "output_path": "__notebook__.ipynb",
   "parameters": {},
   "start_time": "2023-01-20T03:30:06.605264",
   "version": "2.3.4"
  }
 },
 "nbformat": 4,
 "nbformat_minor": 5
}
