{
 "cells": [
  {
   "cell_type": "markdown",
   "id": "b536b3ea-fe66-433e-a3b6-23a01150356b",
   "metadata": {},
   "source": [
    "# About This Notebook"
   ]
  },
  {
   "cell_type": "markdown",
   "id": "0bdcca4f-9899-4835-b59a-c6805dc1f5f2",
   "metadata": {},
   "source": [
    "This notebook was done on Kaggle and downloaded after. It contains code that we use to scrape the games data from the 10k to 20k rows of our list of games. "
   ]
  },
  {
   "cell_type": "code",
   "execution_count": null,
   "id": "70b946c9",
   "metadata": {
    "_cell_guid": "b1076dfc-b9ad-4769-8c92-a6c4dae69d19",
    "_uuid": "8f2839f25d086af736a60e9eeb907d3b93b6e0e5",
    "execution": {
     "iopub.execute_input": "2023-01-20T02:35:16.539964Z",
     "iopub.status.busy": "2023-01-20T02:35:16.539477Z",
     "iopub.status.idle": "2023-01-20T02:35:16.562832Z",
     "shell.execute_reply": "2023-01-20T02:35:16.561606Z"
    },
    "papermill": {
     "duration": 0.032219,
     "end_time": "2023-01-20T02:35:16.565995",
     "exception": false,
     "start_time": "2023-01-20T02:35:16.533776",
     "status": "completed"
    },
    "tags": []
   },
   "outputs": [
    {
     "name": "stdout",
     "output_type": "stream",
     "text": [
      "/kaggle/input/steam60kgamesdata/gamesdata.csv\n"
     ]
    }
   ],
   "source": [
    "# This Python 3 environment comes with many helpful analytics libraries installed\n",
    "# It is defined by the kaggle/python Docker image: https://github.com/kaggle/docker-python\n",
    "# For example, here's several helpful packages to load\n",
    "\n",
    "import numpy as np # linear algebra\n",
    "import pandas as pd # data processing, CSV file I/O (e.g. pd.read_csv)\n",
    "\n",
    "# Input data files are available in the read-only \"../input/\" directory\n",
    "# For example, running this (by clicking run or pressing Shift+Enter) will list all files under the input directory\n",
    "\n",
    "import os\n",
    "for dirname, _, filenames in os.walk('/kaggle/input'):\n",
    "    for filename in filenames:\n",
    "        print(os.path.join(dirname, filename))\n",
    "\n",
    "# You can write up to 20GB to the current directory (/kaggle/working/) that gets preserved as output when you create a version using \"Save & Run All\" \n",
    "# You can also write temporary files to /kaggle/temp/, but they won't be saved outside of the current session"
   ]
  },
  {
   "cell_type": "code",
   "execution_count": 2,
   "id": "8b90003b",
   "metadata": {
    "execution": {
     "iopub.execute_input": "2023-01-20T02:35:16.573383Z",
     "iopub.status.busy": "2023-01-20T02:35:16.572754Z",
     "iopub.status.idle": "2023-01-20T02:35:16.880223Z",
     "shell.execute_reply": "2023-01-20T02:35:16.879194Z"
    },
    "papermill": {
     "duration": 0.313995,
     "end_time": "2023-01-20T02:35:16.883053",
     "exception": false,
     "start_time": "2023-01-20T02:35:16.569058",
     "status": "completed"
    },
    "tags": []
   },
   "outputs": [],
   "source": [
    "df = pd.read_csv('/kaggle/input/steam60kgamesdata/gamesdata.csv')"
   ]
  },
  {
   "cell_type": "code",
   "execution_count": 3,
   "id": "5793f2f4",
   "metadata": {
    "execution": {
     "iopub.execute_input": "2023-01-20T02:35:16.890041Z",
     "iopub.status.busy": "2023-01-20T02:35:16.889632Z",
     "iopub.status.idle": "2023-01-20T02:35:17.074786Z",
     "shell.execute_reply": "2023-01-20T02:35:17.073503Z"
    },
    "papermill": {
     "duration": 0.192047,
     "end_time": "2023-01-20T02:35:17.077891",
     "exception": false,
     "start_time": "2023-01-20T02:35:16.885844",
     "status": "completed"
    },
    "tags": []
   },
   "outputs": [],
   "source": [
    "from bs4 import BeautifulSoup\n",
    "import time\n",
    "import requests\n",
    "import json\n",
    "from tqdm import tqdm"
   ]
  },
  {
   "cell_type": "code",
   "execution_count": 4,
   "id": "cc9c8326",
   "metadata": {
    "execution": {
     "iopub.execute_input": "2023-01-20T02:35:17.085412Z",
     "iopub.status.busy": "2023-01-20T02:35:17.084248Z",
     "iopub.status.idle": "2023-01-20T05:37:34.279023Z",
     "shell.execute_reply": "2023-01-20T05:37:34.277858Z"
    },
    "papermill": {
     "duration": 10937.201182,
     "end_time": "2023-01-20T05:37:34.281793",
     "exception": false,
     "start_time": "2023-01-20T02:35:17.080611",
     "status": "completed"
    },
    "tags": []
   },
   "outputs": [
    {
     "name": "stderr",
     "output_type": "stream",
     "text": [
      "100%|██████████| 10000/10000 [3:02:17<00:00,  1.09s/it]\n"
     ]
    }
   ],
   "source": [
    "counter = 0\n",
    "data = []\n",
    "\n",
    "for counter in tqdm(range(20000,30000)):\n",
    "        hlink = df['Link'][counter]\n",
    "        response = requests.get(hlink)\n",
    "        soup1 = BeautifulSoup(response.text, 'html.parser')\n",
    "\n",
    "        description = soup1.find('div',id='game_area_description')\n",
    "        description = description.text.strip().replace('\\r','').replace('\\t','').replace('\\n','') if description else None\n",
    "\n",
    "        reviews = soup1.find('div', class_='user_reviews_summary_row')\n",
    "        reviews = reviews.text.strip().replace('\\r','').replace('\\t','').replace('\\n','') if reviews else None\n",
    "        tags_div = soup1.find('div', class_='glance_tags popular_tags')\n",
    "        tags = tags_div.find_all('a', class_='app_tag') if tags_div else 'N/A'\n",
    "\n",
    "        if tags != 'N/A':\n",
    "            tagged = [tag.text.strip() for tag in tags]\n",
    "            tagged_string = ', '.join(tagged)\n",
    "        else:\n",
    "            tagged_string = 'N/A'\n",
    "\n",
    "       \n",
    "        data.append([description, reviews, tagged_string])\n",
    "        \n",
    "        counter+=1\n",
    "    "
   ]
  },
  {
   "cell_type": "code",
   "execution_count": 5,
   "id": "cd15f0ed",
   "metadata": {
    "execution": {
     "iopub.execute_input": "2023-01-20T05:37:35.631789Z",
     "iopub.status.busy": "2023-01-20T05:37:35.631028Z",
     "iopub.status.idle": "2023-01-20T05:37:35.661759Z",
     "shell.execute_reply": "2023-01-20T05:37:35.660160Z"
    },
    "papermill": {
     "duration": 0.665223,
     "end_time": "2023-01-20T05:37:35.664576",
     "exception": false,
     "start_time": "2023-01-20T05:37:34.999353",
     "status": "completed"
    },
    "tags": []
   },
   "outputs": [
    {
     "data": {
      "text/html": [
       "<div>\n",
       "<style scoped>\n",
       "    .dataframe tbody tr th:only-of-type {\n",
       "        vertical-align: middle;\n",
       "    }\n",
       "\n",
       "    .dataframe tbody tr th {\n",
       "        vertical-align: top;\n",
       "    }\n",
       "\n",
       "    .dataframe thead th {\n",
       "        text-align: right;\n",
       "    }\n",
       "</style>\n",
       "<table border=\"1\" class=\"dataframe\">\n",
       "  <thead>\n",
       "    <tr style=\"text-align: right;\">\n",
       "      <th></th>\n",
       "      <th>description</th>\n",
       "      <th>reviews</th>\n",
       "      <th>tags</th>\n",
       "    </tr>\n",
       "  </thead>\n",
       "  <tbody>\n",
       "    <tr>\n",
       "      <th>0</th>\n",
       "      <td>About This GameIIn fact, the only thing a knig...</td>\n",
       "      <td>All Reviews:1 user reviews- Need more user rev...</td>\n",
       "      <td>Runner, Automation, Building, Adventure, Funny...</td>\n",
       "    </tr>\n",
       "    <tr>\n",
       "      <th>1</th>\n",
       "      <td>About This GameDestroy the Dummies is a simple...</td>\n",
       "      <td>All Reviews:3 user reviews- Need more user rev...</td>\n",
       "      <td>1990's, Fighting, Difficult, Puzzle, Arcade, A...</td>\n",
       "    </tr>\n",
       "    <tr>\n",
       "      <th>2</th>\n",
       "      <td>About This GameIn this puzzle game, play as an...</td>\n",
       "      <td>All Reviews:Positive(17)- 100% of the 17 user ...</td>\n",
       "      <td>Casual, Sokoban, Robots, Puzzle, 2D, Choices M...</td>\n",
       "    </tr>\n",
       "    <tr>\n",
       "      <th>3</th>\n",
       "      <td>About This GameIt’s a puzzle game. Every level...</td>\n",
       "      <td>All Reviews:6 user reviews- Need more user rev...</td>\n",
       "      <td>Puzzle, Puzzle Platformer, Casual, Logic, 3D, ...</td>\n",
       "    </tr>\n",
       "    <tr>\n",
       "      <th>4</th>\n",
       "      <td>About This GameWelcome to Weed County. After t...</td>\n",
       "      <td>All Reviews:4 user reviews- Need more user rev...</td>\n",
       "      <td>Indie, Adventure, RPG, Simulation, Gore, Viole...</td>\n",
       "    </tr>\n",
       "    <tr>\n",
       "      <th>...</th>\n",
       "      <td>...</td>\n",
       "      <td>...</td>\n",
       "      <td>...</td>\n",
       "    </tr>\n",
       "    <tr>\n",
       "      <th>9995</th>\n",
       "      <td>About This GameThe battle for magic and techno...</td>\n",
       "      <td>All Reviews:2 user reviews- Need more user rev...</td>\n",
       "      <td>Action, Early Access, Fantasy, Twin Stick Shoo...</td>\n",
       "    </tr>\n",
       "    <tr>\n",
       "      <th>9996</th>\n",
       "      <td>About This GameIts a game!Take the time to app...</td>\n",
       "      <td>All Reviews:No user reviews</td>\n",
       "      <td>Casual, Simulation, Action, Puzzle, Physics</td>\n",
       "    </tr>\n",
       "    <tr>\n",
       "      <th>9997</th>\n",
       "      <td>About This GameVolticPistol is a 2D medieval-c...</td>\n",
       "      <td>All Reviews:Positive(10)- 100% of the 10 user ...</td>\n",
       "      <td>Side Scroller, Action Roguelike, Bullet Hell, ...</td>\n",
       "    </tr>\n",
       "    <tr>\n",
       "      <th>9998</th>\n",
       "      <td>About This GameWhen Maria, a globe-trotting an...</td>\n",
       "      <td>Recent Reviews:Very Positive(142)- 90% of the ...</td>\n",
       "      <td>Casual, Indie, Puzzle, Story Rich, Female Prot...</td>\n",
       "    </tr>\n",
       "    <tr>\n",
       "      <th>9999</th>\n",
       "      <td>About This GameDon't forget to bring dad's sho...</td>\n",
       "      <td>All Reviews:Positive(18)- 88% of the 18 user r...</td>\n",
       "      <td>Action, Indie, Gore, Violent, Local Multiplaye...</td>\n",
       "    </tr>\n",
       "  </tbody>\n",
       "</table>\n",
       "<p>10000 rows × 3 columns</p>\n",
       "</div>"
      ],
      "text/plain": [
       "                                            description  \\\n",
       "0     About This GameIIn fact, the only thing a knig...   \n",
       "1     About This GameDestroy the Dummies is a simple...   \n",
       "2     About This GameIn this puzzle game, play as an...   \n",
       "3     About This GameIt’s a puzzle game. Every level...   \n",
       "4     About This GameWelcome to Weed County. After t...   \n",
       "...                                                 ...   \n",
       "9995  About This GameThe battle for magic and techno...   \n",
       "9996  About This GameIts a game!Take the time to app...   \n",
       "9997  About This GameVolticPistol is a 2D medieval-c...   \n",
       "9998  About This GameWhen Maria, a globe-trotting an...   \n",
       "9999  About This GameDon't forget to bring dad's sho...   \n",
       "\n",
       "                                                reviews  \\\n",
       "0     All Reviews:1 user reviews- Need more user rev...   \n",
       "1     All Reviews:3 user reviews- Need more user rev...   \n",
       "2     All Reviews:Positive(17)- 100% of the 17 user ...   \n",
       "3     All Reviews:6 user reviews- Need more user rev...   \n",
       "4     All Reviews:4 user reviews- Need more user rev...   \n",
       "...                                                 ...   \n",
       "9995  All Reviews:2 user reviews- Need more user rev...   \n",
       "9996                        All Reviews:No user reviews   \n",
       "9997  All Reviews:Positive(10)- 100% of the 10 user ...   \n",
       "9998  Recent Reviews:Very Positive(142)- 90% of the ...   \n",
       "9999  All Reviews:Positive(18)- 88% of the 18 user r...   \n",
       "\n",
       "                                                   tags  \n",
       "0     Runner, Automation, Building, Adventure, Funny...  \n",
       "1     1990's, Fighting, Difficult, Puzzle, Arcade, A...  \n",
       "2     Casual, Sokoban, Robots, Puzzle, 2D, Choices M...  \n",
       "3     Puzzle, Puzzle Platformer, Casual, Logic, 3D, ...  \n",
       "4     Indie, Adventure, RPG, Simulation, Gore, Viole...  \n",
       "...                                                 ...  \n",
       "9995  Action, Early Access, Fantasy, Twin Stick Shoo...  \n",
       "9996        Casual, Simulation, Action, Puzzle, Physics  \n",
       "9997  Side Scroller, Action Roguelike, Bullet Hell, ...  \n",
       "9998  Casual, Indie, Puzzle, Story Rich, Female Prot...  \n",
       "9999  Action, Indie, Gore, Violent, Local Multiplaye...  \n",
       "\n",
       "[10000 rows x 3 columns]"
      ]
     },
     "execution_count": 5,
     "metadata": {},
     "output_type": "execute_result"
    }
   ],
   "source": [
    "data_df = pd.DataFrame(data, columns=['description','reviews','tags'])\n",
    "data_df"
   ]
  },
  {
   "cell_type": "code",
   "execution_count": 6,
   "id": "93395c6e",
   "metadata": {
    "execution": {
     "iopub.execute_input": "2023-01-20T05:37:36.986606Z",
     "iopub.status.busy": "2023-01-20T05:37:36.986097Z",
     "iopub.status.idle": "2023-01-20T05:37:37.323520Z",
     "shell.execute_reply": "2023-01-20T05:37:37.322321Z"
    },
    "papermill": {
     "duration": 1.048311,
     "end_time": "2023-01-20T05:37:37.326612",
     "exception": false,
     "start_time": "2023-01-20T05:37:36.278301",
     "status": "completed"
    },
    "tags": []
   },
   "outputs": [],
   "source": [
    "data_df.to_csv('twenty_k_games.csv', index=False)"
   ]
  }
 ],
 "metadata": {
  "kernelspec": {
   "display_name": "Python 3 (ipykernel)",
   "language": "python",
   "name": "python3"
  },
  "language_info": {
   "codemirror_mode": {
    "name": "ipython",
    "version": 3
   },
   "file_extension": ".py",
   "mimetype": "text/x-python",
   "name": "python",
   "nbconvert_exporter": "python",
   "pygments_lexer": "ipython3",
   "version": "3.8.15"
  },
  "papermill": {
   "default_parameters": {},
   "duration": 10952.075478,
   "end_time": "2023-01-20T05:37:38.791101",
   "environment_variables": {},
   "exception": null,
   "input_path": "__notebook__.ipynb",
   "output_path": "__notebook__.ipynb",
   "parameters": {},
   "start_time": "2023-01-20T02:35:06.715623",
   "version": "2.3.4"
  }
 },
 "nbformat": 4,
 "nbformat_minor": 5
}
