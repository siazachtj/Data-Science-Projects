{
 "cells": [
  {
   "cell_type": "markdown",
   "id": "07dec13b",
   "metadata": {
    "papermill": {
     "duration": 0.027477,
     "end_time": "2023-01-30T12:41:50.091137",
     "exception": false,
     "start_time": "2023-01-30T12:41:50.063660",
     "status": "completed"
    },
    "tags": []
   },
   "source": [
    "### Problem Statement Overview\n",
    "\n",
    "Using games data gathered from Steam Valve, predict the success of a game based on its description and reviews by applying **minimum Naive Bayes and Random Forest** algorithms. Success will be determined by the average review score and the number of positive reviews. This is a binary classification problem. "
   ]
  },
  {
   "cell_type": "code",
   "execution_count": 1,
   "id": "f813958b",
   "metadata": {
    "execution": {
     "iopub.execute_input": "2023-01-30T12:41:50.146000Z",
     "iopub.status.busy": "2023-01-30T12:41:50.145158Z",
     "iopub.status.idle": "2023-01-30T12:41:51.791895Z",
     "shell.execute_reply": "2023-01-30T12:41:51.790743Z"
    },
    "papermill": {
     "duration": 1.679811,
     "end_time": "2023-01-30T12:41:51.796642",
     "exception": false,
     "start_time": "2023-01-30T12:41:50.116831",
     "status": "completed"
    },
    "tags": []
   },
   "outputs": [],
   "source": [
    "### importing libraries\n",
    "\n",
    "import pandas as pd\n",
    "import numpy as np\n",
    "import re\n",
    "import matplotlib.pyplot as plt\n",
    "import seaborn as sns\n",
    "import datetime\n",
    "import tqdm\n",
    "from sklearn.pipeline import Pipeline\n",
    "from sklearn.naive_bayes import MultinomialNB \n",
    "from sklearn.metrics import confusion_matrix, ConfusionMatrixDisplay, plot_confusion_matrix \n",
    "from sklearn.linear_model import LogisticRegression\n",
    "from sklearn.ensemble import RandomForestClassifier, ExtraTreesClassifier\n",
    "\n",
    "from nltk.corpus import stopwords\n",
    "from sklearn.feature_extraction.text import CountVectorizer, TfidfVectorizer\n",
    "from sklearn.model_selection import train_test_split, cross_val_score, GridSearchCV"
   ]
  },
  {
   "cell_type": "code",
   "execution_count": 2,
   "id": "a158bf9d",
   "metadata": {
    "execution": {
     "iopub.execute_input": "2023-01-30T12:41:51.909589Z",
     "iopub.status.busy": "2023-01-30T12:41:51.909026Z",
     "iopub.status.idle": "2023-01-30T12:41:53.964364Z",
     "shell.execute_reply": "2023-01-30T12:41:53.963386Z"
    },
    "papermill": {
     "duration": 2.101074,
     "end_time": "2023-01-30T12:41:53.966728",
     "exception": false,
     "start_time": "2023-01-30T12:41:51.865654",
     "status": "completed"
    },
    "tags": []
   },
   "outputs": [
    {
     "data": {
      "text/plain": [
       "0        All Reviews:Mostly Positive(771)- 74% of the 7...\n",
       "1        All Reviews:1 user reviews- Need more user rev...\n",
       "2        All Reviews:Mixed(214)- 68% of the 214 user re...\n",
       "3        All Reviews:1 user reviews- Need more user rev...\n",
       "4        All Reviews:2 user reviews- Need more user rev...\n",
       "                               ...                        \n",
       "49995    All Reviews:Very Positive(480)- 93% of the 480...\n",
       "49996    All Reviews:Mostly Negative(29)- 27% of the 29...\n",
       "49997    All Reviews:2 user reviews- Need more user rev...\n",
       "49998    All Reviews:Mixed(11)- 63% of the 11 user revi...\n",
       "49999    All Reviews:2 user reviews- Need more user rev...\n",
       "Name: reviews, Length: 50000, dtype: object"
      ]
     },
     "execution_count": 2,
     "metadata": {},
     "output_type": "execute_result"
    }
   ],
   "source": [
    "### load dataset\n",
    "\n",
    "master_df = pd.read_csv('/kaggle/input/master-df3/master_df3.csv')\n",
    "master_df['reviews']"
   ]
  },
  {
   "cell_type": "code",
   "execution_count": 3,
   "id": "0218a103",
   "metadata": {
    "execution": {
     "iopub.execute_input": "2023-01-30T12:41:54.020463Z",
     "iopub.status.busy": "2023-01-30T12:41:54.019892Z",
     "iopub.status.idle": "2023-01-30T12:41:54.054133Z",
     "shell.execute_reply": "2023-01-30T12:41:54.052991Z"
    },
    "papermill": {
     "duration": 0.062815,
     "end_time": "2023-01-30T12:41:54.056213",
     "exception": false,
     "start_time": "2023-01-30T12:41:53.993398",
     "status": "completed"
    },
    "tags": []
   },
   "outputs": [
    {
     "name": "stdout",
     "output_type": "stream",
     "text": [
      "<class 'pandas.core.frame.DataFrame'>\n",
      "RangeIndex: 50000 entries, 0 to 49999\n",
      "Data columns (total 7 columns):\n",
      " #   Column       Non-Null Count  Dtype \n",
      "---  ------       --------------  ----- \n",
      " 0   title        49999 non-null  object\n",
      " 1   link         50000 non-null  object\n",
      " 2   r_date       49999 non-null  object\n",
      " 3   price        49734 non-null  object\n",
      " 4   description  49929 non-null  object\n",
      " 5   reviews      49934 non-null  object\n",
      " 6   tagged       49978 non-null  object\n",
      "dtypes: object(7)\n",
      "memory usage: 2.7+ MB\n"
     ]
    }
   ],
   "source": [
    "master_df.info()"
   ]
  },
  {
   "cell_type": "code",
   "execution_count": 4,
   "id": "c7a2f28c",
   "metadata": {
    "execution": {
     "iopub.execute_input": "2023-01-30T12:41:54.109729Z",
     "iopub.status.busy": "2023-01-30T12:41:54.109410Z",
     "iopub.status.idle": "2023-01-30T12:41:54.114411Z",
     "shell.execute_reply": "2023-01-30T12:41:54.113361Z"
    },
    "papermill": {
     "duration": 0.034275,
     "end_time": "2023-01-30T12:41:54.116738",
     "exception": false,
     "start_time": "2023-01-30T12:41:54.082463",
     "status": "completed"
    },
    "tags": []
   },
   "outputs": [],
   "source": [
    "### adjusting column header space\n",
    "\n",
    "_ls = master_df.columns\n",
    "new_col = []\n",
    "for i in _ls:\n",
    "    new_col.append(i.strip())\n",
    "\n",
    "master_df.columns = new_col"
   ]
  },
  {
   "cell_type": "code",
   "execution_count": 5,
   "id": "890f0532",
   "metadata": {
    "execution": {
     "iopub.execute_input": "2023-01-30T12:41:54.169496Z",
     "iopub.status.busy": "2023-01-30T12:41:54.169210Z",
     "iopub.status.idle": "2023-01-30T12:41:54.196171Z",
     "shell.execute_reply": "2023-01-30T12:41:54.194521Z"
    },
    "papermill": {
     "duration": 0.056502,
     "end_time": "2023-01-30T12:41:54.198915",
     "exception": false,
     "start_time": "2023-01-30T12:41:54.142413",
     "status": "completed"
    },
    "tags": []
   },
   "outputs": [
    {
     "name": "stdout",
     "output_type": "stream",
     "text": [
      "<class 'pandas.core.frame.DataFrame'>\n",
      "RangeIndex: 50000 entries, 0 to 49999\n",
      "Data columns (total 7 columns):\n",
      " #   Column       Non-Null Count  Dtype \n",
      "---  ------       --------------  ----- \n",
      " 0   title        49999 non-null  object\n",
      " 1   link         50000 non-null  object\n",
      " 2   r_date       49999 non-null  object\n",
      " 3   price        49734 non-null  object\n",
      " 4   description  49929 non-null  object\n",
      " 5   reviews      49934 non-null  object\n",
      " 6   tagged       49978 non-null  object\n",
      "dtypes: object(7)\n",
      "memory usage: 2.7+ MB\n"
     ]
    }
   ],
   "source": [
    "master_df.info()"
   ]
  },
  {
   "cell_type": "markdown",
   "id": "0029179b",
   "metadata": {
    "papermill": {
     "duration": 0.027159,
     "end_time": "2023-01-30T12:41:54.253291",
     "exception": false,
     "start_time": "2023-01-30T12:41:54.226132",
     "status": "completed"
    },
    "tags": []
   },
   "source": [
    "There are some missing values in our dataset in the columns for price, description, reviews and tagged. "
   ]
  },
  {
   "cell_type": "code",
   "execution_count": 6,
   "id": "c95001ef",
   "metadata": {
    "execution": {
     "iopub.execute_input": "2023-01-30T12:41:54.306685Z",
     "iopub.status.busy": "2023-01-30T12:41:54.305740Z",
     "iopub.status.idle": "2023-01-30T12:41:54.331856Z",
     "shell.execute_reply": "2023-01-30T12:41:54.330801Z"
    },
    "papermill": {
     "duration": 0.054972,
     "end_time": "2023-01-30T12:41:54.333983",
     "exception": false,
     "start_time": "2023-01-30T12:41:54.279011",
     "status": "completed"
    },
    "tags": []
   },
   "outputs": [
    {
     "data": {
      "text/plain": [
       "title            1\n",
       "link             0\n",
       "r_date           1\n",
       "price          266\n",
       "description     71\n",
       "reviews         66\n",
       "tagged          22\n",
       "dtype: int64"
      ]
     },
     "execution_count": 6,
     "metadata": {},
     "output_type": "execute_result"
    }
   ],
   "source": [
    "missing_vals = master_df.isnull().sum()\n",
    "missing_vals"
   ]
  },
  {
   "cell_type": "markdown",
   "id": "d45dfed0",
   "metadata": {
    "papermill": {
     "duration": 0.025842,
     "end_time": "2023-01-30T12:41:54.386130",
     "exception": false,
     "start_time": "2023-01-30T12:41:54.360288",
     "status": "completed"
    },
    "tags": []
   },
   "source": [
    "The number of missing values in each columns is negligible as our dataset has 50k entries, so it should be fine to drop those entries.  "
   ]
  },
  {
   "cell_type": "code",
   "execution_count": 7,
   "id": "e0390967",
   "metadata": {
    "execution": {
     "iopub.execute_input": "2023-01-30T12:41:54.441372Z",
     "iopub.status.busy": "2023-01-30T12:41:54.440451Z",
     "iopub.status.idle": "2023-01-30T12:41:54.542488Z",
     "shell.execute_reply": "2023-01-30T12:41:54.541521Z"
    },
    "papermill": {
     "duration": 0.132306,
     "end_time": "2023-01-30T12:41:54.544704",
     "exception": false,
     "start_time": "2023-01-30T12:41:54.412398",
     "status": "completed"
    },
    "tags": []
   },
   "outputs": [],
   "source": [
    "def extract_int(string):\n",
    "    match = re.search(r'(app|sub)/(\\d+)', string)\n",
    "    if match:\n",
    "        return int(match.group(2))\n",
    "    else:\n",
    "        return None\n",
    "\n",
    "master_df['game_id'] = master_df['link'].apply(extract_int)"
   ]
  },
  {
   "cell_type": "code",
   "execution_count": 8,
   "id": "54fdeed3",
   "metadata": {
    "execution": {
     "iopub.execute_input": "2023-01-30T12:41:54.599361Z",
     "iopub.status.busy": "2023-01-30T12:41:54.597890Z",
     "iopub.status.idle": "2023-01-30T12:41:54.656115Z",
     "shell.execute_reply": "2023-01-30T12:41:54.653999Z"
    },
    "papermill": {
     "duration": 0.08811,
     "end_time": "2023-01-30T12:41:54.659304",
     "exception": false,
     "start_time": "2023-01-30T12:41:54.571194",
     "status": "completed"
    },
    "tags": []
   },
   "outputs": [
    {
     "name": "stderr",
     "output_type": "stream",
     "text": [
      "/opt/conda/lib/python3.7/site-packages/pandas/core/frame.py:4913: SettingWithCopyWarning: \n",
      "A value is trying to be set on a copy of a slice from a DataFrame\n",
      "\n",
      "See the caveats in the documentation: https://pandas.pydata.org/pandas-docs/stable/user_guide/indexing.html#returning-a-view-versus-a-copy\n",
      "  errors=errors,\n"
     ]
    },
    {
     "data": {
      "text/html": [
       "<div>\n",
       "<style scoped>\n",
       "    .dataframe tbody tr th:only-of-type {\n",
       "        vertical-align: middle;\n",
       "    }\n",
       "\n",
       "    .dataframe tbody tr th {\n",
       "        vertical-align: top;\n",
       "    }\n",
       "\n",
       "    .dataframe thead th {\n",
       "        text-align: right;\n",
       "    }\n",
       "</style>\n",
       "<table border=\"1\" class=\"dataframe\">\n",
       "  <thead>\n",
       "    <tr style=\"text-align: right;\">\n",
       "      <th></th>\n",
       "      <th>title</th>\n",
       "      <th>r_date</th>\n",
       "      <th>price</th>\n",
       "      <th>description</th>\n",
       "      <th>reviews</th>\n",
       "      <th>tagged</th>\n",
       "      <th>game_id</th>\n",
       "    </tr>\n",
       "  </thead>\n",
       "  <tbody>\n",
       "    <tr>\n",
       "      <th>0</th>\n",
       "      <td>Persona 3 Portable</td>\n",
       "      <td>18 Jan, 2023</td>\n",
       "      <td>CDN$ 27.99</td>\n",
       "      <td>About This GameExperience the iconic, critical...</td>\n",
       "      <td>All Reviews:Mostly Positive(771)- 74% of the 7...</td>\n",
       "      <td>RPG, Story Rich, Anime, Turn-Based Combat, JRP...</td>\n",
       "      <td>1809700</td>\n",
       "    </tr>\n",
       "    <tr>\n",
       "      <th>1</th>\n",
       "      <td>Boing</td>\n",
       "      <td>18 Jan, 2023</td>\n",
       "      <td>-20%\\n\\n\\nCDN$ 10.49CDN$ 8.39</td>\n",
       "      <td>About This GameLong ago in the deepest and dar...</td>\n",
       "      <td>All Reviews:1 user reviews- Need more user rev...</td>\n",
       "      <td>Casual, Action, Arcade, Atmospheric, 2D, Singl...</td>\n",
       "      <td>2180390</td>\n",
       "    </tr>\n",
       "    <tr>\n",
       "      <th>2</th>\n",
       "      <td>Fraymakers</td>\n",
       "      <td>18 Jan, 2023</td>\n",
       "      <td>CDN$ 22.79</td>\n",
       "      <td>About This GameWhat is Fraymakers?Fraymakers i...</td>\n",
       "      <td>All Reviews:Mixed(214)- 68% of the 214 user re...</td>\n",
       "      <td>Indie, Fighting, 2D Fighter, Multiplayer, Acti...</td>\n",
       "      <td>1420350</td>\n",
       "    </tr>\n",
       "    <tr>\n",
       "      <th>3</th>\n",
       "      <td>【VR】Physical Exam / イタズラ身体測定</td>\n",
       "      <td>18 Jan, 2023</td>\n",
       "      <td>-10%\\n\\n\\nCDN$ 25.99CDN$ 23.39</td>\n",
       "      <td>About This GameThis game is for Meta Quest2 on...</td>\n",
       "      <td>All Reviews:1 user reviews- Need more user rev...</td>\n",
       "      <td>Simulation, VR, Dating Sim, Cute, Immersive Si...</td>\n",
       "      <td>2262110</td>\n",
       "    </tr>\n",
       "    <tr>\n",
       "      <th>4</th>\n",
       "      <td>FPS Seduce - Hentai</td>\n",
       "      <td>18 Jan, 2023</td>\n",
       "      <td>-10%\\n\\n\\nCDN$ 5.69CDN$ 5.12</td>\n",
       "      <td>About This GameMake love to many beautiful ani...</td>\n",
       "      <td>All Reviews:2 user reviews- Need more user rev...</td>\n",
       "      <td>Nudity, Sexual Content, Hentai, Romance, Anime...</td>\n",
       "      <td>1853780</td>\n",
       "    </tr>\n",
       "    <tr>\n",
       "      <th>...</th>\n",
       "      <td>...</td>\n",
       "      <td>...</td>\n",
       "      <td>...</td>\n",
       "      <td>...</td>\n",
       "      <td>...</td>\n",
       "      <td>...</td>\n",
       "      <td>...</td>\n",
       "    </tr>\n",
       "    <tr>\n",
       "      <th>49995</th>\n",
       "      <td>Stay! Stay! Democratic People's Republic of Ko...</td>\n",
       "      <td>12 May, 2017</td>\n",
       "      <td>CDN$ 10.99</td>\n",
       "      <td>About This GameSTORY The year is 2021, America...</td>\n",
       "      <td>All Reviews:Very Positive(480)- 93% of the 480...</td>\n",
       "      <td>Memes, Anime, Visual Novel, Nudity, Sexual Con...</td>\n",
       "      <td>512060</td>\n",
       "    </tr>\n",
       "    <tr>\n",
       "      <th>49996</th>\n",
       "      <td>Seed Of The Arcane , Episode 1</td>\n",
       "      <td>12 May, 2017</td>\n",
       "      <td>CDN$ 16.99</td>\n",
       "      <td>About This Game****This game is on Alpha test ...</td>\n",
       "      <td>All Reviews:Mostly Negative(29)- 27% of the 29...</td>\n",
       "      <td>RPG, Nudity, Adventure, Indie, Early Access, G...</td>\n",
       "      <td>601020</td>\n",
       "    </tr>\n",
       "    <tr>\n",
       "      <th>49997</th>\n",
       "      <td>Dark Mechanism - Virtual reality</td>\n",
       "      <td>12 May, 2017</td>\n",
       "      <td>CDN$ 2.19</td>\n",
       "      <td>About This GameIn this VR exclusive game, trav...</td>\n",
       "      <td>All Reviews:2 user reviews- Need more user rev...</td>\n",
       "      <td>Casual, VR</td>\n",
       "      <td>600580</td>\n",
       "    </tr>\n",
       "    <tr>\n",
       "      <th>49998</th>\n",
       "      <td>Solitaire Club</td>\n",
       "      <td>11 May, 2017</td>\n",
       "      <td>CDN$ 5.69</td>\n",
       "      <td>About This GameExperience real casino flair on...</td>\n",
       "      <td>All Reviews:Mixed(11)- 63% of the 11 user revi...</td>\n",
       "      <td>Casual, Solitaire, Card Game, Puzzle, Strategy...</td>\n",
       "      <td>630470</td>\n",
       "    </tr>\n",
       "    <tr>\n",
       "      <th>49999</th>\n",
       "      <td>Don't Touch The Zombies</td>\n",
       "      <td>11 May, 2017</td>\n",
       "      <td>CDN$ 10.99</td>\n",
       "      <td>About This GameEnjoy a different and twisted w...</td>\n",
       "      <td>All Reviews:2 user reviews- Need more user rev...</td>\n",
       "      <td>Action, Indie, Casual, Zombies</td>\n",
       "      <td>563370</td>\n",
       "    </tr>\n",
       "  </tbody>\n",
       "</table>\n",
       "<p>49656 rows × 7 columns</p>\n",
       "</div>"
      ],
      "text/plain": [
       "                                                   title        r_date  \\\n",
       "0                                     Persona 3 Portable  18 Jan, 2023   \n",
       "1                                                  Boing  18 Jan, 2023   \n",
       "2                                             Fraymakers  18 Jan, 2023   \n",
       "3                           【VR】Physical Exam / イタズラ身体測定  18 Jan, 2023   \n",
       "4                                    FPS Seduce - Hentai  18 Jan, 2023   \n",
       "...                                                  ...           ...   \n",
       "49995  Stay! Stay! Democratic People's Republic of Ko...  12 May, 2017   \n",
       "49996                     Seed Of The Arcane , Episode 1  12 May, 2017   \n",
       "49997                   Dark Mechanism - Virtual reality  12 May, 2017   \n",
       "49998                                     Solitaire Club  11 May, 2017   \n",
       "49999                            Don't Touch The Zombies  11 May, 2017   \n",
       "\n",
       "                                price  \\\n",
       "0                          CDN$ 27.99   \n",
       "1       -20%\\n\\n\\nCDN$ 10.49CDN$ 8.39   \n",
       "2                          CDN$ 22.79   \n",
       "3      -10%\\n\\n\\nCDN$ 25.99CDN$ 23.39   \n",
       "4        -10%\\n\\n\\nCDN$ 5.69CDN$ 5.12   \n",
       "...                               ...   \n",
       "49995                      CDN$ 10.99   \n",
       "49996                      CDN$ 16.99   \n",
       "49997                       CDN$ 2.19   \n",
       "49998                       CDN$ 5.69   \n",
       "49999                      CDN$ 10.99   \n",
       "\n",
       "                                             description  \\\n",
       "0      About This GameExperience the iconic, critical...   \n",
       "1      About This GameLong ago in the deepest and dar...   \n",
       "2      About This GameWhat is Fraymakers?Fraymakers i...   \n",
       "3      About This GameThis game is for Meta Quest2 on...   \n",
       "4      About This GameMake love to many beautiful ani...   \n",
       "...                                                  ...   \n",
       "49995  About This GameSTORY The year is 2021, America...   \n",
       "49996  About This Game****This game is on Alpha test ...   \n",
       "49997  About This GameIn this VR exclusive game, trav...   \n",
       "49998  About This GameExperience real casino flair on...   \n",
       "49999  About This GameEnjoy a different and twisted w...   \n",
       "\n",
       "                                                 reviews  \\\n",
       "0      All Reviews:Mostly Positive(771)- 74% of the 7...   \n",
       "1      All Reviews:1 user reviews- Need more user rev...   \n",
       "2      All Reviews:Mixed(214)- 68% of the 214 user re...   \n",
       "3      All Reviews:1 user reviews- Need more user rev...   \n",
       "4      All Reviews:2 user reviews- Need more user rev...   \n",
       "...                                                  ...   \n",
       "49995  All Reviews:Very Positive(480)- 93% of the 480...   \n",
       "49996  All Reviews:Mostly Negative(29)- 27% of the 29...   \n",
       "49997  All Reviews:2 user reviews- Need more user rev...   \n",
       "49998  All Reviews:Mixed(11)- 63% of the 11 user revi...   \n",
       "49999  All Reviews:2 user reviews- Need more user rev...   \n",
       "\n",
       "                                                  tagged  game_id  \n",
       "0      RPG, Story Rich, Anime, Turn-Based Combat, JRP...  1809700  \n",
       "1      Casual, Action, Arcade, Atmospheric, 2D, Singl...  2180390  \n",
       "2      Indie, Fighting, 2D Fighter, Multiplayer, Acti...  1420350  \n",
       "3      Simulation, VR, Dating Sim, Cute, Immersive Si...  2262110  \n",
       "4      Nudity, Sexual Content, Hentai, Romance, Anime...  1853780  \n",
       "...                                                  ...      ...  \n",
       "49995  Memes, Anime, Visual Novel, Nudity, Sexual Con...   512060  \n",
       "49996  RPG, Nudity, Adventure, Indie, Early Access, G...   601020  \n",
       "49997                                         Casual, VR   600580  \n",
       "49998  Casual, Solitaire, Card Game, Puzzle, Strategy...   630470  \n",
       "49999                     Action, Indie, Casual, Zombies   563370  \n",
       "\n",
       "[49656 rows x 7 columns]"
      ]
     },
     "execution_count": 8,
     "metadata": {},
     "output_type": "execute_result"
    }
   ],
   "source": [
    "### creating a subset after dropping rows with missing values\n",
    "### dropping link column as well\n",
    "\n",
    "df_1 = master_df.dropna()\n",
    "df_1.drop(columns='link', inplace=True)\n",
    "df_1"
   ]
  },
  {
   "cell_type": "code",
   "execution_count": 9,
   "id": "f7c23ef1",
   "metadata": {
    "execution": {
     "iopub.execute_input": "2023-01-30T12:41:54.714959Z",
     "iopub.status.busy": "2023-01-30T12:41:54.714667Z",
     "iopub.status.idle": "2023-01-30T12:41:54.978174Z",
     "shell.execute_reply": "2023-01-30T12:41:54.977182Z"
    },
    "papermill": {
     "duration": 0.293214,
     "end_time": "2023-01-30T12:41:54.980600",
     "exception": false,
     "start_time": "2023-01-30T12:41:54.687386",
     "status": "completed"
    },
    "tags": []
   },
   "outputs": [],
   "source": [
    "### converting all characters to lowercase for standardization\n",
    "\n",
    "df_1 = df_1.apply(lambda x: x.str.lower() if x.dtype == 'object' else x)\n"
   ]
  },
  {
   "cell_type": "code",
   "execution_count": 10,
   "id": "d1e70a5f",
   "metadata": {
    "execution": {
     "iopub.execute_input": "2023-01-30T12:41:55.035631Z",
     "iopub.status.busy": "2023-01-30T12:41:55.035302Z",
     "iopub.status.idle": "2023-01-30T12:41:55.050753Z",
     "shell.execute_reply": "2023-01-30T12:41:55.049882Z"
    },
    "papermill": {
     "duration": 0.044933,
     "end_time": "2023-01-30T12:41:55.052711",
     "exception": false,
     "start_time": "2023-01-30T12:41:55.007778",
     "status": "completed"
    },
    "tags": []
   },
   "outputs": [
    {
     "data": {
      "text/html": [
       "<div>\n",
       "<style scoped>\n",
       "    .dataframe tbody tr th:only-of-type {\n",
       "        vertical-align: middle;\n",
       "    }\n",
       "\n",
       "    .dataframe tbody tr th {\n",
       "        vertical-align: top;\n",
       "    }\n",
       "\n",
       "    .dataframe thead th {\n",
       "        text-align: right;\n",
       "    }\n",
       "</style>\n",
       "<table border=\"1\" class=\"dataframe\">\n",
       "  <thead>\n",
       "    <tr style=\"text-align: right;\">\n",
       "      <th></th>\n",
       "      <th>title</th>\n",
       "      <th>r_date</th>\n",
       "      <th>price</th>\n",
       "      <th>description</th>\n",
       "      <th>reviews</th>\n",
       "      <th>tagged</th>\n",
       "      <th>game_id</th>\n",
       "    </tr>\n",
       "  </thead>\n",
       "  <tbody>\n",
       "    <tr>\n",
       "      <th>0</th>\n",
       "      <td>persona 3 portable</td>\n",
       "      <td>18 jan, 2023</td>\n",
       "      <td>cdn$ 27.99</td>\n",
       "      <td>about this gameexperience the iconic, critical...</td>\n",
       "      <td>all reviews:mostly positive(771)- 74% of the 7...</td>\n",
       "      <td>rpg, story rich, anime, turn-based combat, jrp...</td>\n",
       "      <td>1809700</td>\n",
       "    </tr>\n",
       "    <tr>\n",
       "      <th>1</th>\n",
       "      <td>boing</td>\n",
       "      <td>18 jan, 2023</td>\n",
       "      <td>-20%\\n\\n\\ncdn$ 10.49cdn$ 8.39</td>\n",
       "      <td>about this gamelong ago in the deepest and dar...</td>\n",
       "      <td>all reviews:1 user reviews- need more user rev...</td>\n",
       "      <td>casual, action, arcade, atmospheric, 2d, singl...</td>\n",
       "      <td>2180390</td>\n",
       "    </tr>\n",
       "    <tr>\n",
       "      <th>2</th>\n",
       "      <td>fraymakers</td>\n",
       "      <td>18 jan, 2023</td>\n",
       "      <td>cdn$ 22.79</td>\n",
       "      <td>about this gamewhat is fraymakers?fraymakers i...</td>\n",
       "      <td>all reviews:mixed(214)- 68% of the 214 user re...</td>\n",
       "      <td>indie, fighting, 2d fighter, multiplayer, acti...</td>\n",
       "      <td>1420350</td>\n",
       "    </tr>\n",
       "    <tr>\n",
       "      <th>3</th>\n",
       "      <td>【vr】physical exam / イタズラ身体測定</td>\n",
       "      <td>18 jan, 2023</td>\n",
       "      <td>-10%\\n\\n\\ncdn$ 25.99cdn$ 23.39</td>\n",
       "      <td>about this gamethis game is for meta quest2 on...</td>\n",
       "      <td>all reviews:1 user reviews- need more user rev...</td>\n",
       "      <td>simulation, vr, dating sim, cute, immersive si...</td>\n",
       "      <td>2262110</td>\n",
       "    </tr>\n",
       "    <tr>\n",
       "      <th>4</th>\n",
       "      <td>fps seduce - hentai</td>\n",
       "      <td>18 jan, 2023</td>\n",
       "      <td>-10%\\n\\n\\ncdn$ 5.69cdn$ 5.12</td>\n",
       "      <td>about this gamemake love to many beautiful ani...</td>\n",
       "      <td>all reviews:2 user reviews- need more user rev...</td>\n",
       "      <td>nudity, sexual content, hentai, romance, anime...</td>\n",
       "      <td>1853780</td>\n",
       "    </tr>\n",
       "    <tr>\n",
       "      <th>...</th>\n",
       "      <td>...</td>\n",
       "      <td>...</td>\n",
       "      <td>...</td>\n",
       "      <td>...</td>\n",
       "      <td>...</td>\n",
       "      <td>...</td>\n",
       "      <td>...</td>\n",
       "    </tr>\n",
       "    <tr>\n",
       "      <th>49995</th>\n",
       "      <td>stay! stay! democratic people's republic of ko...</td>\n",
       "      <td>12 may, 2017</td>\n",
       "      <td>cdn$ 10.99</td>\n",
       "      <td>about this gamestory the year is 2021, america...</td>\n",
       "      <td>all reviews:very positive(480)- 93% of the 480...</td>\n",
       "      <td>memes, anime, visual novel, nudity, sexual con...</td>\n",
       "      <td>512060</td>\n",
       "    </tr>\n",
       "    <tr>\n",
       "      <th>49996</th>\n",
       "      <td>seed of the arcane , episode 1</td>\n",
       "      <td>12 may, 2017</td>\n",
       "      <td>cdn$ 16.99</td>\n",
       "      <td>about this game****this game is on alpha test ...</td>\n",
       "      <td>all reviews:mostly negative(29)- 27% of the 29...</td>\n",
       "      <td>rpg, nudity, adventure, indie, early access, g...</td>\n",
       "      <td>601020</td>\n",
       "    </tr>\n",
       "    <tr>\n",
       "      <th>49997</th>\n",
       "      <td>dark mechanism - virtual reality</td>\n",
       "      <td>12 may, 2017</td>\n",
       "      <td>cdn$ 2.19</td>\n",
       "      <td>about this gamein this vr exclusive game, trav...</td>\n",
       "      <td>all reviews:2 user reviews- need more user rev...</td>\n",
       "      <td>casual, vr</td>\n",
       "      <td>600580</td>\n",
       "    </tr>\n",
       "    <tr>\n",
       "      <th>49998</th>\n",
       "      <td>solitaire club</td>\n",
       "      <td>11 may, 2017</td>\n",
       "      <td>cdn$ 5.69</td>\n",
       "      <td>about this gameexperience real casino flair on...</td>\n",
       "      <td>all reviews:mixed(11)- 63% of the 11 user revi...</td>\n",
       "      <td>casual, solitaire, card game, puzzle, strategy...</td>\n",
       "      <td>630470</td>\n",
       "    </tr>\n",
       "    <tr>\n",
       "      <th>49999</th>\n",
       "      <td>don't touch the zombies</td>\n",
       "      <td>11 may, 2017</td>\n",
       "      <td>cdn$ 10.99</td>\n",
       "      <td>about this gameenjoy a different and twisted w...</td>\n",
       "      <td>all reviews:2 user reviews- need more user rev...</td>\n",
       "      <td>action, indie, casual, zombies</td>\n",
       "      <td>563370</td>\n",
       "    </tr>\n",
       "  </tbody>\n",
       "</table>\n",
       "<p>49656 rows × 7 columns</p>\n",
       "</div>"
      ],
      "text/plain": [
       "                                                   title        r_date  \\\n",
       "0                                     persona 3 portable  18 jan, 2023   \n",
       "1                                                  boing  18 jan, 2023   \n",
       "2                                             fraymakers  18 jan, 2023   \n",
       "3                           【vr】physical exam / イタズラ身体測定  18 jan, 2023   \n",
       "4                                    fps seduce - hentai  18 jan, 2023   \n",
       "...                                                  ...           ...   \n",
       "49995  stay! stay! democratic people's republic of ko...  12 may, 2017   \n",
       "49996                     seed of the arcane , episode 1  12 may, 2017   \n",
       "49997                   dark mechanism - virtual reality  12 may, 2017   \n",
       "49998                                     solitaire club  11 may, 2017   \n",
       "49999                            don't touch the zombies  11 may, 2017   \n",
       "\n",
       "                                price  \\\n",
       "0                          cdn$ 27.99   \n",
       "1       -20%\\n\\n\\ncdn$ 10.49cdn$ 8.39   \n",
       "2                          cdn$ 22.79   \n",
       "3      -10%\\n\\n\\ncdn$ 25.99cdn$ 23.39   \n",
       "4        -10%\\n\\n\\ncdn$ 5.69cdn$ 5.12   \n",
       "...                               ...   \n",
       "49995                      cdn$ 10.99   \n",
       "49996                      cdn$ 16.99   \n",
       "49997                       cdn$ 2.19   \n",
       "49998                       cdn$ 5.69   \n",
       "49999                      cdn$ 10.99   \n",
       "\n",
       "                                             description  \\\n",
       "0      about this gameexperience the iconic, critical...   \n",
       "1      about this gamelong ago in the deepest and dar...   \n",
       "2      about this gamewhat is fraymakers?fraymakers i...   \n",
       "3      about this gamethis game is for meta quest2 on...   \n",
       "4      about this gamemake love to many beautiful ani...   \n",
       "...                                                  ...   \n",
       "49995  about this gamestory the year is 2021, america...   \n",
       "49996  about this game****this game is on alpha test ...   \n",
       "49997  about this gamein this vr exclusive game, trav...   \n",
       "49998  about this gameexperience real casino flair on...   \n",
       "49999  about this gameenjoy a different and twisted w...   \n",
       "\n",
       "                                                 reviews  \\\n",
       "0      all reviews:mostly positive(771)- 74% of the 7...   \n",
       "1      all reviews:1 user reviews- need more user rev...   \n",
       "2      all reviews:mixed(214)- 68% of the 214 user re...   \n",
       "3      all reviews:1 user reviews- need more user rev...   \n",
       "4      all reviews:2 user reviews- need more user rev...   \n",
       "...                                                  ...   \n",
       "49995  all reviews:very positive(480)- 93% of the 480...   \n",
       "49996  all reviews:mostly negative(29)- 27% of the 29...   \n",
       "49997  all reviews:2 user reviews- need more user rev...   \n",
       "49998  all reviews:mixed(11)- 63% of the 11 user revi...   \n",
       "49999  all reviews:2 user reviews- need more user rev...   \n",
       "\n",
       "                                                  tagged  game_id  \n",
       "0      rpg, story rich, anime, turn-based combat, jrp...  1809700  \n",
       "1      casual, action, arcade, atmospheric, 2d, singl...  2180390  \n",
       "2      indie, fighting, 2d fighter, multiplayer, acti...  1420350  \n",
       "3      simulation, vr, dating sim, cute, immersive si...  2262110  \n",
       "4      nudity, sexual content, hentai, romance, anime...  1853780  \n",
       "...                                                  ...      ...  \n",
       "49995  memes, anime, visual novel, nudity, sexual con...   512060  \n",
       "49996  rpg, nudity, adventure, indie, early access, g...   601020  \n",
       "49997                                         casual, vr   600580  \n",
       "49998  casual, solitaire, card game, puzzle, strategy...   630470  \n",
       "49999                     action, indie, casual, zombies   563370  \n",
       "\n",
       "[49656 rows x 7 columns]"
      ]
     },
     "execution_count": 10,
     "metadata": {},
     "output_type": "execute_result"
    }
   ],
   "source": [
    "df_1"
   ]
  },
  {
   "cell_type": "code",
   "execution_count": 11,
   "id": "c8a6a244",
   "metadata": {
    "execution": {
     "iopub.execute_input": "2023-01-30T12:41:55.109787Z",
     "iopub.status.busy": "2023-01-30T12:41:55.108163Z",
     "iopub.status.idle": "2023-01-30T12:41:55.327911Z",
     "shell.execute_reply": "2023-01-30T12:41:55.326849Z"
    },
    "papermill": {
     "duration": 0.250646,
     "end_time": "2023-01-30T12:41:55.330280",
     "exception": false,
     "start_time": "2023-01-30T12:41:55.079634",
     "status": "completed"
    },
    "tags": []
   },
   "outputs": [
    {
     "data": {
      "text/html": [
       "<div>\n",
       "<style scoped>\n",
       "    .dataframe tbody tr th:only-of-type {\n",
       "        vertical-align: middle;\n",
       "    }\n",
       "\n",
       "    .dataframe tbody tr th {\n",
       "        vertical-align: top;\n",
       "    }\n",
       "\n",
       "    .dataframe thead th {\n",
       "        text-align: right;\n",
       "    }\n",
       "</style>\n",
       "<table border=\"1\" class=\"dataframe\">\n",
       "  <thead>\n",
       "    <tr style=\"text-align: right;\">\n",
       "      <th></th>\n",
       "      <th>title</th>\n",
       "      <th>r_date</th>\n",
       "      <th>price</th>\n",
       "      <th>description</th>\n",
       "      <th>reviews</th>\n",
       "      <th>tagged</th>\n",
       "      <th>game_id</th>\n",
       "    </tr>\n",
       "  </thead>\n",
       "  <tbody>\n",
       "    <tr>\n",
       "      <th>0</th>\n",
       "      <td>persona 3 portable</td>\n",
       "      <td>18 jan, 2023</td>\n",
       "      <td>cdn$ 27.99</td>\n",
       "      <td>experience the iconic, critically acclaimed rp...</td>\n",
       "      <td>all reviews:mostly positive(771)- 74% of the 7...</td>\n",
       "      <td>rpg, story rich, anime, turn-based combat, jrp...</td>\n",
       "      <td>1809700</td>\n",
       "    </tr>\n",
       "    <tr>\n",
       "      <th>1</th>\n",
       "      <td>boing</td>\n",
       "      <td>18 jan, 2023</td>\n",
       "      <td>-20%\\n\\n\\ncdn$ 10.49cdn$ 8.39</td>\n",
       "      <td>long ago in the deepest and darkest of space, ...</td>\n",
       "      <td>all reviews:1 user reviews- need more user rev...</td>\n",
       "      <td>casual, action, arcade, atmospheric, 2d, singl...</td>\n",
       "      <td>2180390</td>\n",
       "    </tr>\n",
       "    <tr>\n",
       "      <th>2</th>\n",
       "      <td>fraymakers</td>\n",
       "      <td>18 jan, 2023</td>\n",
       "      <td>cdn$ 22.79</td>\n",
       "      <td>what is fraymakers?fraymakers is the ultimate ...</td>\n",
       "      <td>all reviews:mixed(214)- 68% of the 214 user re...</td>\n",
       "      <td>indie, fighting, 2d fighter, multiplayer, acti...</td>\n",
       "      <td>1420350</td>\n",
       "    </tr>\n",
       "    <tr>\n",
       "      <th>3</th>\n",
       "      <td>【vr】physical exam / イタズラ身体測定</td>\n",
       "      <td>18 jan, 2023</td>\n",
       "      <td>-10%\\n\\n\\ncdn$ 25.99cdn$ 23.39</td>\n",
       "      <td>this game is for meta quest2 only. if it does ...</td>\n",
       "      <td>all reviews:1 user reviews- need more user rev...</td>\n",
       "      <td>simulation, vr, dating sim, cute, immersive si...</td>\n",
       "      <td>2262110</td>\n",
       "    </tr>\n",
       "    <tr>\n",
       "      <th>4</th>\n",
       "      <td>fps seduce - hentai</td>\n",
       "      <td>18 jan, 2023</td>\n",
       "      <td>-10%\\n\\n\\ncdn$ 5.69cdn$ 5.12</td>\n",
       "      <td>make love to many beautiful anime girls in thi...</td>\n",
       "      <td>all reviews:2 user reviews- need more user rev...</td>\n",
       "      <td>nudity, sexual content, hentai, romance, anime...</td>\n",
       "      <td>1853780</td>\n",
       "    </tr>\n",
       "    <tr>\n",
       "      <th>...</th>\n",
       "      <td>...</td>\n",
       "      <td>...</td>\n",
       "      <td>...</td>\n",
       "      <td>...</td>\n",
       "      <td>...</td>\n",
       "      <td>...</td>\n",
       "      <td>...</td>\n",
       "    </tr>\n",
       "    <tr>\n",
       "      <th>49995</th>\n",
       "      <td>stay! stay! democratic people's republic of ko...</td>\n",
       "      <td>12 may, 2017</td>\n",
       "      <td>cdn$ 10.99</td>\n",
       "      <td>story the year is 2021, america is back in afg...</td>\n",
       "      <td>all reviews:very positive(480)- 93% of the 480...</td>\n",
       "      <td>memes, anime, visual novel, nudity, sexual con...</td>\n",
       "      <td>512060</td>\n",
       "    </tr>\n",
       "    <tr>\n",
       "      <th>49996</th>\n",
       "      <td>seed of the arcane , episode 1</td>\n",
       "      <td>12 may, 2017</td>\n",
       "      <td>cdn$ 16.99</td>\n",
       "      <td>****this game is on alpha test - please read t...</td>\n",
       "      <td>all reviews:mostly negative(29)- 27% of the 29...</td>\n",
       "      <td>rpg, nudity, adventure, indie, early access, g...</td>\n",
       "      <td>601020</td>\n",
       "    </tr>\n",
       "    <tr>\n",
       "      <th>49997</th>\n",
       "      <td>dark mechanism - virtual reality</td>\n",
       "      <td>12 may, 2017</td>\n",
       "      <td>cdn$ 2.19</td>\n",
       "      <td>in this vr exclusive game, travel through cloc...</td>\n",
       "      <td>all reviews:2 user reviews- need more user rev...</td>\n",
       "      <td>casual, vr</td>\n",
       "      <td>600580</td>\n",
       "    </tr>\n",
       "    <tr>\n",
       "      <th>49998</th>\n",
       "      <td>solitaire club</td>\n",
       "      <td>11 may, 2017</td>\n",
       "      <td>cdn$ 5.69</td>\n",
       "      <td>experience real casino flair on your pc with s...</td>\n",
       "      <td>all reviews:mixed(11)- 63% of the 11 user revi...</td>\n",
       "      <td>casual, solitaire, card game, puzzle, strategy...</td>\n",
       "      <td>630470</td>\n",
       "    </tr>\n",
       "    <tr>\n",
       "      <th>49999</th>\n",
       "      <td>don't touch the zombies</td>\n",
       "      <td>11 may, 2017</td>\n",
       "      <td>cdn$ 10.99</td>\n",
       "      <td>enjoy a different and twisted way for playing ...</td>\n",
       "      <td>all reviews:2 user reviews- need more user rev...</td>\n",
       "      <td>action, indie, casual, zombies</td>\n",
       "      <td>563370</td>\n",
       "    </tr>\n",
       "  </tbody>\n",
       "</table>\n",
       "<p>49656 rows × 7 columns</p>\n",
       "</div>"
      ],
      "text/plain": [
       "                                                   title        r_date  \\\n",
       "0                                     persona 3 portable  18 jan, 2023   \n",
       "1                                                  boing  18 jan, 2023   \n",
       "2                                             fraymakers  18 jan, 2023   \n",
       "3                           【vr】physical exam / イタズラ身体測定  18 jan, 2023   \n",
       "4                                    fps seduce - hentai  18 jan, 2023   \n",
       "...                                                  ...           ...   \n",
       "49995  stay! stay! democratic people's republic of ko...  12 may, 2017   \n",
       "49996                     seed of the arcane , episode 1  12 may, 2017   \n",
       "49997                   dark mechanism - virtual reality  12 may, 2017   \n",
       "49998                                     solitaire club  11 may, 2017   \n",
       "49999                            don't touch the zombies  11 may, 2017   \n",
       "\n",
       "                                price  \\\n",
       "0                          cdn$ 27.99   \n",
       "1       -20%\\n\\n\\ncdn$ 10.49cdn$ 8.39   \n",
       "2                          cdn$ 22.79   \n",
       "3      -10%\\n\\n\\ncdn$ 25.99cdn$ 23.39   \n",
       "4        -10%\\n\\n\\ncdn$ 5.69cdn$ 5.12   \n",
       "...                               ...   \n",
       "49995                      cdn$ 10.99   \n",
       "49996                      cdn$ 16.99   \n",
       "49997                       cdn$ 2.19   \n",
       "49998                       cdn$ 5.69   \n",
       "49999                      cdn$ 10.99   \n",
       "\n",
       "                                             description  \\\n",
       "0      experience the iconic, critically acclaimed rp...   \n",
       "1      long ago in the deepest and darkest of space, ...   \n",
       "2      what is fraymakers?fraymakers is the ultimate ...   \n",
       "3      this game is for meta quest2 only. if it does ...   \n",
       "4      make love to many beautiful anime girls in thi...   \n",
       "...                                                  ...   \n",
       "49995  story the year is 2021, america is back in afg...   \n",
       "49996  ****this game is on alpha test - please read t...   \n",
       "49997  in this vr exclusive game, travel through cloc...   \n",
       "49998  experience real casino flair on your pc with s...   \n",
       "49999  enjoy a different and twisted way for playing ...   \n",
       "\n",
       "                                                 reviews  \\\n",
       "0      all reviews:mostly positive(771)- 74% of the 7...   \n",
       "1      all reviews:1 user reviews- need more user rev...   \n",
       "2      all reviews:mixed(214)- 68% of the 214 user re...   \n",
       "3      all reviews:1 user reviews- need more user rev...   \n",
       "4      all reviews:2 user reviews- need more user rev...   \n",
       "...                                                  ...   \n",
       "49995  all reviews:very positive(480)- 93% of the 480...   \n",
       "49996  all reviews:mostly negative(29)- 27% of the 29...   \n",
       "49997  all reviews:2 user reviews- need more user rev...   \n",
       "49998  all reviews:mixed(11)- 63% of the 11 user revi...   \n",
       "49999  all reviews:2 user reviews- need more user rev...   \n",
       "\n",
       "                                                  tagged  game_id  \n",
       "0      rpg, story rich, anime, turn-based combat, jrp...  1809700  \n",
       "1      casual, action, arcade, atmospheric, 2d, singl...  2180390  \n",
       "2      indie, fighting, 2d fighter, multiplayer, acti...  1420350  \n",
       "3      simulation, vr, dating sim, cute, immersive si...  2262110  \n",
       "4      nudity, sexual content, hentai, romance, anime...  1853780  \n",
       "...                                                  ...      ...  \n",
       "49995  memes, anime, visual novel, nudity, sexual con...   512060  \n",
       "49996  rpg, nudity, adventure, indie, early access, g...   601020  \n",
       "49997                                         casual, vr   600580  \n",
       "49998  casual, solitaire, card game, puzzle, strategy...   630470  \n",
       "49999                     action, indie, casual, zombies   563370  \n",
       "\n",
       "[49656 rows x 7 columns]"
      ]
     },
     "execution_count": 11,
     "metadata": {},
     "output_type": "execute_result"
    }
   ],
   "source": [
    "### removing the header of the description of the game 'about this game'\n",
    "\n",
    "df_1['description'] = df_1['description'].str.replace(r'about this game','')\n",
    "df_1"
   ]
  },
  {
   "cell_type": "code",
   "execution_count": 12,
   "id": "bdf4a2b6",
   "metadata": {
    "execution": {
     "iopub.execute_input": "2023-01-30T12:41:55.387940Z",
     "iopub.status.busy": "2023-01-30T12:41:55.386186Z",
     "iopub.status.idle": "2023-01-30T12:41:55.700642Z",
     "shell.execute_reply": "2023-01-30T12:41:55.699679Z"
    },
    "papermill": {
     "duration": 0.344842,
     "end_time": "2023-01-30T12:41:55.702865",
     "exception": false,
     "start_time": "2023-01-30T12:41:55.358023",
     "status": "completed"
    },
    "tags": []
   },
   "outputs": [
    {
     "data": {
      "text/html": [
       "<div>\n",
       "<style scoped>\n",
       "    .dataframe tbody tr th:only-of-type {\n",
       "        vertical-align: middle;\n",
       "    }\n",
       "\n",
       "    .dataframe tbody tr th {\n",
       "        vertical-align: top;\n",
       "    }\n",
       "\n",
       "    .dataframe thead th {\n",
       "        text-align: right;\n",
       "    }\n",
       "</style>\n",
       "<table border=\"1\" class=\"dataframe\">\n",
       "  <thead>\n",
       "    <tr style=\"text-align: right;\">\n",
       "      <th></th>\n",
       "      <th>title</th>\n",
       "      <th>r_date</th>\n",
       "      <th>price</th>\n",
       "      <th>description</th>\n",
       "      <th>review_type</th>\n",
       "      <th>review_stats</th>\n",
       "      <th>positive_percentage</th>\n",
       "      <th>total_reviews</th>\n",
       "      <th>tagged</th>\n",
       "      <th>game_id</th>\n",
       "    </tr>\n",
       "  </thead>\n",
       "  <tbody>\n",
       "    <tr>\n",
       "      <th>0</th>\n",
       "      <td>persona 3 portable</td>\n",
       "      <td>18 jan, 2023</td>\n",
       "      <td>cdn$ 27.99</td>\n",
       "      <td>experience the iconic, critically acclaimed rp...</td>\n",
       "      <td>mostly positive(771)</td>\n",
       "      <td>74% of the 771 user reviews for this game are...</td>\n",
       "      <td>74%</td>\n",
       "      <td>771</td>\n",
       "      <td>rpg, story rich, anime, turn-based combat, jrp...</td>\n",
       "      <td>1809700</td>\n",
       "    </tr>\n",
       "    <tr>\n",
       "      <th>1</th>\n",
       "      <td>boing</td>\n",
       "      <td>18 jan, 2023</td>\n",
       "      <td>-20%\\n\\n\\ncdn$ 10.49cdn$ 8.39</td>\n",
       "      <td>long ago in the deepest and darkest of space, ...</td>\n",
       "      <td>1 user reviews</td>\n",
       "      <td>need more user reviews to generate a score</td>\n",
       "      <td>NaN</td>\n",
       "      <td>NaN</td>\n",
       "      <td>casual, action, arcade, atmospheric, 2d, singl...</td>\n",
       "      <td>2180390</td>\n",
       "    </tr>\n",
       "    <tr>\n",
       "      <th>2</th>\n",
       "      <td>fraymakers</td>\n",
       "      <td>18 jan, 2023</td>\n",
       "      <td>cdn$ 22.79</td>\n",
       "      <td>what is fraymakers?fraymakers is the ultimate ...</td>\n",
       "      <td>mixed(214)</td>\n",
       "      <td>68% of the 214 user reviews for this game are...</td>\n",
       "      <td>68%</td>\n",
       "      <td>214</td>\n",
       "      <td>indie, fighting, 2d fighter, multiplayer, acti...</td>\n",
       "      <td>1420350</td>\n",
       "    </tr>\n",
       "    <tr>\n",
       "      <th>3</th>\n",
       "      <td>【vr】physical exam / イタズラ身体測定</td>\n",
       "      <td>18 jan, 2023</td>\n",
       "      <td>-10%\\n\\n\\ncdn$ 25.99cdn$ 23.39</td>\n",
       "      <td>this game is for meta quest2 only. if it does ...</td>\n",
       "      <td>1 user reviews</td>\n",
       "      <td>need more user reviews to generate a score</td>\n",
       "      <td>NaN</td>\n",
       "      <td>NaN</td>\n",
       "      <td>simulation, vr, dating sim, cute, immersive si...</td>\n",
       "      <td>2262110</td>\n",
       "    </tr>\n",
       "    <tr>\n",
       "      <th>4</th>\n",
       "      <td>fps seduce - hentai</td>\n",
       "      <td>18 jan, 2023</td>\n",
       "      <td>-10%\\n\\n\\ncdn$ 5.69cdn$ 5.12</td>\n",
       "      <td>make love to many beautiful anime girls in thi...</td>\n",
       "      <td>2 user reviews</td>\n",
       "      <td>need more user reviews to generate a score</td>\n",
       "      <td>NaN</td>\n",
       "      <td>NaN</td>\n",
       "      <td>nudity, sexual content, hentai, romance, anime...</td>\n",
       "      <td>1853780</td>\n",
       "    </tr>\n",
       "  </tbody>\n",
       "</table>\n",
       "</div>"
      ],
      "text/plain": [
       "                          title        r_date                           price  \\\n",
       "0            persona 3 portable  18 jan, 2023                      cdn$ 27.99   \n",
       "1                         boing  18 jan, 2023   -20%\\n\\n\\ncdn$ 10.49cdn$ 8.39   \n",
       "2                    fraymakers  18 jan, 2023                      cdn$ 22.79   \n",
       "3  【vr】physical exam / イタズラ身体測定  18 jan, 2023  -10%\\n\\n\\ncdn$ 25.99cdn$ 23.39   \n",
       "4           fps seduce - hentai  18 jan, 2023    -10%\\n\\n\\ncdn$ 5.69cdn$ 5.12   \n",
       "\n",
       "                                         description           review_type  \\\n",
       "0  experience the iconic, critically acclaimed rp...  mostly positive(771)   \n",
       "1  long ago in the deepest and darkest of space, ...        1 user reviews   \n",
       "2  what is fraymakers?fraymakers is the ultimate ...            mixed(214)   \n",
       "3  this game is for meta quest2 only. if it does ...        1 user reviews   \n",
       "4  make love to many beautiful anime girls in thi...        2 user reviews   \n",
       "\n",
       "                                        review_stats positive_percentage  \\\n",
       "0   74% of the 771 user reviews for this game are...                 74%   \n",
       "1         need more user reviews to generate a score                 NaN   \n",
       "2   68% of the 214 user reviews for this game are...                 68%   \n",
       "3         need more user reviews to generate a score                 NaN   \n",
       "4         need more user reviews to generate a score                 NaN   \n",
       "\n",
       "  total_reviews                                             tagged  game_id  \n",
       "0           771  rpg, story rich, anime, turn-based combat, jrp...  1809700  \n",
       "1           NaN  casual, action, arcade, atmospheric, 2d, singl...  2180390  \n",
       "2           214  indie, fighting, 2d fighter, multiplayer, acti...  1420350  \n",
       "3           NaN  simulation, vr, dating sim, cute, immersive si...  2262110  \n",
       "4           NaN  nudity, sexual content, hentai, romance, anime...  1853780  "
      ]
     },
     "execution_count": 12,
     "metadata": {},
     "output_type": "execute_result"
    }
   ],
   "source": [
    "### splitting the review column to the reviews overview, review types, and review statistics \n",
    "\n",
    "df_1[['reviews','review_type','review_stats']] = df_1['reviews'].str.split(':|-', n=2, expand=True)\n",
    "df_1[['positive_percentage','total_reviews']] = df_1['review_stats'].str.extract(r'(\\d+%)\\s+of\\s+the\\s+(\\d+)\\s+user\\s+reviews', expand=True)\n",
    "\n",
    "df_1 = df_1.reindex(columns =['title','r_date',\n",
    "                       'price','description','reviews',\n",
    "                       'review_type','review_stats','positive_percentage',\n",
    "                              'total_reviews','tagged','game_id'])\n",
    "df_1.drop(columns='reviews', inplace=True)\n",
    "df_1.head()"
   ]
  },
  {
   "cell_type": "code",
   "execution_count": 13,
   "id": "743bf7bf",
   "metadata": {
    "execution": {
     "iopub.execute_input": "2023-01-30T12:41:55.759752Z",
     "iopub.status.busy": "2023-01-30T12:41:55.758870Z",
     "iopub.status.idle": "2023-01-30T12:41:55.771615Z",
     "shell.execute_reply": "2023-01-30T12:41:55.770618Z"
    },
    "papermill": {
     "duration": 0.042933,
     "end_time": "2023-01-30T12:41:55.773573",
     "exception": false,
     "start_time": "2023-01-30T12:41:55.730640",
     "status": "completed"
    },
    "tags": []
   },
   "outputs": [
    {
     "data": {
      "text/plain": [
       "array(['mostly positive(771)', '1 user reviews', 'mixed(214)', ...,\n",
       "       'mixed(588)', 'mixed(1,109)', 'mixed(439)'], dtype=object)"
      ]
     },
     "execution_count": 13,
     "metadata": {},
     "output_type": "execute_result"
    }
   ],
   "source": [
    "df_1['review_type'].unique()"
   ]
  },
  {
   "cell_type": "code",
   "execution_count": 14,
   "id": "b880a9cf",
   "metadata": {
    "execution": {
     "iopub.execute_input": "2023-01-30T12:41:55.831239Z",
     "iopub.status.busy": "2023-01-30T12:41:55.829811Z",
     "iopub.status.idle": "2023-01-30T12:41:56.030290Z",
     "shell.execute_reply": "2023-01-30T12:41:56.029368Z"
    },
    "papermill": {
     "duration": 0.23201,
     "end_time": "2023-01-30T12:41:56.032810",
     "exception": false,
     "start_time": "2023-01-30T12:41:55.800800",
     "status": "completed"
    },
    "tags": []
   },
   "outputs": [],
   "source": [
    "df_1['r_date'] = pd.to_datetime(df_1['r_date'])"
   ]
  },
  {
   "cell_type": "code",
   "execution_count": 15,
   "id": "5482b93b",
   "metadata": {
    "execution": {
     "iopub.execute_input": "2023-01-30T12:41:56.089312Z",
     "iopub.status.busy": "2023-01-30T12:41:56.089004Z",
     "iopub.status.idle": "2023-01-30T12:41:56.170639Z",
     "shell.execute_reply": "2023-01-30T12:41:56.169713Z"
    },
    "papermill": {
     "duration": 0.112438,
     "end_time": "2023-01-30T12:41:56.172881",
     "exception": false,
     "start_time": "2023-01-30T12:41:56.060443",
     "status": "completed"
    },
    "tags": []
   },
   "outputs": [],
   "source": [
    "def convert(string):\n",
    "    match = re.search(r'\\$\\s*([\\d.]+)', string)\n",
    "    if match:\n",
    "        return float(match.group(1))\n",
    "    elif 'free' in string:\n",
    "        return 0\n",
    "    else:\n",
    "        return None\n",
    "\n",
    "df_1['price'] = df_1['price'].apply(convert)"
   ]
  },
  {
   "cell_type": "code",
   "execution_count": 16,
   "id": "69704ee9",
   "metadata": {
    "execution": {
     "iopub.execute_input": "2023-01-30T12:41:56.230063Z",
     "iopub.status.busy": "2023-01-30T12:41:56.229748Z",
     "iopub.status.idle": "2023-01-30T12:41:56.263798Z",
     "shell.execute_reply": "2023-01-30T12:41:56.262704Z"
    },
    "papermill": {
     "duration": 0.066238,
     "end_time": "2023-01-30T12:41:56.266949",
     "exception": false,
     "start_time": "2023-01-30T12:41:56.200711",
     "status": "completed"
    },
    "tags": []
   },
   "outputs": [
    {
     "name": "stdout",
     "output_type": "stream",
     "text": [
      "<class 'pandas.core.frame.DataFrame'>\n",
      "Int64Index: 49656 entries, 0 to 49999\n",
      "Data columns (total 10 columns):\n",
      " #   Column               Non-Null Count  Dtype         \n",
      "---  ------               --------------  -----         \n",
      " 0   title                49656 non-null  object        \n",
      " 1   r_date               49656 non-null  datetime64[ns]\n",
      " 2   price                49656 non-null  float64       \n",
      " 3   description          49656 non-null  object        \n",
      " 4   review_type          49656 non-null  object        \n",
      " 5   review_stats         45488 non-null  object        \n",
      " 6   positive_percentage  26911 non-null  object        \n",
      " 7   total_reviews        26911 non-null  object        \n",
      " 8   tagged               49656 non-null  object        \n",
      " 9   game_id              49656 non-null  int64         \n",
      "dtypes: datetime64[ns](1), float64(1), int64(1), object(7)\n",
      "memory usage: 4.2+ MB\n"
     ]
    }
   ],
   "source": [
    "df_1.info()"
   ]
  },
  {
   "cell_type": "code",
   "execution_count": 17,
   "id": "1e527e2a",
   "metadata": {
    "execution": {
     "iopub.execute_input": "2023-01-30T12:41:56.325751Z",
     "iopub.status.busy": "2023-01-30T12:41:56.324193Z",
     "iopub.status.idle": "2023-01-30T12:41:56.334272Z",
     "shell.execute_reply": "2023-01-30T12:41:56.333255Z"
    },
    "papermill": {
     "duration": 0.040757,
     "end_time": "2023-01-30T12:41:56.336263",
     "exception": false,
     "start_time": "2023-01-30T12:41:56.295506",
     "status": "completed"
    },
    "tags": []
   },
   "outputs": [
    {
     "data": {
      "text/plain": [
       "False    49655\n",
       "True         1\n",
       "Name: game_id, dtype: int64"
      ]
     },
     "execution_count": 17,
     "metadata": {},
     "output_type": "execute_result"
    }
   ],
   "source": [
    "### Checking to see if there are any duplicated entries in our dataset\n",
    "\n",
    "df_1['game_id'].duplicated().value_counts()"
   ]
  },
  {
   "cell_type": "code",
   "execution_count": 18,
   "id": "65c7c4a8",
   "metadata": {
    "execution": {
     "iopub.execute_input": "2023-01-30T12:41:56.393042Z",
     "iopub.status.busy": "2023-01-30T12:41:56.392521Z",
     "iopub.status.idle": "2023-01-30T12:41:56.412646Z",
     "shell.execute_reply": "2023-01-30T12:41:56.411803Z"
    },
    "papermill": {
     "duration": 0.050988,
     "end_time": "2023-01-30T12:41:56.414801",
     "exception": false,
     "start_time": "2023-01-30T12:41:56.363813",
     "status": "completed"
    },
    "tags": []
   },
   "outputs": [],
   "source": [
    "df_1.drop_duplicates(subset=['game_id'], inplace=True)"
   ]
  },
  {
   "cell_type": "code",
   "execution_count": 19,
   "id": "17e5c684",
   "metadata": {
    "execution": {
     "iopub.execute_input": "2023-01-30T12:41:56.472643Z",
     "iopub.status.busy": "2023-01-30T12:41:56.471100Z",
     "iopub.status.idle": "2023-01-30T12:41:56.480754Z",
     "shell.execute_reply": "2023-01-30T12:41:56.479849Z"
    },
    "papermill": {
     "duration": 0.040393,
     "end_time": "2023-01-30T12:41:56.482732",
     "exception": false,
     "start_time": "2023-01-30T12:41:56.442339",
     "status": "completed"
    },
    "tags": []
   },
   "outputs": [
    {
     "data": {
      "text/plain": [
       "False    49655\n",
       "Name: game_id, dtype: int64"
      ]
     },
     "execution_count": 19,
     "metadata": {},
     "output_type": "execute_result"
    }
   ],
   "source": [
    "df_1['game_id'].duplicated().value_counts()"
   ]
  },
  {
   "cell_type": "code",
   "execution_count": 20,
   "id": "c19a6e04",
   "metadata": {
    "execution": {
     "iopub.execute_input": "2023-01-30T12:41:56.539718Z",
     "iopub.status.busy": "2023-01-30T12:41:56.538958Z",
     "iopub.status.idle": "2023-01-30T12:41:56.583818Z",
     "shell.execute_reply": "2023-01-30T12:41:56.582804Z"
    },
    "papermill": {
     "duration": 0.076019,
     "end_time": "2023-01-30T12:41:56.586605",
     "exception": false,
     "start_time": "2023-01-30T12:41:56.510586",
     "status": "completed"
    },
    "tags": []
   },
   "outputs": [
    {
     "data": {
      "text/html": [
       "<div>\n",
       "<style scoped>\n",
       "    .dataframe tbody tr th:only-of-type {\n",
       "        vertical-align: middle;\n",
       "    }\n",
       "\n",
       "    .dataframe tbody tr th {\n",
       "        vertical-align: top;\n",
       "    }\n",
       "\n",
       "    .dataframe thead th {\n",
       "        text-align: right;\n",
       "    }\n",
       "</style>\n",
       "<table border=\"1\" class=\"dataframe\">\n",
       "  <thead>\n",
       "    <tr style=\"text-align: right;\">\n",
       "      <th></th>\n",
       "      <th>title</th>\n",
       "      <th>r_date</th>\n",
       "      <th>price</th>\n",
       "      <th>description</th>\n",
       "      <th>review_type</th>\n",
       "      <th>review_stats</th>\n",
       "      <th>positive_percentage</th>\n",
       "      <th>total_reviews</th>\n",
       "      <th>tagged</th>\n",
       "      <th>game_id</th>\n",
       "    </tr>\n",
       "  </thead>\n",
       "  <tbody>\n",
       "    <tr>\n",
       "      <th>0</th>\n",
       "      <td>persona 3 portable</td>\n",
       "      <td>2023-01-18</td>\n",
       "      <td>27.99</td>\n",
       "      <td>experience the iconic, critically acclaimed rp...</td>\n",
       "      <td>mostly positive(771)</td>\n",
       "      <td>74% of the 771 user reviews for this game are...</td>\n",
       "      <td>74%</td>\n",
       "      <td>771</td>\n",
       "      <td>rpg, story rich, anime, turn-based combat, jrp...</td>\n",
       "      <td>1809700</td>\n",
       "    </tr>\n",
       "    <tr>\n",
       "      <th>2</th>\n",
       "      <td>fraymakers</td>\n",
       "      <td>2023-01-18</td>\n",
       "      <td>22.79</td>\n",
       "      <td>what is fraymakers?fraymakers is the ultimate ...</td>\n",
       "      <td>mixed(214)</td>\n",
       "      <td>68% of the 214 user reviews for this game are...</td>\n",
       "      <td>68%</td>\n",
       "      <td>214</td>\n",
       "      <td>indie, fighting, 2d fighter, multiplayer, acti...</td>\n",
       "      <td>1420350</td>\n",
       "    </tr>\n",
       "    <tr>\n",
       "      <th>7</th>\n",
       "      <td>osiris: new dawn</td>\n",
       "      <td>2023-01-18</td>\n",
       "      <td>39.99</td>\n",
       "      <td>inspired by the edgier side of sci fi, osiris:...</td>\n",
       "      <td>mostly negative(127)</td>\n",
       "      <td>31% of the 127 user reviews in the last 30 da...</td>\n",
       "      <td>31%</td>\n",
       "      <td>127</td>\n",
       "      <td>open world survival craft, horror, survival, s...</td>\n",
       "      <td>402710</td>\n",
       "    </tr>\n",
       "    <tr>\n",
       "      <th>8</th>\n",
       "      <td>lake haven - chrysalis</td>\n",
       "      <td>2023-01-18</td>\n",
       "      <td>3.89</td>\n",
       "      <td>on october 7th, at 9 pm the kansas police depa...</td>\n",
       "      <td>positive(27)</td>\n",
       "      <td>100% of the 27 user reviews for this game are...</td>\n",
       "      <td>100%</td>\n",
       "      <td>27</td>\n",
       "      <td>third person, exploration, singleplayer, adven...</td>\n",
       "      <td>1696960</td>\n",
       "    </tr>\n",
       "    <tr>\n",
       "      <th>13</th>\n",
       "      <td>predictors</td>\n",
       "      <td>2023-01-18</td>\n",
       "      <td>3.89</td>\n",
       "      <td>turn-based roguelikego solo or invite up to th...</td>\n",
       "      <td>positive(20)</td>\n",
       "      <td>95% of the 20 user reviews for this game are ...</td>\n",
       "      <td>95%</td>\n",
       "      <td>20</td>\n",
       "      <td>roguelike, roguelite, turn-based, online co-op...</td>\n",
       "      <td>2149330</td>\n",
       "    </tr>\n",
       "    <tr>\n",
       "      <th>...</th>\n",
       "      <td>...</td>\n",
       "      <td>...</td>\n",
       "      <td>...</td>\n",
       "      <td>...</td>\n",
       "      <td>...</td>\n",
       "      <td>...</td>\n",
       "      <td>...</td>\n",
       "      <td>...</td>\n",
       "      <td>...</td>\n",
       "      <td>...</td>\n",
       "    </tr>\n",
       "    <tr>\n",
       "      <th>49993</th>\n",
       "      <td>domain defense vr</td>\n",
       "      <td>2017-05-12</td>\n",
       "      <td>8.99</td>\n",
       "      <td>domain defense vr is a stand alone game that h...</td>\n",
       "      <td>positive(15)</td>\n",
       "      <td>80% of the 15 user reviews for this game are ...</td>\n",
       "      <td>80%</td>\n",
       "      <td>15</td>\n",
       "      <td>strategy, indie, casual, vr</td>\n",
       "      <td>455190</td>\n",
       "    </tr>\n",
       "    <tr>\n",
       "      <th>49994</th>\n",
       "      <td>void rangers</td>\n",
       "      <td>2017-05-12</td>\n",
       "      <td>12.99</td>\n",
       "      <td>quotes from reviews\"if you wondered what space...</td>\n",
       "      <td>positive(35)</td>\n",
       "      <td>80% of the 35 user reviews for this game are ...</td>\n",
       "      <td>80%</td>\n",
       "      <td>35</td>\n",
       "      <td>action, indie, vr, shooter, loot</td>\n",
       "      <td>529360</td>\n",
       "    </tr>\n",
       "    <tr>\n",
       "      <th>49995</th>\n",
       "      <td>stay! stay! democratic people's republic of ko...</td>\n",
       "      <td>2017-05-12</td>\n",
       "      <td>10.99</td>\n",
       "      <td>story the year is 2021, america is back in afg...</td>\n",
       "      <td>very positive(480)</td>\n",
       "      <td>93% of the 480 user reviews for this game are...</td>\n",
       "      <td>93%</td>\n",
       "      <td>480</td>\n",
       "      <td>memes, anime, visual novel, nudity, sexual con...</td>\n",
       "      <td>512060</td>\n",
       "    </tr>\n",
       "    <tr>\n",
       "      <th>49996</th>\n",
       "      <td>seed of the arcane , episode 1</td>\n",
       "      <td>2017-05-12</td>\n",
       "      <td>16.99</td>\n",
       "      <td>****this game is on alpha test - please read t...</td>\n",
       "      <td>mostly negative(29)</td>\n",
       "      <td>27% of the 29 user reviews for this game are ...</td>\n",
       "      <td>27%</td>\n",
       "      <td>29</td>\n",
       "      <td>rpg, nudity, adventure, indie, early access, g...</td>\n",
       "      <td>601020</td>\n",
       "    </tr>\n",
       "    <tr>\n",
       "      <th>49998</th>\n",
       "      <td>solitaire club</td>\n",
       "      <td>2017-05-11</td>\n",
       "      <td>5.69</td>\n",
       "      <td>experience real casino flair on your pc with s...</td>\n",
       "      <td>mixed(11)</td>\n",
       "      <td>63% of the 11 user reviews for this game are ...</td>\n",
       "      <td>63%</td>\n",
       "      <td>11</td>\n",
       "      <td>casual, solitaire, card game, puzzle, strategy...</td>\n",
       "      <td>630470</td>\n",
       "    </tr>\n",
       "  </tbody>\n",
       "</table>\n",
       "<p>26910 rows × 10 columns</p>\n",
       "</div>"
      ],
      "text/plain": [
       "                                                   title     r_date  price  \\\n",
       "0                                     persona 3 portable 2023-01-18  27.99   \n",
       "2                                             fraymakers 2023-01-18  22.79   \n",
       "7                                       osiris: new dawn 2023-01-18  39.99   \n",
       "8                                 lake haven - chrysalis 2023-01-18   3.89   \n",
       "13                                            predictors 2023-01-18   3.89   \n",
       "...                                                  ...        ...    ...   \n",
       "49993                                  domain defense vr 2017-05-12   8.99   \n",
       "49994                                       void rangers 2017-05-12  12.99   \n",
       "49995  stay! stay! democratic people's republic of ko... 2017-05-12  10.99   \n",
       "49996                     seed of the arcane , episode 1 2017-05-12  16.99   \n",
       "49998                                     solitaire club 2017-05-11   5.69   \n",
       "\n",
       "                                             description  \\\n",
       "0      experience the iconic, critically acclaimed rp...   \n",
       "2      what is fraymakers?fraymakers is the ultimate ...   \n",
       "7      inspired by the edgier side of sci fi, osiris:...   \n",
       "8      on october 7th, at 9 pm the kansas police depa...   \n",
       "13     turn-based roguelikego solo or invite up to th...   \n",
       "...                                                  ...   \n",
       "49993  domain defense vr is a stand alone game that h...   \n",
       "49994  quotes from reviews\"if you wondered what space...   \n",
       "49995  story the year is 2021, america is back in afg...   \n",
       "49996  ****this game is on alpha test - please read t...   \n",
       "49998  experience real casino flair on your pc with s...   \n",
       "\n",
       "                review_type  \\\n",
       "0      mostly positive(771)   \n",
       "2                mixed(214)   \n",
       "7      mostly negative(127)   \n",
       "8              positive(27)   \n",
       "13             positive(20)   \n",
       "...                     ...   \n",
       "49993          positive(15)   \n",
       "49994          positive(35)   \n",
       "49995    very positive(480)   \n",
       "49996   mostly negative(29)   \n",
       "49998             mixed(11)   \n",
       "\n",
       "                                            review_stats positive_percentage  \\\n",
       "0       74% of the 771 user reviews for this game are...                 74%   \n",
       "2       68% of the 214 user reviews for this game are...                 68%   \n",
       "7       31% of the 127 user reviews in the last 30 da...                 31%   \n",
       "8       100% of the 27 user reviews for this game are...                100%   \n",
       "13      95% of the 20 user reviews for this game are ...                 95%   \n",
       "...                                                  ...                 ...   \n",
       "49993   80% of the 15 user reviews for this game are ...                 80%   \n",
       "49994   80% of the 35 user reviews for this game are ...                 80%   \n",
       "49995   93% of the 480 user reviews for this game are...                 93%   \n",
       "49996   27% of the 29 user reviews for this game are ...                 27%   \n",
       "49998   63% of the 11 user reviews for this game are ...                 63%   \n",
       "\n",
       "      total_reviews                                             tagged  \\\n",
       "0               771  rpg, story rich, anime, turn-based combat, jrp...   \n",
       "2               214  indie, fighting, 2d fighter, multiplayer, acti...   \n",
       "7               127  open world survival craft, horror, survival, s...   \n",
       "8                27  third person, exploration, singleplayer, adven...   \n",
       "13               20  roguelike, roguelite, turn-based, online co-op...   \n",
       "...             ...                                                ...   \n",
       "49993            15                        strategy, indie, casual, vr   \n",
       "49994            35                   action, indie, vr, shooter, loot   \n",
       "49995           480  memes, anime, visual novel, nudity, sexual con...   \n",
       "49996            29  rpg, nudity, adventure, indie, early access, g...   \n",
       "49998            11  casual, solitaire, card game, puzzle, strategy...   \n",
       "\n",
       "       game_id  \n",
       "0      1809700  \n",
       "2      1420350  \n",
       "7       402710  \n",
       "8      1696960  \n",
       "13     2149330  \n",
       "...        ...  \n",
       "49993   455190  \n",
       "49994   529360  \n",
       "49995   512060  \n",
       "49996   601020  \n",
       "49998   630470  \n",
       "\n",
       "[26910 rows x 10 columns]"
      ]
     },
     "execution_count": 20,
     "metadata": {},
     "output_type": "execute_result"
    }
   ],
   "source": [
    "df2 = df_1.dropna()\n",
    "df2"
   ]
  },
  {
   "cell_type": "code",
   "execution_count": 21,
   "id": "c9025cc4",
   "metadata": {
    "execution": {
     "iopub.execute_input": "2023-01-30T12:41:56.644694Z",
     "iopub.status.busy": "2023-01-30T12:41:56.644389Z",
     "iopub.status.idle": "2023-01-30T12:41:56.673162Z",
     "shell.execute_reply": "2023-01-30T12:41:56.671536Z"
    },
    "papermill": {
     "duration": 0.060214,
     "end_time": "2023-01-30T12:41:56.675767",
     "exception": false,
     "start_time": "2023-01-30T12:41:56.615553",
     "status": "completed"
    },
    "tags": []
   },
   "outputs": [
    {
     "name": "stderr",
     "output_type": "stream",
     "text": [
      "/opt/conda/lib/python3.7/site-packages/ipykernel_launcher.py:1: SettingWithCopyWarning: \n",
      "A value is trying to be set on a copy of a slice from a DataFrame.\n",
      "Try using .loc[row_indexer,col_indexer] = value instead\n",
      "\n",
      "See the caveats in the documentation: https://pandas.pydata.org/pandas-docs/stable/user_guide/indexing.html#returning-a-view-versus-a-copy\n",
      "  \"\"\"Entry point for launching an IPython kernel.\n",
      "/opt/conda/lib/python3.7/site-packages/ipykernel_launcher.py:2: SettingWithCopyWarning: \n",
      "A value is trying to be set on a copy of a slice from a DataFrame.\n",
      "Try using .loc[row_indexer,col_indexer] = value instead\n",
      "\n",
      "See the caveats in the documentation: https://pandas.pydata.org/pandas-docs/stable/user_guide/indexing.html#returning-a-view-versus-a-copy\n",
      "  \n"
     ]
    }
   ],
   "source": [
    "df2['total_reviews']=df2['total_reviews'].astype(int)\n",
    "df2['positive_percentage'] = df2['positive_percentage'].str.replace('%','').astype(int)"
   ]
  },
  {
   "cell_type": "markdown",
   "id": "c86b7d19",
   "metadata": {
    "papermill": {
     "duration": 0.028491,
     "end_time": "2023-01-30T12:41:56.733804",
     "exception": false,
     "start_time": "2023-01-30T12:41:56.705313",
     "status": "completed"
    },
    "tags": []
   },
   "source": [
    "# EDA"
   ]
  },
  {
   "cell_type": "markdown",
   "id": "2245f1fd",
   "metadata": {
    "papermill": {
     "duration": 0.028228,
     "end_time": "2023-01-30T12:41:56.789993",
     "exception": false,
     "start_time": "2023-01-30T12:41:56.761765",
     "status": "completed"
    },
    "tags": []
   },
   "source": [
    "We will perform some EDA to determine the parameters of how we classify a game to be successful or not successful based on their reviews characteristics. <br><br>\n",
    "*Point to take note: $0 priced games in our case refer to games that are \"Free-to-Play\". Sometimes these games include in-game purchases.**"
   ]
  },
  {
   "cell_type": "code",
   "execution_count": 22,
   "id": "4a0d93d9",
   "metadata": {
    "execution": {
     "iopub.execute_input": "2023-01-30T12:41:56.848193Z",
     "iopub.status.busy": "2023-01-30T12:41:56.847859Z",
     "iopub.status.idle": "2023-01-30T12:41:56.874491Z",
     "shell.execute_reply": "2023-01-30T12:41:56.873519Z"
    },
    "papermill": {
     "duration": 0.05825,
     "end_time": "2023-01-30T12:41:56.876442",
     "exception": false,
     "start_time": "2023-01-30T12:41:56.818192",
     "status": "completed"
    },
    "tags": []
   },
   "outputs": [
    {
     "data": {
      "text/html": [
       "<div>\n",
       "<style scoped>\n",
       "    .dataframe tbody tr th:only-of-type {\n",
       "        vertical-align: middle;\n",
       "    }\n",
       "\n",
       "    .dataframe tbody tr th {\n",
       "        vertical-align: top;\n",
       "    }\n",
       "\n",
       "    .dataframe thead th {\n",
       "        text-align: right;\n",
       "    }\n",
       "</style>\n",
       "<table border=\"1\" class=\"dataframe\">\n",
       "  <thead>\n",
       "    <tr style=\"text-align: right;\">\n",
       "      <th></th>\n",
       "      <th>price</th>\n",
       "      <th>positive_percentage</th>\n",
       "      <th>total_reviews</th>\n",
       "      <th>game_id</th>\n",
       "    </tr>\n",
       "  </thead>\n",
       "  <tbody>\n",
       "    <tr>\n",
       "      <th>count</th>\n",
       "      <td>26910.000000</td>\n",
       "      <td>26910.000000</td>\n",
       "      <td>26910.000000</td>\n",
       "      <td>2.691000e+04</td>\n",
       "    </tr>\n",
       "    <tr>\n",
       "      <th>mean</th>\n",
       "      <td>10.508753</td>\n",
       "      <td>77.282423</td>\n",
       "      <td>83.613973</td>\n",
       "      <td>1.223329e+06</td>\n",
       "    </tr>\n",
       "    <tr>\n",
       "      <th>std</th>\n",
       "      <td>12.736401</td>\n",
       "      <td>17.978951</td>\n",
       "      <td>133.495339</td>\n",
       "      <td>4.602317e+05</td>\n",
       "    </tr>\n",
       "    <tr>\n",
       "      <th>min</th>\n",
       "      <td>0.000000</td>\n",
       "      <td>0.000000</td>\n",
       "      <td>10.000000</td>\n",
       "      <td>1.313000e+03</td>\n",
       "    </tr>\n",
       "    <tr>\n",
       "      <th>25%</th>\n",
       "      <td>1.190000</td>\n",
       "      <td>67.000000</td>\n",
       "      <td>17.000000</td>\n",
       "      <td>8.393025e+05</td>\n",
       "    </tr>\n",
       "    <tr>\n",
       "      <th>50%</th>\n",
       "      <td>5.690000</td>\n",
       "      <td>81.000000</td>\n",
       "      <td>32.000000</td>\n",
       "      <td>1.180530e+06</td>\n",
       "    </tr>\n",
       "    <tr>\n",
       "      <th>75%</th>\n",
       "      <td>15.490000</td>\n",
       "      <td>91.000000</td>\n",
       "      <td>84.000000</td>\n",
       "      <td>1.577220e+06</td>\n",
       "    </tr>\n",
       "    <tr>\n",
       "      <th>max</th>\n",
       "      <td>259.990000</td>\n",
       "      <td>100.000000</td>\n",
       "      <td>996.000000</td>\n",
       "      <td>2.263390e+06</td>\n",
       "    </tr>\n",
       "  </tbody>\n",
       "</table>\n",
       "</div>"
      ],
      "text/plain": [
       "              price  positive_percentage  total_reviews       game_id\n",
       "count  26910.000000         26910.000000   26910.000000  2.691000e+04\n",
       "mean      10.508753            77.282423      83.613973  1.223329e+06\n",
       "std       12.736401            17.978951     133.495339  4.602317e+05\n",
       "min        0.000000             0.000000      10.000000  1.313000e+03\n",
       "25%        1.190000            67.000000      17.000000  8.393025e+05\n",
       "50%        5.690000            81.000000      32.000000  1.180530e+06\n",
       "75%       15.490000            91.000000      84.000000  1.577220e+06\n",
       "max      259.990000           100.000000     996.000000  2.263390e+06"
      ]
     },
     "execution_count": 22,
     "metadata": {},
     "output_type": "execute_result"
    }
   ],
   "source": [
    "df2.describe()"
   ]
  },
  {
   "cell_type": "markdown",
   "id": "f960cb5e",
   "metadata": {
    "papermill": {
     "duration": 0.028693,
     "end_time": "2023-01-30T12:41:56.933934",
     "exception": false,
     "start_time": "2023-01-30T12:41:56.905241",
     "status": "completed"
    },
    "tags": []
   },
   "source": [
    "The median percentage for positive reviews is at 81% with the upper percentile at 91%. We can take this into account when determining our threshold for our measure of success for a game. "
   ]
  },
  {
   "cell_type": "code",
   "execution_count": 23,
   "id": "79252824",
   "metadata": {
    "execution": {
     "iopub.execute_input": "2023-01-30T12:41:56.991986Z",
     "iopub.status.busy": "2023-01-30T12:41:56.991670Z",
     "iopub.status.idle": "2023-01-30T12:41:57.290874Z",
     "shell.execute_reply": "2023-01-30T12:41:57.289980Z"
    },
    "papermill": {
     "duration": 0.331019,
     "end_time": "2023-01-30T12:41:57.293228",
     "exception": false,
     "start_time": "2023-01-30T12:41:56.962209",
     "status": "completed"
    },
    "tags": []
   },
   "outputs": [
    {
     "data": {
      "text/plain": [
       "<AxesSubplot:>"
      ]
     },
     "execution_count": 23,
     "metadata": {},
     "output_type": "execute_result"
    },
    {
     "data": {
      "image/png": "[encoded data removed]",
      "text/plain": [
       "<Figure size 432x288 with 2 Axes>"
      ]
     },
     "metadata": {
      "needs_background": "light"
     },
     "output_type": "display_data"
    }
   ],
   "source": [
    "sns.heatmap(df2.corr(), cmap='coolwarm', annot=True)"
   ]
  },
  {
   "cell_type": "markdown",
   "id": "75a8d97d",
   "metadata": {
    "papermill": {
     "duration": 0.028509,
     "end_time": "2023-01-30T12:41:57.351109",
     "exception": false,
     "start_time": "2023-01-30T12:41:57.322600",
     "status": "completed"
    },
    "tags": []
   },
   "source": [
    "there is no correlation between the positive percentage to the total_reviews (0.066) there is no correlation between the positive percntage to the price."
   ]
  },
  {
   "cell_type": "code",
   "execution_count": 24,
   "id": "7a81f716",
   "metadata": {
    "execution": {
     "iopub.execute_input": "2023-01-30T12:41:57.410285Z",
     "iopub.status.busy": "2023-01-30T12:41:57.409987Z",
     "iopub.status.idle": "2023-01-30T12:41:57.467308Z",
     "shell.execute_reply": "2023-01-30T12:41:57.466221Z"
    },
    "papermill": {
     "duration": 0.08955,
     "end_time": "2023-01-30T12:41:57.469438",
     "exception": false,
     "start_time": "2023-01-30T12:41:57.379888",
     "status": "completed"
    },
    "scrolled": true,
    "tags": []
   },
   "outputs": [
    {
     "data": {
      "text/html": [
       "<div>\n",
       "<style scoped>\n",
       "    .dataframe tbody tr th:only-of-type {\n",
       "        vertical-align: middle;\n",
       "    }\n",
       "\n",
       "    .dataframe tbody tr th {\n",
       "        vertical-align: top;\n",
       "    }\n",
       "\n",
       "    .dataframe thead th {\n",
       "        text-align: right;\n",
       "    }\n",
       "</style>\n",
       "<table border=\"1\" class=\"dataframe\">\n",
       "  <thead>\n",
       "    <tr style=\"text-align: right;\">\n",
       "      <th></th>\n",
       "      <th>title</th>\n",
       "      <th>r_date</th>\n",
       "      <th>price</th>\n",
       "      <th>description</th>\n",
       "      <th>review_type</th>\n",
       "      <th>review_stats</th>\n",
       "      <th>positive_percentage</th>\n",
       "      <th>total_reviews</th>\n",
       "      <th>tagged</th>\n",
       "      <th>game_id</th>\n",
       "    </tr>\n",
       "  </thead>\n",
       "  <tbody>\n",
       "    <tr>\n",
       "      <th>2245</th>\n",
       "      <td>hidden harbor 2 top-down 3d</td>\n",
       "      <td>2022-11-15</td>\n",
       "      <td>129.99</td>\n",
       "      <td>find the objects that are hidden on the map.th...</td>\n",
       "      <td>positive(12)</td>\n",
       "      <td>83% of the 12 user reviews for this game are ...</td>\n",
       "      <td>83</td>\n",
       "      <td>12</td>\n",
       "      <td>action, adventure, casual, rpg, simulation, st...</td>\n",
       "      <td>2204970</td>\n",
       "    </tr>\n",
       "    <tr>\n",
       "      <th>2402</th>\n",
       "      <td>guarding goddess</td>\n",
       "      <td>2022-11-11</td>\n",
       "      <td>0.00</td>\n",
       "      <td>the demon army is invading and the goddess is ...</td>\n",
       "      <td>mostly positive(21)</td>\n",
       "      <td>76% of the 21 user reviews in the last 30 day...</td>\n",
       "      <td>76</td>\n",
       "      <td>21</td>\n",
       "      <td>casual, action, rpg, idler, dark fantasy, mmor...</td>\n",
       "      <td>1909860</td>\n",
       "    </tr>\n",
       "    <tr>\n",
       "      <th>2975</th>\n",
       "      <td>hidden dungeon top-down 3d</td>\n",
       "      <td>2022-10-27</td>\n",
       "      <td>113.99</td>\n",
       "      <td>find the objects that are hidden on the map.th...</td>\n",
       "      <td>mostly positive(13)</td>\n",
       "      <td>76% of the 13 user reviews for this game are ...</td>\n",
       "      <td>76</td>\n",
       "      <td>13</td>\n",
       "      <td>action, adventure, casual, rpg, simulation, st...</td>\n",
       "      <td>2182850</td>\n",
       "    </tr>\n",
       "    <tr>\n",
       "      <th>3033</th>\n",
       "      <td>miss kawaii 2</td>\n",
       "      <td>2022-10-26</td>\n",
       "      <td>3.39</td>\n",
       "      <td>https://store.steampowered.com/app/2248580/lov...</td>\n",
       "      <td>very positive(55)</td>\n",
       "      <td>92% of the 55 user reviews for this game are ...</td>\n",
       "      <td>92</td>\n",
       "      <td>55</td>\n",
       "      <td>casual, puzzle, nudity, sexual content, cute, ...</td>\n",
       "      <td>2176270</td>\n",
       "    </tr>\n",
       "    <tr>\n",
       "      <th>4084</th>\n",
       "      <td>hidden office top-down 3d</td>\n",
       "      <td>2022-09-29</td>\n",
       "      <td>113.99</td>\n",
       "      <td>find the objects that are hidden on the map.th...</td>\n",
       "      <td>mixed(16)</td>\n",
       "      <td>68% of the 16 user reviews for this game are ...</td>\n",
       "      <td>68</td>\n",
       "      <td>16</td>\n",
       "      <td>action, adventure, casual, rpg, simulation, st...</td>\n",
       "      <td>2137250</td>\n",
       "    </tr>\n",
       "    <tr>\n",
       "      <th>...</th>\n",
       "      <td>...</td>\n",
       "      <td>...</td>\n",
       "      <td>...</td>\n",
       "      <td>...</td>\n",
       "      <td>...</td>\n",
       "      <td>...</td>\n",
       "      <td>...</td>\n",
       "      <td>...</td>\n",
       "      <td>...</td>\n",
       "      <td>...</td>\n",
       "    </tr>\n",
       "    <tr>\n",
       "      <th>46774</th>\n",
       "      <td>draft day sports: college basketball 2017</td>\n",
       "      <td>2017-11-15</td>\n",
       "      <td>5.69</td>\n",
       "      <td>take control as head coach of your favorite co...</td>\n",
       "      <td>mixed(12)</td>\n",
       "      <td>50% of the 12 user reviews for this game are ...</td>\n",
       "      <td>50</td>\n",
       "      <td>12</td>\n",
       "      <td>strategy, sports, indie, simulation</td>\n",
       "      <td>729310</td>\n",
       "    </tr>\n",
       "    <tr>\n",
       "      <th>48368</th>\n",
       "      <td>sonic mania</td>\n",
       "      <td>2017-08-30</td>\n",
       "      <td>26.99</td>\n",
       "      <td></td>\n",
       "      <td>very positive(255)</td>\n",
       "      <td>93% of the 255 user reviews in the last 30 da...</td>\n",
       "      <td>93</td>\n",
       "      <td>255</td>\n",
       "      <td>great soundtrack, 2d, platformer, retro, class...</td>\n",
       "      <td>584400</td>\n",
       "    </tr>\n",
       "    <tr>\n",
       "      <th>48983</th>\n",
       "      <td>lucky night: texas hold'em vr</td>\n",
       "      <td>2017-07-27</td>\n",
       "      <td>0.00</td>\n",
       "      <td>server closing of lucky night to all the playe...</td>\n",
       "      <td>mostly positive(176)</td>\n",
       "      <td>79% of the 176 user reviews for this game are...</td>\n",
       "      <td>79</td>\n",
       "      <td>176</td>\n",
       "      <td>free to play, casual, vr</td>\n",
       "      <td>657010</td>\n",
       "    </tr>\n",
       "    <tr>\n",
       "      <th>49747</th>\n",
       "      <td>the last tree</td>\n",
       "      <td>2017-06-01</td>\n",
       "      <td>2.19</td>\n",
       "      <td></td>\n",
       "      <td>mixed(22)</td>\n",
       "      <td>68% of the 22 user reviews for this game are ...</td>\n",
       "      <td>68</td>\n",
       "      <td>22</td>\n",
       "      <td>action, indie, adventure, singleplayer, puzzle...</td>\n",
       "      <td>605210</td>\n",
       "    </tr>\n",
       "    <tr>\n",
       "      <th>49844</th>\n",
       "      <td>quarantine</td>\n",
       "      <td>2017-05-24</td>\n",
       "      <td>10.99</td>\n",
       "      <td></td>\n",
       "      <td>mixed(315)</td>\n",
       "      <td>60% of the 315 user reviews for this game are...</td>\n",
       "      <td>60</td>\n",
       "      <td>315</td>\n",
       "      <td>strategy, outbreak sim, simulation, survival, ...</td>\n",
       "      <td>489370</td>\n",
       "    </tr>\n",
       "  </tbody>\n",
       "</table>\n",
       "<p>169 rows × 10 columns</p>\n",
       "</div>"
      ],
      "text/plain": [
       "                                           title     r_date   price  \\\n",
       "2245                 hidden harbor 2 top-down 3d 2022-11-15  129.99   \n",
       "2402                            guarding goddess 2022-11-11    0.00   \n",
       "2975                  hidden dungeon top-down 3d 2022-10-27  113.99   \n",
       "3033                               miss kawaii 2 2022-10-26    3.39   \n",
       "4084                   hidden office top-down 3d 2022-09-29  113.99   \n",
       "...                                          ...        ...     ...   \n",
       "46774  draft day sports: college basketball 2017 2017-11-15    5.69   \n",
       "48368                                sonic mania 2017-08-30   26.99   \n",
       "48983              lucky night: texas hold'em vr 2017-07-27    0.00   \n",
       "49747                              the last tree 2017-06-01    2.19   \n",
       "49844                                 quarantine 2017-05-24   10.99   \n",
       "\n",
       "                                             description  \\\n",
       "2245   find the objects that are hidden on the map.th...   \n",
       "2402   the demon army is invading and the goddess is ...   \n",
       "2975   find the objects that are hidden on the map.th...   \n",
       "3033   https://store.steampowered.com/app/2248580/lov...   \n",
       "4084   find the objects that are hidden on the map.th...   \n",
       "...                                                  ...   \n",
       "46774  take control as head coach of your favorite co...   \n",
       "48368                                                      \n",
       "48983  server closing of lucky night to all the playe...   \n",
       "49747                                                      \n",
       "49844                                                      \n",
       "\n",
       "                review_type  \\\n",
       "2245           positive(12)   \n",
       "2402    mostly positive(21)   \n",
       "2975    mostly positive(13)   \n",
       "3033      very positive(55)   \n",
       "4084              mixed(16)   \n",
       "...                     ...   \n",
       "46774             mixed(12)   \n",
       "48368    very positive(255)   \n",
       "48983  mostly positive(176)   \n",
       "49747             mixed(22)   \n",
       "49844            mixed(315)   \n",
       "\n",
       "                                            review_stats  positive_percentage  \\\n",
       "2245    83% of the 12 user reviews for this game are ...                   83   \n",
       "2402    76% of the 21 user reviews in the last 30 day...                   76   \n",
       "2975    76% of the 13 user reviews for this game are ...                   76   \n",
       "3033    92% of the 55 user reviews for this game are ...                   92   \n",
       "4084    68% of the 16 user reviews for this game are ...                   68   \n",
       "...                                                  ...                  ...   \n",
       "46774   50% of the 12 user reviews for this game are ...                   50   \n",
       "48368   93% of the 255 user reviews in the last 30 da...                   93   \n",
       "48983   79% of the 176 user reviews for this game are...                   79   \n",
       "49747   68% of the 22 user reviews for this game are ...                   68   \n",
       "49844   60% of the 315 user reviews for this game are...                   60   \n",
       "\n",
       "       total_reviews                                             tagged  \\\n",
       "2245              12  action, adventure, casual, rpg, simulation, st...   \n",
       "2402              21  casual, action, rpg, idler, dark fantasy, mmor...   \n",
       "2975              13  action, adventure, casual, rpg, simulation, st...   \n",
       "3033              55  casual, puzzle, nudity, sexual content, cute, ...   \n",
       "4084              16  action, adventure, casual, rpg, simulation, st...   \n",
       "...              ...                                                ...   \n",
       "46774             12                strategy, sports, indie, simulation   \n",
       "48368            255  great soundtrack, 2d, platformer, retro, class...   \n",
       "48983            176                           free to play, casual, vr   \n",
       "49747             22  action, indie, adventure, singleplayer, puzzle...   \n",
       "49844            315  strategy, outbreak sim, simulation, survival, ...   \n",
       "\n",
       "       game_id  \n",
       "2245   2204970  \n",
       "2402   1909860  \n",
       "2975   2182850  \n",
       "3033   2176270  \n",
       "4084   2137250  \n",
       "...        ...  \n",
       "46774   729310  \n",
       "48368   584400  \n",
       "48983   657010  \n",
       "49747   605210  \n",
       "49844   489370  \n",
       "\n",
       "[169 rows x 10 columns]"
      ]
     },
     "execution_count": 24,
     "metadata": {},
     "output_type": "execute_result"
    }
   ],
   "source": [
    "df2[df2['description'].duplicated()]"
   ]
  },
  {
   "cell_type": "code",
   "execution_count": 25,
   "id": "fc190c78",
   "metadata": {
    "execution": {
     "iopub.execute_input": "2023-01-30T12:41:57.530815Z",
     "iopub.status.busy": "2023-01-30T12:41:57.529323Z",
     "iopub.status.idle": "2023-01-30T12:41:57.639370Z",
     "shell.execute_reply": "2023-01-30T12:41:57.638520Z"
    },
    "papermill": {
     "duration": 0.142442,
     "end_time": "2023-01-30T12:41:57.641411",
     "exception": false,
     "start_time": "2023-01-30T12:41:57.498969",
     "status": "completed"
    },
    "tags": []
   },
   "outputs": [],
   "source": [
    "duplicated_rows = df2[df2.duplicated('description')]"
   ]
  },
  {
   "cell_type": "code",
   "execution_count": 26,
   "id": "817eee4f",
   "metadata": {
    "execution": {
     "iopub.execute_input": "2023-01-30T12:41:57.703658Z",
     "iopub.status.busy": "2023-01-30T12:41:57.701797Z",
     "iopub.status.idle": "2023-01-30T12:41:57.709317Z",
     "shell.execute_reply": "2023-01-30T12:41:57.708387Z"
    },
    "papermill": {
     "duration": 0.039963,
     "end_time": "2023-01-30T12:41:57.711407",
     "exception": false,
     "start_time": "2023-01-30T12:41:57.671444",
     "status": "completed"
    },
    "tags": []
   },
   "outputs": [
    {
     "data": {
      "text/plain": [
       "'find the objects that are hidden on the map.the game is a hidden object game. in which you need to find objects with a certain design in beautiful locations, and click on them with the mouse.the game is a 3d level game in which objects and characters are frozen in the picture, you have to find 20 different objects. the system automatically determines which object you need to find at the moment, so the game has a high replay value, you will need to search for different objects each time.'"
      ]
     },
     "execution_count": 26,
     "metadata": {},
     "output_type": "execute_result"
    }
   ],
   "source": [
    "duplicated_rows['description'].to_list()[0]"
   ]
  },
  {
   "cell_type": "code",
   "execution_count": 27,
   "id": "e1399368",
   "metadata": {
    "execution": {
     "iopub.execute_input": "2023-01-30T12:41:57.771426Z",
     "iopub.status.busy": "2023-01-30T12:41:57.771147Z",
     "iopub.status.idle": "2023-01-30T12:41:57.782252Z",
     "shell.execute_reply": "2023-01-30T12:41:57.781287Z"
    },
    "papermill": {
     "duration": 0.043604,
     "end_time": "2023-01-30T12:41:57.784250",
     "exception": false,
     "start_time": "2023-01-30T12:41:57.740646",
     "status": "completed"
    },
    "tags": []
   },
   "outputs": [
    {
     "data": {
      "text/plain": [
       "'find the objects that are hidden on the map.the game is a hidden object game. in which you need to find objects with a certain design in beautiful locations, and click on them with the mouse.the game is a 3d level game in which objects and characters are frozen in the picture, you have to find 20 different objects. the system automatically determines which object you need to find at the moment, so the game has a high replay value, you will need to search for different objects each time.'"
      ]
     },
     "execution_count": 27,
     "metadata": {},
     "output_type": "execute_result"
    }
   ],
   "source": [
    "duplicate_counts = duplicated_rows.value_counts()\n",
    "duplicated_rows['description'].to_list()[0]"
   ]
  },
  {
   "cell_type": "code",
   "execution_count": 28,
   "id": "422c0d6a",
   "metadata": {
    "execution": {
     "iopub.execute_input": "2023-01-30T12:41:57.844982Z",
     "iopub.status.busy": "2023-01-30T12:41:57.844213Z",
     "iopub.status.idle": "2023-01-30T12:41:57.848779Z",
     "shell.execute_reply": "2023-01-30T12:41:57.847929Z"
    },
    "papermill": {
     "duration": 0.036966,
     "end_time": "2023-01-30T12:41:57.850729",
     "exception": false,
     "start_time": "2023-01-30T12:41:57.813763",
     "status": "completed"
    },
    "tags": []
   },
   "outputs": [],
   "source": [
    "# df2[df2['description'] == ].shape[0]"
   ]
  },
  {
   "cell_type": "code",
   "execution_count": 29,
   "id": "42967dc2",
   "metadata": {
    "execution": {
     "iopub.execute_input": "2023-01-30T12:41:57.911746Z",
     "iopub.status.busy": "2023-01-30T12:41:57.910779Z",
     "iopub.status.idle": "2023-01-30T12:41:57.938195Z",
     "shell.execute_reply": "2023-01-30T12:41:57.937337Z"
    },
    "papermill": {
     "duration": 0.060285,
     "end_time": "2023-01-30T12:41:57.940204",
     "exception": false,
     "start_time": "2023-01-30T12:41:57.879919",
     "status": "completed"
    },
    "tags": []
   },
   "outputs": [
    {
     "data": {
      "text/html": [
       "<div>\n",
       "<style scoped>\n",
       "    .dataframe tbody tr th:only-of-type {\n",
       "        vertical-align: middle;\n",
       "    }\n",
       "\n",
       "    .dataframe tbody tr th {\n",
       "        vertical-align: top;\n",
       "    }\n",
       "\n",
       "    .dataframe thead th {\n",
       "        text-align: right;\n",
       "    }\n",
       "</style>\n",
       "<table border=\"1\" class=\"dataframe\">\n",
       "  <thead>\n",
       "    <tr style=\"text-align: right;\">\n",
       "      <th></th>\n",
       "      <th>title</th>\n",
       "      <th>r_date</th>\n",
       "      <th>price</th>\n",
       "      <th>description</th>\n",
       "      <th>review_type</th>\n",
       "      <th>review_stats</th>\n",
       "      <th>positive_percentage</th>\n",
       "      <th>total_reviews</th>\n",
       "      <th>tagged</th>\n",
       "      <th>game_id</th>\n",
       "    </tr>\n",
       "  </thead>\n",
       "  <tbody>\n",
       "    <tr>\n",
       "      <th>5864</th>\n",
       "      <td>hard west 2</td>\n",
       "      <td>2022-08-05</td>\n",
       "      <td>33.99</td>\n",
       "      <td></td>\n",
       "      <td>very positive(99)</td>\n",
       "      <td>87% of the 99 user reviews in the last 30 day...</td>\n",
       "      <td>87</td>\n",
       "      <td>99</td>\n",
       "      <td>turn-based strategy, western, turn-based tacti...</td>\n",
       "      <td>1282410</td>\n",
       "    </tr>\n",
       "    <tr>\n",
       "      <th>9851</th>\n",
       "      <td>lawnarchy</td>\n",
       "      <td>2022-03-29</td>\n",
       "      <td>6.69</td>\n",
       "      <td></td>\n",
       "      <td>positive(20)</td>\n",
       "      <td>100% of the 20 user reviews for this game are...</td>\n",
       "      <td>100</td>\n",
       "      <td>20</td>\n",
       "      <td>card game, hand-drawn, card battler, strategy,...</td>\n",
       "      <td>1796550</td>\n",
       "    </tr>\n",
       "    <tr>\n",
       "      <th>12290</th>\n",
       "      <td>indirection</td>\n",
       "      <td>2022-01-09</td>\n",
       "      <td>3.39</td>\n",
       "      <td></td>\n",
       "      <td>positive(10)</td>\n",
       "      <td>100% of the 10 user reviews for this game are...</td>\n",
       "      <td>100</td>\n",
       "      <td>10</td>\n",
       "      <td>platformer, puzzle, puzzle platformer, 2d plat...</td>\n",
       "      <td>1744450</td>\n",
       "    </tr>\n",
       "    <tr>\n",
       "      <th>13589</th>\n",
       "      <td>star pilot</td>\n",
       "      <td>2021-11-25</td>\n",
       "      <td>0.00</td>\n",
       "      <td></td>\n",
       "      <td>mixed(24)</td>\n",
       "      <td>66% of the 24 user reviews for this game are ...</td>\n",
       "      <td>66</td>\n",
       "      <td>24</td>\n",
       "      <td>pvp, action, multiplayer, space sim, shooter, ...</td>\n",
       "      <td>1564520</td>\n",
       "    </tr>\n",
       "    <tr>\n",
       "      <th>13616</th>\n",
       "      <td>deeeer simulator: your average everyday deer game</td>\n",
       "      <td>2021-11-24</td>\n",
       "      <td>17.49</td>\n",
       "      <td></td>\n",
       "      <td>very positive(59)</td>\n",
       "      <td>94% of the 59 user reviews in the last 30 day...</td>\n",
       "      <td>94</td>\n",
       "      <td>59</td>\n",
       "      <td>exploration, physics, sandbox, funny, third pe...</td>\n",
       "      <td>1018800</td>\n",
       "    </tr>\n",
       "    <tr>\n",
       "      <th>13792</th>\n",
       "      <td>the jewel of monostructure</td>\n",
       "      <td>2021-11-18</td>\n",
       "      <td>6.69</td>\n",
       "      <td></td>\n",
       "      <td>very positive(71)</td>\n",
       "      <td>100% of the 71 user reviews for this game are...</td>\n",
       "      <td>100</td>\n",
       "      <td>71</td>\n",
       "      <td>visual novel, dark fantasy, story rich, atmosp...</td>\n",
       "      <td>1644280</td>\n",
       "    </tr>\n",
       "    <tr>\n",
       "      <th>14717</th>\n",
       "      <td>perfectly balanced</td>\n",
       "      <td>2021-10-22</td>\n",
       "      <td>1.19</td>\n",
       "      <td></td>\n",
       "      <td>positive(25)</td>\n",
       "      <td>88% of the 25 user reviews for this game are ...</td>\n",
       "      <td>88</td>\n",
       "      <td>25</td>\n",
       "      <td>relaxing, logic, minimalist, puzzle, clicker, ...</td>\n",
       "      <td>1751780</td>\n",
       "    </tr>\n",
       "    <tr>\n",
       "      <th>15037</th>\n",
       "      <td>elechead</td>\n",
       "      <td>2021-10-14</td>\n",
       "      <td>11.49</td>\n",
       "      <td></td>\n",
       "      <td>very positive(36)</td>\n",
       "      <td>97% of the 36 user reviews in the last 30 day...</td>\n",
       "      <td>97</td>\n",
       "      <td>36</td>\n",
       "      <td>puzzle platformer, puzzle, platformer, linear,...</td>\n",
       "      <td>1456880</td>\n",
       "    </tr>\n",
       "    <tr>\n",
       "      <th>15488</th>\n",
       "      <td>my fluffy life</td>\n",
       "      <td>2021-10-01</td>\n",
       "      <td>5.69</td>\n",
       "      <td></td>\n",
       "      <td>very positive(66)</td>\n",
       "      <td>86% of the 66 user reviews for this game are ...</td>\n",
       "      <td>86</td>\n",
       "      <td>66</td>\n",
       "      <td>cute, relaxing, character customization, multi...</td>\n",
       "      <td>1686540</td>\n",
       "    </tr>\n",
       "    <tr>\n",
       "      <th>15564</th>\n",
       "      <td>alphadeck</td>\n",
       "      <td>2021-09-30</td>\n",
       "      <td>0.00</td>\n",
       "      <td></td>\n",
       "      <td>mixed(17)</td>\n",
       "      <td>41% of the 17 user reviews for this game are ...</td>\n",
       "      <td>41</td>\n",
       "      <td>17</td>\n",
       "      <td>card game, card battler, casual, deckbuilding,...</td>\n",
       "      <td>1558650</td>\n",
       "    </tr>\n",
       "    <tr>\n",
       "      <th>19133</th>\n",
       "      <td>tainted grail: conquest</td>\n",
       "      <td>2021-05-27</td>\n",
       "      <td>22.79</td>\n",
       "      <td></td>\n",
       "      <td>very positive(68)</td>\n",
       "      <td>86% of the 68 user reviews in the last 30 day...</td>\n",
       "      <td>86</td>\n",
       "      <td>68</td>\n",
       "      <td>deckbuilding, dark fantasy, card game, rogueli...</td>\n",
       "      <td>1199030</td>\n",
       "    </tr>\n",
       "    <tr>\n",
       "      <th>20559</th>\n",
       "      <td>rabbit riot</td>\n",
       "      <td>2021-04-05</td>\n",
       "      <td>5.69</td>\n",
       "      <td></td>\n",
       "      <td>positive(37)</td>\n",
       "      <td>91% of the 37 user reviews for this game are ...</td>\n",
       "      <td>91</td>\n",
       "      <td>37</td>\n",
       "      <td>adventure, runner, logic, hack and slash, expl...</td>\n",
       "      <td>1557230</td>\n",
       "    </tr>\n",
       "    <tr>\n",
       "      <th>20778</th>\n",
       "      <td>soul dossier</td>\n",
       "      <td>2021-03-01</td>\n",
       "      <td>0.00</td>\n",
       "      <td></td>\n",
       "      <td>very positive(403)</td>\n",
       "      <td>82% of the 403 user reviews in the last 30 da...</td>\n",
       "      <td>82</td>\n",
       "      <td>403</td>\n",
       "      <td>sexual content, nudity, free to play, mature, ...</td>\n",
       "      <td>1520470</td>\n",
       "    </tr>\n",
       "    <tr>\n",
       "      <th>20865</th>\n",
       "      <td>game of mafia</td>\n",
       "      <td>2021-03-26</td>\n",
       "      <td>11.49</td>\n",
       "      <td></td>\n",
       "      <td>very positive(88)</td>\n",
       "      <td>84% of the 88 user reviews for this game are ...</td>\n",
       "      <td>84</td>\n",
       "      <td>88</td>\n",
       "      <td>action, idler, arcade, visual novel, action-ad...</td>\n",
       "      <td>1485340</td>\n",
       "    </tr>\n",
       "    <tr>\n",
       "      <th>22505</th>\n",
       "      <td>two guys one cabin</td>\n",
       "      <td>2021-01-26</td>\n",
       "      <td>1.19</td>\n",
       "      <td></td>\n",
       "      <td>mostly positive(51)</td>\n",
       "      <td>74% of the 51 user reviews for this game are ...</td>\n",
       "      <td>74</td>\n",
       "      <td>51</td>\n",
       "      <td>drama, story rich, post-apocalyptic, first-per...</td>\n",
       "      <td>1518300</td>\n",
       "    </tr>\n",
       "    <tr>\n",
       "      <th>27442</th>\n",
       "      <td>boom blaster</td>\n",
       "      <td>2020-07-18</td>\n",
       "      <td>4.99</td>\n",
       "      <td></td>\n",
       "      <td>mixed(29)</td>\n",
       "      <td>68% of the 29 user reviews for this game are ...</td>\n",
       "      <td>68</td>\n",
       "      <td>29</td>\n",
       "      <td>action, indie, casual, adventure, shooter, 2d,...</td>\n",
       "      <td>1246230</td>\n",
       "    </tr>\n",
       "    <tr>\n",
       "      <th>30514</th>\n",
       "      <td>marco &amp; the galaxy dragon</td>\n",
       "      <td>2020-02-28</td>\n",
       "      <td>22.79</td>\n",
       "      <td></td>\n",
       "      <td>very positive(85)</td>\n",
       "      <td>98% of the 85 user reviews in the last 30 day...</td>\n",
       "      <td>98</td>\n",
       "      <td>85</td>\n",
       "      <td>visual novel, anime, adventure, female protago...</td>\n",
       "      <td>1202540</td>\n",
       "    </tr>\n",
       "    <tr>\n",
       "      <th>30566</th>\n",
       "      <td>relow</td>\n",
       "      <td>2020-02-27</td>\n",
       "      <td>8.99</td>\n",
       "      <td></td>\n",
       "      <td>positive(39)</td>\n",
       "      <td>89% of the 39 user reviews for this game are ...</td>\n",
       "      <td>89</td>\n",
       "      <td>39</td>\n",
       "      <td>action, indie, early access, massively multipl...</td>\n",
       "      <td>966070</td>\n",
       "    </tr>\n",
       "    <tr>\n",
       "      <th>32713</th>\n",
       "      <td>the princess, the stray cat, and matters of th...</td>\n",
       "      <td>2019-11-08</td>\n",
       "      <td>22.79</td>\n",
       "      <td></td>\n",
       "      <td>very positive(103)</td>\n",
       "      <td>94% of the 103 user reviews for this game are...</td>\n",
       "      <td>94</td>\n",
       "      <td>103</td>\n",
       "      <td>fantasy, magic, comedy, romance, anime, sexual...</td>\n",
       "      <td>1128260</td>\n",
       "    </tr>\n",
       "    <tr>\n",
       "      <th>32729</th>\n",
       "      <td>abode 2</td>\n",
       "      <td>2019-11-08</td>\n",
       "      <td>17.49</td>\n",
       "      <td></td>\n",
       "      <td>very positive(116)</td>\n",
       "      <td>81% of the 116 user reviews for this game are...</td>\n",
       "      <td>81</td>\n",
       "      <td>116</td>\n",
       "      <td>adventure, puzzle, sci-fi, atmospheric, vr</td>\n",
       "      <td>1147970</td>\n",
       "    </tr>\n",
       "    <tr>\n",
       "      <th>33563</th>\n",
       "      <td>aokana - four rhythms across the blue</td>\n",
       "      <td>2019-09-28</td>\n",
       "      <td>39.99</td>\n",
       "      <td></td>\n",
       "      <td>overwhelmingly positive(227)</td>\n",
       "      <td>99% of the 227 user reviews in the last 30 da...</td>\n",
       "      <td>99</td>\n",
       "      <td>227</td>\n",
       "      <td>visual novel, casual, anime, adventure, story ...</td>\n",
       "      <td>1044620</td>\n",
       "    </tr>\n",
       "    <tr>\n",
       "      <th>34751</th>\n",
       "      <td>bloody chronicles - new cycle of death visual ...</td>\n",
       "      <td>2019-08-02</td>\n",
       "      <td>22.79</td>\n",
       "      <td></td>\n",
       "      <td>mostly positive(80)</td>\n",
       "      <td>78% of the 80 user reviews for this game are ...</td>\n",
       "      <td>78</td>\n",
       "      <td>80</td>\n",
       "      <td>indie, visual novel, anime, adventure, simulat...</td>\n",
       "      <td>455310</td>\n",
       "    </tr>\n",
       "    <tr>\n",
       "      <th>35538</th>\n",
       "      <td>the princess, the stray cat, and matters of th...</td>\n",
       "      <td>2019-06-18</td>\n",
       "      <td>22.79</td>\n",
       "      <td></td>\n",
       "      <td>very positive(216)</td>\n",
       "      <td>88% of the 216 user reviews for this game are...</td>\n",
       "      <td>88</td>\n",
       "      <td>216</td>\n",
       "      <td>fantasy, magic, comedy, romance, anime, dating...</td>\n",
       "      <td>1010600</td>\n",
       "    </tr>\n",
       "    <tr>\n",
       "      <th>35724</th>\n",
       "      <td>sanator: scarlet scarf</td>\n",
       "      <td>2019-06-07</td>\n",
       "      <td>11.49</td>\n",
       "      <td></td>\n",
       "      <td>very positive(355)</td>\n",
       "      <td>90% of the 355 user reviews for this game are...</td>\n",
       "      <td>90</td>\n",
       "      <td>355</td>\n",
       "      <td>indie, adventure, visual novel, dark fantasy, ...</td>\n",
       "      <td>650330</td>\n",
       "    </tr>\n",
       "    <tr>\n",
       "      <th>35818</th>\n",
       "      <td>sankaku renai: love triangle trouble</td>\n",
       "      <td>2019-06-01</td>\n",
       "      <td>33.99</td>\n",
       "      <td></td>\n",
       "      <td>very positive(199)</td>\n",
       "      <td>94% of the 199 user reviews for this game are...</td>\n",
       "      <td>94</td>\n",
       "      <td>199</td>\n",
       "      <td>visual novel, anime, casual, adventure, simula...</td>\n",
       "      <td>1009450</td>\n",
       "    </tr>\n",
       "    <tr>\n",
       "      <th>36708</th>\n",
       "      <td>hello, goodbye</td>\n",
       "      <td>2019-04-19</td>\n",
       "      <td>33.99</td>\n",
       "      <td></td>\n",
       "      <td>positive(42)</td>\n",
       "      <td>90% of the 42 user reviews for this game are ...</td>\n",
       "      <td>90</td>\n",
       "      <td>42</td>\n",
       "      <td>simulation, casual, visual novel, romance, ani...</td>\n",
       "      <td>1009460</td>\n",
       "    </tr>\n",
       "    <tr>\n",
       "      <th>39936</th>\n",
       "      <td>sabbat of the witch</td>\n",
       "      <td>2018-10-27</td>\n",
       "      <td>33.99</td>\n",
       "      <td></td>\n",
       "      <td>very positive(52)</td>\n",
       "      <td>100% of the 52 user reviews in the last 30 da...</td>\n",
       "      <td>100</td>\n",
       "      <td>52</td>\n",
       "      <td>visual novel, anime, casual, adventure, cute, ...</td>\n",
       "      <td>888790</td>\n",
       "    </tr>\n",
       "    <tr>\n",
       "      <th>40769</th>\n",
       "      <td>hard work</td>\n",
       "      <td>2018-09-15</td>\n",
       "      <td>16.99</td>\n",
       "      <td></td>\n",
       "      <td>mostly positive(42)</td>\n",
       "      <td>76% of the 42 user reviews for this game are ...</td>\n",
       "      <td>76</td>\n",
       "      <td>42</td>\n",
       "      <td>casual, indie, simulation, sexual content, nud...</td>\n",
       "      <td>942800</td>\n",
       "    </tr>\n",
       "    <tr>\n",
       "      <th>41803</th>\n",
       "      <td>sleep tight</td>\n",
       "      <td>2018-07-27</td>\n",
       "      <td>5.69</td>\n",
       "      <td></td>\n",
       "      <td>mostly positive(36)</td>\n",
       "      <td>75% of the 36 user reviews for this game are ...</td>\n",
       "      <td>75</td>\n",
       "      <td>36</td>\n",
       "      <td>indie, action, strategy, shooter, tower defense</td>\n",
       "      <td>755670</td>\n",
       "    </tr>\n",
       "    <tr>\n",
       "      <th>48368</th>\n",
       "      <td>sonic mania</td>\n",
       "      <td>2017-08-30</td>\n",
       "      <td>26.99</td>\n",
       "      <td></td>\n",
       "      <td>very positive(255)</td>\n",
       "      <td>93% of the 255 user reviews in the last 30 da...</td>\n",
       "      <td>93</td>\n",
       "      <td>255</td>\n",
       "      <td>great soundtrack, 2d, platformer, retro, class...</td>\n",
       "      <td>584400</td>\n",
       "    </tr>\n",
       "    <tr>\n",
       "      <th>49747</th>\n",
       "      <td>the last tree</td>\n",
       "      <td>2017-06-01</td>\n",
       "      <td>2.19</td>\n",
       "      <td></td>\n",
       "      <td>mixed(22)</td>\n",
       "      <td>68% of the 22 user reviews for this game are ...</td>\n",
       "      <td>68</td>\n",
       "      <td>22</td>\n",
       "      <td>action, indie, adventure, singleplayer, puzzle...</td>\n",
       "      <td>605210</td>\n",
       "    </tr>\n",
       "    <tr>\n",
       "      <th>49844</th>\n",
       "      <td>quarantine</td>\n",
       "      <td>2017-05-24</td>\n",
       "      <td>10.99</td>\n",
       "      <td></td>\n",
       "      <td>mixed(315)</td>\n",
       "      <td>60% of the 315 user reviews for this game are...</td>\n",
       "      <td>60</td>\n",
       "      <td>315</td>\n",
       "      <td>strategy, outbreak sim, simulation, survival, ...</td>\n",
       "      <td>489370</td>\n",
       "    </tr>\n",
       "  </tbody>\n",
       "</table>\n",
       "</div>"
      ],
      "text/plain": [
       "                                                   title     r_date  price  \\\n",
       "5864                                         hard west 2 2022-08-05  33.99   \n",
       "9851                                           lawnarchy 2022-03-29   6.69   \n",
       "12290                                        indirection 2022-01-09   3.39   \n",
       "13589                                         star pilot 2021-11-25   0.00   \n",
       "13616  deeeer simulator: your average everyday deer game 2021-11-24  17.49   \n",
       "13792                         the jewel of monostructure 2021-11-18   6.69   \n",
       "14717                                 perfectly balanced 2021-10-22   1.19   \n",
       "15037                                           elechead 2021-10-14  11.49   \n",
       "15488                                     my fluffy life 2021-10-01   5.69   \n",
       "15564                                          alphadeck 2021-09-30   0.00   \n",
       "19133                            tainted grail: conquest 2021-05-27  22.79   \n",
       "20559                                        rabbit riot 2021-04-05   5.69   \n",
       "20778                                       soul dossier 2021-03-01   0.00   \n",
       "20865                                      game of mafia 2021-03-26  11.49   \n",
       "22505                                 two guys one cabin 2021-01-26   1.19   \n",
       "27442                                       boom blaster 2020-07-18   4.99   \n",
       "30514                          marco & the galaxy dragon 2020-02-28  22.79   \n",
       "30566                                              relow 2020-02-27   8.99   \n",
       "32713  the princess, the stray cat, and matters of th... 2019-11-08  22.79   \n",
       "32729                                            abode 2 2019-11-08  17.49   \n",
       "33563              aokana - four rhythms across the blue 2019-09-28  39.99   \n",
       "34751  bloody chronicles - new cycle of death visual ... 2019-08-02  22.79   \n",
       "35538  the princess, the stray cat, and matters of th... 2019-06-18  22.79   \n",
       "35724                             sanator: scarlet scarf 2019-06-07  11.49   \n",
       "35818               sankaku renai: love triangle trouble 2019-06-01  33.99   \n",
       "36708                                     hello, goodbye 2019-04-19  33.99   \n",
       "39936                                sabbat of the witch 2018-10-27  33.99   \n",
       "40769                                          hard work 2018-09-15  16.99   \n",
       "41803                                        sleep tight 2018-07-27   5.69   \n",
       "48368                                        sonic mania 2017-08-30  26.99   \n",
       "49747                                      the last tree 2017-06-01   2.19   \n",
       "49844                                         quarantine 2017-05-24  10.99   \n",
       "\n",
       "      description                   review_type  \\\n",
       "5864                          very positive(99)   \n",
       "9851                               positive(20)   \n",
       "12290                              positive(10)   \n",
       "13589                                 mixed(24)   \n",
       "13616                         very positive(59)   \n",
       "13792                         very positive(71)   \n",
       "14717                              positive(25)   \n",
       "15037                         very positive(36)   \n",
       "15488                         very positive(66)   \n",
       "15564                                 mixed(17)   \n",
       "19133                         very positive(68)   \n",
       "20559                              positive(37)   \n",
       "20778                        very positive(403)   \n",
       "20865                         very positive(88)   \n",
       "22505                       mostly positive(51)   \n",
       "27442                                 mixed(29)   \n",
       "30514                         very positive(85)   \n",
       "30566                              positive(39)   \n",
       "32713                        very positive(103)   \n",
       "32729                        very positive(116)   \n",
       "33563              overwhelmingly positive(227)   \n",
       "34751                       mostly positive(80)   \n",
       "35538                        very positive(216)   \n",
       "35724                        very positive(355)   \n",
       "35818                        very positive(199)   \n",
       "36708                              positive(42)   \n",
       "39936                         very positive(52)   \n",
       "40769                       mostly positive(42)   \n",
       "41803                       mostly positive(36)   \n",
       "48368                        very positive(255)   \n",
       "49747                                 mixed(22)   \n",
       "49844                                mixed(315)   \n",
       "\n",
       "                                            review_stats  positive_percentage  \\\n",
       "5864    87% of the 99 user reviews in the last 30 day...                   87   \n",
       "9851    100% of the 20 user reviews for this game are...                  100   \n",
       "12290   100% of the 10 user reviews for this game are...                  100   \n",
       "13589   66% of the 24 user reviews for this game are ...                   66   \n",
       "13616   94% of the 59 user reviews in the last 30 day...                   94   \n",
       "13792   100% of the 71 user reviews for this game are...                  100   \n",
       "14717   88% of the 25 user reviews for this game are ...                   88   \n",
       "15037   97% of the 36 user reviews in the last 30 day...                   97   \n",
       "15488   86% of the 66 user reviews for this game are ...                   86   \n",
       "15564   41% of the 17 user reviews for this game are ...                   41   \n",
       "19133   86% of the 68 user reviews in the last 30 day...                   86   \n",
       "20559   91% of the 37 user reviews for this game are ...                   91   \n",
       "20778   82% of the 403 user reviews in the last 30 da...                   82   \n",
       "20865   84% of the 88 user reviews for this game are ...                   84   \n",
       "22505   74% of the 51 user reviews for this game are ...                   74   \n",
       "27442   68% of the 29 user reviews for this game are ...                   68   \n",
       "30514   98% of the 85 user reviews in the last 30 day...                   98   \n",
       "30566   89% of the 39 user reviews for this game are ...                   89   \n",
       "32713   94% of the 103 user reviews for this game are...                   94   \n",
       "32729   81% of the 116 user reviews for this game are...                   81   \n",
       "33563   99% of the 227 user reviews in the last 30 da...                   99   \n",
       "34751   78% of the 80 user reviews for this game are ...                   78   \n",
       "35538   88% of the 216 user reviews for this game are...                   88   \n",
       "35724   90% of the 355 user reviews for this game are...                   90   \n",
       "35818   94% of the 199 user reviews for this game are...                   94   \n",
       "36708   90% of the 42 user reviews for this game are ...                   90   \n",
       "39936   100% of the 52 user reviews in the last 30 da...                  100   \n",
       "40769   76% of the 42 user reviews for this game are ...                   76   \n",
       "41803   75% of the 36 user reviews for this game are ...                   75   \n",
       "48368   93% of the 255 user reviews in the last 30 da...                   93   \n",
       "49747   68% of the 22 user reviews for this game are ...                   68   \n",
       "49844   60% of the 315 user reviews for this game are...                   60   \n",
       "\n",
       "       total_reviews                                             tagged  \\\n",
       "5864              99  turn-based strategy, western, turn-based tacti...   \n",
       "9851              20  card game, hand-drawn, card battler, strategy,...   \n",
       "12290             10  platformer, puzzle, puzzle platformer, 2d plat...   \n",
       "13589             24  pvp, action, multiplayer, space sim, shooter, ...   \n",
       "13616             59  exploration, physics, sandbox, funny, third pe...   \n",
       "13792             71  visual novel, dark fantasy, story rich, atmosp...   \n",
       "14717             25  relaxing, logic, minimalist, puzzle, clicker, ...   \n",
       "15037             36  puzzle platformer, puzzle, platformer, linear,...   \n",
       "15488             66  cute, relaxing, character customization, multi...   \n",
       "15564             17  card game, card battler, casual, deckbuilding,...   \n",
       "19133             68  deckbuilding, dark fantasy, card game, rogueli...   \n",
       "20559             37  adventure, runner, logic, hack and slash, expl...   \n",
       "20778            403  sexual content, nudity, free to play, mature, ...   \n",
       "20865             88  action, idler, arcade, visual novel, action-ad...   \n",
       "22505             51  drama, story rich, post-apocalyptic, first-per...   \n",
       "27442             29  action, indie, casual, adventure, shooter, 2d,...   \n",
       "30514             85  visual novel, anime, adventure, female protago...   \n",
       "30566             39  action, indie, early access, massively multipl...   \n",
       "32713            103  fantasy, magic, comedy, romance, anime, sexual...   \n",
       "32729            116         adventure, puzzle, sci-fi, atmospheric, vr   \n",
       "33563            227  visual novel, casual, anime, adventure, story ...   \n",
       "34751             80  indie, visual novel, anime, adventure, simulat...   \n",
       "35538            216  fantasy, magic, comedy, romance, anime, dating...   \n",
       "35724            355  indie, adventure, visual novel, dark fantasy, ...   \n",
       "35818            199  visual novel, anime, casual, adventure, simula...   \n",
       "36708             42  simulation, casual, visual novel, romance, ani...   \n",
       "39936             52  visual novel, anime, casual, adventure, cute, ...   \n",
       "40769             42  casual, indie, simulation, sexual content, nud...   \n",
       "41803             36    indie, action, strategy, shooter, tower defense   \n",
       "48368            255  great soundtrack, 2d, platformer, retro, class...   \n",
       "49747             22  action, indie, adventure, singleplayer, puzzle...   \n",
       "49844            315  strategy, outbreak sim, simulation, survival, ...   \n",
       "\n",
       "       game_id  \n",
       "5864   1282410  \n",
       "9851   1796550  \n",
       "12290  1744450  \n",
       "13589  1564520  \n",
       "13616  1018800  \n",
       "13792  1644280  \n",
       "14717  1751780  \n",
       "15037  1456880  \n",
       "15488  1686540  \n",
       "15564  1558650  \n",
       "19133  1199030  \n",
       "20559  1557230  \n",
       "20778  1520470  \n",
       "20865  1485340  \n",
       "22505  1518300  \n",
       "27442  1246230  \n",
       "30514  1202540  \n",
       "30566   966070  \n",
       "32713  1128260  \n",
       "32729  1147970  \n",
       "33563  1044620  \n",
       "34751   455310  \n",
       "35538  1010600  \n",
       "35724   650330  \n",
       "35818  1009450  \n",
       "36708  1009460  \n",
       "39936   888790  \n",
       "40769   942800  \n",
       "41803   755670  \n",
       "48368   584400  \n",
       "49747   605210  \n",
       "49844   489370  "
      ]
     },
     "execution_count": 29,
     "metadata": {},
     "output_type": "execute_result"
    }
   ],
   "source": [
    "#empty bcos they use images instead of typing out description\n",
    "df2[df2['description'] == '']"
   ]
  },
  {
   "cell_type": "code",
   "execution_count": 30,
   "id": "038dcb32",
   "metadata": {
    "execution": {
     "iopub.execute_input": "2023-01-30T12:41:58.002059Z",
     "iopub.status.busy": "2023-01-30T12:41:58.001266Z",
     "iopub.status.idle": "2023-01-30T12:41:58.016400Z",
     "shell.execute_reply": "2023-01-30T12:41:58.015591Z"
    },
    "papermill": {
     "duration": 0.047518,
     "end_time": "2023-01-30T12:41:58.018371",
     "exception": false,
     "start_time": "2023-01-30T12:41:57.970853",
     "status": "completed"
    },
    "tags": []
   },
   "outputs": [],
   "source": [
    "whitespace_only_rows = df2['description'].apply(lambda x: x.isspace())"
   ]
  },
  {
   "cell_type": "code",
   "execution_count": 31,
   "id": "3d2e456f",
   "metadata": {
    "execution": {
     "iopub.execute_input": "2023-01-30T12:41:58.079592Z",
     "iopub.status.busy": "2023-01-30T12:41:58.078777Z",
     "iopub.status.idle": "2023-01-30T12:41:58.083158Z",
     "shell.execute_reply": "2023-01-30T12:41:58.082303Z"
    },
    "papermill": {
     "duration": 0.036865,
     "end_time": "2023-01-30T12:41:58.085138",
     "exception": false,
     "start_time": "2023-01-30T12:41:58.048273",
     "status": "completed"
    },
    "tags": []
   },
   "outputs": [],
   "source": [
    "# re.find_all(df['description'])"
   ]
  },
  {
   "cell_type": "code",
   "execution_count": 32,
   "id": "4f44db89",
   "metadata": {
    "execution": {
     "iopub.execute_input": "2023-01-30T12:41:58.146848Z",
     "iopub.status.busy": "2023-01-30T12:41:58.145982Z",
     "iopub.status.idle": "2023-01-30T12:41:58.160210Z",
     "shell.execute_reply": "2023-01-30T12:41:58.159215Z"
    },
    "papermill": {
     "duration": 0.046673,
     "end_time": "2023-01-30T12:41:58.162171",
     "exception": false,
     "start_time": "2023-01-30T12:41:58.115498",
     "status": "completed"
    },
    "tags": []
   },
   "outputs": [
    {
     "data": {
      "text/html": [
       "<div>\n",
       "<style scoped>\n",
       "    .dataframe tbody tr th:only-of-type {\n",
       "        vertical-align: middle;\n",
       "    }\n",
       "\n",
       "    .dataframe tbody tr th {\n",
       "        vertical-align: top;\n",
       "    }\n",
       "\n",
       "    .dataframe thead th {\n",
       "        text-align: right;\n",
       "    }\n",
       "</style>\n",
       "<table border=\"1\" class=\"dataframe\">\n",
       "  <thead>\n",
       "    <tr style=\"text-align: right;\">\n",
       "      <th></th>\n",
       "      <th>title</th>\n",
       "      <th>r_date</th>\n",
       "      <th>price</th>\n",
       "      <th>description</th>\n",
       "      <th>review_type</th>\n",
       "      <th>review_stats</th>\n",
       "      <th>positive_percentage</th>\n",
       "      <th>total_reviews</th>\n",
       "      <th>tagged</th>\n",
       "      <th>game_id</th>\n",
       "    </tr>\n",
       "  </thead>\n",
       "  <tbody>\n",
       "  </tbody>\n",
       "</table>\n",
       "</div>"
      ],
      "text/plain": [
       "Empty DataFrame\n",
       "Columns: [title, r_date, price, description, review_type, review_stats, positive_percentage, total_reviews, tagged, game_id]\n",
       "Index: []"
      ]
     },
     "execution_count": 32,
     "metadata": {},
     "output_type": "execute_result"
    }
   ],
   "source": [
    "df2[df2['description'] == \"boom blaster, 2020-07-18 00:00:00, 4.99, , mixed(29),  68% of the 29 user reviews for this game are positive., 68, 29, action, indie, casual, adventure, shooter, 2d, combat, nature, hero shooter, dungeon crawler, shoot 'em up, puzzle, education\"]"
   ]
  },
  {
   "cell_type": "code",
   "execution_count": 33,
   "id": "6bcfc54a",
   "metadata": {
    "execution": {
     "iopub.execute_input": "2023-01-30T12:41:58.224721Z",
     "iopub.status.busy": "2023-01-30T12:41:58.224427Z",
     "iopub.status.idle": "2023-01-30T12:41:58.246955Z",
     "shell.execute_reply": "2023-01-30T12:41:58.245919Z"
    },
    "papermill": {
     "duration": 0.055818,
     "end_time": "2023-01-30T12:41:58.249185",
     "exception": false,
     "start_time": "2023-01-30T12:41:58.193367",
     "status": "completed"
    },
    "tags": []
   },
   "outputs": [
    {
     "data": {
      "text/html": [
       "<div>\n",
       "<style scoped>\n",
       "    .dataframe tbody tr th:only-of-type {\n",
       "        vertical-align: middle;\n",
       "    }\n",
       "\n",
       "    .dataframe tbody tr th {\n",
       "        vertical-align: top;\n",
       "    }\n",
       "\n",
       "    .dataframe thead th {\n",
       "        text-align: right;\n",
       "    }\n",
       "</style>\n",
       "<table border=\"1\" class=\"dataframe\">\n",
       "  <thead>\n",
       "    <tr style=\"text-align: right;\">\n",
       "      <th></th>\n",
       "      <th>title</th>\n",
       "      <th>r_date</th>\n",
       "      <th>price</th>\n",
       "      <th>description</th>\n",
       "      <th>review_type</th>\n",
       "      <th>review_stats</th>\n",
       "      <th>positive_percentage</th>\n",
       "      <th>total_reviews</th>\n",
       "      <th>tagged</th>\n",
       "      <th>game_id</th>\n",
       "    </tr>\n",
       "  </thead>\n",
       "  <tbody>\n",
       "    <tr>\n",
       "      <th>0</th>\n",
       "      <td>persona 3 portable</td>\n",
       "      <td>2023-01-18</td>\n",
       "      <td>27.99</td>\n",
       "      <td>experience the iconic, critically acclaimed rp...</td>\n",
       "      <td>mostly positive(771)</td>\n",
       "      <td>74% of the 771 user reviews for this game are...</td>\n",
       "      <td>74</td>\n",
       "      <td>771</td>\n",
       "      <td>rpg, story rich, anime, turn-based combat, jrp...</td>\n",
       "      <td>1809700</td>\n",
       "    </tr>\n",
       "    <tr>\n",
       "      <th>2</th>\n",
       "      <td>fraymakers</td>\n",
       "      <td>2023-01-18</td>\n",
       "      <td>22.79</td>\n",
       "      <td>what is fraymakers?fraymakers is the ultimate ...</td>\n",
       "      <td>mixed(214)</td>\n",
       "      <td>68% of the 214 user reviews for this game are...</td>\n",
       "      <td>68</td>\n",
       "      <td>214</td>\n",
       "      <td>indie, fighting, 2d fighter, multiplayer, acti...</td>\n",
       "      <td>1420350</td>\n",
       "    </tr>\n",
       "    <tr>\n",
       "      <th>7</th>\n",
       "      <td>osiris: new dawn</td>\n",
       "      <td>2023-01-18</td>\n",
       "      <td>39.99</td>\n",
       "      <td>inspired by the edgier side of sci fi, osiris:...</td>\n",
       "      <td>mostly negative(127)</td>\n",
       "      <td>31% of the 127 user reviews in the last 30 da...</td>\n",
       "      <td>31</td>\n",
       "      <td>127</td>\n",
       "      <td>open world survival craft, horror, survival, s...</td>\n",
       "      <td>402710</td>\n",
       "    </tr>\n",
       "    <tr>\n",
       "      <th>8</th>\n",
       "      <td>lake haven - chrysalis</td>\n",
       "      <td>2023-01-18</td>\n",
       "      <td>3.89</td>\n",
       "      <td>on october 7th, at 9 pm the kansas police depa...</td>\n",
       "      <td>positive(27)</td>\n",
       "      <td>100% of the 27 user reviews for this game are...</td>\n",
       "      <td>100</td>\n",
       "      <td>27</td>\n",
       "      <td>third person, exploration, singleplayer, adven...</td>\n",
       "      <td>1696960</td>\n",
       "    </tr>\n",
       "    <tr>\n",
       "      <th>15</th>\n",
       "      <td>graze counter gm</td>\n",
       "      <td>2023-01-18</td>\n",
       "      <td>19.49</td>\n",
       "      <td>overviewa refreshing and highly re-playable bu...</td>\n",
       "      <td>positive(24)</td>\n",
       "      <td>100% of the 24 user reviews for this game are...</td>\n",
       "      <td>100</td>\n",
       "      <td>24</td>\n",
       "      <td>action, shoot 'em up, bullet hell, anime, arca...</td>\n",
       "      <td>1486440</td>\n",
       "    </tr>\n",
       "    <tr>\n",
       "      <th>...</th>\n",
       "      <td>...</td>\n",
       "      <td>...</td>\n",
       "      <td>...</td>\n",
       "      <td>...</td>\n",
       "      <td>...</td>\n",
       "      <td>...</td>\n",
       "      <td>...</td>\n",
       "      <td>...</td>\n",
       "      <td>...</td>\n",
       "      <td>...</td>\n",
       "    </tr>\n",
       "    <tr>\n",
       "      <th>49991</th>\n",
       "      <td>the end o,,,o</td>\n",
       "      <td>2017-05-12</td>\n",
       "      <td>0.00</td>\n",
       "      <td>a short game about the day things got weird. y...</td>\n",
       "      <td>mixed(180)</td>\n",
       "      <td>65% of the 180 user reviews for this game are...</td>\n",
       "      <td>65</td>\n",
       "      <td>180</td>\n",
       "      <td>indie, minimalist, stylized, horror, atmospher...</td>\n",
       "      <td>509880</td>\n",
       "    </tr>\n",
       "    <tr>\n",
       "      <th>49992</th>\n",
       "      <td>plasma puncher</td>\n",
       "      <td>2017-05-12</td>\n",
       "      <td>6.69</td>\n",
       "      <td>the life of a white blood cell ain't easy, esp...</td>\n",
       "      <td>very positive(57)</td>\n",
       "      <td>91% of the 57 user reviews for this game are ...</td>\n",
       "      <td>91</td>\n",
       "      <td>57</td>\n",
       "      <td>beat 'em up, action, casual, indie, action-adv...</td>\n",
       "      <td>602070</td>\n",
       "    </tr>\n",
       "    <tr>\n",
       "      <th>49994</th>\n",
       "      <td>void rangers</td>\n",
       "      <td>2017-05-12</td>\n",
       "      <td>12.99</td>\n",
       "      <td>quotes from reviews\"if you wondered what space...</td>\n",
       "      <td>positive(35)</td>\n",
       "      <td>80% of the 35 user reviews for this game are ...</td>\n",
       "      <td>80</td>\n",
       "      <td>35</td>\n",
       "      <td>action, indie, vr, shooter, loot</td>\n",
       "      <td>529360</td>\n",
       "    </tr>\n",
       "    <tr>\n",
       "      <th>49995</th>\n",
       "      <td>stay! stay! democratic people's republic of ko...</td>\n",
       "      <td>2017-05-12</td>\n",
       "      <td>10.99</td>\n",
       "      <td>story the year is 2021, america is back in afg...</td>\n",
       "      <td>very positive(480)</td>\n",
       "      <td>93% of the 480 user reviews for this game are...</td>\n",
       "      <td>93</td>\n",
       "      <td>480</td>\n",
       "      <td>memes, anime, visual novel, nudity, sexual con...</td>\n",
       "      <td>512060</td>\n",
       "    </tr>\n",
       "    <tr>\n",
       "      <th>49996</th>\n",
       "      <td>seed of the arcane , episode 1</td>\n",
       "      <td>2017-05-12</td>\n",
       "      <td>16.99</td>\n",
       "      <td>****this game is on alpha test - please read t...</td>\n",
       "      <td>mostly negative(29)</td>\n",
       "      <td>27% of the 29 user reviews for this game are ...</td>\n",
       "      <td>27</td>\n",
       "      <td>29</td>\n",
       "      <td>rpg, nudity, adventure, indie, early access, g...</td>\n",
       "      <td>601020</td>\n",
       "    </tr>\n",
       "  </tbody>\n",
       "</table>\n",
       "<p>17889 rows × 10 columns</p>\n",
       "</div>"
      ],
      "text/plain": [
       "                                                   title     r_date  price  \\\n",
       "0                                     persona 3 portable 2023-01-18  27.99   \n",
       "2                                             fraymakers 2023-01-18  22.79   \n",
       "7                                       osiris: new dawn 2023-01-18  39.99   \n",
       "8                                 lake haven - chrysalis 2023-01-18   3.89   \n",
       "15                                      graze counter gm 2023-01-18  19.49   \n",
       "...                                                  ...        ...    ...   \n",
       "49991                                      the end o,,,o 2017-05-12   0.00   \n",
       "49992                                     plasma puncher 2017-05-12   6.69   \n",
       "49994                                       void rangers 2017-05-12  12.99   \n",
       "49995  stay! stay! democratic people's republic of ko... 2017-05-12  10.99   \n",
       "49996                     seed of the arcane , episode 1 2017-05-12  16.99   \n",
       "\n",
       "                                             description  \\\n",
       "0      experience the iconic, critically acclaimed rp...   \n",
       "2      what is fraymakers?fraymakers is the ultimate ...   \n",
       "7      inspired by the edgier side of sci fi, osiris:...   \n",
       "8      on october 7th, at 9 pm the kansas police depa...   \n",
       "15     overviewa refreshing and highly re-playable bu...   \n",
       "...                                                  ...   \n",
       "49991  a short game about the day things got weird. y...   \n",
       "49992  the life of a white blood cell ain't easy, esp...   \n",
       "49994  quotes from reviews\"if you wondered what space...   \n",
       "49995  story the year is 2021, america is back in afg...   \n",
       "49996  ****this game is on alpha test - please read t...   \n",
       "\n",
       "                review_type  \\\n",
       "0      mostly positive(771)   \n",
       "2                mixed(214)   \n",
       "7      mostly negative(127)   \n",
       "8              positive(27)   \n",
       "15             positive(24)   \n",
       "...                     ...   \n",
       "49991            mixed(180)   \n",
       "49992     very positive(57)   \n",
       "49994          positive(35)   \n",
       "49995    very positive(480)   \n",
       "49996   mostly negative(29)   \n",
       "\n",
       "                                            review_stats  positive_percentage  \\\n",
       "0       74% of the 771 user reviews for this game are...                   74   \n",
       "2       68% of the 214 user reviews for this game are...                   68   \n",
       "7       31% of the 127 user reviews in the last 30 da...                   31   \n",
       "8       100% of the 27 user reviews for this game are...                  100   \n",
       "15      100% of the 24 user reviews for this game are...                  100   \n",
       "...                                                  ...                  ...   \n",
       "49991   65% of the 180 user reviews for this game are...                   65   \n",
       "49992   91% of the 57 user reviews for this game are ...                   91   \n",
       "49994   80% of the 35 user reviews for this game are ...                   80   \n",
       "49995   93% of the 480 user reviews for this game are...                   93   \n",
       "49996   27% of the 29 user reviews for this game are ...                   27   \n",
       "\n",
       "       total_reviews                                             tagged  \\\n",
       "0                771  rpg, story rich, anime, turn-based combat, jrp...   \n",
       "2                214  indie, fighting, 2d fighter, multiplayer, acti...   \n",
       "7                127  open world survival craft, horror, survival, s...   \n",
       "8                 27  third person, exploration, singleplayer, adven...   \n",
       "15                24  action, shoot 'em up, bullet hell, anime, arca...   \n",
       "...              ...                                                ...   \n",
       "49991            180  indie, minimalist, stylized, horror, atmospher...   \n",
       "49992             57  beat 'em up, action, casual, indie, action-adv...   \n",
       "49994             35                   action, indie, vr, shooter, loot   \n",
       "49995            480  memes, anime, visual novel, nudity, sexual con...   \n",
       "49996             29  rpg, nudity, adventure, indie, early access, g...   \n",
       "\n",
       "       game_id  \n",
       "0      1809700  \n",
       "2      1420350  \n",
       "7       402710  \n",
       "8      1696960  \n",
       "15     1486440  \n",
       "...        ...  \n",
       "49991   509880  \n",
       "49992   602070  \n",
       "49994   529360  \n",
       "49995   512060  \n",
       "49996   601020  \n",
       "\n",
       "[17889 rows x 10 columns]"
      ]
     },
     "execution_count": 33,
     "metadata": {},
     "output_type": "execute_result"
    }
   ],
   "source": [
    "df2[df2['total_reviews']> 20]"
   ]
  },
  {
   "cell_type": "code",
   "execution_count": 34,
   "id": "c5e5d71b",
   "metadata": {
    "execution": {
     "iopub.execute_input": "2023-01-30T12:41:58.313061Z",
     "iopub.status.busy": "2023-01-30T12:41:58.312500Z",
     "iopub.status.idle": "2023-01-30T12:41:58.707497Z",
     "shell.execute_reply": "2023-01-30T12:41:58.706386Z"
    },
    "papermill": {
     "duration": 0.429011,
     "end_time": "2023-01-30T12:41:58.709712",
     "exception": false,
     "start_time": "2023-01-30T12:41:58.280701",
     "status": "completed"
    },
    "tags": []
   },
   "outputs": [
    {
     "data": {
      "image/png": "[encoded data removed]",
      "text/plain": [
       "<Figure size 1440x720 with 1 Axes>"
      ]
     },
     "metadata": {
      "needs_background": "light"
     },
     "output_type": "display_data"
    }
   ],
   "source": [
    "plt.figure(figsize=(20,10))\n",
    "sns.histplot(data = df2[df2['total_reviews']>=100], x='total_reviews', bins=100)\n",
    "plt.title('Fig. 1 - Reviews Per Game(with at least more than 100)', fontdict={'fontsize':20})\n",
    "plt.xlabel('Total number of reviews per game');"
   ]
  },
  {
   "cell_type": "markdown",
   "id": "49bfa695",
   "metadata": {
    "papermill": {
     "duration": 0.031032,
     "end_time": "2023-01-30T12:41:58.771833",
     "exception": false,
     "start_time": "2023-01-30T12:41:58.740801",
     "status": "completed"
    },
    "tags": []
   },
   "source": [
    "Looking at Fig 1, there are less number of games as the number of reviews per game increase. That makes sense, as from our domain understanding in gaming, there will be more reviews for more popular games due to the amount of people playing that particular game.  "
   ]
  },
  {
   "cell_type": "code",
   "execution_count": 35,
   "id": "7e48918b",
   "metadata": {
    "execution": {
     "iopub.execute_input": "2023-01-30T12:41:58.836034Z",
     "iopub.status.busy": "2023-01-30T12:41:58.835411Z",
     "iopub.status.idle": "2023-01-30T12:41:58.843611Z",
     "shell.execute_reply": "2023-01-30T12:41:58.842765Z"
    },
    "papermill": {
     "duration": 0.042457,
     "end_time": "2023-01-30T12:41:58.845536",
     "exception": false,
     "start_time": "2023-01-30T12:41:58.803079",
     "status": "completed"
    },
    "tags": []
   },
   "outputs": [],
   "source": [
    "positive_vals = df2[df2['total_reviews']>=100]['positive_percentage'].unique()"
   ]
  },
  {
   "cell_type": "code",
   "execution_count": 36,
   "id": "92fc0bdb",
   "metadata": {
    "execution": {
     "iopub.execute_input": "2023-01-30T12:41:58.909566Z",
     "iopub.status.busy": "2023-01-30T12:41:58.907987Z",
     "iopub.status.idle": "2023-01-30T12:41:59.910443Z",
     "shell.execute_reply": "2023-01-30T12:41:59.909118Z"
    },
    "papermill": {
     "duration": 1.038062,
     "end_time": "2023-01-30T12:41:59.914153",
     "exception": false,
     "start_time": "2023-01-30T12:41:58.876091",
     "status": "completed"
    },
    "tags": []
   },
   "outputs": [
    {
     "data": {
      "image/png": "[encoded data removed]",
      "text/plain": [
       "<Figure size 1152x720 with 1 Axes>"
      ]
     },
     "metadata": {
      "needs_background": "light"
     },
     "output_type": "display_data"
    }
   ],
   "source": [
    "plt.figure(figsize=(16,10))\n",
    "sns.histplot(data = df2[df2['total_reviews']>=100], x='positive_percentage')\n",
    "plt.title('Fig. 2 - Positive Reviews Per Game(with at least more than 100 reviews each)', fontdict={'fontsize':20})\n",
    "plt.xticks(ticks = positive_vals, rotation = 90);"
   ]
  },
  {
   "cell_type": "markdown",
   "id": "ecbf3165",
   "metadata": {
    "papermill": {
     "duration": 0.054303,
     "end_time": "2023-01-30T12:42:00.024747",
     "exception": false,
     "start_time": "2023-01-30T12:41:59.970444",
     "status": "completed"
    },
    "tags": []
   },
   "source": [
    "In Fig.2, there is a sharp increase in the counts of 75% positive reviews. Perhaps we can consider that as our threshold to measure success for a game. "
   ]
  },
  {
   "cell_type": "code",
   "execution_count": 37,
   "id": "27709ca1",
   "metadata": {
    "execution": {
     "iopub.execute_input": "2023-01-30T12:42:00.125420Z",
     "iopub.status.busy": "2023-01-30T12:42:00.124799Z",
     "iopub.status.idle": "2023-01-30T12:42:00.139897Z",
     "shell.execute_reply": "2023-01-30T12:42:00.138978Z"
    },
    "papermill": {
     "duration": 0.068639,
     "end_time": "2023-01-30T12:42:00.143935",
     "exception": false,
     "start_time": "2023-01-30T12:42:00.075296",
     "status": "completed"
    },
    "tags": []
   },
   "outputs": [
    {
     "data": {
      "text/plain": [
       "70.0"
      ]
     },
     "execution_count": 37,
     "metadata": {},
     "output_type": "execute_result"
    }
   ],
   "source": [
    "df2['positive_percentage'].quantile(0.3)"
   ]
  },
  {
   "cell_type": "code",
   "execution_count": 38,
   "id": "8771c87e",
   "metadata": {
    "execution": {
     "iopub.execute_input": "2023-01-30T12:42:00.251093Z",
     "iopub.status.busy": "2023-01-30T12:42:00.250627Z",
     "iopub.status.idle": "2023-01-30T12:42:00.264690Z",
     "shell.execute_reply": "2023-01-30T12:42:00.263642Z"
    },
    "papermill": {
     "duration": 0.073975,
     "end_time": "2023-01-30T12:42:00.267790",
     "exception": false,
     "start_time": "2023-01-30T12:42:00.193815",
     "status": "completed"
    },
    "tags": []
   },
   "outputs": [
    {
     "data": {
      "text/plain": [
       "80.0"
      ]
     },
     "execution_count": 38,
     "metadata": {},
     "output_type": "execute_result"
    }
   ],
   "source": [
    "df2['positive_percentage'].quantile(0.48)"
   ]
  },
  {
   "cell_type": "code",
   "execution_count": 39,
   "id": "2c567c23",
   "metadata": {
    "execution": {
     "iopub.execute_input": "2023-01-30T12:42:00.382426Z",
     "iopub.status.busy": "2023-01-30T12:42:00.381959Z",
     "iopub.status.idle": "2023-01-30T12:42:00.400849Z",
     "shell.execute_reply": "2023-01-30T12:42:00.399127Z"
    },
    "papermill": {
     "duration": 0.081342,
     "end_time": "2023-01-30T12:42:00.404281",
     "exception": false,
     "start_time": "2023-01-30T12:42:00.322939",
     "status": "completed"
    },
    "tags": []
   },
   "outputs": [
    {
     "name": "stderr",
     "output_type": "stream",
     "text": [
      "/opt/conda/lib/python3.7/site-packages/ipykernel_launcher.py:5: SettingWithCopyWarning: \n",
      "A value is trying to be set on a copy of a slice from a DataFrame.\n",
      "Try using .loc[row_indexer,col_indexer] = value instead\n",
      "\n",
      "See the caveats in the documentation: https://pandas.pydata.org/pandas-docs/stable/user_guide/indexing.html#returning-a-view-versus-a-copy\n",
      "  \"\"\"\n"
     ]
    }
   ],
   "source": [
    "df2_filtered = df2[df2['total_reviews'] >= 100]\n",
    "df2_filtered['total_review_bins'] =pd.cut(df2_filtered[\"total_reviews\"],\n",
    "                                          bins=[100,200,300,400,500,600,700,800,900,1000],\n",
    "                                         labels=['0-100',\"100-200\", \"200-300\", \"300-400\", \"400-500\",\n",
    "                                                 '500-600','600-700','800-900','900-1000']) \n",
    "                                          \n"
   ]
  },
  {
   "cell_type": "code",
   "execution_count": 40,
   "id": "a74aa182",
   "metadata": {
    "execution": {
     "iopub.execute_input": "2023-01-30T12:42:00.502257Z",
     "iopub.status.busy": "2023-01-30T12:42:00.501800Z",
     "iopub.status.idle": "2023-01-30T12:42:00.506938Z",
     "shell.execute_reply": "2023-01-30T12:42:00.506081Z"
    },
    "papermill": {
     "duration": 0.057118,
     "end_time": "2023-01-30T12:42:00.510949",
     "exception": false,
     "start_time": "2023-01-30T12:42:00.453831",
     "status": "completed"
    },
    "tags": []
   },
   "outputs": [],
   "source": [
    "# plt.figure(figsize=(15,20))\n",
    "\n",
    "# plt.subplot(2,1,1)\n",
    "# sns.boxplot(df2_filtered, x='total_review_bins', y = 'positive_percentage')\n",
    "# plt.title('Fig. 3a - Number of Positive Reviews over Number of Total Reviews Per Game', fontdict={'fontsize':15})\n",
    "# plt.ylabel('Positive Review Percentage Per Game')\n",
    "# plt.xlabel('Total Number of Reviews Per Game')\n",
    "\n",
    "# plt.subplot(2,1,2)\n",
    "# sns.violinplot(df2_filtered, x='total_review_bins', y = 'positive_percentage')\n",
    "# plt.title('Fig. 3b - Number of Positive Reviews over Number of Total Reviews Per Game', fontdict={'fontsize':15})\n",
    "# plt.ylabel('Positive Review Percentage Per Game')\n",
    "# plt.xlabel('Total Number of Reviews Per Game');"
   ]
  },
  {
   "cell_type": "markdown",
   "id": "2bf543a3",
   "metadata": {
    "papermill": {
     "duration": 0.047205,
     "end_time": "2023-01-30T12:42:00.605051",
     "exception": false,
     "start_time": "2023-01-30T12:42:00.557846",
     "status": "completed"
    },
    "tags": []
   },
   "source": [
    "We have grouped the games according to their number of reviews given by the 100s. <br>\n",
    "We see from Fig. 3a that there are usually more outliers in games that has lower number of reviews.\n",
    "<br>\n",
    "From Fig.3b, we also observe that there are substantial amount of games that have been positively reviewed in each group. "
   ]
  },
  {
   "cell_type": "markdown",
   "id": "63507585",
   "metadata": {
    "papermill": {
     "duration": 0.049215,
     "end_time": "2023-01-30T12:42:00.701417",
     "exception": false,
     "start_time": "2023-01-30T12:42:00.652202",
     "status": "completed"
    },
    "tags": []
   },
   "source": [
    "Lets explore if there is any relation between released date, price and positive reviews."
   ]
  },
  {
   "cell_type": "code",
   "execution_count": 41,
   "id": "291d68dd",
   "metadata": {
    "execution": {
     "iopub.execute_input": "2023-01-30T12:42:00.797709Z",
     "iopub.status.busy": "2023-01-30T12:42:00.797302Z",
     "iopub.status.idle": "2023-01-30T12:42:00.809680Z",
     "shell.execute_reply": "2023-01-30T12:42:00.808831Z"
    },
    "papermill": {
     "duration": 0.063192,
     "end_time": "2023-01-30T12:42:00.812270",
     "exception": false,
     "start_time": "2023-01-30T12:42:00.749078",
     "status": "completed"
    },
    "tags": []
   },
   "outputs": [
    {
     "name": "stderr",
     "output_type": "stream",
     "text": [
      "/opt/conda/lib/python3.7/site-packages/ipykernel_launcher.py:3: SettingWithCopyWarning: \n",
      "A value is trying to be set on a copy of a slice from a DataFrame.\n",
      "Try using .loc[row_indexer,col_indexer] = value instead\n",
      "\n",
      "See the caveats in the documentation: https://pandas.pydata.org/pandas-docs/stable/user_guide/indexing.html#returning-a-view-versus-a-copy\n",
      "  This is separate from the ipykernel package so we can avoid doing imports until\n"
     ]
    }
   ],
   "source": [
    "### Creating new feature year and including into analysis \n",
    "\n",
    "df2['r_year'] = df2['r_date'].dt.year\n"
   ]
  },
  {
   "cell_type": "code",
   "execution_count": 42,
   "id": "0817fc58",
   "metadata": {
    "execution": {
     "iopub.execute_input": "2023-01-30T12:42:00.907704Z",
     "iopub.status.busy": "2023-01-30T12:42:00.907321Z",
     "iopub.status.idle": "2023-01-30T12:42:01.646396Z",
     "shell.execute_reply": "2023-01-30T12:42:01.645072Z"
    },
    "papermill": {
     "duration": 0.791509,
     "end_time": "2023-01-30T12:42:01.651012",
     "exception": false,
     "start_time": "2023-01-30T12:42:00.859503",
     "status": "completed"
    },
    "tags": []
   },
   "outputs": [],
   "source": [
    "import statsmodels.api as sm\n",
    "from sklearn.preprocessing import StandardScaler\n",
    "\n",
    "### Define the independent and dependent variables\n",
    "\n",
    "x = df2[['price','r_year','total_reviews']]\n",
    "y = df2['positive_percentage']\n",
    "\n",
    "### Scaling independent variables\n",
    "scaler = StandardScaler()\n",
    "x_scaled = scaler.fit_transform(x)\n",
    "\n",
    "# Add a constant to the independent variable\n",
    "x = sm.add_constant(x)\n",
    "\n",
    "\n",
    "# Fitting OLS model\n",
    "\n",
    "model = sm.OLS(y,x).fit()\n",
    "\n",
    "        \n",
    "        "
   ]
  },
  {
   "cell_type": "code",
   "execution_count": 43,
   "id": "679b704f",
   "metadata": {
    "execution": {
     "iopub.execute_input": "2023-01-30T12:42:01.794255Z",
     "iopub.status.busy": "2023-01-30T12:42:01.793915Z",
     "iopub.status.idle": "2023-01-30T12:42:01.829941Z",
     "shell.execute_reply": "2023-01-30T12:42:01.828550Z"
    },
    "papermill": {
     "duration": 0.098425,
     "end_time": "2023-01-30T12:42:01.833483",
     "exception": false,
     "start_time": "2023-01-30T12:42:01.735058",
     "status": "completed"
    },
    "tags": []
   },
   "outputs": [
    {
     "data": {
      "text/html": [
       "<table class=\"simpletable\">\n",
       "<caption>OLS Regression Results</caption>\n",
       "<tr>\n",
       "  <th>Dep. Variable:</th>    <td>positive_percentage</td> <th>  R-squared:         </th>  <td>   0.035</td>  \n",
       "</tr>\n",
       "<tr>\n",
       "  <th>Model:</th>                    <td>OLS</td>         <th>  Adj. R-squared:    </th>  <td>   0.035</td>  \n",
       "</tr>\n",
       "<tr>\n",
       "  <th>Method:</th>              <td>Least Squares</td>    <th>  F-statistic:       </th>  <td>   326.3</td>  \n",
       "</tr>\n",
       "<tr>\n",
       "  <th>Date:</th>              <td>Mon, 30 Jan 2023</td>   <th>  Prob (F-statistic):</th>  <td>4.08e-208</td> \n",
       "</tr>\n",
       "<tr>\n",
       "  <th>Time:</th>                  <td>12:42:01</td>       <th>  Log-Likelihood:    </th> <td>-1.1545e+05</td>\n",
       "</tr>\n",
       "<tr>\n",
       "  <th>No. Observations:</th>       <td> 26910</td>        <th>  AIC:               </th>  <td>2.309e+05</td> \n",
       "</tr>\n",
       "<tr>\n",
       "  <th>Df Residuals:</th>           <td> 26906</td>        <th>  BIC:               </th>  <td>2.309e+05</td> \n",
       "</tr>\n",
       "<tr>\n",
       "  <th>Df Model:</th>               <td>     3</td>        <th>                     </th>      <td> </td>     \n",
       "</tr>\n",
       "<tr>\n",
       "  <th>Covariance Type:</th>       <td>nonrobust</td>      <th>                     </th>      <td> </td>     \n",
       "</tr>\n",
       "</table>\n",
       "<table class=\"simpletable\">\n",
       "<tr>\n",
       "        <td></td>           <th>coef</th>     <th>std err</th>      <th>t</th>      <th>P>|t|</th>  <th>[0.025</th>    <th>0.975]</th>  \n",
       "</tr>\n",
       "<tr>\n",
       "  <th>const</th>         <td>-3767.3405</td> <td>  132.539</td> <td>  -28.424</td> <td> 0.000</td> <td>-4027.125</td> <td>-3507.556</td>\n",
       "</tr>\n",
       "<tr>\n",
       "  <th>price</th>         <td>    0.0075</td> <td>    0.009</td> <td>    0.874</td> <td> 0.382</td> <td>   -0.009</td> <td>    0.024</td>\n",
       "</tr>\n",
       "<tr>\n",
       "  <th>r_year</th>        <td>    1.9029</td> <td>    0.066</td> <td>   28.999</td> <td> 0.000</td> <td>    1.774</td> <td>    2.031</td>\n",
       "</tr>\n",
       "<tr>\n",
       "  <th>total_reviews</th> <td>    0.0113</td> <td>    0.001</td> <td>   13.744</td> <td> 0.000</td> <td>    0.010</td> <td>    0.013</td>\n",
       "</tr>\n",
       "</table>\n",
       "<table class=\"simpletable\">\n",
       "<tr>\n",
       "  <th>Omnibus:</th>       <td>3677.448</td> <th>  Durbin-Watson:     </th> <td>   1.956</td>\n",
       "</tr>\n",
       "<tr>\n",
       "  <th>Prob(Omnibus):</th>  <td> 0.000</td>  <th>  Jarque-Bera (JB):  </th> <td>5489.971</td>\n",
       "</tr>\n",
       "<tr>\n",
       "  <th>Skew:</th>           <td>-1.006</td>  <th>  Prob(JB):          </th> <td>    0.00</td>\n",
       "</tr>\n",
       "<tr>\n",
       "  <th>Kurtosis:</th>       <td> 3.922</td>  <th>  Cond. No.          </th> <td>2.49e+06</td>\n",
       "</tr>\n",
       "</table><br/><br/>Notes:<br/>[1] Standard Errors assume that the covariance matrix of the errors is correctly specified.<br/>[2] The condition number is large, 2.49e+06. This might indicate that there are<br/>strong multicollinearity or other numerical problems."
      ],
      "text/plain": [
       "<class 'statsmodels.iolib.summary.Summary'>\n",
       "\"\"\"\n",
       "                             OLS Regression Results                            \n",
       "===============================================================================\n",
       "Dep. Variable:     positive_percentage   R-squared:                       0.035\n",
       "Model:                             OLS   Adj. R-squared:                  0.035\n",
       "Method:                  Least Squares   F-statistic:                     326.3\n",
       "Date:                 Mon, 30 Jan 2023   Prob (F-statistic):          4.08e-208\n",
       "Time:                         12:42:01   Log-Likelihood:            -1.1545e+05\n",
       "No. Observations:                26910   AIC:                         2.309e+05\n",
       "Df Residuals:                    26906   BIC:                         2.309e+05\n",
       "Df Model:                            3                                         \n",
       "Covariance Type:             nonrobust                                         \n",
       "=================================================================================\n",
       "                    coef    std err          t      P>|t|      [0.025      0.975]\n",
       "---------------------------------------------------------------------------------\n",
       "const         -3767.3405    132.539    -28.424      0.000   -4027.125   -3507.556\n",
       "price             0.0075      0.009      0.874      0.382      -0.009       0.024\n",
       "r_year            1.9029      0.066     28.999      0.000       1.774       2.031\n",
       "total_reviews     0.0113      0.001     13.744      0.000       0.010       0.013\n",
       "==============================================================================\n",
       "Omnibus:                     3677.448   Durbin-Watson:                   1.956\n",
       "Prob(Omnibus):                  0.000   Jarque-Bera (JB):             5489.971\n",
       "Skew:                          -1.006   Prob(JB):                         0.00\n",
       "Kurtosis:                       3.922   Cond. No.                     2.49e+06\n",
       "==============================================================================\n",
       "\n",
       "Notes:\n",
       "[1] Standard Errors assume that the covariance matrix of the errors is correctly specified.\n",
       "[2] The condition number is large, 2.49e+06. This might indicate that there are\n",
       "strong multicollinearity or other numerical problems.\n",
       "\"\"\""
      ]
     },
     "execution_count": 43,
     "metadata": {},
     "output_type": "execute_result"
    }
   ],
   "source": [
    "model.summary()"
   ]
  },
  {
   "cell_type": "markdown",
   "id": "be5275de",
   "metadata": {
    "papermill": {
     "duration": 0.042463,
     "end_time": "2023-01-30T12:42:01.962621",
     "exception": false,
     "start_time": "2023-01-30T12:42:01.920158",
     "status": "completed"
    },
    "tags": []
   },
   "source": [
    "**The p-value of the game price is >0.05, which lets us safely assume that the price has no effect on the positivity of the reviews.** <br><br>"
   ]
  },
  {
   "cell_type": "code",
   "execution_count": 44,
   "id": "2f2b7de6",
   "metadata": {
    "execution": {
     "iopub.execute_input": "2023-01-30T12:42:02.026013Z",
     "iopub.status.busy": "2023-01-30T12:42:02.025664Z",
     "iopub.status.idle": "2023-01-30T12:42:02.030345Z",
     "shell.execute_reply": "2023-01-30T12:42:02.029126Z"
    },
    "papermill": {
     "duration": 0.039202,
     "end_time": "2023-01-30T12:42:02.032892",
     "exception": false,
     "start_time": "2023-01-30T12:42:01.993690",
     "status": "completed"
    },
    "tags": []
   },
   "outputs": [],
   "source": [
    "# plt.figure(figsize=(15,10))\n",
    "# sns.set_style('whitegrid')\n",
    "# sns.boxplot(df2, x='r_year',y='price')\n",
    "# plt.title('Fig. 4 - Prices of Games over the Years', fontdict={'fontsize':15})\n",
    "# plt.xlabel('Release Year of Games')\n",
    "# plt.ylabel('Prices of Games');"
   ]
  },
  {
   "cell_type": "markdown",
   "id": "b7ba04b8",
   "metadata": {
    "papermill": {
     "duration": 0.031687,
     "end_time": "2023-01-30T12:42:02.095907",
     "exception": false,
     "start_time": "2023-01-30T12:42:02.064220",
     "status": "completed"
    },
    "tags": []
   },
   "source": [
    "Discounting the years 2016 and before as well as 2023(since we're only at the 1st month), the ceiling prices of games seems to have increase year on year. "
   ]
  },
  {
   "cell_type": "code",
   "execution_count": 45,
   "id": "f23934a5",
   "metadata": {
    "execution": {
     "iopub.execute_input": "2023-01-30T12:42:02.159733Z",
     "iopub.status.busy": "2023-01-30T12:42:02.159269Z",
     "iopub.status.idle": "2023-01-30T12:42:02.171823Z",
     "shell.execute_reply": "2023-01-30T12:42:02.170680Z"
    },
    "papermill": {
     "duration": 0.046963,
     "end_time": "2023-01-30T12:42:02.174111",
     "exception": false,
     "start_time": "2023-01-30T12:42:02.127148",
     "status": "completed"
    },
    "tags": []
   },
   "outputs": [
    {
     "data": {
      "text/plain": [
       "0        20\n",
       "2        20\n",
       "7        30\n",
       "8         0\n",
       "13        0\n",
       "         ..\n",
       "49993     0\n",
       "49994    10\n",
       "49995    10\n",
       "49996    10\n",
       "49998     0\n",
       "Name: price, Length: 26910, dtype: category\n",
       "Categories (26, int64): [0 < 10 < 20 < 30 ... 220 < 230 < 240 < 250]"
      ]
     },
     "execution_count": 45,
     "metadata": {},
     "output_type": "execute_result"
    }
   ],
   "source": [
    "price_bins = pd.cut(df2['price'],bins=26, labels = list(range(0,251,10)))\n",
    "price_bins"
   ]
  },
  {
   "cell_type": "code",
   "execution_count": 46,
   "id": "a7383b0d",
   "metadata": {
    "execution": {
     "iopub.execute_input": "2023-01-30T12:42:02.242551Z",
     "iopub.status.busy": "2023-01-30T12:42:02.242254Z",
     "iopub.status.idle": "2023-01-30T12:42:02.246383Z",
     "shell.execute_reply": "2023-01-30T12:42:02.245384Z"
    },
    "papermill": {
     "duration": 0.038789,
     "end_time": "2023-01-30T12:42:02.248708",
     "exception": false,
     "start_time": "2023-01-30T12:42:02.209919",
     "status": "completed"
    },
    "tags": []
   },
   "outputs": [],
   "source": [
    "# plt.figure(figsize=(15,10))\n",
    "# sns.barplot(df2, x=price_bins,y='total_reviews')\n",
    "# plt.title('Fig.5 - Prices vs Total Reviews', fontdict={'fontsize':15})\n",
    "# plt.xlabel('Prices ranges of Games')\n",
    "# plt.ylabel('Mean Total Reviews per game price range')\n",
    "# plt.xticks(rotation = 90, minor=True);\n"
   ]
  },
  {
   "cell_type": "markdown",
   "id": "ff490044",
   "metadata": {
    "papermill": {
     "duration": 0.031259,
     "end_time": "2023-01-30T12:42:02.311099",
     "exception": false,
     "start_time": "2023-01-30T12:42:02.279840",
     "status": "completed"
    },
    "tags": []
   },
   "source": [
    "From Fig.5, we observe the following;<br>\n",
    "1. There are at least 100 reviews for games that costs between \\\\$20 to \\\\$100, and the number of reviews falls drastically when a game costs more than \\$100. It could be due to the high price that leads to less people buying the games, hence resulting in a minimal count of reviews.\n",
    "2. There are most number of reviews in games that costs in the \\\\$70 range and \\\\$100 range(the most number of reviews).\n",
    "<br><br>\n",
    "Perhaps we should omit games that costs more than \\\\$100 for our model training later on.\n",
    "\n"
   ]
  },
  {
   "cell_type": "code",
   "execution_count": 47,
   "id": "fb61e2e2",
   "metadata": {
    "execution": {
     "iopub.execute_input": "2023-01-30T12:42:02.374757Z",
     "iopub.status.busy": "2023-01-30T12:42:02.374461Z",
     "iopub.status.idle": "2023-01-30T12:42:02.589438Z",
     "shell.execute_reply": "2023-01-30T12:42:02.588407Z"
    },
    "papermill": {
     "duration": 0.249102,
     "end_time": "2023-01-30T12:42:02.591692",
     "exception": false,
     "start_time": "2023-01-30T12:42:02.342590",
     "status": "completed"
    },
    "tags": []
   },
   "outputs": [
    {
     "data": {
      "image/png": "[encoded data removed]",
      "text/plain": [
       "<Figure size 432x288 with 1 Axes>"
      ]
     },
     "metadata": {
      "needs_background": "light"
     },
     "output_type": "display_data"
    }
   ],
   "source": [
    "sns.countplot(x='r_year', data=df2)\n",
    "plt.title('Number of Games Released Each Year')\n",
    "plt.ylabel('Number of Games Released')\n",
    "plt.xlabel('Year');"
   ]
  },
  {
   "cell_type": "markdown",
   "id": "651df5ba",
   "metadata": {
    "papermill": {
     "duration": 0.031062,
     "end_time": "2023-01-30T12:42:02.655202",
     "exception": false,
     "start_time": "2023-01-30T12:42:02.624140",
     "status": "completed"
    },
    "tags": []
   },
   "source": [
    "It seems like the gaming industry has been very active since 2017, or at least steam has been expanding and started to collect data since then. The number of games released per year has broken the 5000 mark in 2020. Perhaps this could be due to boost contributed by the effect of stay home period due to covid. <br> Some background details in the following links;<br>[WashingtonPost article 2020](https://www.washingtonpost.com/video-games/2020/05/12/video-game-industry-coronavirus/)<br> [Forbes article 2021 on how the gaming industry has leveled up during the pandemic](https://www.forbes.com/sites/forbestechcouncil/2021/06/17/how-the-gaming-industry-has-leveled-up-during-the-pandemic/?sh=30c984e7297c)"
   ]
  },
  {
   "cell_type": "markdown",
   "id": "2ed3cbc7",
   "metadata": {
    "papermill": {
     "duration": 0.030978,
     "end_time": "2023-01-30T12:42:02.717444",
     "exception": false,
     "start_time": "2023-01-30T12:42:02.686466",
     "status": "completed"
    },
    "tags": []
   },
   "source": [
    "### Deciding on our measure of success "
   ]
  },
  {
   "cell_type": "markdown",
   "id": "946d2f82",
   "metadata": {
    "papermill": {
     "duration": 0.046659,
     "end_time": "2023-01-30T12:42:02.795894",
     "exception": false,
     "start_time": "2023-01-30T12:42:02.749235",
     "status": "completed"
    },
    "tags": []
   },
   "source": [
    "From our EDA, we have gathered the following information;\n",
    "\n",
    "1. It seems like the gaming industry has been very active since 2017, or at least Steam has been doing well and started to collect data since then. The number of games released per year has broken the 5000 mark in **2020. Perhaps this could be due to boost contributed by the effect of stay home period due to covid.\n",
    "<br><br>\n",
    "2. Discounting the years 2016 and before as well as 2023(since we're only at the 1st month), the ceiling prices of games seems to have increase year on year.\n",
    "<br><br>\n",
    "3. As the p-value of the game price is >0.05, it lets us safely assume that the price has no effect on the positivity of the reviews.\n",
    "<br><br>\n",
    "4. The median percentage for positive reviews is at 81% with the upper percentile at 91%. We can take this into account when determining our threshold for our measure of success for a game.\n",
    "<br><br>\n",
    "5. Looking at Fig 1, there are less number of games as the number of reviews per game increase. That makes sense, as from our domain understanding in gaming, there will be more reviews for more popular games due to the amount of people playing that particular game.\n",
    "<br><br>\n",
    "6. Followed by Fig.5, where we observe following;\n",
    "There are at least 100 reviews for games that costs between \\\\$20 to \\\\$100, and the number of reviews falls drastically when a game costs more than \\\\$100. It could be due to the high price that leads to less people buying the games, hence resulting in a minimal count of reviews. This could affect our accuracy metric for a successful game. \n",
    "There are most number of reviews in games that costs in the \\\\$70 range and \\\\$100 range(the most number of reviews).\n",
    "\n",
    "\n",
    "<br><br>\n",
    "7. In Fig.2, there is a sharp increase in the counts of 75% positive reviews. \n",
    "\n",
    "<br><br>\n",
    "8. We saw from Fig. 3a & 3b that there are usually more outliers in games that has lower number of reviews and that there are substantial amount of games that have been positively reviewed in each group.\n",
    "\n",
    "\n",
    "\n",
    "\n",
    "\n",
    "\n",
    "\n",
    "\n",
    "\n",
    "\n"
   ]
  },
  {
   "cell_type": "code",
   "execution_count": 48,
   "id": "49044a1b",
   "metadata": {
    "execution": {
     "iopub.execute_input": "2023-01-30T12:42:02.916149Z",
     "iopub.status.busy": "2023-01-30T12:42:02.915712Z",
     "iopub.status.idle": "2023-01-30T12:42:02.927944Z",
     "shell.execute_reply": "2023-01-30T12:42:02.926794Z"
    },
    "papermill": {
     "duration": 0.072332,
     "end_time": "2023-01-30T12:42:02.930119",
     "exception": false,
     "start_time": "2023-01-30T12:42:02.857787",
     "status": "completed"
    },
    "tags": []
   },
   "outputs": [],
   "source": [
    "\n",
    "stop_words = stopwords.words(\"english\")\n",
    "#removed the words game and rated as thought would not be useful/ might give away the rating of the game\n",
    "stop_words2 = stop_words + [\"game\", \"rated\", \"get\",\"like\",\"one\", \"also\", \"https\", \"store\", \"steampowered\"]"
   ]
  },
  {
   "cell_type": "code",
   "execution_count": 49,
   "id": "9d8d6b8b",
   "metadata": {
    "execution": {
     "iopub.execute_input": "2023-01-30T12:42:03.027005Z",
     "iopub.status.busy": "2023-01-30T12:42:03.026423Z",
     "iopub.status.idle": "2023-01-30T12:42:15.666636Z",
     "shell.execute_reply": "2023-01-30T12:42:15.665333Z"
    },
    "papermill": {
     "duration": 12.691479,
     "end_time": "2023-01-30T12:42:15.668988",
     "exception": false,
     "start_time": "2023-01-30T12:42:02.977509",
     "status": "completed"
    },
    "tags": []
   },
   "outputs": [
    {
     "name": "stdout",
     "output_type": "stream",
     "text": [
      "Collecting langdetect\r\n",
      "  Downloading langdetect-1.0.9.tar.gz (981 kB)\r\n",
      "\u001b[2K     \u001b[90m━━━━━━━━━━━━━━━━━━━━━━━━━━━━━━━━━━━━━━\u001b[0m \u001b[32m981.5/981.5 kB\u001b[0m \u001b[31m14.1 MB/s\u001b[0m eta \u001b[36m0:00:00\u001b[0m\r\n",
      "\u001b[?25h  Preparing metadata (setup.py) ... \u001b[?25l-\b \bdone\r\n",
      "\u001b[?25hRequirement already satisfied: six in /opt/conda/lib/python3.7/site-packages (from langdetect) (1.15.0)\r\n",
      "Building wheels for collected packages: langdetect\r\n",
      "  Building wheel for langdetect (setup.py) ... \u001b[?25l-\b \b\\\b \b|\b \b/\b \bdone\r\n",
      "\u001b[?25h  Created wheel for langdetect: filename=langdetect-1.0.9-py3-none-any.whl size=993242 sha256=7c87bcac2476e2d38b847020929b70be2aa64e2ac6f7678db2ea085566e199b7\r\n",
      "  Stored in directory: /root/.cache/pip/wheels/c5/96/8a/f90c59ed25d75e50a8c10a1b1c2d4c402e4dacfa87f3aff36a\r\n",
      "Successfully built langdetect\r\n",
      "Installing collected packages: langdetect\r\n",
      "Successfully installed langdetect-1.0.9\r\n",
      "\u001b[33mWARNING: Running pip as the 'root' user can result in broken permissions and conflicting behaviour with the system package manager. It is recommended to use a virtual environment instead: https://pip.pypa.io/warnings/venv\u001b[0m\u001b[33m\r\n",
      "\u001b[0mNote: you may need to restart the kernel to use updated packages.\n"
     ]
    }
   ],
   "source": [
    "pip install langdetect"
   ]
  },
  {
   "cell_type": "code",
   "execution_count": 50,
   "id": "39f9be87",
   "metadata": {
    "execution": {
     "iopub.execute_input": "2023-01-30T12:42:15.738982Z",
     "iopub.status.busy": "2023-01-30T12:42:15.738617Z",
     "iopub.status.idle": "2023-01-30T12:45:46.406129Z",
     "shell.execute_reply": "2023-01-30T12:45:46.401751Z"
    },
    "papermill": {
     "duration": 210.735099,
     "end_time": "2023-01-30T12:45:46.439107",
     "exception": false,
     "start_time": "2023-01-30T12:42:15.704008",
     "status": "completed"
    },
    "tags": []
   },
   "outputs": [
    {
     "name": "stderr",
     "output_type": "stream",
     "text": [
      "/opt/conda/lib/python3.7/site-packages/ipykernel_launcher.py:10: SettingWithCopyWarning: \n",
      "A value is trying to be set on a copy of a slice from a DataFrame.\n",
      "Try using .loc[row_indexer,col_indexer] = value instead\n",
      "\n",
      "See the caveats in the documentation: https://pandas.pydata.org/pandas-docs/stable/user_guide/indexing.html#returning-a-view-versus-a-copy\n",
      "  # Remove the CWD from sys.path while we load stuff.\n"
     ]
    }
   ],
   "source": [
    "from langdetect import detect\n",
    "# function to detect the language of a given text\n",
    "def detect_language(text):\n",
    "    try:\n",
    "        return detect(text)\n",
    "    except:\n",
    "        return None\n",
    "\n",
    "# apply the function to the 'description' column of the DataFrame\n",
    "df2['language'] = df2['description'].apply(detect_language)\n",
    "\n",
    "# filter the DataFrame to only include rows where the language is not 'en'\n",
    "df3 = df2[df2['language'] == 'en']"
   ]
  },
  {
   "cell_type": "code",
   "execution_count": 51,
   "id": "fd8b2bf1",
   "metadata": {
    "execution": {
     "iopub.execute_input": "2023-01-30T12:45:46.506252Z",
     "iopub.status.busy": "2023-01-30T12:45:46.505927Z",
     "iopub.status.idle": "2023-01-30T12:45:46.514551Z",
     "shell.execute_reply": "2023-01-30T12:45:46.513455Z"
    },
    "papermill": {
     "duration": 0.04427,
     "end_time": "2023-01-30T12:45:46.516594",
     "exception": false,
     "start_time": "2023-01-30T12:45:46.472324",
     "status": "completed"
    },
    "tags": []
   },
   "outputs": [],
   "source": [
    "df3 = df3.reset_index(drop=True)"
   ]
  },
  {
   "cell_type": "code",
   "execution_count": 52,
   "id": "1f8cce18",
   "metadata": {
    "execution": {
     "iopub.execute_input": "2023-01-30T12:45:46.583337Z",
     "iopub.status.busy": "2023-01-30T12:45:46.582533Z",
     "iopub.status.idle": "2023-01-30T12:45:46.589126Z",
     "shell.execute_reply": "2023-01-30T12:45:46.588107Z"
    },
    "papermill": {
     "duration": 0.041838,
     "end_time": "2023-01-30T12:45:46.591119",
     "exception": false,
     "start_time": "2023-01-30T12:45:46.549281",
     "status": "completed"
    },
    "tags": []
   },
   "outputs": [
    {
     "data": {
      "text/plain": [
       "(26910, 12)"
      ]
     },
     "execution_count": 52,
     "metadata": {},
     "output_type": "execute_result"
    }
   ],
   "source": [
    "df2.shape"
   ]
  },
  {
   "cell_type": "code",
   "execution_count": 53,
   "id": "729cf672",
   "metadata": {
    "execution": {
     "iopub.execute_input": "2023-01-30T12:45:46.657583Z",
     "iopub.status.busy": "2023-01-30T12:45:46.656907Z",
     "iopub.status.idle": "2023-01-30T12:45:46.678741Z",
     "shell.execute_reply": "2023-01-30T12:45:46.677874Z"
    },
    "papermill": {
     "duration": 0.057044,
     "end_time": "2023-01-30T12:45:46.680835",
     "exception": false,
     "start_time": "2023-01-30T12:45:46.623791",
     "status": "completed"
    },
    "tags": []
   },
   "outputs": [
    {
     "data": {
      "text/html": [
       "<div>\n",
       "<style scoped>\n",
       "    .dataframe tbody tr th:only-of-type {\n",
       "        vertical-align: middle;\n",
       "    }\n",
       "\n",
       "    .dataframe tbody tr th {\n",
       "        vertical-align: top;\n",
       "    }\n",
       "\n",
       "    .dataframe thead th {\n",
       "        text-align: right;\n",
       "    }\n",
       "</style>\n",
       "<table border=\"1\" class=\"dataframe\">\n",
       "  <thead>\n",
       "    <tr style=\"text-align: right;\">\n",
       "      <th></th>\n",
       "      <th>title</th>\n",
       "      <th>r_date</th>\n",
       "      <th>price</th>\n",
       "      <th>description</th>\n",
       "      <th>review_type</th>\n",
       "      <th>review_stats</th>\n",
       "      <th>positive_percentage</th>\n",
       "      <th>total_reviews</th>\n",
       "      <th>tagged</th>\n",
       "      <th>game_id</th>\n",
       "      <th>r_year</th>\n",
       "      <th>language</th>\n",
       "    </tr>\n",
       "  </thead>\n",
       "  <tbody>\n",
       "    <tr>\n",
       "      <th>0</th>\n",
       "      <td>persona 3 portable</td>\n",
       "      <td>2023-01-18</td>\n",
       "      <td>27.99</td>\n",
       "      <td>experience the iconic, critically acclaimed rp...</td>\n",
       "      <td>mostly positive(771)</td>\n",
       "      <td>74% of the 771 user reviews for this game are...</td>\n",
       "      <td>74</td>\n",
       "      <td>771</td>\n",
       "      <td>rpg, story rich, anime, turn-based combat, jrp...</td>\n",
       "      <td>1809700</td>\n",
       "      <td>2023</td>\n",
       "      <td>en</td>\n",
       "    </tr>\n",
       "    <tr>\n",
       "      <th>1</th>\n",
       "      <td>fraymakers</td>\n",
       "      <td>2023-01-18</td>\n",
       "      <td>22.79</td>\n",
       "      <td>what is fraymakers?fraymakers is the ultimate ...</td>\n",
       "      <td>mixed(214)</td>\n",
       "      <td>68% of the 214 user reviews for this game are...</td>\n",
       "      <td>68</td>\n",
       "      <td>214</td>\n",
       "      <td>indie, fighting, 2d fighter, multiplayer, acti...</td>\n",
       "      <td>1420350</td>\n",
       "      <td>2023</td>\n",
       "      <td>en</td>\n",
       "    </tr>\n",
       "    <tr>\n",
       "      <th>2</th>\n",
       "      <td>osiris: new dawn</td>\n",
       "      <td>2023-01-18</td>\n",
       "      <td>39.99</td>\n",
       "      <td>inspired by the edgier side of sci fi, osiris:...</td>\n",
       "      <td>mostly negative(127)</td>\n",
       "      <td>31% of the 127 user reviews in the last 30 da...</td>\n",
       "      <td>31</td>\n",
       "      <td>127</td>\n",
       "      <td>open world survival craft, horror, survival, s...</td>\n",
       "      <td>402710</td>\n",
       "      <td>2023</td>\n",
       "      <td>en</td>\n",
       "    </tr>\n",
       "    <tr>\n",
       "      <th>3</th>\n",
       "      <td>lake haven - chrysalis</td>\n",
       "      <td>2023-01-18</td>\n",
       "      <td>3.89</td>\n",
       "      <td>on october 7th, at 9 pm the kansas police depa...</td>\n",
       "      <td>positive(27)</td>\n",
       "      <td>100% of the 27 user reviews for this game are...</td>\n",
       "      <td>100</td>\n",
       "      <td>27</td>\n",
       "      <td>third person, exploration, singleplayer, adven...</td>\n",
       "      <td>1696960</td>\n",
       "      <td>2023</td>\n",
       "      <td>en</td>\n",
       "    </tr>\n",
       "    <tr>\n",
       "      <th>4</th>\n",
       "      <td>predictors</td>\n",
       "      <td>2023-01-18</td>\n",
       "      <td>3.89</td>\n",
       "      <td>turn-based roguelikego solo or invite up to th...</td>\n",
       "      <td>positive(20)</td>\n",
       "      <td>95% of the 20 user reviews for this game are ...</td>\n",
       "      <td>95</td>\n",
       "      <td>20</td>\n",
       "      <td>roguelike, roguelite, turn-based, online co-op...</td>\n",
       "      <td>2149330</td>\n",
       "      <td>2023</td>\n",
       "      <td>en</td>\n",
       "    </tr>\n",
       "    <tr>\n",
       "      <th>...</th>\n",
       "      <td>...</td>\n",
       "      <td>...</td>\n",
       "      <td>...</td>\n",
       "      <td>...</td>\n",
       "      <td>...</td>\n",
       "      <td>...</td>\n",
       "      <td>...</td>\n",
       "      <td>...</td>\n",
       "      <td>...</td>\n",
       "      <td>...</td>\n",
       "      <td>...</td>\n",
       "      <td>...</td>\n",
       "    </tr>\n",
       "    <tr>\n",
       "      <th>26846</th>\n",
       "      <td>domain defense vr</td>\n",
       "      <td>2017-05-12</td>\n",
       "      <td>8.99</td>\n",
       "      <td>domain defense vr is a stand alone game that h...</td>\n",
       "      <td>positive(15)</td>\n",
       "      <td>80% of the 15 user reviews for this game are ...</td>\n",
       "      <td>80</td>\n",
       "      <td>15</td>\n",
       "      <td>strategy, indie, casual, vr</td>\n",
       "      <td>455190</td>\n",
       "      <td>2017</td>\n",
       "      <td>en</td>\n",
       "    </tr>\n",
       "    <tr>\n",
       "      <th>26847</th>\n",
       "      <td>void rangers</td>\n",
       "      <td>2017-05-12</td>\n",
       "      <td>12.99</td>\n",
       "      <td>quotes from reviews\"if you wondered what space...</td>\n",
       "      <td>positive(35)</td>\n",
       "      <td>80% of the 35 user reviews for this game are ...</td>\n",
       "      <td>80</td>\n",
       "      <td>35</td>\n",
       "      <td>action, indie, vr, shooter, loot</td>\n",
       "      <td>529360</td>\n",
       "      <td>2017</td>\n",
       "      <td>en</td>\n",
       "    </tr>\n",
       "    <tr>\n",
       "      <th>26848</th>\n",
       "      <td>stay! stay! democratic people's republic of ko...</td>\n",
       "      <td>2017-05-12</td>\n",
       "      <td>10.99</td>\n",
       "      <td>story the year is 2021, america is back in afg...</td>\n",
       "      <td>very positive(480)</td>\n",
       "      <td>93% of the 480 user reviews for this game are...</td>\n",
       "      <td>93</td>\n",
       "      <td>480</td>\n",
       "      <td>memes, anime, visual novel, nudity, sexual con...</td>\n",
       "      <td>512060</td>\n",
       "      <td>2017</td>\n",
       "      <td>en</td>\n",
       "    </tr>\n",
       "    <tr>\n",
       "      <th>26849</th>\n",
       "      <td>seed of the arcane , episode 1</td>\n",
       "      <td>2017-05-12</td>\n",
       "      <td>16.99</td>\n",
       "      <td>****this game is on alpha test - please read t...</td>\n",
       "      <td>mostly negative(29)</td>\n",
       "      <td>27% of the 29 user reviews for this game are ...</td>\n",
       "      <td>27</td>\n",
       "      <td>29</td>\n",
       "      <td>rpg, nudity, adventure, indie, early access, g...</td>\n",
       "      <td>601020</td>\n",
       "      <td>2017</td>\n",
       "      <td>en</td>\n",
       "    </tr>\n",
       "    <tr>\n",
       "      <th>26850</th>\n",
       "      <td>solitaire club</td>\n",
       "      <td>2017-05-11</td>\n",
       "      <td>5.69</td>\n",
       "      <td>experience real casino flair on your pc with s...</td>\n",
       "      <td>mixed(11)</td>\n",
       "      <td>63% of the 11 user reviews for this game are ...</td>\n",
       "      <td>63</td>\n",
       "      <td>11</td>\n",
       "      <td>casual, solitaire, card game, puzzle, strategy...</td>\n",
       "      <td>630470</td>\n",
       "      <td>2017</td>\n",
       "      <td>en</td>\n",
       "    </tr>\n",
       "  </tbody>\n",
       "</table>\n",
       "<p>26851 rows × 12 columns</p>\n",
       "</div>"
      ],
      "text/plain": [
       "                                                   title     r_date  price  \\\n",
       "0                                     persona 3 portable 2023-01-18  27.99   \n",
       "1                                             fraymakers 2023-01-18  22.79   \n",
       "2                                       osiris: new dawn 2023-01-18  39.99   \n",
       "3                                 lake haven - chrysalis 2023-01-18   3.89   \n",
       "4                                             predictors 2023-01-18   3.89   \n",
       "...                                                  ...        ...    ...   \n",
       "26846                                  domain defense vr 2017-05-12   8.99   \n",
       "26847                                       void rangers 2017-05-12  12.99   \n",
       "26848  stay! stay! democratic people's republic of ko... 2017-05-12  10.99   \n",
       "26849                     seed of the arcane , episode 1 2017-05-12  16.99   \n",
       "26850                                     solitaire club 2017-05-11   5.69   \n",
       "\n",
       "                                             description  \\\n",
       "0      experience the iconic, critically acclaimed rp...   \n",
       "1      what is fraymakers?fraymakers is the ultimate ...   \n",
       "2      inspired by the edgier side of sci fi, osiris:...   \n",
       "3      on october 7th, at 9 pm the kansas police depa...   \n",
       "4      turn-based roguelikego solo or invite up to th...   \n",
       "...                                                  ...   \n",
       "26846  domain defense vr is a stand alone game that h...   \n",
       "26847  quotes from reviews\"if you wondered what space...   \n",
       "26848  story the year is 2021, america is back in afg...   \n",
       "26849  ****this game is on alpha test - please read t...   \n",
       "26850  experience real casino flair on your pc with s...   \n",
       "\n",
       "                review_type  \\\n",
       "0      mostly positive(771)   \n",
       "1                mixed(214)   \n",
       "2      mostly negative(127)   \n",
       "3              positive(27)   \n",
       "4              positive(20)   \n",
       "...                     ...   \n",
       "26846          positive(15)   \n",
       "26847          positive(35)   \n",
       "26848    very positive(480)   \n",
       "26849   mostly negative(29)   \n",
       "26850             mixed(11)   \n",
       "\n",
       "                                            review_stats  positive_percentage  \\\n",
       "0       74% of the 771 user reviews for this game are...                   74   \n",
       "1       68% of the 214 user reviews for this game are...                   68   \n",
       "2       31% of the 127 user reviews in the last 30 da...                   31   \n",
       "3       100% of the 27 user reviews for this game are...                  100   \n",
       "4       95% of the 20 user reviews for this game are ...                   95   \n",
       "...                                                  ...                  ...   \n",
       "26846   80% of the 15 user reviews for this game are ...                   80   \n",
       "26847   80% of the 35 user reviews for this game are ...                   80   \n",
       "26848   93% of the 480 user reviews for this game are...                   93   \n",
       "26849   27% of the 29 user reviews for this game are ...                   27   \n",
       "26850   63% of the 11 user reviews for this game are ...                   63   \n",
       "\n",
       "       total_reviews                                             tagged  \\\n",
       "0                771  rpg, story rich, anime, turn-based combat, jrp...   \n",
       "1                214  indie, fighting, 2d fighter, multiplayer, acti...   \n",
       "2                127  open world survival craft, horror, survival, s...   \n",
       "3                 27  third person, exploration, singleplayer, adven...   \n",
       "4                 20  roguelike, roguelite, turn-based, online co-op...   \n",
       "...              ...                                                ...   \n",
       "26846             15                        strategy, indie, casual, vr   \n",
       "26847             35                   action, indie, vr, shooter, loot   \n",
       "26848            480  memes, anime, visual novel, nudity, sexual con...   \n",
       "26849             29  rpg, nudity, adventure, indie, early access, g...   \n",
       "26850             11  casual, solitaire, card game, puzzle, strategy...   \n",
       "\n",
       "       game_id  r_year language  \n",
       "0      1809700    2023       en  \n",
       "1      1420350    2023       en  \n",
       "2       402710    2023       en  \n",
       "3      1696960    2023       en  \n",
       "4      2149330    2023       en  \n",
       "...        ...     ...      ...  \n",
       "26846   455190    2017       en  \n",
       "26847   529360    2017       en  \n",
       "26848   512060    2017       en  \n",
       "26849   601020    2017       en  \n",
       "26850   630470    2017       en  \n",
       "\n",
       "[26851 rows x 12 columns]"
      ]
     },
     "execution_count": 53,
     "metadata": {},
     "output_type": "execute_result"
    }
   ],
   "source": [
    "df3"
   ]
  },
  {
   "cell_type": "code",
   "execution_count": null,
   "id": "1ffa8150",
   "metadata": {
    "papermill": {
     "duration": 0.032695,
     "end_time": "2023-01-30T12:45:46.746516",
     "exception": false,
     "start_time": "2023-01-30T12:45:46.713821",
     "status": "completed"
    },
    "tags": []
   },
   "outputs": [],
   "source": []
  },
  {
   "cell_type": "markdown",
   "id": "c613b990",
   "metadata": {
    "papermill": {
     "duration": 0.032648,
     "end_time": "2023-01-30T12:45:46.812063",
     "exception": false,
     "start_time": "2023-01-30T12:45:46.779415",
     "status": "completed"
    },
    "tags": []
   },
   "source": [
    "thou"
   ]
  },
  {
   "cell_type": "code",
   "execution_count": 54,
   "id": "a147b044",
   "metadata": {
    "execution": {
     "iopub.execute_input": "2023-01-30T12:45:46.880080Z",
     "iopub.status.busy": "2023-01-30T12:45:46.879215Z",
     "iopub.status.idle": "2023-01-30T12:45:47.685720Z",
     "shell.execute_reply": "2023-01-30T12:45:47.684641Z"
    },
    "papermill": {
     "duration": 0.843252,
     "end_time": "2023-01-30T12:45:47.687957",
     "exception": false,
     "start_time": "2023-01-30T12:45:46.844705",
     "status": "completed"
    },
    "tags": []
   },
   "outputs": [
    {
     "name": "stderr",
     "output_type": "stream",
     "text": [
      "/opt/conda/lib/python3.7/site-packages/ipykernel_launcher.py:1: UserWarning: This pattern has match groups. To actually get the groups, use str.extract.\n",
      "  \"\"\"Entry point for launching an IPython kernel.\n"
     ]
    },
    {
     "data": {
      "text/plain": [
       "'overviewa refreshing and highly re-playable bullet hell style shooter that wants you to play dangerously!\"graze\" past enemy bullets to charge your \"graze counter\", then unleash it upon your enemies as a highly deadly attack! ride the razor\\'s edge of life and death in this high-risk high-reward danger oriented arcade style shooting game.storyit is the 23rd century.eden, the massive virtual reality network witch helped humankind to flourish, suddenly severed all contact with the outside world...leaving the minds of its 100 million users trapped inside.a covert special task force known as \"saviours\" has been called in to address the situation. using special attack programs modeled after fighter jets, they plan to delve into the deepest cores of eden and find who or what has set it haywire.there\\'s no telling what they may discover within the troubled space of this human created universe...charactersuzuki ginyose male pilot of the [april divider] attack program. he may look like a girl, but he\\'s dressed that way for specific combat reasons. plus he doesn\\'t really mind how it feels either...satsuki furuyama pilots the [freedom dancer] attack program. male turned into a female as the result of an ill-fated human experiment. uzuki\\'s best friend who always has his back.hayate katori pilot of the [revolgear] program. a world renowned genius programmer in real life with a strong connection to eden.kiriko kirisame pilot of the [kirisame blade] program and master of short range firepower. yandere girl who is secretly in love with uzuki.striae the mysterious entity that has taken control of the virtual world [eden]. who or what she is remains to be discovered...gameplaya top-down scrolling 2d shooting game where you charge your gauge by getting dangerously close to enemy fire, then unleash it as a powerful enemy obliterating \"graze counter\"!each ship has a \"counter gauge\" that charges by being in close proximity to enemy bullets. you then use this charge to unleash powerful attacks.destroying enemies with these special attacks gives you stars which are collected and used to build the \"break gauge\".once the break gauge reaches max, you can activate \"break mode\" for a temporary yet intense firepower boost!test the limits of your destructive power with these highly deadly counter techniques!features7 total stages consisting of 5 stages + 2 alternate stages. including a continuous \"all stages\" mode.4 difficulty levels.4 unique story modes featuring fun interactions between the game\\'s variety of characters.upgraded graphics and additional illustrations not in the original game.flexible input system that supports any combination of mouse and keyboard or gamepad.2 default ship types + 14 unlockable types totaling 16 to choose from! including popular stg loving vtubers hatsuki hachimiya and tomoko machinery as playable guest ships! as well as 2 more playable guest ships from two other (soon to be released) henteko doujin published titles grand cross: renovation and blue sabers: early mission!boss rush mode featuring all bosses, and a bonus extreme difficulty stage.30 part mission mode that teaches you the tips and tricks of the game as you play.archive mode where you can view illustrations and game world lore that unlocks as you progress through the game.features a remastered version of the original game\\'s highly rated soundtrack including a brand new song!includes the bizarre bonus mini game \"laser maidens 2\".'"
      ]
     },
     "execution_count": 54,
     "metadata": {},
     "output_type": "execute_result"
    }
   ],
   "source": [
    "df2[df2['description'].str.contains(r\"\\b(rated)\\b\", regex=True, case=False)].iloc[0]['description']"
   ]
  },
  {
   "cell_type": "code",
   "execution_count": 55,
   "id": "34482756",
   "metadata": {
    "execution": {
     "iopub.execute_input": "2023-01-30T12:45:47.757080Z",
     "iopub.status.busy": "2023-01-30T12:45:47.756238Z",
     "iopub.status.idle": "2023-01-30T12:45:57.869463Z",
     "shell.execute_reply": "2023-01-30T12:45:57.868491Z"
    },
    "papermill": {
     "duration": 10.150226,
     "end_time": "2023-01-30T12:45:57.871730",
     "exception": false,
     "start_time": "2023-01-30T12:45:47.721504",
     "status": "completed"
    },
    "tags": []
   },
   "outputs": [
    {
     "name": "stderr",
     "output_type": "stream",
     "text": [
      "[nltk_data] Downloading package stopwords to /usr/share/nltk_data...\n",
      "[nltk_data]   Package stopwords is already up-to-date!\n"
     ]
    },
    {
     "data": {
      "text/plain": [
       "<AxesSubplot:>"
      ]
     },
     "execution_count": 55,
     "metadata": {},
     "output_type": "execute_result"
    },
    {
     "data": {
      "image/png": "[encoded data removed]",
      "text/plain": [
       "<Figure size 432x288 with 1 Axes>"
      ]
     },
     "metadata": {
      "needs_background": "light"
     },
     "output_type": "display_data"
    }
   ],
   "source": [
    "import nltk\n",
    "nltk.download('stopwords')\n",
    "\n",
    "cvec = CountVectorizer(stop_words=stop_words2,ngram_range=(1,2),min_df=0.01)\n",
    "\n",
    "text_data = cvec.fit_transform(df3['description'])\n",
    "\n",
    "\n",
    "test_df = pd.DataFrame(text_data.toarray(), columns=cvec.get_feature_names_out())\n",
    "test_df.sum().sort_values(ascending=False)[:20].plot(kind='barh')"
   ]
  },
  {
   "cell_type": "code",
   "execution_count": 56,
   "id": "cd28c3b3",
   "metadata": {
    "execution": {
     "iopub.execute_input": "2023-01-30T12:45:57.942314Z",
     "iopub.status.busy": "2023-01-30T12:45:57.941992Z",
     "iopub.status.idle": "2023-01-30T12:46:01.939875Z",
     "shell.execute_reply": "2023-01-30T12:46:01.938837Z"
    },
    "papermill": {
     "duration": 4.035615,
     "end_time": "2023-01-30T12:46:01.942385",
     "exception": false,
     "start_time": "2023-01-30T12:45:57.906770",
     "status": "completed"
    },
    "tags": []
   },
   "outputs": [],
   "source": [
    "df33 = df3['tagged'].str.get_dummies(', ')"
   ]
  },
  {
   "cell_type": "code",
   "execution_count": 57,
   "id": "41367555",
   "metadata": {
    "execution": {
     "iopub.execute_input": "2023-01-30T12:46:02.012502Z",
     "iopub.status.busy": "2023-01-30T12:46:02.012183Z",
     "iopub.status.idle": "2023-01-30T12:46:02.044110Z",
     "shell.execute_reply": "2023-01-30T12:46:02.043012Z"
    },
    "papermill": {
     "duration": 0.069503,
     "end_time": "2023-01-30T12:46:02.046710",
     "exception": false,
     "start_time": "2023-01-30T12:46:01.977207",
     "status": "completed"
    },
    "tags": []
   },
   "outputs": [
    {
     "data": {
      "text/html": [
       "<div>\n",
       "<style scoped>\n",
       "    .dataframe tbody tr th:only-of-type {\n",
       "        vertical-align: middle;\n",
       "    }\n",
       "\n",
       "    .dataframe tbody tr th {\n",
       "        vertical-align: top;\n",
       "    }\n",
       "\n",
       "    .dataframe thead th {\n",
       "        text-align: right;\n",
       "    }\n",
       "</style>\n",
       "<table border=\"1\" class=\"dataframe\">\n",
       "  <thead>\n",
       "    <tr style=\"text-align: right;\">\n",
       "      <th></th>\n",
       "      <th>000</th>\n",
       "      <th>10</th>\n",
       "      <th>100</th>\n",
       "      <th>11</th>\n",
       "      <th>12</th>\n",
       "      <th>14</th>\n",
       "      <th>15</th>\n",
       "      <th>16</th>\n",
       "      <th>18</th>\n",
       "      <th>20</th>\n",
       "      <th>...</th>\n",
       "      <th>wrong</th>\n",
       "      <th>year</th>\n",
       "      <th>years</th>\n",
       "      <th>years ago</th>\n",
       "      <th>yes</th>\n",
       "      <th>yet</th>\n",
       "      <th>young</th>\n",
       "      <th>zombie</th>\n",
       "      <th>zombies</th>\n",
       "      <th>zone</th>\n",
       "    </tr>\n",
       "  </thead>\n",
       "  <tbody>\n",
       "    <tr>\n",
       "      <th>0</th>\n",
       "      <td>0</td>\n",
       "      <td>0</td>\n",
       "      <td>0</td>\n",
       "      <td>0</td>\n",
       "      <td>0</td>\n",
       "      <td>0</td>\n",
       "      <td>0</td>\n",
       "      <td>0</td>\n",
       "      <td>0</td>\n",
       "      <td>0</td>\n",
       "      <td>...</td>\n",
       "      <td>0</td>\n",
       "      <td>1</td>\n",
       "      <td>0</td>\n",
       "      <td>0</td>\n",
       "      <td>0</td>\n",
       "      <td>0</td>\n",
       "      <td>0</td>\n",
       "      <td>0</td>\n",
       "      <td>0</td>\n",
       "      <td>0</td>\n",
       "    </tr>\n",
       "    <tr>\n",
       "      <th>1</th>\n",
       "      <td>0</td>\n",
       "      <td>0</td>\n",
       "      <td>0</td>\n",
       "      <td>0</td>\n",
       "      <td>0</td>\n",
       "      <td>0</td>\n",
       "      <td>0</td>\n",
       "      <td>0</td>\n",
       "      <td>0</td>\n",
       "      <td>0</td>\n",
       "      <td>...</td>\n",
       "      <td>0</td>\n",
       "      <td>0</td>\n",
       "      <td>1</td>\n",
       "      <td>0</td>\n",
       "      <td>0</td>\n",
       "      <td>0</td>\n",
       "      <td>0</td>\n",
       "      <td>0</td>\n",
       "      <td>0</td>\n",
       "      <td>0</td>\n",
       "    </tr>\n",
       "    <tr>\n",
       "      <th>2</th>\n",
       "      <td>0</td>\n",
       "      <td>0</td>\n",
       "      <td>0</td>\n",
       "      <td>0</td>\n",
       "      <td>0</td>\n",
       "      <td>0</td>\n",
       "      <td>0</td>\n",
       "      <td>0</td>\n",
       "      <td>0</td>\n",
       "      <td>0</td>\n",
       "      <td>...</td>\n",
       "      <td>1</td>\n",
       "      <td>0</td>\n",
       "      <td>0</td>\n",
       "      <td>0</td>\n",
       "      <td>0</td>\n",
       "      <td>0</td>\n",
       "      <td>0</td>\n",
       "      <td>0</td>\n",
       "      <td>0</td>\n",
       "      <td>0</td>\n",
       "    </tr>\n",
       "    <tr>\n",
       "      <th>3</th>\n",
       "      <td>0</td>\n",
       "      <td>0</td>\n",
       "      <td>0</td>\n",
       "      <td>0</td>\n",
       "      <td>0</td>\n",
       "      <td>0</td>\n",
       "      <td>0</td>\n",
       "      <td>0</td>\n",
       "      <td>0</td>\n",
       "      <td>0</td>\n",
       "      <td>...</td>\n",
       "      <td>0</td>\n",
       "      <td>0</td>\n",
       "      <td>0</td>\n",
       "      <td>0</td>\n",
       "      <td>0</td>\n",
       "      <td>1</td>\n",
       "      <td>0</td>\n",
       "      <td>0</td>\n",
       "      <td>0</td>\n",
       "      <td>0</td>\n",
       "    </tr>\n",
       "    <tr>\n",
       "      <th>4</th>\n",
       "      <td>0</td>\n",
       "      <td>0</td>\n",
       "      <td>0</td>\n",
       "      <td>0</td>\n",
       "      <td>0</td>\n",
       "      <td>0</td>\n",
       "      <td>0</td>\n",
       "      <td>0</td>\n",
       "      <td>0</td>\n",
       "      <td>0</td>\n",
       "      <td>...</td>\n",
       "      <td>0</td>\n",
       "      <td>0</td>\n",
       "      <td>0</td>\n",
       "      <td>0</td>\n",
       "      <td>0</td>\n",
       "      <td>0</td>\n",
       "      <td>0</td>\n",
       "      <td>0</td>\n",
       "      <td>0</td>\n",
       "      <td>0</td>\n",
       "    </tr>\n",
       "    <tr>\n",
       "      <th>...</th>\n",
       "      <td>...</td>\n",
       "      <td>...</td>\n",
       "      <td>...</td>\n",
       "      <td>...</td>\n",
       "      <td>...</td>\n",
       "      <td>...</td>\n",
       "      <td>...</td>\n",
       "      <td>...</td>\n",
       "      <td>...</td>\n",
       "      <td>...</td>\n",
       "      <td>...</td>\n",
       "      <td>...</td>\n",
       "      <td>...</td>\n",
       "      <td>...</td>\n",
       "      <td>...</td>\n",
       "      <td>...</td>\n",
       "      <td>...</td>\n",
       "      <td>...</td>\n",
       "      <td>...</td>\n",
       "      <td>...</td>\n",
       "      <td>...</td>\n",
       "    </tr>\n",
       "    <tr>\n",
       "      <th>26846</th>\n",
       "      <td>0</td>\n",
       "      <td>0</td>\n",
       "      <td>0</td>\n",
       "      <td>0</td>\n",
       "      <td>0</td>\n",
       "      <td>0</td>\n",
       "      <td>0</td>\n",
       "      <td>0</td>\n",
       "      <td>0</td>\n",
       "      <td>0</td>\n",
       "      <td>...</td>\n",
       "      <td>0</td>\n",
       "      <td>0</td>\n",
       "      <td>0</td>\n",
       "      <td>0</td>\n",
       "      <td>0</td>\n",
       "      <td>0</td>\n",
       "      <td>0</td>\n",
       "      <td>0</td>\n",
       "      <td>0</td>\n",
       "      <td>0</td>\n",
       "    </tr>\n",
       "    <tr>\n",
       "      <th>26847</th>\n",
       "      <td>0</td>\n",
       "      <td>0</td>\n",
       "      <td>0</td>\n",
       "      <td>0</td>\n",
       "      <td>0</td>\n",
       "      <td>0</td>\n",
       "      <td>0</td>\n",
       "      <td>0</td>\n",
       "      <td>0</td>\n",
       "      <td>1</td>\n",
       "      <td>...</td>\n",
       "      <td>0</td>\n",
       "      <td>0</td>\n",
       "      <td>0</td>\n",
       "      <td>0</td>\n",
       "      <td>0</td>\n",
       "      <td>0</td>\n",
       "      <td>0</td>\n",
       "      <td>0</td>\n",
       "      <td>0</td>\n",
       "      <td>0</td>\n",
       "    </tr>\n",
       "    <tr>\n",
       "      <th>26848</th>\n",
       "      <td>0</td>\n",
       "      <td>0</td>\n",
       "      <td>0</td>\n",
       "      <td>0</td>\n",
       "      <td>0</td>\n",
       "      <td>0</td>\n",
       "      <td>0</td>\n",
       "      <td>0</td>\n",
       "      <td>0</td>\n",
       "      <td>0</td>\n",
       "      <td>...</td>\n",
       "      <td>0</td>\n",
       "      <td>1</td>\n",
       "      <td>0</td>\n",
       "      <td>0</td>\n",
       "      <td>0</td>\n",
       "      <td>0</td>\n",
       "      <td>0</td>\n",
       "      <td>0</td>\n",
       "      <td>0</td>\n",
       "      <td>0</td>\n",
       "    </tr>\n",
       "    <tr>\n",
       "      <th>26849</th>\n",
       "      <td>0</td>\n",
       "      <td>0</td>\n",
       "      <td>0</td>\n",
       "      <td>0</td>\n",
       "      <td>0</td>\n",
       "      <td>0</td>\n",
       "      <td>0</td>\n",
       "      <td>0</td>\n",
       "      <td>0</td>\n",
       "      <td>0</td>\n",
       "      <td>...</td>\n",
       "      <td>0</td>\n",
       "      <td>0</td>\n",
       "      <td>0</td>\n",
       "      <td>0</td>\n",
       "      <td>0</td>\n",
       "      <td>0</td>\n",
       "      <td>0</td>\n",
       "      <td>0</td>\n",
       "      <td>0</td>\n",
       "      <td>0</td>\n",
       "    </tr>\n",
       "    <tr>\n",
       "      <th>26850</th>\n",
       "      <td>0</td>\n",
       "      <td>1</td>\n",
       "      <td>0</td>\n",
       "      <td>0</td>\n",
       "      <td>0</td>\n",
       "      <td>0</td>\n",
       "      <td>0</td>\n",
       "      <td>0</td>\n",
       "      <td>0</td>\n",
       "      <td>0</td>\n",
       "      <td>...</td>\n",
       "      <td>0</td>\n",
       "      <td>0</td>\n",
       "      <td>0</td>\n",
       "      <td>0</td>\n",
       "      <td>0</td>\n",
       "      <td>0</td>\n",
       "      <td>0</td>\n",
       "      <td>0</td>\n",
       "      <td>0</td>\n",
       "      <td>0</td>\n",
       "    </tr>\n",
       "  </tbody>\n",
       "</table>\n",
       "<p>26851 rows × 1981 columns</p>\n",
       "</div>"
      ],
      "text/plain": [
       "       000  10  100  11  12  14  15  16  18  20  ...  wrong  year  years  \\\n",
       "0        0   0    0   0   0   0   0   0   0   0  ...      0     1      0   \n",
       "1        0   0    0   0   0   0   0   0   0   0  ...      0     0      1   \n",
       "2        0   0    0   0   0   0   0   0   0   0  ...      1     0      0   \n",
       "3        0   0    0   0   0   0   0   0   0   0  ...      0     0      0   \n",
       "4        0   0    0   0   0   0   0   0   0   0  ...      0     0      0   \n",
       "...    ...  ..  ...  ..  ..  ..  ..  ..  ..  ..  ...    ...   ...    ...   \n",
       "26846    0   0    0   0   0   0   0   0   0   0  ...      0     0      0   \n",
       "26847    0   0    0   0   0   0   0   0   0   1  ...      0     0      0   \n",
       "26848    0   0    0   0   0   0   0   0   0   0  ...      0     1      0   \n",
       "26849    0   0    0   0   0   0   0   0   0   0  ...      0     0      0   \n",
       "26850    0   1    0   0   0   0   0   0   0   0  ...      0     0      0   \n",
       "\n",
       "       years ago  yes  yet  young  zombie  zombies  zone  \n",
       "0              0    0    0      0       0        0     0  \n",
       "1              0    0    0      0       0        0     0  \n",
       "2              0    0    0      0       0        0     0  \n",
       "3              0    0    1      0       0        0     0  \n",
       "4              0    0    0      0       0        0     0  \n",
       "...          ...  ...  ...    ...     ...      ...   ...  \n",
       "26846          0    0    0      0       0        0     0  \n",
       "26847          0    0    0      0       0        0     0  \n",
       "26848          0    0    0      0       0        0     0  \n",
       "26849          0    0    0      0       0        0     0  \n",
       "26850          0    0    0      0       0        0     0  \n",
       "\n",
       "[26851 rows x 1981 columns]"
      ]
     },
     "execution_count": 57,
     "metadata": {},
     "output_type": "execute_result"
    }
   ],
   "source": [
    "test_df"
   ]
  },
  {
   "cell_type": "code",
   "execution_count": 58,
   "id": "030e87a0",
   "metadata": {
    "execution": {
     "iopub.execute_input": "2023-01-30T12:46:02.119085Z",
     "iopub.status.busy": "2023-01-30T12:46:02.118797Z",
     "iopub.status.idle": "2023-01-30T12:46:02.141330Z",
     "shell.execute_reply": "2023-01-30T12:46:02.140263Z"
    },
    "papermill": {
     "duration": 0.060648,
     "end_time": "2023-01-30T12:46:02.143347",
     "exception": false,
     "start_time": "2023-01-30T12:46:02.082699",
     "status": "completed"
    },
    "tags": []
   },
   "outputs": [
    {
     "data": {
      "text/html": [
       "<div>\n",
       "<style scoped>\n",
       "    .dataframe tbody tr th:only-of-type {\n",
       "        vertical-align: middle;\n",
       "    }\n",
       "\n",
       "    .dataframe tbody tr th {\n",
       "        vertical-align: top;\n",
       "    }\n",
       "\n",
       "    .dataframe thead th {\n",
       "        text-align: right;\n",
       "    }\n",
       "</style>\n",
       "<table border=\"1\" class=\"dataframe\">\n",
       "  <thead>\n",
       "    <tr style=\"text-align: right;\">\n",
       "      <th></th>\n",
       "      <th>1980s</th>\n",
       "      <th>1990's</th>\n",
       "      <th>2.5d</th>\n",
       "      <th>2d</th>\n",
       "      <th>2d fighter</th>\n",
       "      <th>2d platformer</th>\n",
       "      <th>360 video</th>\n",
       "      <th>3d</th>\n",
       "      <th>3d fighter</th>\n",
       "      <th>3d platformer</th>\n",
       "      <th>...</th>\n",
       "      <th>web publishing</th>\n",
       "      <th>well-written</th>\n",
       "      <th>werewolves</th>\n",
       "      <th>western</th>\n",
       "      <th>wholesome</th>\n",
       "      <th>word game</th>\n",
       "      <th>world war i</th>\n",
       "      <th>world war ii</th>\n",
       "      <th>wrestling</th>\n",
       "      <th>zombies</th>\n",
       "    </tr>\n",
       "  </thead>\n",
       "  <tbody>\n",
       "    <tr>\n",
       "      <th>0</th>\n",
       "      <td>0</td>\n",
       "      <td>0</td>\n",
       "      <td>0</td>\n",
       "      <td>0</td>\n",
       "      <td>0</td>\n",
       "      <td>0</td>\n",
       "      <td>0</td>\n",
       "      <td>0</td>\n",
       "      <td>0</td>\n",
       "      <td>0</td>\n",
       "      <td>...</td>\n",
       "      <td>0</td>\n",
       "      <td>0</td>\n",
       "      <td>0</td>\n",
       "      <td>0</td>\n",
       "      <td>0</td>\n",
       "      <td>0</td>\n",
       "      <td>0</td>\n",
       "      <td>0</td>\n",
       "      <td>0</td>\n",
       "      <td>0</td>\n",
       "    </tr>\n",
       "    <tr>\n",
       "      <th>1</th>\n",
       "      <td>0</td>\n",
       "      <td>0</td>\n",
       "      <td>0</td>\n",
       "      <td>1</td>\n",
       "      <td>1</td>\n",
       "      <td>0</td>\n",
       "      <td>0</td>\n",
       "      <td>0</td>\n",
       "      <td>0</td>\n",
       "      <td>0</td>\n",
       "      <td>...</td>\n",
       "      <td>0</td>\n",
       "      <td>0</td>\n",
       "      <td>0</td>\n",
       "      <td>0</td>\n",
       "      <td>0</td>\n",
       "      <td>0</td>\n",
       "      <td>0</td>\n",
       "      <td>0</td>\n",
       "      <td>0</td>\n",
       "      <td>0</td>\n",
       "    </tr>\n",
       "    <tr>\n",
       "      <th>2</th>\n",
       "      <td>0</td>\n",
       "      <td>0</td>\n",
       "      <td>0</td>\n",
       "      <td>0</td>\n",
       "      <td>0</td>\n",
       "      <td>0</td>\n",
       "      <td>0</td>\n",
       "      <td>0</td>\n",
       "      <td>0</td>\n",
       "      <td>0</td>\n",
       "      <td>...</td>\n",
       "      <td>0</td>\n",
       "      <td>0</td>\n",
       "      <td>0</td>\n",
       "      <td>0</td>\n",
       "      <td>0</td>\n",
       "      <td>0</td>\n",
       "      <td>0</td>\n",
       "      <td>0</td>\n",
       "      <td>0</td>\n",
       "      <td>0</td>\n",
       "    </tr>\n",
       "    <tr>\n",
       "      <th>3</th>\n",
       "      <td>0</td>\n",
       "      <td>1</td>\n",
       "      <td>0</td>\n",
       "      <td>0</td>\n",
       "      <td>0</td>\n",
       "      <td>0</td>\n",
       "      <td>0</td>\n",
       "      <td>1</td>\n",
       "      <td>0</td>\n",
       "      <td>0</td>\n",
       "      <td>...</td>\n",
       "      <td>0</td>\n",
       "      <td>0</td>\n",
       "      <td>0</td>\n",
       "      <td>0</td>\n",
       "      <td>0</td>\n",
       "      <td>0</td>\n",
       "      <td>0</td>\n",
       "      <td>0</td>\n",
       "      <td>0</td>\n",
       "      <td>0</td>\n",
       "    </tr>\n",
       "    <tr>\n",
       "      <th>4</th>\n",
       "      <td>0</td>\n",
       "      <td>0</td>\n",
       "      <td>0</td>\n",
       "      <td>0</td>\n",
       "      <td>0</td>\n",
       "      <td>0</td>\n",
       "      <td>0</td>\n",
       "      <td>1</td>\n",
       "      <td>0</td>\n",
       "      <td>0</td>\n",
       "      <td>...</td>\n",
       "      <td>0</td>\n",
       "      <td>0</td>\n",
       "      <td>0</td>\n",
       "      <td>0</td>\n",
       "      <td>0</td>\n",
       "      <td>0</td>\n",
       "      <td>0</td>\n",
       "      <td>0</td>\n",
       "      <td>0</td>\n",
       "      <td>0</td>\n",
       "    </tr>\n",
       "    <tr>\n",
       "      <th>...</th>\n",
       "      <td>...</td>\n",
       "      <td>...</td>\n",
       "      <td>...</td>\n",
       "      <td>...</td>\n",
       "      <td>...</td>\n",
       "      <td>...</td>\n",
       "      <td>...</td>\n",
       "      <td>...</td>\n",
       "      <td>...</td>\n",
       "      <td>...</td>\n",
       "      <td>...</td>\n",
       "      <td>...</td>\n",
       "      <td>...</td>\n",
       "      <td>...</td>\n",
       "      <td>...</td>\n",
       "      <td>...</td>\n",
       "      <td>...</td>\n",
       "      <td>...</td>\n",
       "      <td>...</td>\n",
       "      <td>...</td>\n",
       "      <td>...</td>\n",
       "    </tr>\n",
       "    <tr>\n",
       "      <th>26846</th>\n",
       "      <td>0</td>\n",
       "      <td>0</td>\n",
       "      <td>0</td>\n",
       "      <td>0</td>\n",
       "      <td>0</td>\n",
       "      <td>0</td>\n",
       "      <td>0</td>\n",
       "      <td>0</td>\n",
       "      <td>0</td>\n",
       "      <td>0</td>\n",
       "      <td>...</td>\n",
       "      <td>0</td>\n",
       "      <td>0</td>\n",
       "      <td>0</td>\n",
       "      <td>0</td>\n",
       "      <td>0</td>\n",
       "      <td>0</td>\n",
       "      <td>0</td>\n",
       "      <td>0</td>\n",
       "      <td>0</td>\n",
       "      <td>0</td>\n",
       "    </tr>\n",
       "    <tr>\n",
       "      <th>26847</th>\n",
       "      <td>0</td>\n",
       "      <td>0</td>\n",
       "      <td>0</td>\n",
       "      <td>0</td>\n",
       "      <td>0</td>\n",
       "      <td>0</td>\n",
       "      <td>0</td>\n",
       "      <td>0</td>\n",
       "      <td>0</td>\n",
       "      <td>0</td>\n",
       "      <td>...</td>\n",
       "      <td>0</td>\n",
       "      <td>0</td>\n",
       "      <td>0</td>\n",
       "      <td>0</td>\n",
       "      <td>0</td>\n",
       "      <td>0</td>\n",
       "      <td>0</td>\n",
       "      <td>0</td>\n",
       "      <td>0</td>\n",
       "      <td>0</td>\n",
       "    </tr>\n",
       "    <tr>\n",
       "      <th>26848</th>\n",
       "      <td>0</td>\n",
       "      <td>0</td>\n",
       "      <td>0</td>\n",
       "      <td>0</td>\n",
       "      <td>0</td>\n",
       "      <td>0</td>\n",
       "      <td>0</td>\n",
       "      <td>0</td>\n",
       "      <td>0</td>\n",
       "      <td>0</td>\n",
       "      <td>...</td>\n",
       "      <td>0</td>\n",
       "      <td>0</td>\n",
       "      <td>0</td>\n",
       "      <td>0</td>\n",
       "      <td>0</td>\n",
       "      <td>0</td>\n",
       "      <td>0</td>\n",
       "      <td>0</td>\n",
       "      <td>0</td>\n",
       "      <td>0</td>\n",
       "    </tr>\n",
       "    <tr>\n",
       "      <th>26849</th>\n",
       "      <td>0</td>\n",
       "      <td>0</td>\n",
       "      <td>0</td>\n",
       "      <td>0</td>\n",
       "      <td>0</td>\n",
       "      <td>0</td>\n",
       "      <td>0</td>\n",
       "      <td>0</td>\n",
       "      <td>0</td>\n",
       "      <td>0</td>\n",
       "      <td>...</td>\n",
       "      <td>0</td>\n",
       "      <td>0</td>\n",
       "      <td>0</td>\n",
       "      <td>0</td>\n",
       "      <td>0</td>\n",
       "      <td>0</td>\n",
       "      <td>0</td>\n",
       "      <td>0</td>\n",
       "      <td>0</td>\n",
       "      <td>0</td>\n",
       "    </tr>\n",
       "    <tr>\n",
       "      <th>26850</th>\n",
       "      <td>0</td>\n",
       "      <td>0</td>\n",
       "      <td>0</td>\n",
       "      <td>0</td>\n",
       "      <td>0</td>\n",
       "      <td>0</td>\n",
       "      <td>0</td>\n",
       "      <td>0</td>\n",
       "      <td>0</td>\n",
       "      <td>0</td>\n",
       "      <td>...</td>\n",
       "      <td>0</td>\n",
       "      <td>0</td>\n",
       "      <td>0</td>\n",
       "      <td>0</td>\n",
       "      <td>0</td>\n",
       "      <td>0</td>\n",
       "      <td>0</td>\n",
       "      <td>0</td>\n",
       "      <td>0</td>\n",
       "      <td>0</td>\n",
       "    </tr>\n",
       "  </tbody>\n",
       "</table>\n",
       "<p>26851 rows × 440 columns</p>\n",
       "</div>"
      ],
      "text/plain": [
       "       1980s  1990's  2.5d  2d  2d fighter  2d platformer  360 video  3d  \\\n",
       "0          0       0     0   0           0              0          0   0   \n",
       "1          0       0     0   1           1              0          0   0   \n",
       "2          0       0     0   0           0              0          0   0   \n",
       "3          0       1     0   0           0              0          0   1   \n",
       "4          0       0     0   0           0              0          0   1   \n",
       "...      ...     ...   ...  ..         ...            ...        ...  ..   \n",
       "26846      0       0     0   0           0              0          0   0   \n",
       "26847      0       0     0   0           0              0          0   0   \n",
       "26848      0       0     0   0           0              0          0   0   \n",
       "26849      0       0     0   0           0              0          0   0   \n",
       "26850      0       0     0   0           0              0          0   0   \n",
       "\n",
       "       3d fighter  3d platformer  ...  web publishing  well-written  \\\n",
       "0               0              0  ...               0             0   \n",
       "1               0              0  ...               0             0   \n",
       "2               0              0  ...               0             0   \n",
       "3               0              0  ...               0             0   \n",
       "4               0              0  ...               0             0   \n",
       "...           ...            ...  ...             ...           ...   \n",
       "26846           0              0  ...               0             0   \n",
       "26847           0              0  ...               0             0   \n",
       "26848           0              0  ...               0             0   \n",
       "26849           0              0  ...               0             0   \n",
       "26850           0              0  ...               0             0   \n",
       "\n",
       "       werewolves  western  wholesome  word game  world war i  world war ii  \\\n",
       "0               0        0          0          0            0             0   \n",
       "1               0        0          0          0            0             0   \n",
       "2               0        0          0          0            0             0   \n",
       "3               0        0          0          0            0             0   \n",
       "4               0        0          0          0            0             0   \n",
       "...           ...      ...        ...        ...          ...           ...   \n",
       "26846           0        0          0          0            0             0   \n",
       "26847           0        0          0          0            0             0   \n",
       "26848           0        0          0          0            0             0   \n",
       "26849           0        0          0          0            0             0   \n",
       "26850           0        0          0          0            0             0   \n",
       "\n",
       "       wrestling  zombies  \n",
       "0              0        0  \n",
       "1              0        0  \n",
       "2              0        0  \n",
       "3              0        0  \n",
       "4              0        0  \n",
       "...          ...      ...  \n",
       "26846          0        0  \n",
       "26847          0        0  \n",
       "26848          0        0  \n",
       "26849          0        0  \n",
       "26850          0        0  \n",
       "\n",
       "[26851 rows x 440 columns]"
      ]
     },
     "execution_count": 58,
     "metadata": {},
     "output_type": "execute_result"
    }
   ],
   "source": [
    "df33"
   ]
  },
  {
   "cell_type": "code",
   "execution_count": null,
   "id": "b1cbca87",
   "metadata": {
    "papermill": {
     "duration": 0.038988,
     "end_time": "2023-01-30T12:46:02.217390",
     "exception": false,
     "start_time": "2023-01-30T12:46:02.178402",
     "status": "completed"
    },
    "tags": []
   },
   "outputs": [],
   "source": []
  },
  {
   "cell_type": "code",
   "execution_count": 59,
   "id": "17484af5",
   "metadata": {
    "execution": {
     "iopub.execute_input": "2023-01-30T12:46:02.287443Z",
     "iopub.status.busy": "2023-01-30T12:46:02.286431Z",
     "iopub.status.idle": "2023-01-30T12:46:02.307851Z",
     "shell.execute_reply": "2023-01-30T12:46:02.306697Z"
    },
    "papermill": {
     "duration": 0.058461,
     "end_time": "2023-01-30T12:46:02.310019",
     "exception": false,
     "start_time": "2023-01-30T12:46:02.251558",
     "status": "completed"
    },
    "tags": []
   },
   "outputs": [
    {
     "data": {
      "text/html": [
       "<div>\n",
       "<style scoped>\n",
       "    .dataframe tbody tr th:only-of-type {\n",
       "        vertical-align: middle;\n",
       "    }\n",
       "\n",
       "    .dataframe tbody tr th {\n",
       "        vertical-align: top;\n",
       "    }\n",
       "\n",
       "    .dataframe thead th {\n",
       "        text-align: right;\n",
       "    }\n",
       "</style>\n",
       "<table border=\"1\" class=\"dataframe\">\n",
       "  <thead>\n",
       "    <tr style=\"text-align: right;\">\n",
       "      <th></th>\n",
       "      <th>title</th>\n",
       "      <th>r_date</th>\n",
       "      <th>price</th>\n",
       "      <th>description</th>\n",
       "      <th>review_type</th>\n",
       "      <th>review_stats</th>\n",
       "      <th>positive_percentage</th>\n",
       "      <th>total_reviews</th>\n",
       "      <th>tagged</th>\n",
       "      <th>game_id</th>\n",
       "      <th>r_year</th>\n",
       "      <th>language</th>\n",
       "    </tr>\n",
       "  </thead>\n",
       "  <tbody>\n",
       "    <tr>\n",
       "      <th>0</th>\n",
       "      <td>persona 3 portable</td>\n",
       "      <td>2023-01-18</td>\n",
       "      <td>27.99</td>\n",
       "      <td>experience the iconic, critically acclaimed rp...</td>\n",
       "      <td>mostly positive(771)</td>\n",
       "      <td>74% of the 771 user reviews for this game are...</td>\n",
       "      <td>74</td>\n",
       "      <td>771</td>\n",
       "      <td>rpg, story rich, anime, turn-based combat, jrp...</td>\n",
       "      <td>1809700</td>\n",
       "      <td>2023</td>\n",
       "      <td>en</td>\n",
       "    </tr>\n",
       "    <tr>\n",
       "      <th>1</th>\n",
       "      <td>fraymakers</td>\n",
       "      <td>2023-01-18</td>\n",
       "      <td>22.79</td>\n",
       "      <td>what is fraymakers?fraymakers is the ultimate ...</td>\n",
       "      <td>mixed(214)</td>\n",
       "      <td>68% of the 214 user reviews for this game are...</td>\n",
       "      <td>68</td>\n",
       "      <td>214</td>\n",
       "      <td>indie, fighting, 2d fighter, multiplayer, acti...</td>\n",
       "      <td>1420350</td>\n",
       "      <td>2023</td>\n",
       "      <td>en</td>\n",
       "    </tr>\n",
       "    <tr>\n",
       "      <th>2</th>\n",
       "      <td>osiris: new dawn</td>\n",
       "      <td>2023-01-18</td>\n",
       "      <td>39.99</td>\n",
       "      <td>inspired by the edgier side of sci fi, osiris:...</td>\n",
       "      <td>mostly negative(127)</td>\n",
       "      <td>31% of the 127 user reviews in the last 30 da...</td>\n",
       "      <td>31</td>\n",
       "      <td>127</td>\n",
       "      <td>open world survival craft, horror, survival, s...</td>\n",
       "      <td>402710</td>\n",
       "      <td>2023</td>\n",
       "      <td>en</td>\n",
       "    </tr>\n",
       "    <tr>\n",
       "      <th>3</th>\n",
       "      <td>lake haven - chrysalis</td>\n",
       "      <td>2023-01-18</td>\n",
       "      <td>3.89</td>\n",
       "      <td>on october 7th, at 9 pm the kansas police depa...</td>\n",
       "      <td>positive(27)</td>\n",
       "      <td>100% of the 27 user reviews for this game are...</td>\n",
       "      <td>100</td>\n",
       "      <td>27</td>\n",
       "      <td>third person, exploration, singleplayer, adven...</td>\n",
       "      <td>1696960</td>\n",
       "      <td>2023</td>\n",
       "      <td>en</td>\n",
       "    </tr>\n",
       "    <tr>\n",
       "      <th>4</th>\n",
       "      <td>predictors</td>\n",
       "      <td>2023-01-18</td>\n",
       "      <td>3.89</td>\n",
       "      <td>turn-based roguelikego solo or invite up to th...</td>\n",
       "      <td>positive(20)</td>\n",
       "      <td>95% of the 20 user reviews for this game are ...</td>\n",
       "      <td>95</td>\n",
       "      <td>20</td>\n",
       "      <td>roguelike, roguelite, turn-based, online co-op...</td>\n",
       "      <td>2149330</td>\n",
       "      <td>2023</td>\n",
       "      <td>en</td>\n",
       "    </tr>\n",
       "    <tr>\n",
       "      <th>...</th>\n",
       "      <td>...</td>\n",
       "      <td>...</td>\n",
       "      <td>...</td>\n",
       "      <td>...</td>\n",
       "      <td>...</td>\n",
       "      <td>...</td>\n",
       "      <td>...</td>\n",
       "      <td>...</td>\n",
       "      <td>...</td>\n",
       "      <td>...</td>\n",
       "      <td>...</td>\n",
       "      <td>...</td>\n",
       "    </tr>\n",
       "    <tr>\n",
       "      <th>26846</th>\n",
       "      <td>domain defense vr</td>\n",
       "      <td>2017-05-12</td>\n",
       "      <td>8.99</td>\n",
       "      <td>domain defense vr is a stand alone game that h...</td>\n",
       "      <td>positive(15)</td>\n",
       "      <td>80% of the 15 user reviews for this game are ...</td>\n",
       "      <td>80</td>\n",
       "      <td>15</td>\n",
       "      <td>strategy, indie, casual, vr</td>\n",
       "      <td>455190</td>\n",
       "      <td>2017</td>\n",
       "      <td>en</td>\n",
       "    </tr>\n",
       "    <tr>\n",
       "      <th>26847</th>\n",
       "      <td>void rangers</td>\n",
       "      <td>2017-05-12</td>\n",
       "      <td>12.99</td>\n",
       "      <td>quotes from reviews\"if you wondered what space...</td>\n",
       "      <td>positive(35)</td>\n",
       "      <td>80% of the 35 user reviews for this game are ...</td>\n",
       "      <td>80</td>\n",
       "      <td>35</td>\n",
       "      <td>action, indie, vr, shooter, loot</td>\n",
       "      <td>529360</td>\n",
       "      <td>2017</td>\n",
       "      <td>en</td>\n",
       "    </tr>\n",
       "    <tr>\n",
       "      <th>26848</th>\n",
       "      <td>stay! stay! democratic people's republic of ko...</td>\n",
       "      <td>2017-05-12</td>\n",
       "      <td>10.99</td>\n",
       "      <td>story the year is 2021, america is back in afg...</td>\n",
       "      <td>very positive(480)</td>\n",
       "      <td>93% of the 480 user reviews for this game are...</td>\n",
       "      <td>93</td>\n",
       "      <td>480</td>\n",
       "      <td>memes, anime, visual novel, nudity, sexual con...</td>\n",
       "      <td>512060</td>\n",
       "      <td>2017</td>\n",
       "      <td>en</td>\n",
       "    </tr>\n",
       "    <tr>\n",
       "      <th>26849</th>\n",
       "      <td>seed of the arcane , episode 1</td>\n",
       "      <td>2017-05-12</td>\n",
       "      <td>16.99</td>\n",
       "      <td>****this game is on alpha test - please read t...</td>\n",
       "      <td>mostly negative(29)</td>\n",
       "      <td>27% of the 29 user reviews for this game are ...</td>\n",
       "      <td>27</td>\n",
       "      <td>29</td>\n",
       "      <td>rpg, nudity, adventure, indie, early access, g...</td>\n",
       "      <td>601020</td>\n",
       "      <td>2017</td>\n",
       "      <td>en</td>\n",
       "    </tr>\n",
       "    <tr>\n",
       "      <th>26850</th>\n",
       "      <td>solitaire club</td>\n",
       "      <td>2017-05-11</td>\n",
       "      <td>5.69</td>\n",
       "      <td>experience real casino flair on your pc with s...</td>\n",
       "      <td>mixed(11)</td>\n",
       "      <td>63% of the 11 user reviews for this game are ...</td>\n",
       "      <td>63</td>\n",
       "      <td>11</td>\n",
       "      <td>casual, solitaire, card game, puzzle, strategy...</td>\n",
       "      <td>630470</td>\n",
       "      <td>2017</td>\n",
       "      <td>en</td>\n",
       "    </tr>\n",
       "  </tbody>\n",
       "</table>\n",
       "<p>26851 rows × 12 columns</p>\n",
       "</div>"
      ],
      "text/plain": [
       "                                                   title     r_date  price  \\\n",
       "0                                     persona 3 portable 2023-01-18  27.99   \n",
       "1                                             fraymakers 2023-01-18  22.79   \n",
       "2                                       osiris: new dawn 2023-01-18  39.99   \n",
       "3                                 lake haven - chrysalis 2023-01-18   3.89   \n",
       "4                                             predictors 2023-01-18   3.89   \n",
       "...                                                  ...        ...    ...   \n",
       "26846                                  domain defense vr 2017-05-12   8.99   \n",
       "26847                                       void rangers 2017-05-12  12.99   \n",
       "26848  stay! stay! democratic people's republic of ko... 2017-05-12  10.99   \n",
       "26849                     seed of the arcane , episode 1 2017-05-12  16.99   \n",
       "26850                                     solitaire club 2017-05-11   5.69   \n",
       "\n",
       "                                             description  \\\n",
       "0      experience the iconic, critically acclaimed rp...   \n",
       "1      what is fraymakers?fraymakers is the ultimate ...   \n",
       "2      inspired by the edgier side of sci fi, osiris:...   \n",
       "3      on october 7th, at 9 pm the kansas police depa...   \n",
       "4      turn-based roguelikego solo or invite up to th...   \n",
       "...                                                  ...   \n",
       "26846  domain defense vr is a stand alone game that h...   \n",
       "26847  quotes from reviews\"if you wondered what space...   \n",
       "26848  story the year is 2021, america is back in afg...   \n",
       "26849  ****this game is on alpha test - please read t...   \n",
       "26850  experience real casino flair on your pc with s...   \n",
       "\n",
       "                review_type  \\\n",
       "0      mostly positive(771)   \n",
       "1                mixed(214)   \n",
       "2      mostly negative(127)   \n",
       "3              positive(27)   \n",
       "4              positive(20)   \n",
       "...                     ...   \n",
       "26846          positive(15)   \n",
       "26847          positive(35)   \n",
       "26848    very positive(480)   \n",
       "26849   mostly negative(29)   \n",
       "26850             mixed(11)   \n",
       "\n",
       "                                            review_stats  positive_percentage  \\\n",
       "0       74% of the 771 user reviews for this game are...                   74   \n",
       "1       68% of the 214 user reviews for this game are...                   68   \n",
       "2       31% of the 127 user reviews in the last 30 da...                   31   \n",
       "3       100% of the 27 user reviews for this game are...                  100   \n",
       "4       95% of the 20 user reviews for this game are ...                   95   \n",
       "...                                                  ...                  ...   \n",
       "26846   80% of the 15 user reviews for this game are ...                   80   \n",
       "26847   80% of the 35 user reviews for this game are ...                   80   \n",
       "26848   93% of the 480 user reviews for this game are...                   93   \n",
       "26849   27% of the 29 user reviews for this game are ...                   27   \n",
       "26850   63% of the 11 user reviews for this game are ...                   63   \n",
       "\n",
       "       total_reviews                                             tagged  \\\n",
       "0                771  rpg, story rich, anime, turn-based combat, jrp...   \n",
       "1                214  indie, fighting, 2d fighter, multiplayer, acti...   \n",
       "2                127  open world survival craft, horror, survival, s...   \n",
       "3                 27  third person, exploration, singleplayer, adven...   \n",
       "4                 20  roguelike, roguelite, turn-based, online co-op...   \n",
       "...              ...                                                ...   \n",
       "26846             15                        strategy, indie, casual, vr   \n",
       "26847             35                   action, indie, vr, shooter, loot   \n",
       "26848            480  memes, anime, visual novel, nudity, sexual con...   \n",
       "26849             29  rpg, nudity, adventure, indie, early access, g...   \n",
       "26850             11  casual, solitaire, card game, puzzle, strategy...   \n",
       "\n",
       "       game_id  r_year language  \n",
       "0      1809700    2023       en  \n",
       "1      1420350    2023       en  \n",
       "2       402710    2023       en  \n",
       "3      1696960    2023       en  \n",
       "4      2149330    2023       en  \n",
       "...        ...     ...      ...  \n",
       "26846   455190    2017       en  \n",
       "26847   529360    2017       en  \n",
       "26848   512060    2017       en  \n",
       "26849   601020    2017       en  \n",
       "26850   630470    2017       en  \n",
       "\n",
       "[26851 rows x 12 columns]"
      ]
     },
     "execution_count": 59,
     "metadata": {},
     "output_type": "execute_result"
    }
   ],
   "source": [
    "df3"
   ]
  },
  {
   "cell_type": "code",
   "execution_count": 60,
   "id": "a2498971",
   "metadata": {
    "execution": {
     "iopub.execute_input": "2023-01-30T12:46:02.381713Z",
     "iopub.status.busy": "2023-01-30T12:46:02.380827Z",
     "iopub.status.idle": "2023-01-30T12:46:19.806494Z",
     "shell.execute_reply": "2023-01-30T12:46:19.805461Z"
    },
    "papermill": {
     "duration": 17.463846,
     "end_time": "2023-01-30T12:46:19.808798",
     "exception": false,
     "start_time": "2023-01-30T12:46:02.344952",
     "status": "completed"
    },
    "tags": []
   },
   "outputs": [
    {
     "data": {
      "text/html": [
       "<div>\n",
       "<style scoped>\n",
       "    .dataframe tbody tr th:only-of-type {\n",
       "        vertical-align: middle;\n",
       "    }\n",
       "\n",
       "    .dataframe tbody tr th {\n",
       "        vertical-align: top;\n",
       "    }\n",
       "\n",
       "    .dataframe thead th {\n",
       "        text-align: right;\n",
       "    }\n",
       "</style>\n",
       "<table border=\"1\" class=\"dataframe\">\n",
       "  <thead>\n",
       "    <tr style=\"text-align: right;\">\n",
       "      <th></th>\n",
       "      <th>000</th>\n",
       "      <th>10</th>\n",
       "      <th>100</th>\n",
       "      <th>11</th>\n",
       "      <th>12</th>\n",
       "      <th>14</th>\n",
       "      <th>15</th>\n",
       "      <th>16</th>\n",
       "      <th>18</th>\n",
       "      <th>20</th>\n",
       "      <th>...</th>\n",
       "      <th>wrong</th>\n",
       "      <th>year</th>\n",
       "      <th>years</th>\n",
       "      <th>years ago</th>\n",
       "      <th>yes</th>\n",
       "      <th>yet</th>\n",
       "      <th>young</th>\n",
       "      <th>zombie</th>\n",
       "      <th>zombies</th>\n",
       "      <th>zone</th>\n",
       "    </tr>\n",
       "  </thead>\n",
       "  <tbody>\n",
       "    <tr>\n",
       "      <th>0</th>\n",
       "      <td>0</td>\n",
       "      <td>0</td>\n",
       "      <td>0</td>\n",
       "      <td>0</td>\n",
       "      <td>0</td>\n",
       "      <td>0</td>\n",
       "      <td>0</td>\n",
       "      <td>0</td>\n",
       "      <td>0</td>\n",
       "      <td>0</td>\n",
       "      <td>...</td>\n",
       "      <td>0</td>\n",
       "      <td>1</td>\n",
       "      <td>0</td>\n",
       "      <td>0</td>\n",
       "      <td>0</td>\n",
       "      <td>0</td>\n",
       "      <td>0</td>\n",
       "      <td>0</td>\n",
       "      <td>0</td>\n",
       "      <td>0</td>\n",
       "    </tr>\n",
       "    <tr>\n",
       "      <th>1</th>\n",
       "      <td>0</td>\n",
       "      <td>0</td>\n",
       "      <td>0</td>\n",
       "      <td>0</td>\n",
       "      <td>0</td>\n",
       "      <td>0</td>\n",
       "      <td>0</td>\n",
       "      <td>0</td>\n",
       "      <td>0</td>\n",
       "      <td>0</td>\n",
       "      <td>...</td>\n",
       "      <td>0</td>\n",
       "      <td>0</td>\n",
       "      <td>1</td>\n",
       "      <td>0</td>\n",
       "      <td>0</td>\n",
       "      <td>0</td>\n",
       "      <td>0</td>\n",
       "      <td>0</td>\n",
       "      <td>0</td>\n",
       "      <td>0</td>\n",
       "    </tr>\n",
       "    <tr>\n",
       "      <th>2</th>\n",
       "      <td>0</td>\n",
       "      <td>0</td>\n",
       "      <td>0</td>\n",
       "      <td>0</td>\n",
       "      <td>0</td>\n",
       "      <td>0</td>\n",
       "      <td>0</td>\n",
       "      <td>0</td>\n",
       "      <td>0</td>\n",
       "      <td>0</td>\n",
       "      <td>...</td>\n",
       "      <td>1</td>\n",
       "      <td>0</td>\n",
       "      <td>0</td>\n",
       "      <td>0</td>\n",
       "      <td>0</td>\n",
       "      <td>0</td>\n",
       "      <td>0</td>\n",
       "      <td>0</td>\n",
       "      <td>0</td>\n",
       "      <td>0</td>\n",
       "    </tr>\n",
       "    <tr>\n",
       "      <th>3</th>\n",
       "      <td>0</td>\n",
       "      <td>0</td>\n",
       "      <td>0</td>\n",
       "      <td>0</td>\n",
       "      <td>0</td>\n",
       "      <td>0</td>\n",
       "      <td>0</td>\n",
       "      <td>0</td>\n",
       "      <td>0</td>\n",
       "      <td>0</td>\n",
       "      <td>...</td>\n",
       "      <td>0</td>\n",
       "      <td>0</td>\n",
       "      <td>0</td>\n",
       "      <td>0</td>\n",
       "      <td>0</td>\n",
       "      <td>1</td>\n",
       "      <td>0</td>\n",
       "      <td>0</td>\n",
       "      <td>0</td>\n",
       "      <td>0</td>\n",
       "    </tr>\n",
       "    <tr>\n",
       "      <th>4</th>\n",
       "      <td>0</td>\n",
       "      <td>0</td>\n",
       "      <td>0</td>\n",
       "      <td>0</td>\n",
       "      <td>0</td>\n",
       "      <td>0</td>\n",
       "      <td>0</td>\n",
       "      <td>0</td>\n",
       "      <td>0</td>\n",
       "      <td>0</td>\n",
       "      <td>...</td>\n",
       "      <td>0</td>\n",
       "      <td>0</td>\n",
       "      <td>0</td>\n",
       "      <td>0</td>\n",
       "      <td>0</td>\n",
       "      <td>0</td>\n",
       "      <td>0</td>\n",
       "      <td>0</td>\n",
       "      <td>0</td>\n",
       "      <td>0</td>\n",
       "    </tr>\n",
       "    <tr>\n",
       "      <th>...</th>\n",
       "      <td>...</td>\n",
       "      <td>...</td>\n",
       "      <td>...</td>\n",
       "      <td>...</td>\n",
       "      <td>...</td>\n",
       "      <td>...</td>\n",
       "      <td>...</td>\n",
       "      <td>...</td>\n",
       "      <td>...</td>\n",
       "      <td>...</td>\n",
       "      <td>...</td>\n",
       "      <td>...</td>\n",
       "      <td>...</td>\n",
       "      <td>...</td>\n",
       "      <td>...</td>\n",
       "      <td>...</td>\n",
       "      <td>...</td>\n",
       "      <td>...</td>\n",
       "      <td>...</td>\n",
       "      <td>...</td>\n",
       "      <td>...</td>\n",
       "    </tr>\n",
       "    <tr>\n",
       "      <th>26846</th>\n",
       "      <td>0</td>\n",
       "      <td>0</td>\n",
       "      <td>0</td>\n",
       "      <td>0</td>\n",
       "      <td>0</td>\n",
       "      <td>0</td>\n",
       "      <td>0</td>\n",
       "      <td>0</td>\n",
       "      <td>0</td>\n",
       "      <td>0</td>\n",
       "      <td>...</td>\n",
       "      <td>0</td>\n",
       "      <td>0</td>\n",
       "      <td>0</td>\n",
       "      <td>0</td>\n",
       "      <td>0</td>\n",
       "      <td>0</td>\n",
       "      <td>0</td>\n",
       "      <td>0</td>\n",
       "      <td>0</td>\n",
       "      <td>0</td>\n",
       "    </tr>\n",
       "    <tr>\n",
       "      <th>26847</th>\n",
       "      <td>0</td>\n",
       "      <td>0</td>\n",
       "      <td>0</td>\n",
       "      <td>0</td>\n",
       "      <td>0</td>\n",
       "      <td>0</td>\n",
       "      <td>0</td>\n",
       "      <td>0</td>\n",
       "      <td>0</td>\n",
       "      <td>1</td>\n",
       "      <td>...</td>\n",
       "      <td>0</td>\n",
       "      <td>0</td>\n",
       "      <td>0</td>\n",
       "      <td>0</td>\n",
       "      <td>0</td>\n",
       "      <td>0</td>\n",
       "      <td>0</td>\n",
       "      <td>0</td>\n",
       "      <td>0</td>\n",
       "      <td>0</td>\n",
       "    </tr>\n",
       "    <tr>\n",
       "      <th>26848</th>\n",
       "      <td>0</td>\n",
       "      <td>0</td>\n",
       "      <td>0</td>\n",
       "      <td>0</td>\n",
       "      <td>0</td>\n",
       "      <td>0</td>\n",
       "      <td>0</td>\n",
       "      <td>0</td>\n",
       "      <td>0</td>\n",
       "      <td>0</td>\n",
       "      <td>...</td>\n",
       "      <td>0</td>\n",
       "      <td>1</td>\n",
       "      <td>0</td>\n",
       "      <td>0</td>\n",
       "      <td>0</td>\n",
       "      <td>0</td>\n",
       "      <td>0</td>\n",
       "      <td>0</td>\n",
       "      <td>0</td>\n",
       "      <td>0</td>\n",
       "    </tr>\n",
       "    <tr>\n",
       "      <th>26849</th>\n",
       "      <td>0</td>\n",
       "      <td>0</td>\n",
       "      <td>0</td>\n",
       "      <td>0</td>\n",
       "      <td>0</td>\n",
       "      <td>0</td>\n",
       "      <td>0</td>\n",
       "      <td>0</td>\n",
       "      <td>0</td>\n",
       "      <td>0</td>\n",
       "      <td>...</td>\n",
       "      <td>0</td>\n",
       "      <td>0</td>\n",
       "      <td>0</td>\n",
       "      <td>0</td>\n",
       "      <td>0</td>\n",
       "      <td>0</td>\n",
       "      <td>0</td>\n",
       "      <td>0</td>\n",
       "      <td>0</td>\n",
       "      <td>0</td>\n",
       "    </tr>\n",
       "    <tr>\n",
       "      <th>26850</th>\n",
       "      <td>0</td>\n",
       "      <td>1</td>\n",
       "      <td>0</td>\n",
       "      <td>0</td>\n",
       "      <td>0</td>\n",
       "      <td>0</td>\n",
       "      <td>0</td>\n",
       "      <td>0</td>\n",
       "      <td>0</td>\n",
       "      <td>0</td>\n",
       "      <td>...</td>\n",
       "      <td>0</td>\n",
       "      <td>0</td>\n",
       "      <td>0</td>\n",
       "      <td>0</td>\n",
       "      <td>0</td>\n",
       "      <td>0</td>\n",
       "      <td>0</td>\n",
       "      <td>0</td>\n",
       "      <td>0</td>\n",
       "      <td>0</td>\n",
       "    </tr>\n",
       "  </tbody>\n",
       "</table>\n",
       "<p>26851 rows × 1982 columns</p>\n",
       "</div>"
      ],
      "text/plain": [
       "       000  10  100  11  12  14  15  16  18  20  ...  wrong  year  years  \\\n",
       "0        0   0    0   0   0   0   0   0   0   0  ...      0     1      0   \n",
       "1        0   0    0   0   0   0   0   0   0   0  ...      0     0      1   \n",
       "2        0   0    0   0   0   0   0   0   0   0  ...      1     0      0   \n",
       "3        0   0    0   0   0   0   0   0   0   0  ...      0     0      0   \n",
       "4        0   0    0   0   0   0   0   0   0   0  ...      0     0      0   \n",
       "...    ...  ..  ...  ..  ..  ..  ..  ..  ..  ..  ...    ...   ...    ...   \n",
       "26846    0   0    0   0   0   0   0   0   0   0  ...      0     0      0   \n",
       "26847    0   0    0   0   0   0   0   0   0   1  ...      0     0      0   \n",
       "26848    0   0    0   0   0   0   0   0   0   0  ...      0     1      0   \n",
       "26849    0   0    0   0   0   0   0   0   0   0  ...      0     0      0   \n",
       "26850    0   1    0   0   0   0   0   0   0   0  ...      0     0      0   \n",
       "\n",
       "       years ago  yes  yet  young  zombie  zombies  zone  \n",
       "0              0    0    0      0       0        0     0  \n",
       "1              0    0    0      0       0        0     0  \n",
       "2              0    0    0      0       0        0     0  \n",
       "3              0    0    1      0       0        0     0  \n",
       "4              0    0    0      0       0        0     0  \n",
       "...          ...  ...  ...    ...     ...      ...   ...  \n",
       "26846          0    0    0      0       0        0     0  \n",
       "26847          0    0    0      0       0        0     0  \n",
       "26848          0    0    0      0       0        0     0  \n",
       "26849          0    0    0      0       0        0     0  \n",
       "26850          0    0    0      0       0        0     0  \n",
       "\n",
       "[26851 rows x 1982 columns]"
      ]
     },
     "execution_count": 60,
     "metadata": {},
     "output_type": "execute_result"
    },
    {
     "data": {
      "image/png": "[encoded data removed]",
      "text/plain": [
       "<Figure size 432x288 with 1 Axes>"
      ]
     },
     "metadata": {
      "needs_background": "light"
     },
     "output_type": "display_data"
    }
   ],
   "source": [
    "cvec = CountVectorizer(stop_words=stop_words2,ngram_range=(1,3),min_df=0.01)\n",
    "\n",
    "text_data = cvec.fit_transform(df3['description'])\n",
    "\n",
    "\n",
    "test_df = pd.DataFrame(text_data.toarray(), columns=cvec.get_feature_names_out())\n",
    "\n",
    "test_df.sum().sort_values(ascending=False)[:20].plot(kind='barh')\n",
    "test_df"
   ]
  },
  {
   "cell_type": "code",
   "execution_count": 61,
   "id": "bae9fe72",
   "metadata": {
    "execution": {
     "iopub.execute_input": "2023-01-30T12:46:19.882271Z",
     "iopub.status.busy": "2023-01-30T12:46:19.881973Z",
     "iopub.status.idle": "2023-01-30T12:46:20.699730Z",
     "shell.execute_reply": "2023-01-30T12:46:20.698726Z"
    },
    "papermill": {
     "duration": 0.856102,
     "end_time": "2023-01-30T12:46:20.702220",
     "exception": false,
     "start_time": "2023-01-30T12:46:19.846118",
     "status": "completed"
    },
    "tags": []
   },
   "outputs": [],
   "source": [
    "result = test_df.merge(df33, left_index=True, right_index=True, suffixes=('_df1', '_df2'))"
   ]
  },
  {
   "cell_type": "code",
   "execution_count": null,
   "id": "8728e19d",
   "metadata": {
    "papermill": {
     "duration": 0.035518,
     "end_time": "2023-01-30T12:46:20.774656",
     "exception": false,
     "start_time": "2023-01-30T12:46:20.739138",
     "status": "completed"
    },
    "tags": []
   },
   "outputs": [],
   "source": []
  },
  {
   "cell_type": "code",
   "execution_count": 62,
   "id": "60255fca",
   "metadata": {
    "execution": {
     "iopub.execute_input": "2023-01-30T12:46:20.846403Z",
     "iopub.status.busy": "2023-01-30T12:46:20.846065Z",
     "iopub.status.idle": "2023-01-30T12:46:22.337601Z",
     "shell.execute_reply": "2023-01-30T12:46:22.336532Z"
    },
    "papermill": {
     "duration": 1.529987,
     "end_time": "2023-01-30T12:46:22.339941",
     "exception": false,
     "start_time": "2023-01-30T12:46:20.809954",
     "status": "completed"
    },
    "tags": []
   },
   "outputs": [
    {
     "data": {
      "text/html": [
       "<div>\n",
       "<style scoped>\n",
       "    .dataframe tbody tr th:only-of-type {\n",
       "        vertical-align: middle;\n",
       "    }\n",
       "\n",
       "    .dataframe tbody tr th {\n",
       "        vertical-align: top;\n",
       "    }\n",
       "\n",
       "    .dataframe thead th {\n",
       "        text-align: right;\n",
       "    }\n",
       "</style>\n",
       "<table border=\"1\" class=\"dataframe\">\n",
       "  <thead>\n",
       "    <tr style=\"text-align: right;\">\n",
       "      <th></th>\n",
       "      <th>title</th>\n",
       "      <th>r_date</th>\n",
       "      <th>price</th>\n",
       "      <th>description</th>\n",
       "      <th>description_length</th>\n",
       "      <th>review_type</th>\n",
       "      <th>review_stats</th>\n",
       "      <th>positive_percentage</th>\n",
       "      <th>total_reviews</th>\n",
       "      <th>tagged</th>\n",
       "      <th>game_id</th>\n",
       "      <th>r_year</th>\n",
       "      <th>language</th>\n",
       "    </tr>\n",
       "  </thead>\n",
       "  <tbody>\n",
       "    <tr>\n",
       "      <th>0</th>\n",
       "      <td>persona 3 portable</td>\n",
       "      <td>2023-01-18</td>\n",
       "      <td>27.99</td>\n",
       "      <td>experience the iconic, critically acclaimed rp...</td>\n",
       "      <td>173</td>\n",
       "      <td>mostly positive(771)</td>\n",
       "      <td>74% of the 771 user reviews for this game are...</td>\n",
       "      <td>74</td>\n",
       "      <td>771</td>\n",
       "      <td>rpg, story rich, anime, turn-based combat, jrp...</td>\n",
       "      <td>1809700</td>\n",
       "      <td>2023</td>\n",
       "      <td>en</td>\n",
       "    </tr>\n",
       "    <tr>\n",
       "      <th>2</th>\n",
       "      <td>fraymakers</td>\n",
       "      <td>2023-01-18</td>\n",
       "      <td>22.79</td>\n",
       "      <td>what is fraymakers?fraymakers is the ultimate ...</td>\n",
       "      <td>288</td>\n",
       "      <td>mixed(214)</td>\n",
       "      <td>68% of the 214 user reviews for this game are...</td>\n",
       "      <td>68</td>\n",
       "      <td>214</td>\n",
       "      <td>indie, fighting, 2d fighter, multiplayer, acti...</td>\n",
       "      <td>1420350</td>\n",
       "      <td>2023</td>\n",
       "      <td>en</td>\n",
       "    </tr>\n",
       "    <tr>\n",
       "      <th>7</th>\n",
       "      <td>osiris: new dawn</td>\n",
       "      <td>2023-01-18</td>\n",
       "      <td>39.99</td>\n",
       "      <td>inspired by the edgier side of sci fi, osiris:...</td>\n",
       "      <td>300</td>\n",
       "      <td>mostly negative(127)</td>\n",
       "      <td>31% of the 127 user reviews in the last 30 da...</td>\n",
       "      <td>31</td>\n",
       "      <td>127</td>\n",
       "      <td>open world survival craft, horror, survival, s...</td>\n",
       "      <td>402710</td>\n",
       "      <td>2023</td>\n",
       "      <td>en</td>\n",
       "    </tr>\n",
       "    <tr>\n",
       "      <th>8</th>\n",
       "      <td>lake haven - chrysalis</td>\n",
       "      <td>2023-01-18</td>\n",
       "      <td>3.89</td>\n",
       "      <td>on october 7th, at 9 pm the kansas police depa...</td>\n",
       "      <td>161</td>\n",
       "      <td>positive(27)</td>\n",
       "      <td>100% of the 27 user reviews for this game are...</td>\n",
       "      <td>100</td>\n",
       "      <td>27</td>\n",
       "      <td>third person, exploration, singleplayer, adven...</td>\n",
       "      <td>1696960</td>\n",
       "      <td>2023</td>\n",
       "      <td>en</td>\n",
       "    </tr>\n",
       "    <tr>\n",
       "      <th>13</th>\n",
       "      <td>predictors</td>\n",
       "      <td>2023-01-18</td>\n",
       "      <td>3.89</td>\n",
       "      <td>turn-based roguelikego solo or invite up to th...</td>\n",
       "      <td>350</td>\n",
       "      <td>positive(20)</td>\n",
       "      <td>95% of the 20 user reviews for this game are ...</td>\n",
       "      <td>95</td>\n",
       "      <td>20</td>\n",
       "      <td>roguelike, roguelite, turn-based, online co-op...</td>\n",
       "      <td>2149330</td>\n",
       "      <td>2023</td>\n",
       "      <td>en</td>\n",
       "    </tr>\n",
       "  </tbody>\n",
       "</table>\n",
       "</div>"
      ],
      "text/plain": [
       "                     title     r_date  price  \\\n",
       "0       persona 3 portable 2023-01-18  27.99   \n",
       "2               fraymakers 2023-01-18  22.79   \n",
       "7         osiris: new dawn 2023-01-18  39.99   \n",
       "8   lake haven - chrysalis 2023-01-18   3.89   \n",
       "13              predictors 2023-01-18   3.89   \n",
       "\n",
       "                                          description  description_length  \\\n",
       "0   experience the iconic, critically acclaimed rp...                 173   \n",
       "2   what is fraymakers?fraymakers is the ultimate ...                 288   \n",
       "7   inspired by the edgier side of sci fi, osiris:...                 300   \n",
       "8   on october 7th, at 9 pm the kansas police depa...                 161   \n",
       "13  turn-based roguelikego solo or invite up to th...                 350   \n",
       "\n",
       "             review_type                                       review_stats  \\\n",
       "0   mostly positive(771)   74% of the 771 user reviews for this game are...   \n",
       "2             mixed(214)   68% of the 214 user reviews for this game are...   \n",
       "7   mostly negative(127)   31% of the 127 user reviews in the last 30 da...   \n",
       "8           positive(27)   100% of the 27 user reviews for this game are...   \n",
       "13          positive(20)   95% of the 20 user reviews for this game are ...   \n",
       "\n",
       "    positive_percentage  total_reviews  \\\n",
       "0                    74            771   \n",
       "2                    68            214   \n",
       "7                    31            127   \n",
       "8                   100             27   \n",
       "13                   95             20   \n",
       "\n",
       "                                               tagged  game_id  r_year  \\\n",
       "0   rpg, story rich, anime, turn-based combat, jrp...  1809700    2023   \n",
       "2   indie, fighting, 2d fighter, multiplayer, acti...  1420350    2023   \n",
       "7   open world survival craft, horror, survival, s...   402710    2023   \n",
       "8   third person, exploration, singleplayer, adven...  1696960    2023   \n",
       "13  roguelike, roguelite, turn-based, online co-op...  2149330    2023   \n",
       "\n",
       "   language  \n",
       "0        en  \n",
       "2        en  \n",
       "7        en  \n",
       "8        en  \n",
       "13       en  "
      ]
     },
     "execution_count": 62,
     "metadata": {},
     "output_type": "execute_result"
    }
   ],
   "source": [
    "description_length = df2['description'].apply(lambda x: len(re.findall(r'\\w+', x)))\n",
    "df2.insert(4,'description_length',description_length, True)\n",
    "df2.head()"
   ]
  },
  {
   "cell_type": "code",
   "execution_count": 63,
   "id": "86fbc88c",
   "metadata": {
    "execution": {
     "iopub.execute_input": "2023-01-30T12:46:22.414298Z",
     "iopub.status.busy": "2023-01-30T12:46:22.413362Z",
     "iopub.status.idle": "2023-01-30T12:46:22.429694Z",
     "shell.execute_reply": "2023-01-30T12:46:22.428825Z"
    },
    "papermill": {
     "duration": 0.055177,
     "end_time": "2023-01-30T12:46:22.431815",
     "exception": false,
     "start_time": "2023-01-30T12:46:22.376638",
     "status": "completed"
    },
    "tags": []
   },
   "outputs": [],
   "source": [
    "df3['sentiment'] = df3['review_type'].apply(lambda x: 1 if 'positive' in x else 0) "
   ]
  },
  {
   "cell_type": "code",
   "execution_count": 64,
   "id": "20ecb7cb",
   "metadata": {
    "execution": {
     "iopub.execute_input": "2023-01-30T12:46:22.504753Z",
     "iopub.status.busy": "2023-01-30T12:46:22.504455Z",
     "iopub.status.idle": "2023-01-30T12:46:22.526714Z",
     "shell.execute_reply": "2023-01-30T12:46:22.525744Z"
    },
    "papermill": {
     "duration": 0.060984,
     "end_time": "2023-01-30T12:46:22.528981",
     "exception": false,
     "start_time": "2023-01-30T12:46:22.467997",
     "status": "completed"
    },
    "tags": []
   },
   "outputs": [
    {
     "data": {
      "text/html": [
       "<div>\n",
       "<style scoped>\n",
       "    .dataframe tbody tr th:only-of-type {\n",
       "        vertical-align: middle;\n",
       "    }\n",
       "\n",
       "    .dataframe tbody tr th {\n",
       "        vertical-align: top;\n",
       "    }\n",
       "\n",
       "    .dataframe thead th {\n",
       "        text-align: right;\n",
       "    }\n",
       "</style>\n",
       "<table border=\"1\" class=\"dataframe\">\n",
       "  <thead>\n",
       "    <tr style=\"text-align: right;\">\n",
       "      <th></th>\n",
       "      <th>title</th>\n",
       "      <th>r_date</th>\n",
       "      <th>price</th>\n",
       "      <th>description</th>\n",
       "      <th>review_type</th>\n",
       "      <th>review_stats</th>\n",
       "      <th>positive_percentage</th>\n",
       "      <th>total_reviews</th>\n",
       "      <th>tagged</th>\n",
       "      <th>game_id</th>\n",
       "      <th>r_year</th>\n",
       "      <th>language</th>\n",
       "      <th>sentiment</th>\n",
       "    </tr>\n",
       "  </thead>\n",
       "  <tbody>\n",
       "    <tr>\n",
       "      <th>0</th>\n",
       "      <td>persona 3 portable</td>\n",
       "      <td>2023-01-18</td>\n",
       "      <td>27.99</td>\n",
       "      <td>experience the iconic, critically acclaimed rp...</td>\n",
       "      <td>mostly positive(771)</td>\n",
       "      <td>74% of the 771 user reviews for this game are...</td>\n",
       "      <td>74</td>\n",
       "      <td>771</td>\n",
       "      <td>rpg, story rich, anime, turn-based combat, jrp...</td>\n",
       "      <td>1809700</td>\n",
       "      <td>2023</td>\n",
       "      <td>en</td>\n",
       "      <td>1</td>\n",
       "    </tr>\n",
       "    <tr>\n",
       "      <th>1</th>\n",
       "      <td>fraymakers</td>\n",
       "      <td>2023-01-18</td>\n",
       "      <td>22.79</td>\n",
       "      <td>what is fraymakers?fraymakers is the ultimate ...</td>\n",
       "      <td>mixed(214)</td>\n",
       "      <td>68% of the 214 user reviews for this game are...</td>\n",
       "      <td>68</td>\n",
       "      <td>214</td>\n",
       "      <td>indie, fighting, 2d fighter, multiplayer, acti...</td>\n",
       "      <td>1420350</td>\n",
       "      <td>2023</td>\n",
       "      <td>en</td>\n",
       "      <td>0</td>\n",
       "    </tr>\n",
       "    <tr>\n",
       "      <th>2</th>\n",
       "      <td>osiris: new dawn</td>\n",
       "      <td>2023-01-18</td>\n",
       "      <td>39.99</td>\n",
       "      <td>inspired by the edgier side of sci fi, osiris:...</td>\n",
       "      <td>mostly negative(127)</td>\n",
       "      <td>31% of the 127 user reviews in the last 30 da...</td>\n",
       "      <td>31</td>\n",
       "      <td>127</td>\n",
       "      <td>open world survival craft, horror, survival, s...</td>\n",
       "      <td>402710</td>\n",
       "      <td>2023</td>\n",
       "      <td>en</td>\n",
       "      <td>0</td>\n",
       "    </tr>\n",
       "    <tr>\n",
       "      <th>3</th>\n",
       "      <td>lake haven - chrysalis</td>\n",
       "      <td>2023-01-18</td>\n",
       "      <td>3.89</td>\n",
       "      <td>on october 7th, at 9 pm the kansas police depa...</td>\n",
       "      <td>positive(27)</td>\n",
       "      <td>100% of the 27 user reviews for this game are...</td>\n",
       "      <td>100</td>\n",
       "      <td>27</td>\n",
       "      <td>third person, exploration, singleplayer, adven...</td>\n",
       "      <td>1696960</td>\n",
       "      <td>2023</td>\n",
       "      <td>en</td>\n",
       "      <td>1</td>\n",
       "    </tr>\n",
       "    <tr>\n",
       "      <th>4</th>\n",
       "      <td>predictors</td>\n",
       "      <td>2023-01-18</td>\n",
       "      <td>3.89</td>\n",
       "      <td>turn-based roguelikego solo or invite up to th...</td>\n",
       "      <td>positive(20)</td>\n",
       "      <td>95% of the 20 user reviews for this game are ...</td>\n",
       "      <td>95</td>\n",
       "      <td>20</td>\n",
       "      <td>roguelike, roguelite, turn-based, online co-op...</td>\n",
       "      <td>2149330</td>\n",
       "      <td>2023</td>\n",
       "      <td>en</td>\n",
       "      <td>1</td>\n",
       "    </tr>\n",
       "    <tr>\n",
       "      <th>...</th>\n",
       "      <td>...</td>\n",
       "      <td>...</td>\n",
       "      <td>...</td>\n",
       "      <td>...</td>\n",
       "      <td>...</td>\n",
       "      <td>...</td>\n",
       "      <td>...</td>\n",
       "      <td>...</td>\n",
       "      <td>...</td>\n",
       "      <td>...</td>\n",
       "      <td>...</td>\n",
       "      <td>...</td>\n",
       "      <td>...</td>\n",
       "    </tr>\n",
       "    <tr>\n",
       "      <th>26846</th>\n",
       "      <td>domain defense vr</td>\n",
       "      <td>2017-05-12</td>\n",
       "      <td>8.99</td>\n",
       "      <td>domain defense vr is a stand alone game that h...</td>\n",
       "      <td>positive(15)</td>\n",
       "      <td>80% of the 15 user reviews for this game are ...</td>\n",
       "      <td>80</td>\n",
       "      <td>15</td>\n",
       "      <td>strategy, indie, casual, vr</td>\n",
       "      <td>455190</td>\n",
       "      <td>2017</td>\n",
       "      <td>en</td>\n",
       "      <td>1</td>\n",
       "    </tr>\n",
       "    <tr>\n",
       "      <th>26847</th>\n",
       "      <td>void rangers</td>\n",
       "      <td>2017-05-12</td>\n",
       "      <td>12.99</td>\n",
       "      <td>quotes from reviews\"if you wondered what space...</td>\n",
       "      <td>positive(35)</td>\n",
       "      <td>80% of the 35 user reviews for this game are ...</td>\n",
       "      <td>80</td>\n",
       "      <td>35</td>\n",
       "      <td>action, indie, vr, shooter, loot</td>\n",
       "      <td>529360</td>\n",
       "      <td>2017</td>\n",
       "      <td>en</td>\n",
       "      <td>1</td>\n",
       "    </tr>\n",
       "    <tr>\n",
       "      <th>26848</th>\n",
       "      <td>stay! stay! democratic people's republic of ko...</td>\n",
       "      <td>2017-05-12</td>\n",
       "      <td>10.99</td>\n",
       "      <td>story the year is 2021, america is back in afg...</td>\n",
       "      <td>very positive(480)</td>\n",
       "      <td>93% of the 480 user reviews for this game are...</td>\n",
       "      <td>93</td>\n",
       "      <td>480</td>\n",
       "      <td>memes, anime, visual novel, nudity, sexual con...</td>\n",
       "      <td>512060</td>\n",
       "      <td>2017</td>\n",
       "      <td>en</td>\n",
       "      <td>1</td>\n",
       "    </tr>\n",
       "    <tr>\n",
       "      <th>26849</th>\n",
       "      <td>seed of the arcane , episode 1</td>\n",
       "      <td>2017-05-12</td>\n",
       "      <td>16.99</td>\n",
       "      <td>****this game is on alpha test - please read t...</td>\n",
       "      <td>mostly negative(29)</td>\n",
       "      <td>27% of the 29 user reviews for this game are ...</td>\n",
       "      <td>27</td>\n",
       "      <td>29</td>\n",
       "      <td>rpg, nudity, adventure, indie, early access, g...</td>\n",
       "      <td>601020</td>\n",
       "      <td>2017</td>\n",
       "      <td>en</td>\n",
       "      <td>0</td>\n",
       "    </tr>\n",
       "    <tr>\n",
       "      <th>26850</th>\n",
       "      <td>solitaire club</td>\n",
       "      <td>2017-05-11</td>\n",
       "      <td>5.69</td>\n",
       "      <td>experience real casino flair on your pc with s...</td>\n",
       "      <td>mixed(11)</td>\n",
       "      <td>63% of the 11 user reviews for this game are ...</td>\n",
       "      <td>63</td>\n",
       "      <td>11</td>\n",
       "      <td>casual, solitaire, card game, puzzle, strategy...</td>\n",
       "      <td>630470</td>\n",
       "      <td>2017</td>\n",
       "      <td>en</td>\n",
       "      <td>0</td>\n",
       "    </tr>\n",
       "  </tbody>\n",
       "</table>\n",
       "<p>26851 rows × 13 columns</p>\n",
       "</div>"
      ],
      "text/plain": [
       "                                                   title     r_date  price  \\\n",
       "0                                     persona 3 portable 2023-01-18  27.99   \n",
       "1                                             fraymakers 2023-01-18  22.79   \n",
       "2                                       osiris: new dawn 2023-01-18  39.99   \n",
       "3                                 lake haven - chrysalis 2023-01-18   3.89   \n",
       "4                                             predictors 2023-01-18   3.89   \n",
       "...                                                  ...        ...    ...   \n",
       "26846                                  domain defense vr 2017-05-12   8.99   \n",
       "26847                                       void rangers 2017-05-12  12.99   \n",
       "26848  stay! stay! democratic people's republic of ko... 2017-05-12  10.99   \n",
       "26849                     seed of the arcane , episode 1 2017-05-12  16.99   \n",
       "26850                                     solitaire club 2017-05-11   5.69   \n",
       "\n",
       "                                             description  \\\n",
       "0      experience the iconic, critically acclaimed rp...   \n",
       "1      what is fraymakers?fraymakers is the ultimate ...   \n",
       "2      inspired by the edgier side of sci fi, osiris:...   \n",
       "3      on october 7th, at 9 pm the kansas police depa...   \n",
       "4      turn-based roguelikego solo or invite up to th...   \n",
       "...                                                  ...   \n",
       "26846  domain defense vr is a stand alone game that h...   \n",
       "26847  quotes from reviews\"if you wondered what space...   \n",
       "26848  story the year is 2021, america is back in afg...   \n",
       "26849  ****this game is on alpha test - please read t...   \n",
       "26850  experience real casino flair on your pc with s...   \n",
       "\n",
       "                review_type  \\\n",
       "0      mostly positive(771)   \n",
       "1                mixed(214)   \n",
       "2      mostly negative(127)   \n",
       "3              positive(27)   \n",
       "4              positive(20)   \n",
       "...                     ...   \n",
       "26846          positive(15)   \n",
       "26847          positive(35)   \n",
       "26848    very positive(480)   \n",
       "26849   mostly negative(29)   \n",
       "26850             mixed(11)   \n",
       "\n",
       "                                            review_stats  positive_percentage  \\\n",
       "0       74% of the 771 user reviews for this game are...                   74   \n",
       "1       68% of the 214 user reviews for this game are...                   68   \n",
       "2       31% of the 127 user reviews in the last 30 da...                   31   \n",
       "3       100% of the 27 user reviews for this game are...                  100   \n",
       "4       95% of the 20 user reviews for this game are ...                   95   \n",
       "...                                                  ...                  ...   \n",
       "26846   80% of the 15 user reviews for this game are ...                   80   \n",
       "26847   80% of the 35 user reviews for this game are ...                   80   \n",
       "26848   93% of the 480 user reviews for this game are...                   93   \n",
       "26849   27% of the 29 user reviews for this game are ...                   27   \n",
       "26850   63% of the 11 user reviews for this game are ...                   63   \n",
       "\n",
       "       total_reviews                                             tagged  \\\n",
       "0                771  rpg, story rich, anime, turn-based combat, jrp...   \n",
       "1                214  indie, fighting, 2d fighter, multiplayer, acti...   \n",
       "2                127  open world survival craft, horror, survival, s...   \n",
       "3                 27  third person, exploration, singleplayer, adven...   \n",
       "4                 20  roguelike, roguelite, turn-based, online co-op...   \n",
       "...              ...                                                ...   \n",
       "26846             15                        strategy, indie, casual, vr   \n",
       "26847             35                   action, indie, vr, shooter, loot   \n",
       "26848            480  memes, anime, visual novel, nudity, sexual con...   \n",
       "26849             29  rpg, nudity, adventure, indie, early access, g...   \n",
       "26850             11  casual, solitaire, card game, puzzle, strategy...   \n",
       "\n",
       "       game_id  r_year language  sentiment  \n",
       "0      1809700    2023       en          1  \n",
       "1      1420350    2023       en          0  \n",
       "2       402710    2023       en          0  \n",
       "3      1696960    2023       en          1  \n",
       "4      2149330    2023       en          1  \n",
       "...        ...     ...      ...        ...  \n",
       "26846   455190    2017       en          1  \n",
       "26847   529360    2017       en          1  \n",
       "26848   512060    2017       en          1  \n",
       "26849   601020    2017       en          0  \n",
       "26850   630470    2017       en          0  \n",
       "\n",
       "[26851 rows x 13 columns]"
      ]
     },
     "execution_count": 64,
     "metadata": {},
     "output_type": "execute_result"
    }
   ],
   "source": [
    "df3"
   ]
  },
  {
   "cell_type": "code",
   "execution_count": 65,
   "id": "300c9065",
   "metadata": {
    "execution": {
     "iopub.execute_input": "2023-01-30T12:46:22.604690Z",
     "iopub.status.busy": "2023-01-30T12:46:22.603184Z",
     "iopub.status.idle": "2023-01-30T12:46:22.797347Z",
     "shell.execute_reply": "2023-01-30T12:46:22.796373Z"
    },
    "papermill": {
     "duration": 0.233767,
     "end_time": "2023-01-30T12:46:22.799878",
     "exception": false,
     "start_time": "2023-01-30T12:46:22.566111",
     "status": "completed"
    },
    "tags": []
   },
   "outputs": [],
   "source": [
    "new_df = result.join(df3['sentiment'])\n"
   ]
  },
  {
   "cell_type": "code",
   "execution_count": 66,
   "id": "923a748b",
   "metadata": {
    "execution": {
     "iopub.execute_input": "2023-01-30T12:46:22.875110Z",
     "iopub.status.busy": "2023-01-30T12:46:22.873593Z",
     "iopub.status.idle": "2023-01-30T12:46:22.895979Z",
     "shell.execute_reply": "2023-01-30T12:46:22.895060Z"
    },
    "papermill": {
     "duration": 0.061408,
     "end_time": "2023-01-30T12:46:22.898061",
     "exception": false,
     "start_time": "2023-01-30T12:46:22.836653",
     "status": "completed"
    },
    "tags": []
   },
   "outputs": [
    {
     "data": {
      "text/html": [
       "<div>\n",
       "<style scoped>\n",
       "    .dataframe tbody tr th:only-of-type {\n",
       "        vertical-align: middle;\n",
       "    }\n",
       "\n",
       "    .dataframe tbody tr th {\n",
       "        vertical-align: top;\n",
       "    }\n",
       "\n",
       "    .dataframe thead th {\n",
       "        text-align: right;\n",
       "    }\n",
       "</style>\n",
       "<table border=\"1\" class=\"dataframe\">\n",
       "  <thead>\n",
       "    <tr style=\"text-align: right;\">\n",
       "      <th></th>\n",
       "      <th>000</th>\n",
       "      <th>10</th>\n",
       "      <th>100</th>\n",
       "      <th>11</th>\n",
       "      <th>12</th>\n",
       "      <th>14</th>\n",
       "      <th>15</th>\n",
       "      <th>16</th>\n",
       "      <th>18</th>\n",
       "      <th>20</th>\n",
       "      <th>...</th>\n",
       "      <th>well-written</th>\n",
       "      <th>werewolves</th>\n",
       "      <th>western</th>\n",
       "      <th>wholesome</th>\n",
       "      <th>word game</th>\n",
       "      <th>world war i</th>\n",
       "      <th>world war ii</th>\n",
       "      <th>wrestling</th>\n",
       "      <th>zombies_df2</th>\n",
       "      <th>sentiment</th>\n",
       "    </tr>\n",
       "  </thead>\n",
       "  <tbody>\n",
       "    <tr>\n",
       "      <th>0</th>\n",
       "      <td>0</td>\n",
       "      <td>0</td>\n",
       "      <td>0</td>\n",
       "      <td>0</td>\n",
       "      <td>0</td>\n",
       "      <td>0</td>\n",
       "      <td>0</td>\n",
       "      <td>0</td>\n",
       "      <td>0</td>\n",
       "      <td>0</td>\n",
       "      <td>...</td>\n",
       "      <td>0</td>\n",
       "      <td>0</td>\n",
       "      <td>0</td>\n",
       "      <td>0</td>\n",
       "      <td>0</td>\n",
       "      <td>0</td>\n",
       "      <td>0</td>\n",
       "      <td>0</td>\n",
       "      <td>0</td>\n",
       "      <td>1</td>\n",
       "    </tr>\n",
       "    <tr>\n",
       "      <th>1</th>\n",
       "      <td>0</td>\n",
       "      <td>0</td>\n",
       "      <td>0</td>\n",
       "      <td>0</td>\n",
       "      <td>0</td>\n",
       "      <td>0</td>\n",
       "      <td>0</td>\n",
       "      <td>0</td>\n",
       "      <td>0</td>\n",
       "      <td>0</td>\n",
       "      <td>...</td>\n",
       "      <td>0</td>\n",
       "      <td>0</td>\n",
       "      <td>0</td>\n",
       "      <td>0</td>\n",
       "      <td>0</td>\n",
       "      <td>0</td>\n",
       "      <td>0</td>\n",
       "      <td>0</td>\n",
       "      <td>0</td>\n",
       "      <td>0</td>\n",
       "    </tr>\n",
       "    <tr>\n",
       "      <th>2</th>\n",
       "      <td>0</td>\n",
       "      <td>0</td>\n",
       "      <td>0</td>\n",
       "      <td>0</td>\n",
       "      <td>0</td>\n",
       "      <td>0</td>\n",
       "      <td>0</td>\n",
       "      <td>0</td>\n",
       "      <td>0</td>\n",
       "      <td>0</td>\n",
       "      <td>...</td>\n",
       "      <td>0</td>\n",
       "      <td>0</td>\n",
       "      <td>0</td>\n",
       "      <td>0</td>\n",
       "      <td>0</td>\n",
       "      <td>0</td>\n",
       "      <td>0</td>\n",
       "      <td>0</td>\n",
       "      <td>0</td>\n",
       "      <td>0</td>\n",
       "    </tr>\n",
       "    <tr>\n",
       "      <th>3</th>\n",
       "      <td>0</td>\n",
       "      <td>0</td>\n",
       "      <td>0</td>\n",
       "      <td>0</td>\n",
       "      <td>0</td>\n",
       "      <td>0</td>\n",
       "      <td>0</td>\n",
       "      <td>0</td>\n",
       "      <td>0</td>\n",
       "      <td>0</td>\n",
       "      <td>...</td>\n",
       "      <td>0</td>\n",
       "      <td>0</td>\n",
       "      <td>0</td>\n",
       "      <td>0</td>\n",
       "      <td>0</td>\n",
       "      <td>0</td>\n",
       "      <td>0</td>\n",
       "      <td>0</td>\n",
       "      <td>0</td>\n",
       "      <td>1</td>\n",
       "    </tr>\n",
       "    <tr>\n",
       "      <th>4</th>\n",
       "      <td>0</td>\n",
       "      <td>0</td>\n",
       "      <td>0</td>\n",
       "      <td>0</td>\n",
       "      <td>0</td>\n",
       "      <td>0</td>\n",
       "      <td>0</td>\n",
       "      <td>0</td>\n",
       "      <td>0</td>\n",
       "      <td>0</td>\n",
       "      <td>...</td>\n",
       "      <td>0</td>\n",
       "      <td>0</td>\n",
       "      <td>0</td>\n",
       "      <td>0</td>\n",
       "      <td>0</td>\n",
       "      <td>0</td>\n",
       "      <td>0</td>\n",
       "      <td>0</td>\n",
       "      <td>0</td>\n",
       "      <td>1</td>\n",
       "    </tr>\n",
       "    <tr>\n",
       "      <th>...</th>\n",
       "      <td>...</td>\n",
       "      <td>...</td>\n",
       "      <td>...</td>\n",
       "      <td>...</td>\n",
       "      <td>...</td>\n",
       "      <td>...</td>\n",
       "      <td>...</td>\n",
       "      <td>...</td>\n",
       "      <td>...</td>\n",
       "      <td>...</td>\n",
       "      <td>...</td>\n",
       "      <td>...</td>\n",
       "      <td>...</td>\n",
       "      <td>...</td>\n",
       "      <td>...</td>\n",
       "      <td>...</td>\n",
       "      <td>...</td>\n",
       "      <td>...</td>\n",
       "      <td>...</td>\n",
       "      <td>...</td>\n",
       "      <td>...</td>\n",
       "    </tr>\n",
       "    <tr>\n",
       "      <th>26846</th>\n",
       "      <td>0</td>\n",
       "      <td>0</td>\n",
       "      <td>0</td>\n",
       "      <td>0</td>\n",
       "      <td>0</td>\n",
       "      <td>0</td>\n",
       "      <td>0</td>\n",
       "      <td>0</td>\n",
       "      <td>0</td>\n",
       "      <td>0</td>\n",
       "      <td>...</td>\n",
       "      <td>0</td>\n",
       "      <td>0</td>\n",
       "      <td>0</td>\n",
       "      <td>0</td>\n",
       "      <td>0</td>\n",
       "      <td>0</td>\n",
       "      <td>0</td>\n",
       "      <td>0</td>\n",
       "      <td>0</td>\n",
       "      <td>1</td>\n",
       "    </tr>\n",
       "    <tr>\n",
       "      <th>26847</th>\n",
       "      <td>0</td>\n",
       "      <td>0</td>\n",
       "      <td>0</td>\n",
       "      <td>0</td>\n",
       "      <td>0</td>\n",
       "      <td>0</td>\n",
       "      <td>0</td>\n",
       "      <td>0</td>\n",
       "      <td>0</td>\n",
       "      <td>1</td>\n",
       "      <td>...</td>\n",
       "      <td>0</td>\n",
       "      <td>0</td>\n",
       "      <td>0</td>\n",
       "      <td>0</td>\n",
       "      <td>0</td>\n",
       "      <td>0</td>\n",
       "      <td>0</td>\n",
       "      <td>0</td>\n",
       "      <td>0</td>\n",
       "      <td>1</td>\n",
       "    </tr>\n",
       "    <tr>\n",
       "      <th>26848</th>\n",
       "      <td>0</td>\n",
       "      <td>0</td>\n",
       "      <td>0</td>\n",
       "      <td>0</td>\n",
       "      <td>0</td>\n",
       "      <td>0</td>\n",
       "      <td>0</td>\n",
       "      <td>0</td>\n",
       "      <td>0</td>\n",
       "      <td>0</td>\n",
       "      <td>...</td>\n",
       "      <td>0</td>\n",
       "      <td>0</td>\n",
       "      <td>0</td>\n",
       "      <td>0</td>\n",
       "      <td>0</td>\n",
       "      <td>0</td>\n",
       "      <td>0</td>\n",
       "      <td>0</td>\n",
       "      <td>0</td>\n",
       "      <td>1</td>\n",
       "    </tr>\n",
       "    <tr>\n",
       "      <th>26849</th>\n",
       "      <td>0</td>\n",
       "      <td>0</td>\n",
       "      <td>0</td>\n",
       "      <td>0</td>\n",
       "      <td>0</td>\n",
       "      <td>0</td>\n",
       "      <td>0</td>\n",
       "      <td>0</td>\n",
       "      <td>0</td>\n",
       "      <td>0</td>\n",
       "      <td>...</td>\n",
       "      <td>0</td>\n",
       "      <td>0</td>\n",
       "      <td>0</td>\n",
       "      <td>0</td>\n",
       "      <td>0</td>\n",
       "      <td>0</td>\n",
       "      <td>0</td>\n",
       "      <td>0</td>\n",
       "      <td>0</td>\n",
       "      <td>0</td>\n",
       "    </tr>\n",
       "    <tr>\n",
       "      <th>26850</th>\n",
       "      <td>0</td>\n",
       "      <td>1</td>\n",
       "      <td>0</td>\n",
       "      <td>0</td>\n",
       "      <td>0</td>\n",
       "      <td>0</td>\n",
       "      <td>0</td>\n",
       "      <td>0</td>\n",
       "      <td>0</td>\n",
       "      <td>0</td>\n",
       "      <td>...</td>\n",
       "      <td>0</td>\n",
       "      <td>0</td>\n",
       "      <td>0</td>\n",
       "      <td>0</td>\n",
       "      <td>0</td>\n",
       "      <td>0</td>\n",
       "      <td>0</td>\n",
       "      <td>0</td>\n",
       "      <td>0</td>\n",
       "      <td>0</td>\n",
       "    </tr>\n",
       "  </tbody>\n",
       "</table>\n",
       "<p>26851 rows × 2423 columns</p>\n",
       "</div>"
      ],
      "text/plain": [
       "       000  10  100  11  12  14  15  16  18  20  ...  well-written  \\\n",
       "0        0   0    0   0   0   0   0   0   0   0  ...             0   \n",
       "1        0   0    0   0   0   0   0   0   0   0  ...             0   \n",
       "2        0   0    0   0   0   0   0   0   0   0  ...             0   \n",
       "3        0   0    0   0   0   0   0   0   0   0  ...             0   \n",
       "4        0   0    0   0   0   0   0   0   0   0  ...             0   \n",
       "...    ...  ..  ...  ..  ..  ..  ..  ..  ..  ..  ...           ...   \n",
       "26846    0   0    0   0   0   0   0   0   0   0  ...             0   \n",
       "26847    0   0    0   0   0   0   0   0   0   1  ...             0   \n",
       "26848    0   0    0   0   0   0   0   0   0   0  ...             0   \n",
       "26849    0   0    0   0   0   0   0   0   0   0  ...             0   \n",
       "26850    0   1    0   0   0   0   0   0   0   0  ...             0   \n",
       "\n",
       "       werewolves  western  wholesome  word game  world war i  world war ii  \\\n",
       "0               0        0          0          0            0             0   \n",
       "1               0        0          0          0            0             0   \n",
       "2               0        0          0          0            0             0   \n",
       "3               0        0          0          0            0             0   \n",
       "4               0        0          0          0            0             0   \n",
       "...           ...      ...        ...        ...          ...           ...   \n",
       "26846           0        0          0          0            0             0   \n",
       "26847           0        0          0          0            0             0   \n",
       "26848           0        0          0          0            0             0   \n",
       "26849           0        0          0          0            0             0   \n",
       "26850           0        0          0          0            0             0   \n",
       "\n",
       "       wrestling  zombies_df2  sentiment  \n",
       "0              0            0          1  \n",
       "1              0            0          0  \n",
       "2              0            0          0  \n",
       "3              0            0          1  \n",
       "4              0            0          1  \n",
       "...          ...          ...        ...  \n",
       "26846          0            0          1  \n",
       "26847          0            0          1  \n",
       "26848          0            0          1  \n",
       "26849          0            0          0  \n",
       "26850          0            0          0  \n",
       "\n",
       "[26851 rows x 2423 columns]"
      ]
     },
     "execution_count": 66,
     "metadata": {},
     "output_type": "execute_result"
    }
   ],
   "source": [
    "new_df"
   ]
  },
  {
   "cell_type": "code",
   "execution_count": 67,
   "id": "20c83b43",
   "metadata": {
    "execution": {
     "iopub.execute_input": "2023-01-30T12:46:22.972656Z",
     "iopub.status.busy": "2023-01-30T12:46:22.971974Z",
     "iopub.status.idle": "2023-01-30T12:46:23.161728Z",
     "shell.execute_reply": "2023-01-30T12:46:23.160754Z"
    },
    "papermill": {
     "duration": 0.229694,
     "end_time": "2023-01-30T12:46:23.164225",
     "exception": false,
     "start_time": "2023-01-30T12:46:22.934531",
     "status": "completed"
    },
    "tags": []
   },
   "outputs": [],
   "source": [
    "result_2 = result.join(df3['sentiment'])"
   ]
  },
  {
   "cell_type": "code",
   "execution_count": 68,
   "id": "c1bbbbd9",
   "metadata": {
    "execution": {
     "iopub.execute_input": "2023-01-30T12:46:23.239185Z",
     "iopub.status.busy": "2023-01-30T12:46:23.238343Z",
     "iopub.status.idle": "2023-01-30T12:46:23.243253Z",
     "shell.execute_reply": "2023-01-30T12:46:23.242391Z"
    },
    "papermill": {
     "duration": 0.044098,
     "end_time": "2023-01-30T12:46:23.245264",
     "exception": false,
     "start_time": "2023-01-30T12:46:23.201166",
     "status": "completed"
    },
    "tags": []
   },
   "outputs": [],
   "source": [
    "X = result\n",
    "y = df3['sentiment']"
   ]
  },
  {
   "cell_type": "code",
   "execution_count": 69,
   "id": "7efae841",
   "metadata": {
    "execution": {
     "iopub.execute_input": "2023-01-30T12:46:23.319567Z",
     "iopub.status.busy": "2023-01-30T12:46:23.318754Z",
     "iopub.status.idle": "2023-01-30T12:46:23.326368Z",
     "shell.execute_reply": "2023-01-30T12:46:23.325358Z"
    },
    "papermill": {
     "duration": 0.046753,
     "end_time": "2023-01-30T12:46:23.328351",
     "exception": false,
     "start_time": "2023-01-30T12:46:23.281598",
     "status": "completed"
    },
    "tags": []
   },
   "outputs": [
    {
     "data": {
      "text/plain": [
       "0        1\n",
       "1        0\n",
       "2        0\n",
       "3        1\n",
       "4        1\n",
       "        ..\n",
       "26846    1\n",
       "26847    1\n",
       "26848    1\n",
       "26849    0\n",
       "26850    0\n",
       "Name: sentiment, Length: 26851, dtype: int64"
      ]
     },
     "execution_count": 69,
     "metadata": {},
     "output_type": "execute_result"
    }
   ],
   "source": [
    "y"
   ]
  },
  {
   "cell_type": "code",
   "execution_count": 70,
   "id": "3951a74e",
   "metadata": {
    "execution": {
     "iopub.execute_input": "2023-01-30T12:46:23.402095Z",
     "iopub.status.busy": "2023-01-30T12:46:23.401810Z",
     "iopub.status.idle": "2023-01-30T12:46:24.239734Z",
     "shell.execute_reply": "2023-01-30T12:46:24.238715Z"
    },
    "papermill": {
     "duration": 0.877628,
     "end_time": "2023-01-30T12:46:24.242238",
     "exception": false,
     "start_time": "2023-01-30T12:46:23.364610",
     "status": "completed"
    },
    "tags": []
   },
   "outputs": [],
   "source": [
    "X_train_cvec,X_test_cvec,y_train_cvec,y_test_cvec = train_test_split(X,y,stratify=y)"
   ]
  },
  {
   "cell_type": "code",
   "execution_count": null,
   "id": "0c344116",
   "metadata": {
    "papermill": {
     "duration": 0.035919,
     "end_time": "2023-01-30T12:46:24.316652",
     "exception": false,
     "start_time": "2023-01-30T12:46:24.280733",
     "status": "completed"
    },
    "tags": []
   },
   "outputs": [],
   "source": []
  },
  {
   "cell_type": "code",
   "execution_count": null,
   "id": "5d23807c",
   "metadata": {
    "papermill": {
     "duration": 0.035884,
     "end_time": "2023-01-30T12:46:24.388953",
     "exception": false,
     "start_time": "2023-01-30T12:46:24.353069",
     "status": "completed"
    },
    "tags": []
   },
   "outputs": [],
   "source": []
  },
  {
   "cell_type": "code",
   "execution_count": 71,
   "id": "66f4cbaf",
   "metadata": {
    "execution": {
     "iopub.execute_input": "2023-01-30T12:46:24.463131Z",
     "iopub.status.busy": "2023-01-30T12:46:24.462345Z",
     "iopub.status.idle": "2023-01-30T12:46:24.467491Z",
     "shell.execute_reply": "2023-01-30T12:46:24.466487Z"
    },
    "papermill": {
     "duration": 0.044842,
     "end_time": "2023-01-30T12:46:24.469630",
     "exception": false,
     "start_time": "2023-01-30T12:46:24.424788",
     "status": "completed"
    },
    "tags": []
   },
   "outputs": [],
   "source": [
    "lr_pipe = Pipeline([\n",
    "    ('lr', LogisticRegression(max_iter=1000)) \n",
    "])\n"
   ]
  },
  {
   "cell_type": "code",
   "execution_count": 72,
   "id": "4204d5b2",
   "metadata": {
    "execution": {
     "iopub.execute_input": "2023-01-30T12:46:24.595414Z",
     "iopub.status.busy": "2023-01-30T12:46:24.595073Z",
     "iopub.status.idle": "2023-01-30T12:46:47.679212Z",
     "shell.execute_reply": "2023-01-30T12:46:47.678264Z"
    },
    "papermill": {
     "duration": 23.124793,
     "end_time": "2023-01-30T12:46:47.682512",
     "exception": false,
     "start_time": "2023-01-30T12:46:24.557719",
     "status": "completed"
    },
    "tags": []
   },
   "outputs": [
    {
     "data": {
      "text/plain": [
       "Pipeline(steps=[('lr', LogisticRegression(max_iter=1000))])"
      ]
     },
     "execution_count": 72,
     "metadata": {},
     "output_type": "execute_result"
    }
   ],
   "source": [
    "lr_pipe.fit(X_train_cvec,y_train_cvec)"
   ]
  },
  {
   "cell_type": "code",
   "execution_count": 73,
   "id": "81771748",
   "metadata": {
    "execution": {
     "iopub.execute_input": "2023-01-30T12:46:47.832252Z",
     "iopub.status.busy": "2023-01-30T12:46:47.831945Z",
     "iopub.status.idle": "2023-01-30T12:46:47.953844Z",
     "shell.execute_reply": "2023-01-30T12:46:47.952662Z"
    },
    "papermill": {
     "duration": 0.178345,
     "end_time": "2023-01-30T12:46:47.956956",
     "exception": false,
     "start_time": "2023-01-30T12:46:47.778611",
     "status": "completed"
    },
    "tags": []
   },
   "outputs": [
    {
     "data": {
      "text/plain": [
       "0.7138388201996126"
      ]
     },
     "execution_count": 73,
     "metadata": {},
     "output_type": "execute_result"
    }
   ],
   "source": [
    "lr_pipe.score(X_test_cvec,y_test_cvec)"
   ]
  },
  {
   "cell_type": "code",
   "execution_count": 74,
   "id": "d7bda3b8",
   "metadata": {
    "execution": {
     "iopub.execute_input": "2023-01-30T12:46:48.106755Z",
     "iopub.status.busy": "2023-01-30T12:46:48.106384Z",
     "iopub.status.idle": "2023-01-30T12:46:48.363720Z",
     "shell.execute_reply": "2023-01-30T12:46:48.362711Z"
    },
    "papermill": {
     "duration": 0.313554,
     "end_time": "2023-01-30T12:46:48.367313",
     "exception": false,
     "start_time": "2023-01-30T12:46:48.053759",
     "status": "completed"
    },
    "tags": []
   },
   "outputs": [
    {
     "data": {
      "text/plain": [
       "0.7909921541364584"
      ]
     },
     "execution_count": 74,
     "metadata": {},
     "output_type": "execute_result"
    }
   ],
   "source": [
    "lr_pipe.score(X_train_cvec,y_train_cvec)"
   ]
  },
  {
   "cell_type": "code",
   "execution_count": 75,
   "id": "ce4b6d95",
   "metadata": {
    "execution": {
     "iopub.execute_input": "2023-01-30T12:46:48.515766Z",
     "iopub.status.busy": "2023-01-30T12:46:48.515440Z",
     "iopub.status.idle": "2023-01-30T12:46:48.633059Z",
     "shell.execute_reply": "2023-01-30T12:46:48.631567Z"
    },
    "papermill": {
     "duration": 0.172709,
     "end_time": "2023-01-30T12:46:48.636822",
     "exception": false,
     "start_time": "2023-01-30T12:46:48.464113",
     "status": "completed"
    },
    "tags": []
   },
   "outputs": [],
   "source": [
    "y_pred = lr_pipe.predict(X_test_cvec)"
   ]
  },
  {
   "cell_type": "code",
   "execution_count": null,
   "id": "91d9c612",
   "metadata": {
    "papermill": {
     "duration": 0.051581,
     "end_time": "2023-01-30T12:46:48.789854",
     "exception": false,
     "start_time": "2023-01-30T12:46:48.738273",
     "status": "completed"
    },
    "tags": []
   },
   "outputs": [],
   "source": []
  },
  {
   "cell_type": "code",
   "execution_count": 76,
   "id": "4d958866",
   "metadata": {
    "execution": {
     "iopub.execute_input": "2023-01-30T12:46:48.863883Z",
     "iopub.status.busy": "2023-01-30T12:46:48.863551Z",
     "iopub.status.idle": "2023-01-30T12:46:49.072210Z",
     "shell.execute_reply": "2023-01-30T12:46:49.071339Z"
    },
    "papermill": {
     "duration": 0.248246,
     "end_time": "2023-01-30T12:46:49.074634",
     "exception": false,
     "start_time": "2023-01-30T12:46:48.826388",
     "status": "completed"
    },
    "tags": []
   },
   "outputs": [
    {
     "data": {
      "image/png": "[encoded data removed]",
      "text/plain": [
       "<Figure size 432x288 with 2 Axes>"
      ]
     },
     "metadata": {
      "needs_background": "light"
     },
     "output_type": "display_data"
    }
   ],
   "source": [
    "cm = confusion_matrix(y_test_cvec, y_pred)\n",
    "disp = ConfusionMatrixDisplay(confusion_matrix=cm)\n",
    "disp.plot();"
   ]
  },
  {
   "cell_type": "code",
   "execution_count": 77,
   "id": "a10d886a",
   "metadata": {
    "execution": {
     "iopub.execute_input": "2023-01-30T12:46:49.150023Z",
     "iopub.status.busy": "2023-01-30T12:46:49.149134Z",
     "iopub.status.idle": "2023-01-30T12:46:49.154404Z",
     "shell.execute_reply": "2023-01-30T12:46:49.153597Z"
    },
    "papermill": {
     "duration": 0.044671,
     "end_time": "2023-01-30T12:46:49.156386",
     "exception": false,
     "start_time": "2023-01-30T12:46:49.111715",
     "status": "completed"
    },
    "tags": []
   },
   "outputs": [],
   "source": [
    "param_grid = {'C': [0.1, 1, 10], 'penalty': ['l1', 'l2']}\n",
    "grid_search = GridSearchCV(LogisticRegression(max_iter=1000), param_grid, cv=5)"
   ]
  },
  {
   "cell_type": "code",
   "execution_count": 78,
   "id": "70f5a808",
   "metadata": {
    "execution": {
     "iopub.execute_input": "2023-01-30T12:46:49.231114Z",
     "iopub.status.busy": "2023-01-30T12:46:49.230458Z",
     "iopub.status.idle": "2023-01-30T12:52:04.501689Z",
     "shell.execute_reply": "2023-01-30T12:52:04.500421Z"
    },
    "papermill": {
     "duration": 315.312478,
     "end_time": "2023-01-30T12:52:04.505377",
     "exception": false,
     "start_time": "2023-01-30T12:46:49.192899",
     "status": "completed"
    },
    "tags": []
   },
   "outputs": [
    {
     "name": "stderr",
     "output_type": "stream",
     "text": [
      "/opt/conda/lib/python3.7/site-packages/sklearn/model_selection/_validation.py:372: FitFailedWarning: \n",
      "15 fits failed out of a total of 30.\n",
      "The score on these train-test partitions for these parameters will be set to nan.\n",
      "If these failures are not expected, you can try to debug them by setting error_score='raise'.\n",
      "\n",
      "Below are more details about the failures:\n",
      "--------------------------------------------------------------------------------\n",
      "15 fits failed with the following error:\n",
      "Traceback (most recent call last):\n",
      "  File \"/opt/conda/lib/python3.7/site-packages/sklearn/model_selection/_validation.py\", line 680, in _fit_and_score\n",
      "    estimator.fit(X_train, y_train, **fit_params)\n",
      "  File \"/opt/conda/lib/python3.7/site-packages/sklearn/linear_model/_logistic.py\", line 1461, in fit\n",
      "    solver = _check_solver(self.solver, self.penalty, self.dual)\n",
      "  File \"/opt/conda/lib/python3.7/site-packages/sklearn/linear_model/_logistic.py\", line 449, in _check_solver\n",
      "    % (solver, penalty)\n",
      "ValueError: Solver lbfgs supports only 'l2' or 'none' penalties, got l1 penalty.\n",
      "\n",
      "  warnings.warn(some_fits_failed_message, FitFailedWarning)\n",
      "/opt/conda/lib/python3.7/site-packages/sklearn/model_selection/_search.py:972: UserWarning: One or more of the test scores are non-finite: [       nan 0.71794555        nan 0.70602807        nan 0.70304871]\n",
      "  category=UserWarning,\n"
     ]
    },
    {
     "data": {
      "text/plain": [
       "GridSearchCV(cv=5, estimator=LogisticRegression(max_iter=1000),\n",
       "             param_grid={'C': [0.1, 1, 10], 'penalty': ['l1', 'l2']})"
      ]
     },
     "execution_count": 78,
     "metadata": {},
     "output_type": "execute_result"
    }
   ],
   "source": [
    "grid_search.fit(X_train_cvec,y_train_cvec)"
   ]
  },
  {
   "cell_type": "code",
   "execution_count": 79,
   "id": "de2ade92",
   "metadata": {
    "execution": {
     "iopub.execute_input": "2023-01-30T12:52:04.698074Z",
     "iopub.status.busy": "2023-01-30T12:52:04.697730Z",
     "iopub.status.idle": "2023-01-30T12:52:04.703719Z",
     "shell.execute_reply": "2023-01-30T12:52:04.702811Z"
    },
    "papermill": {
     "duration": 0.065144,
     "end_time": "2023-01-30T12:52:04.705895",
     "exception": false,
     "start_time": "2023-01-30T12:52:04.640751",
     "status": "completed"
    },
    "tags": []
   },
   "outputs": [
    {
     "data": {
      "text/plain": [
       "{'C': 0.1, 'penalty': 'l2'}"
      ]
     },
     "execution_count": 79,
     "metadata": {},
     "output_type": "execute_result"
    }
   ],
   "source": [
    "grid_search.best_params_"
   ]
  },
  {
   "cell_type": "code",
   "execution_count": 80,
   "id": "aa08213a",
   "metadata": {
    "execution": {
     "iopub.execute_input": "2023-01-30T12:52:04.781927Z",
     "iopub.status.busy": "2023-01-30T12:52:04.781270Z",
     "iopub.status.idle": "2023-01-30T12:52:05.041352Z",
     "shell.execute_reply": "2023-01-30T12:52:05.040067Z"
    },
    "papermill": {
     "duration": 0.300828,
     "end_time": "2023-01-30T12:52:05.044163",
     "exception": false,
     "start_time": "2023-01-30T12:52:04.743335",
     "status": "completed"
    },
    "tags": []
   },
   "outputs": [
    {
     "data": {
      "text/plain": [
       "0.7873175091866124"
      ]
     },
     "execution_count": 80,
     "metadata": {},
     "output_type": "execute_result"
    }
   ],
   "source": [
    "grid_search.score(X_train_cvec,y_train_cvec)"
   ]
  },
  {
   "cell_type": "code",
   "execution_count": 81,
   "id": "6cac42e4",
   "metadata": {
    "execution": {
     "iopub.execute_input": "2023-01-30T12:52:05.192244Z",
     "iopub.status.busy": "2023-01-30T12:52:05.191927Z",
     "iopub.status.idle": "2023-01-30T12:52:05.316660Z",
     "shell.execute_reply": "2023-01-30T12:52:05.315252Z"
    },
    "papermill": {
     "duration": 0.178132,
     "end_time": "2023-01-30T12:52:05.320227",
     "exception": false,
     "start_time": "2023-01-30T12:52:05.142095",
     "status": "completed"
    },
    "tags": []
   },
   "outputs": [
    {
     "data": {
      "text/plain": [
       "0.7242663488753166"
      ]
     },
     "execution_count": 81,
     "metadata": {},
     "output_type": "execute_result"
    }
   ],
   "source": [
    "grid_search.score(X_test_cvec,y_test_cvec)"
   ]
  },
  {
   "cell_type": "code",
   "execution_count": 82,
   "id": "adf1586f",
   "metadata": {
    "execution": {
     "iopub.execute_input": "2023-01-30T12:52:05.470740Z",
     "iopub.status.busy": "2023-01-30T12:52:05.470395Z",
     "iopub.status.idle": "2023-01-30T12:52:05.475660Z",
     "shell.execute_reply": "2023-01-30T12:52:05.474547Z"
    },
    "papermill": {
     "duration": 0.058905,
     "end_time": "2023-01-30T12:52:05.478192",
     "exception": false,
     "start_time": "2023-01-30T12:52:05.419287",
     "status": "completed"
    },
    "tags": []
   },
   "outputs": [],
   "source": [
    "from sklearn.metrics import confusion_matrix, ConfusionMatrixDisplay, accuracy_score, plot_roc_curve, roc_auc_score, recall_score, precision_score, f1_score, classification_report"
   ]
  },
  {
   "cell_type": "code",
   "execution_count": 83,
   "id": "5c031623",
   "metadata": {
    "execution": {
     "iopub.execute_input": "2023-01-30T12:52:05.556581Z",
     "iopub.status.busy": "2023-01-30T12:52:05.556281Z",
     "iopub.status.idle": "2023-01-30T12:52:05.674137Z",
     "shell.execute_reply": "2023-01-30T12:52:05.672553Z"
    },
    "papermill": {
     "duration": 0.162455,
     "end_time": "2023-01-30T12:52:05.678976",
     "exception": false,
     "start_time": "2023-01-30T12:52:05.516521",
     "status": "completed"
    },
    "tags": []
   },
   "outputs": [],
   "source": [
    "y_pred_1 = grid_search.predict(X_test_cvec)"
   ]
  },
  {
   "cell_type": "code",
   "execution_count": 84,
   "id": "6c1e9c14",
   "metadata": {
    "execution": {
     "iopub.execute_input": "2023-01-30T12:52:05.833056Z",
     "iopub.status.busy": "2023-01-30T12:52:05.832712Z",
     "iopub.status.idle": "2023-01-30T12:52:05.837797Z",
     "shell.execute_reply": "2023-01-30T12:52:05.836905Z"
    },
    "papermill": {
     "duration": 0.059699,
     "end_time": "2023-01-30T12:52:05.839917",
     "exception": false,
     "start_time": "2023-01-30T12:52:05.780218",
     "status": "completed"
    },
    "tags": []
   },
   "outputs": [],
   "source": [
    "yy = y_test_cvec.to_frame()"
   ]
  },
  {
   "cell_type": "markdown",
   "id": "3fcd8c2a",
   "metadata": {
    "papermill": {
     "duration": 0.037619,
     "end_time": "2023-01-30T12:52:05.914733",
     "exception": false,
     "start_time": "2023-01-30T12:52:05.877114",
     "status": "completed"
    },
    "tags": []
   },
   "source": []
  },
  {
   "cell_type": "code",
   "execution_count": 85,
   "id": "216b24a8",
   "metadata": {
    "execution": {
     "iopub.execute_input": "2023-01-30T12:52:06.007431Z",
     "iopub.status.busy": "2023-01-30T12:52:06.006329Z",
     "iopub.status.idle": "2023-01-30T12:52:06.017202Z",
     "shell.execute_reply": "2023-01-30T12:52:06.016092Z"
    },
    "papermill": {
     "duration": 0.053993,
     "end_time": "2023-01-30T12:52:06.019396",
     "exception": false,
     "start_time": "2023-01-30T12:52:05.965403",
     "status": "completed"
    },
    "tags": []
   },
   "outputs": [
    {
     "data": {
      "text/plain": [
       "sentiment\n",
       "0    0.280501\n",
       "1    0.719499\n",
       "dtype: float64"
      ]
     },
     "execution_count": 85,
     "metadata": {},
     "output_type": "execute_result"
    }
   ],
   "source": [
    "group_sizes = y_test_cvec.to_frame().groupby('sentiment').size()\n",
    "group_sizes / group_sizes.sum()"
   ]
  },
  {
   "cell_type": "code",
   "execution_count": 86,
   "id": "a0b30577",
   "metadata": {
    "execution": {
     "iopub.execute_input": "2023-01-30T12:52:06.098038Z",
     "iopub.status.busy": "2023-01-30T12:52:06.096581Z",
     "iopub.status.idle": "2023-01-30T12:52:06.113425Z",
     "shell.execute_reply": "2023-01-30T12:52:06.112382Z"
    },
    "papermill": {
     "duration": 0.057276,
     "end_time": "2023-01-30T12:52:06.115465",
     "exception": false,
     "start_time": "2023-01-30T12:52:06.058189",
     "status": "completed"
    },
    "tags": []
   },
   "outputs": [
    {
     "name": "stdout",
     "output_type": "stream",
     "text": [
      "              precision    recall  f1-score   support\n",
      "\n",
      "           0       0.51      0.33      0.41      1883\n",
      "           1       0.77      0.88      0.82      4830\n",
      "\n",
      "    accuracy                           0.72      6713\n",
      "   macro avg       0.64      0.61      0.61      6713\n",
      "weighted avg       0.70      0.72      0.70      6713\n",
      "\n"
     ]
    }
   ],
   "source": [
    "print(classification_report(y_test_cvec, y_pred_1))"
   ]
  },
  {
   "cell_type": "code",
   "execution_count": 87,
   "id": "c654fe07",
   "metadata": {
    "execution": {
     "iopub.execute_input": "2023-01-30T12:52:06.191692Z",
     "iopub.status.busy": "2023-01-30T12:52:06.191284Z",
     "iopub.status.idle": "2023-01-30T12:52:06.400333Z",
     "shell.execute_reply": "2023-01-30T12:52:06.399460Z"
    },
    "papermill": {
     "duration": 0.249499,
     "end_time": "2023-01-30T12:52:06.402439",
     "exception": false,
     "start_time": "2023-01-30T12:52:06.152940",
     "status": "completed"
    },
    "tags": []
   },
   "outputs": [
    {
     "data": {
      "image/png": "[encoded data removed]",
      "text/plain": [
       "<Figure size 432x288 with 2 Axes>"
      ]
     },
     "metadata": {
      "needs_background": "light"
     },
     "output_type": "display_data"
    }
   ],
   "source": [
    "cm = confusion_matrix(y_test_cvec, y_pred_1)\n",
    "disp = ConfusionMatrixDisplay(confusion_matrix=cm)\n",
    "disp.plot();"
   ]
  },
  {
   "cell_type": "code",
   "execution_count": 88,
   "id": "96cec163",
   "metadata": {
    "execution": {
     "iopub.execute_input": "2023-01-30T12:52:06.480030Z",
     "iopub.status.busy": "2023-01-30T12:52:06.479743Z",
     "iopub.status.idle": "2023-01-30T12:52:29.931850Z",
     "shell.execute_reply": "2023-01-30T12:52:29.930798Z"
    },
    "papermill": {
     "duration": 23.494701,
     "end_time": "2023-01-30T12:52:29.935408",
     "exception": false,
     "start_time": "2023-01-30T12:52:06.440707",
     "status": "completed"
    },
    "tags": []
   },
   "outputs": [
    {
     "data": {
      "text/plain": [
       "Pipeline(steps=[('lr', LogisticRegression(max_iter=1000))])"
      ]
     },
     "execution_count": 88,
     "metadata": {},
     "output_type": "execute_result"
    }
   ],
   "source": [
    "lr_pipe.fit(X_train_cvec,y_train_cvec)"
   ]
  },
  {
   "cell_type": "code",
   "execution_count": 89,
   "id": "b7ede5b7",
   "metadata": {
    "execution": {
     "iopub.execute_input": "2023-01-30T12:52:30.090184Z",
     "iopub.status.busy": "2023-01-30T12:52:30.089862Z",
     "iopub.status.idle": "2023-01-30T12:52:30.351674Z",
     "shell.execute_reply": "2023-01-30T12:52:30.350621Z"
    },
    "papermill": {
     "duration": 0.319425,
     "end_time": "2023-01-30T12:52:30.355706",
     "exception": false,
     "start_time": "2023-01-30T12:52:30.036281",
     "status": "completed"
    },
    "tags": []
   },
   "outputs": [
    {
     "data": {
      "text/plain": [
       "0.7909921541364584"
      ]
     },
     "execution_count": 89,
     "metadata": {},
     "output_type": "execute_result"
    }
   ],
   "source": [
    "lr_pipe.score(X_train_cvec,y_train_cvec)"
   ]
  },
  {
   "cell_type": "code",
   "execution_count": 90,
   "id": "3a61fbee",
   "metadata": {
    "execution": {
     "iopub.execute_input": "2023-01-30T12:52:30.507757Z",
     "iopub.status.busy": "2023-01-30T12:52:30.507398Z",
     "iopub.status.idle": "2023-01-30T12:52:30.633447Z",
     "shell.execute_reply": "2023-01-30T12:52:30.632129Z"
    },
    "papermill": {
     "duration": 0.177304,
     "end_time": "2023-01-30T12:52:30.637366",
     "exception": false,
     "start_time": "2023-01-30T12:52:30.460062",
     "status": "completed"
    },
    "tags": []
   },
   "outputs": [
    {
     "data": {
      "text/plain": [
       "0.7138388201996126"
      ]
     },
     "execution_count": 90,
     "metadata": {},
     "output_type": "execute_result"
    }
   ],
   "source": [
    "lr_pipe.score(X_test_cvec,y_test_cvec)"
   ]
  },
  {
   "cell_type": "code",
   "execution_count": 91,
   "id": "da68dc53",
   "metadata": {
    "execution": {
     "iopub.execute_input": "2023-01-30T12:52:30.792373Z",
     "iopub.status.busy": "2023-01-30T12:52:30.792030Z",
     "iopub.status.idle": "2023-01-30T12:52:48.740650Z",
     "shell.execute_reply": "2023-01-30T12:52:48.739785Z"
    },
    "papermill": {
     "duration": 17.998184,
     "end_time": "2023-01-30T12:52:48.742756",
     "exception": false,
     "start_time": "2023-01-30T12:52:30.744572",
     "status": "completed"
    },
    "tags": []
   },
   "outputs": [
    {
     "data": {
      "text/html": [
       "<div>\n",
       "<style scoped>\n",
       "    .dataframe tbody tr th:only-of-type {\n",
       "        vertical-align: middle;\n",
       "    }\n",
       "\n",
       "    .dataframe tbody tr th {\n",
       "        vertical-align: top;\n",
       "    }\n",
       "\n",
       "    .dataframe thead th {\n",
       "        text-align: right;\n",
       "    }\n",
       "</style>\n",
       "<table border=\"1\" class=\"dataframe\">\n",
       "  <thead>\n",
       "    <tr style=\"text-align: right;\">\n",
       "      <th></th>\n",
       "      <th>000</th>\n",
       "      <th>10</th>\n",
       "      <th>100</th>\n",
       "      <th>11</th>\n",
       "      <th>12</th>\n",
       "      <th>14</th>\n",
       "      <th>15</th>\n",
       "      <th>16</th>\n",
       "      <th>18</th>\n",
       "      <th>20</th>\n",
       "      <th>...</th>\n",
       "      <th>wrong</th>\n",
       "      <th>year</th>\n",
       "      <th>years</th>\n",
       "      <th>years ago</th>\n",
       "      <th>yes</th>\n",
       "      <th>yet</th>\n",
       "      <th>young</th>\n",
       "      <th>zombie</th>\n",
       "      <th>zombies</th>\n",
       "      <th>zone</th>\n",
       "    </tr>\n",
       "  </thead>\n",
       "  <tbody>\n",
       "    <tr>\n",
       "      <th>0</th>\n",
       "      <td>0.0</td>\n",
       "      <td>0.000000</td>\n",
       "      <td>0.0</td>\n",
       "      <td>0.0</td>\n",
       "      <td>0.0</td>\n",
       "      <td>0.0</td>\n",
       "      <td>0.0</td>\n",
       "      <td>0.0</td>\n",
       "      <td>0.0</td>\n",
       "      <td>0.000000</td>\n",
       "      <td>...</td>\n",
       "      <td>0.000000</td>\n",
       "      <td>0.101925</td>\n",
       "      <td>0.000000</td>\n",
       "      <td>0.0</td>\n",
       "      <td>0.0</td>\n",
       "      <td>0.000000</td>\n",
       "      <td>0.0</td>\n",
       "      <td>0.0</td>\n",
       "      <td>0.0</td>\n",
       "      <td>0.0</td>\n",
       "    </tr>\n",
       "    <tr>\n",
       "      <th>1</th>\n",
       "      <td>0.0</td>\n",
       "      <td>0.000000</td>\n",
       "      <td>0.0</td>\n",
       "      <td>0.0</td>\n",
       "      <td>0.0</td>\n",
       "      <td>0.0</td>\n",
       "      <td>0.0</td>\n",
       "      <td>0.0</td>\n",
       "      <td>0.0</td>\n",
       "      <td>0.000000</td>\n",
       "      <td>...</td>\n",
       "      <td>0.000000</td>\n",
       "      <td>0.000000</td>\n",
       "      <td>0.069584</td>\n",
       "      <td>0.0</td>\n",
       "      <td>0.0</td>\n",
       "      <td>0.000000</td>\n",
       "      <td>0.0</td>\n",
       "      <td>0.0</td>\n",
       "      <td>0.0</td>\n",
       "      <td>0.0</td>\n",
       "    </tr>\n",
       "    <tr>\n",
       "      <th>2</th>\n",
       "      <td>0.0</td>\n",
       "      <td>0.000000</td>\n",
       "      <td>0.0</td>\n",
       "      <td>0.0</td>\n",
       "      <td>0.0</td>\n",
       "      <td>0.0</td>\n",
       "      <td>0.0</td>\n",
       "      <td>0.0</td>\n",
       "      <td>0.0</td>\n",
       "      <td>0.000000</td>\n",
       "      <td>...</td>\n",
       "      <td>0.086759</td>\n",
       "      <td>0.000000</td>\n",
       "      <td>0.000000</td>\n",
       "      <td>0.0</td>\n",
       "      <td>0.0</td>\n",
       "      <td>0.000000</td>\n",
       "      <td>0.0</td>\n",
       "      <td>0.0</td>\n",
       "      <td>0.0</td>\n",
       "      <td>0.0</td>\n",
       "    </tr>\n",
       "    <tr>\n",
       "      <th>3</th>\n",
       "      <td>0.0</td>\n",
       "      <td>0.000000</td>\n",
       "      <td>0.0</td>\n",
       "      <td>0.0</td>\n",
       "      <td>0.0</td>\n",
       "      <td>0.0</td>\n",
       "      <td>0.0</td>\n",
       "      <td>0.0</td>\n",
       "      <td>0.0</td>\n",
       "      <td>0.000000</td>\n",
       "      <td>...</td>\n",
       "      <td>0.000000</td>\n",
       "      <td>0.000000</td>\n",
       "      <td>0.000000</td>\n",
       "      <td>0.0</td>\n",
       "      <td>0.0</td>\n",
       "      <td>0.135592</td>\n",
       "      <td>0.0</td>\n",
       "      <td>0.0</td>\n",
       "      <td>0.0</td>\n",
       "      <td>0.0</td>\n",
       "    </tr>\n",
       "    <tr>\n",
       "      <th>4</th>\n",
       "      <td>0.0</td>\n",
       "      <td>0.000000</td>\n",
       "      <td>0.0</td>\n",
       "      <td>0.0</td>\n",
       "      <td>0.0</td>\n",
       "      <td>0.0</td>\n",
       "      <td>0.0</td>\n",
       "      <td>0.0</td>\n",
       "      <td>0.0</td>\n",
       "      <td>0.000000</td>\n",
       "      <td>...</td>\n",
       "      <td>0.000000</td>\n",
       "      <td>0.000000</td>\n",
       "      <td>0.000000</td>\n",
       "      <td>0.0</td>\n",
       "      <td>0.0</td>\n",
       "      <td>0.000000</td>\n",
       "      <td>0.0</td>\n",
       "      <td>0.0</td>\n",
       "      <td>0.0</td>\n",
       "      <td>0.0</td>\n",
       "    </tr>\n",
       "    <tr>\n",
       "      <th>...</th>\n",
       "      <td>...</td>\n",
       "      <td>...</td>\n",
       "      <td>...</td>\n",
       "      <td>...</td>\n",
       "      <td>...</td>\n",
       "      <td>...</td>\n",
       "      <td>...</td>\n",
       "      <td>...</td>\n",
       "      <td>...</td>\n",
       "      <td>...</td>\n",
       "      <td>...</td>\n",
       "      <td>...</td>\n",
       "      <td>...</td>\n",
       "      <td>...</td>\n",
       "      <td>...</td>\n",
       "      <td>...</td>\n",
       "      <td>...</td>\n",
       "      <td>...</td>\n",
       "      <td>...</td>\n",
       "      <td>...</td>\n",
       "      <td>...</td>\n",
       "    </tr>\n",
       "    <tr>\n",
       "      <th>26846</th>\n",
       "      <td>0.0</td>\n",
       "      <td>0.000000</td>\n",
       "      <td>0.0</td>\n",
       "      <td>0.0</td>\n",
       "      <td>0.0</td>\n",
       "      <td>0.0</td>\n",
       "      <td>0.0</td>\n",
       "      <td>0.0</td>\n",
       "      <td>0.0</td>\n",
       "      <td>0.000000</td>\n",
       "      <td>...</td>\n",
       "      <td>0.000000</td>\n",
       "      <td>0.000000</td>\n",
       "      <td>0.000000</td>\n",
       "      <td>0.0</td>\n",
       "      <td>0.0</td>\n",
       "      <td>0.000000</td>\n",
       "      <td>0.0</td>\n",
       "      <td>0.0</td>\n",
       "      <td>0.0</td>\n",
       "      <td>0.0</td>\n",
       "    </tr>\n",
       "    <tr>\n",
       "      <th>26847</th>\n",
       "      <td>0.0</td>\n",
       "      <td>0.000000</td>\n",
       "      <td>0.0</td>\n",
       "      <td>0.0</td>\n",
       "      <td>0.0</td>\n",
       "      <td>0.0</td>\n",
       "      <td>0.0</td>\n",
       "      <td>0.0</td>\n",
       "      <td>0.0</td>\n",
       "      <td>0.089401</td>\n",
       "      <td>...</td>\n",
       "      <td>0.000000</td>\n",
       "      <td>0.000000</td>\n",
       "      <td>0.000000</td>\n",
       "      <td>0.0</td>\n",
       "      <td>0.0</td>\n",
       "      <td>0.000000</td>\n",
       "      <td>0.0</td>\n",
       "      <td>0.0</td>\n",
       "      <td>0.0</td>\n",
       "      <td>0.0</td>\n",
       "    </tr>\n",
       "    <tr>\n",
       "      <th>26848</th>\n",
       "      <td>0.0</td>\n",
       "      <td>0.000000</td>\n",
       "      <td>0.0</td>\n",
       "      <td>0.0</td>\n",
       "      <td>0.0</td>\n",
       "      <td>0.0</td>\n",
       "      <td>0.0</td>\n",
       "      <td>0.0</td>\n",
       "      <td>0.0</td>\n",
       "      <td>0.000000</td>\n",
       "      <td>...</td>\n",
       "      <td>0.000000</td>\n",
       "      <td>0.077812</td>\n",
       "      <td>0.000000</td>\n",
       "      <td>0.0</td>\n",
       "      <td>0.0</td>\n",
       "      <td>0.000000</td>\n",
       "      <td>0.0</td>\n",
       "      <td>0.0</td>\n",
       "      <td>0.0</td>\n",
       "      <td>0.0</td>\n",
       "    </tr>\n",
       "    <tr>\n",
       "      <th>26849</th>\n",
       "      <td>0.0</td>\n",
       "      <td>0.000000</td>\n",
       "      <td>0.0</td>\n",
       "      <td>0.0</td>\n",
       "      <td>0.0</td>\n",
       "      <td>0.0</td>\n",
       "      <td>0.0</td>\n",
       "      <td>0.0</td>\n",
       "      <td>0.0</td>\n",
       "      <td>0.000000</td>\n",
       "      <td>...</td>\n",
       "      <td>0.000000</td>\n",
       "      <td>0.000000</td>\n",
       "      <td>0.000000</td>\n",
       "      <td>0.0</td>\n",
       "      <td>0.0</td>\n",
       "      <td>0.000000</td>\n",
       "      <td>0.0</td>\n",
       "      <td>0.0</td>\n",
       "      <td>0.0</td>\n",
       "      <td>0.0</td>\n",
       "    </tr>\n",
       "    <tr>\n",
       "      <th>26850</th>\n",
       "      <td>0.0</td>\n",
       "      <td>0.100319</td>\n",
       "      <td>0.0</td>\n",
       "      <td>0.0</td>\n",
       "      <td>0.0</td>\n",
       "      <td>0.0</td>\n",
       "      <td>0.0</td>\n",
       "      <td>0.0</td>\n",
       "      <td>0.0</td>\n",
       "      <td>0.000000</td>\n",
       "      <td>...</td>\n",
       "      <td>0.000000</td>\n",
       "      <td>0.000000</td>\n",
       "      <td>0.000000</td>\n",
       "      <td>0.0</td>\n",
       "      <td>0.0</td>\n",
       "      <td>0.000000</td>\n",
       "      <td>0.0</td>\n",
       "      <td>0.0</td>\n",
       "      <td>0.0</td>\n",
       "      <td>0.0</td>\n",
       "    </tr>\n",
       "  </tbody>\n",
       "</table>\n",
       "<p>26851 rows × 1982 columns</p>\n",
       "</div>"
      ],
      "text/plain": [
       "       000        10  100   11   12   14   15   16   18        20  ...  \\\n",
       "0      0.0  0.000000  0.0  0.0  0.0  0.0  0.0  0.0  0.0  0.000000  ...   \n",
       "1      0.0  0.000000  0.0  0.0  0.0  0.0  0.0  0.0  0.0  0.000000  ...   \n",
       "2      0.0  0.000000  0.0  0.0  0.0  0.0  0.0  0.0  0.0  0.000000  ...   \n",
       "3      0.0  0.000000  0.0  0.0  0.0  0.0  0.0  0.0  0.0  0.000000  ...   \n",
       "4      0.0  0.000000  0.0  0.0  0.0  0.0  0.0  0.0  0.0  0.000000  ...   \n",
       "...    ...       ...  ...  ...  ...  ...  ...  ...  ...       ...  ...   \n",
       "26846  0.0  0.000000  0.0  0.0  0.0  0.0  0.0  0.0  0.0  0.000000  ...   \n",
       "26847  0.0  0.000000  0.0  0.0  0.0  0.0  0.0  0.0  0.0  0.089401  ...   \n",
       "26848  0.0  0.000000  0.0  0.0  0.0  0.0  0.0  0.0  0.0  0.000000  ...   \n",
       "26849  0.0  0.000000  0.0  0.0  0.0  0.0  0.0  0.0  0.0  0.000000  ...   \n",
       "26850  0.0  0.100319  0.0  0.0  0.0  0.0  0.0  0.0  0.0  0.000000  ...   \n",
       "\n",
       "          wrong      year     years  years ago  yes       yet  young  zombie  \\\n",
       "0      0.000000  0.101925  0.000000        0.0  0.0  0.000000    0.0     0.0   \n",
       "1      0.000000  0.000000  0.069584        0.0  0.0  0.000000    0.0     0.0   \n",
       "2      0.086759  0.000000  0.000000        0.0  0.0  0.000000    0.0     0.0   \n",
       "3      0.000000  0.000000  0.000000        0.0  0.0  0.135592    0.0     0.0   \n",
       "4      0.000000  0.000000  0.000000        0.0  0.0  0.000000    0.0     0.0   \n",
       "...         ...       ...       ...        ...  ...       ...    ...     ...   \n",
       "26846  0.000000  0.000000  0.000000        0.0  0.0  0.000000    0.0     0.0   \n",
       "26847  0.000000  0.000000  0.000000        0.0  0.0  0.000000    0.0     0.0   \n",
       "26848  0.000000  0.077812  0.000000        0.0  0.0  0.000000    0.0     0.0   \n",
       "26849  0.000000  0.000000  0.000000        0.0  0.0  0.000000    0.0     0.0   \n",
       "26850  0.000000  0.000000  0.000000        0.0  0.0  0.000000    0.0     0.0   \n",
       "\n",
       "       zombies  zone  \n",
       "0          0.0   0.0  \n",
       "1          0.0   0.0  \n",
       "2          0.0   0.0  \n",
       "3          0.0   0.0  \n",
       "4          0.0   0.0  \n",
       "...        ...   ...  \n",
       "26846      0.0   0.0  \n",
       "26847      0.0   0.0  \n",
       "26848      0.0   0.0  \n",
       "26849      0.0   0.0  \n",
       "26850      0.0   0.0  \n",
       "\n",
       "[26851 rows x 1982 columns]"
      ]
     },
     "execution_count": 91,
     "metadata": {},
     "output_type": "execute_result"
    },
    {
     "data": {
      "image/png": "[encoded data removed]",
      "text/plain": [
       "<Figure size 432x288 with 1 Axes>"
      ]
     },
     "metadata": {
      "needs_background": "light"
     },
     "output_type": "display_data"
    }
   ],
   "source": [
    "tfidf_vec = TfidfVectorizer(stop_words=stop_words2,ngram_range=(1,3),min_df=0.01)\n",
    "\n",
    "text_data = tfidf_vec.fit_transform(df3['description'])\n",
    "\n",
    "\n",
    "test_df2 = pd.DataFrame(text_data.toarray(), columns=cvec.get_feature_names_out())\n",
    "\n",
    "test_df2.sum().sort_values(ascending=False)[:20].plot(kind='barh')\n",
    "test_df2"
   ]
  },
  {
   "cell_type": "code",
   "execution_count": 92,
   "id": "5531028b",
   "metadata": {
    "execution": {
     "iopub.execute_input": "2023-01-30T12:52:48.822177Z",
     "iopub.status.busy": "2023-01-30T12:52:48.821879Z",
     "iopub.status.idle": "2023-01-30T12:52:48.826254Z",
     "shell.execute_reply": "2023-01-30T12:52:48.825348Z"
    },
    "papermill": {
     "duration": 0.04588,
     "end_time": "2023-01-30T12:52:48.828216",
     "exception": false,
     "start_time": "2023-01-30T12:52:48.782336",
     "status": "completed"
    },
    "tags": []
   },
   "outputs": [],
   "source": [
    "lr_pipe_2 = Pipeline([\n",
    "    ('lr', LogisticRegression(max_iter=1000)) \n",
    "])\n",
    "\n"
   ]
  },
  {
   "cell_type": "code",
   "execution_count": 93,
   "id": "8639ddbd",
   "metadata": {
    "execution": {
     "iopub.execute_input": "2023-01-30T12:52:48.906979Z",
     "iopub.status.busy": "2023-01-30T12:52:48.906209Z",
     "iopub.status.idle": "2023-01-30T12:52:49.710784Z",
     "shell.execute_reply": "2023-01-30T12:52:49.709781Z"
    },
    "papermill": {
     "duration": 0.846766,
     "end_time": "2023-01-30T12:52:49.713563",
     "exception": false,
     "start_time": "2023-01-30T12:52:48.866797",
     "status": "completed"
    },
    "tags": []
   },
   "outputs": [],
   "source": [
    "result2 = test_df2.merge(df33, left_index=True, right_index=True, suffixes=('_df1', '_df2'))\n"
   ]
  },
  {
   "cell_type": "code",
   "execution_count": 94,
   "id": "de15e733",
   "metadata": {
    "execution": {
     "iopub.execute_input": "2023-01-30T12:52:49.793204Z",
     "iopub.status.busy": "2023-01-30T12:52:49.792884Z",
     "iopub.status.idle": "2023-01-30T12:52:49.797270Z",
     "shell.execute_reply": "2023-01-30T12:52:49.796302Z"
    },
    "papermill": {
     "duration": 0.046071,
     "end_time": "2023-01-30T12:52:49.799300",
     "exception": false,
     "start_time": "2023-01-30T12:52:49.753229",
     "status": "completed"
    },
    "tags": []
   },
   "outputs": [],
   "source": [
    "X_tf = result2\n",
    "y_tf = df3['sentiment']"
   ]
  },
  {
   "cell_type": "code",
   "execution_count": 95,
   "id": "77b6911c",
   "metadata": {
    "execution": {
     "iopub.execute_input": "2023-01-30T12:52:49.877450Z",
     "iopub.status.busy": "2023-01-30T12:52:49.877175Z",
     "iopub.status.idle": "2023-01-30T12:52:50.348020Z",
     "shell.execute_reply": "2023-01-30T12:52:50.346985Z"
    },
    "papermill": {
     "duration": 0.512586,
     "end_time": "2023-01-30T12:52:50.350523",
     "exception": false,
     "start_time": "2023-01-30T12:52:49.837937",
     "status": "completed"
    },
    "tags": []
   },
   "outputs": [],
   "source": [
    "X_train_tf, X_test_tf, y_train_tf, y_test_tf = train_test_split(X_tf,y_tf, stratify=y_tf)"
   ]
  },
  {
   "cell_type": "code",
   "execution_count": 96,
   "id": "dbe0bc1c",
   "metadata": {
    "execution": {
     "iopub.execute_input": "2023-01-30T12:52:50.430120Z",
     "iopub.status.busy": "2023-01-30T12:52:50.429813Z",
     "iopub.status.idle": "2023-01-30T12:52:50.434306Z",
     "shell.execute_reply": "2023-01-30T12:52:50.433350Z"
    },
    "papermill": {
     "duration": 0.045989,
     "end_time": "2023-01-30T12:52:50.436316",
     "exception": false,
     "start_time": "2023-01-30T12:52:50.390327",
     "status": "completed"
    },
    "tags": []
   },
   "outputs": [],
   "source": [
    "lr_pipe_tfidf = Pipeline([\n",
    "    ('lr', LogisticRegression(max_iter=1000)) \n",
    "])"
   ]
  },
  {
   "cell_type": "code",
   "execution_count": 97,
   "id": "1eef744a",
   "metadata": {
    "execution": {
     "iopub.execute_input": "2023-01-30T12:52:50.514758Z",
     "iopub.status.busy": "2023-01-30T12:52:50.513907Z",
     "iopub.status.idle": "2023-01-30T12:52:50.519037Z",
     "shell.execute_reply": "2023-01-30T12:52:50.518185Z"
    },
    "papermill": {
     "duration": 0.046705,
     "end_time": "2023-01-30T12:52:50.521165",
     "exception": false,
     "start_time": "2023-01-30T12:52:50.474460",
     "status": "completed"
    },
    "tags": []
   },
   "outputs": [],
   "source": [
    "param_grid = {'C': [0.1, 1, 10], 'penalty': ['l1', 'l2']}\n",
    "grid_search_2 = GridSearchCV(LogisticRegression(max_iter=1000), param_grid, cv=5)"
   ]
  },
  {
   "cell_type": "code",
   "execution_count": 98,
   "id": "18d44f6e",
   "metadata": {
    "execution": {
     "iopub.execute_input": "2023-01-30T12:52:50.599702Z",
     "iopub.status.busy": "2023-01-30T12:52:50.598833Z",
     "iopub.status.idle": "2023-01-30T12:56:23.735578Z",
     "shell.execute_reply": "2023-01-30T12:56:23.734001Z"
    },
    "papermill": {
     "duration": 213.18022,
     "end_time": "2023-01-30T12:56:23.739684",
     "exception": false,
     "start_time": "2023-01-30T12:52:50.559464",
     "status": "completed"
    },
    "tags": []
   },
   "outputs": [
    {
     "name": "stderr",
     "output_type": "stream",
     "text": [
      "/opt/conda/lib/python3.7/site-packages/sklearn/model_selection/_validation.py:372: FitFailedWarning: \n",
      "15 fits failed out of a total of 30.\n",
      "The score on these train-test partitions for these parameters will be set to nan.\n",
      "If these failures are not expected, you can try to debug them by setting error_score='raise'.\n",
      "\n",
      "Below are more details about the failures:\n",
      "--------------------------------------------------------------------------------\n",
      "15 fits failed with the following error:\n",
      "Traceback (most recent call last):\n",
      "  File \"/opt/conda/lib/python3.7/site-packages/sklearn/model_selection/_validation.py\", line 680, in _fit_and_score\n",
      "    estimator.fit(X_train, y_train, **fit_params)\n",
      "  File \"/opt/conda/lib/python3.7/site-packages/sklearn/linear_model/_logistic.py\", line 1461, in fit\n",
      "    solver = _check_solver(self.solver, self.penalty, self.dual)\n",
      "  File \"/opt/conda/lib/python3.7/site-packages/sklearn/linear_model/_logistic.py\", line 449, in _check_solver\n",
      "    % (solver, penalty)\n",
      "ValueError: Solver lbfgs supports only 'l2' or 'none' penalties, got l1 penalty.\n",
      "\n",
      "  warnings.warn(some_fits_failed_message, FitFailedWarning)\n",
      "/opt/conda/lib/python3.7/site-packages/sklearn/model_selection/_search.py:972: UserWarning: One or more of the test scores are non-finite: [       nan 0.73701428        nan 0.73050905        nan 0.71129164]\n",
      "  category=UserWarning,\n"
     ]
    },
    {
     "data": {
      "text/plain": [
       "GridSearchCV(cv=5, estimator=LogisticRegression(max_iter=1000),\n",
       "             param_grid={'C': [0.1, 1, 10], 'penalty': ['l1', 'l2']})"
      ]
     },
     "execution_count": 98,
     "metadata": {},
     "output_type": "execute_result"
    }
   ],
   "source": [
    "grid_search_2.fit(X_train_tf, y_train_tf)"
   ]
  },
  {
   "cell_type": "code",
   "execution_count": 99,
   "id": "d4c54c63",
   "metadata": {
    "execution": {
     "iopub.execute_input": "2023-01-30T12:56:23.893098Z",
     "iopub.status.busy": "2023-01-30T12:56:23.892774Z",
     "iopub.status.idle": "2023-01-30T12:56:24.125983Z",
     "shell.execute_reply": "2023-01-30T12:56:24.124415Z"
    },
    "papermill": {
     "duration": 0.285329,
     "end_time": "2023-01-30T12:56:24.129787",
     "exception": false,
     "start_time": "2023-01-30T12:56:23.844458",
     "status": "completed"
    },
    "tags": []
   },
   "outputs": [
    {
     "data": {
      "text/plain": [
       "0.7567285728473533"
      ]
     },
     "execution_count": 99,
     "metadata": {},
     "output_type": "execute_result"
    }
   ],
   "source": [
    "grid_search_2.score(X_train_tf,y_train_tf)"
   ]
  },
  {
   "cell_type": "code",
   "execution_count": 100,
   "id": "50480de9",
   "metadata": {
    "execution": {
     "iopub.execute_input": "2023-01-30T12:56:24.283295Z",
     "iopub.status.busy": "2023-01-30T12:56:24.282977Z",
     "iopub.status.idle": "2023-01-30T12:56:24.375537Z",
     "shell.execute_reply": "2023-01-30T12:56:24.374350Z"
    },
    "papermill": {
     "duration": 0.142557,
     "end_time": "2023-01-30T12:56:24.378982",
     "exception": false,
     "start_time": "2023-01-30T12:56:24.236425",
     "status": "completed"
    },
    "tags": []
   },
   "outputs": [
    {
     "data": {
      "text/plain": [
       "0.7402055712796067"
      ]
     },
     "execution_count": 100,
     "metadata": {},
     "output_type": "execute_result"
    }
   ],
   "source": [
    "grid_search_2.score(X_test_tf,y_test_tf)"
   ]
  },
  {
   "cell_type": "code",
   "execution_count": 101,
   "id": "5a650105",
   "metadata": {
    "execution": {
     "iopub.execute_input": "2023-01-30T12:56:24.535136Z",
     "iopub.status.busy": "2023-01-30T12:56:24.534815Z",
     "iopub.status.idle": "2023-01-30T12:56:24.539008Z",
     "shell.execute_reply": "2023-01-30T12:56:24.537996Z"
    },
    "papermill": {
     "duration": 0.057752,
     "end_time": "2023-01-30T12:56:24.541066",
     "exception": false,
     "start_time": "2023-01-30T12:56:24.483314",
     "status": "completed"
    },
    "tags": []
   },
   "outputs": [],
   "source": [
    "# group_sizes = y_test.to_frame().groupby('sentiment').size()\n",
    "# group_sizes / group_sizes.sum()"
   ]
  },
  {
   "cell_type": "code",
   "execution_count": 102,
   "id": "9783483a",
   "metadata": {
    "execution": {
     "iopub.execute_input": "2023-01-30T12:56:24.620460Z",
     "iopub.status.busy": "2023-01-30T12:56:24.620154Z",
     "iopub.status.idle": "2023-01-30T12:56:24.708066Z",
     "shell.execute_reply": "2023-01-30T12:56:24.706689Z"
    },
    "papermill": {
     "duration": 0.131917,
     "end_time": "2023-01-30T12:56:24.711768",
     "exception": false,
     "start_time": "2023-01-30T12:56:24.579851",
     "status": "completed"
    },
    "tags": []
   },
   "outputs": [],
   "source": [
    "gs_2_y_pred_tf = grid_search_2.predict(X_test_tf)"
   ]
  },
  {
   "cell_type": "code",
   "execution_count": 103,
   "id": "08d67bde",
   "metadata": {
    "execution": {
     "iopub.execute_input": "2023-01-30T12:56:24.869072Z",
     "iopub.status.busy": "2023-01-30T12:56:24.868749Z",
     "iopub.status.idle": "2023-01-30T12:56:24.885680Z",
     "shell.execute_reply": "2023-01-30T12:56:24.884414Z"
    },
    "papermill": {
     "duration": 0.074645,
     "end_time": "2023-01-30T12:56:24.887857",
     "exception": false,
     "start_time": "2023-01-30T12:56:24.813212",
     "status": "completed"
    },
    "tags": []
   },
   "outputs": [
    {
     "name": "stdout",
     "output_type": "stream",
     "text": [
      "              precision    recall  f1-score   support\n",
      "\n",
      "           0       0.59      0.23      0.33      1883\n",
      "           1       0.76      0.94      0.84      4830\n",
      "\n",
      "    accuracy                           0.74      6713\n",
      "   macro avg       0.68      0.59      0.59      6713\n",
      "weighted avg       0.71      0.74      0.70      6713\n",
      "\n"
     ]
    }
   ],
   "source": [
    "\n",
    "\n",
    "# group_sizes = y_test_tfidf.to_frame().groupby('sentiment').size()\n",
    "# group_sizes / group_sizes.sum()\n",
    "print(classification_report(y_test_tf, gs_2_y_pred_tf))"
   ]
  },
  {
   "cell_type": "code",
   "execution_count": 104,
   "id": "eddeeae8",
   "metadata": {
    "execution": {
     "iopub.execute_input": "2023-01-30T12:56:24.966546Z",
     "iopub.status.busy": "2023-01-30T12:56:24.965639Z",
     "iopub.status.idle": "2023-01-30T12:56:25.187342Z",
     "shell.execute_reply": "2023-01-30T12:56:25.186486Z"
    },
    "papermill": {
     "duration": 0.263153,
     "end_time": "2023-01-30T12:56:25.189396",
     "exception": false,
     "start_time": "2023-01-30T12:56:24.926243",
     "status": "completed"
    },
    "tags": []
   },
   "outputs": [
    {
     "data": {
      "image/png": "[encoded data removed]",
      "text/plain": [
       "<Figure size 432x288 with 2 Axes>"
      ]
     },
     "metadata": {
      "needs_background": "light"
     },
     "output_type": "display_data"
    }
   ],
   "source": [
    "\n",
    "cm = confusion_matrix(y_test_tf, gs_2_y_pred_tf)\n",
    "disp = ConfusionMatrixDisplay(confusion_matrix=cm)\n",
    "disp.plot();"
   ]
  },
  {
   "cell_type": "code",
   "execution_count": 105,
   "id": "8f420fef",
   "metadata": {
    "execution": {
     "iopub.execute_input": "2023-01-30T12:56:25.272175Z",
     "iopub.status.busy": "2023-01-30T12:56:25.270728Z",
     "iopub.status.idle": "2023-01-30T12:56:25.275809Z",
     "shell.execute_reply": "2023-01-30T12:56:25.274897Z"
    },
    "papermill": {
     "duration": 0.04757,
     "end_time": "2023-01-30T12:56:25.277650",
     "exception": false,
     "start_time": "2023-01-30T12:56:25.230080",
     "status": "completed"
    },
    "tags": []
   },
   "outputs": [],
   "source": [
    "pipe = Pipeline([\n",
    "    ('nb', MultinomialNB()) \n",
    "])"
   ]
  },
  {
   "cell_type": "code",
   "execution_count": 106,
   "id": "1c6324d1",
   "metadata": {
    "execution": {
     "iopub.execute_input": "2023-01-30T12:56:25.359504Z",
     "iopub.status.busy": "2023-01-30T12:56:25.358638Z",
     "iopub.status.idle": "2023-01-30T12:56:25.541059Z",
     "shell.execute_reply": "2023-01-30T12:56:25.540112Z"
    },
    "papermill": {
     "duration": 0.22524,
     "end_time": "2023-01-30T12:56:25.543038",
     "exception": false,
     "start_time": "2023-01-30T12:56:25.317798",
     "status": "completed"
    },
    "tags": []
   },
   "outputs": [
    {
     "data": {
      "text/plain": [
       "Pipeline(steps=[('nb', MultinomialNB())])"
      ]
     },
     "execution_count": 106,
     "metadata": {},
     "output_type": "execute_result"
    }
   ],
   "source": [
    "pipe.fit(X_train_cvec, y_train_cvec)"
   ]
  },
  {
   "cell_type": "code",
   "execution_count": 107,
   "id": "5b71cb68",
   "metadata": {
    "execution": {
     "iopub.execute_input": "2023-01-30T12:56:25.623517Z",
     "iopub.status.busy": "2023-01-30T12:56:25.622661Z",
     "iopub.status.idle": "2023-01-30T12:56:25.965508Z",
     "shell.execute_reply": "2023-01-30T12:56:25.964248Z"
    },
    "papermill": {
     "duration": 0.385682,
     "end_time": "2023-01-30T12:56:25.968211",
     "exception": false,
     "start_time": "2023-01-30T12:56:25.582529",
     "status": "completed"
    },
    "tags": []
   },
   "outputs": [
    {
     "data": {
      "text/plain": [
       "0.6914787963054921"
      ]
     },
     "execution_count": 107,
     "metadata": {},
     "output_type": "execute_result"
    }
   ],
   "source": [
    "pipe.score(X_train_cvec,y_train_cvec)"
   ]
  },
  {
   "cell_type": "code",
   "execution_count": 108,
   "id": "1e0cd9ae",
   "metadata": {
    "execution": {
     "iopub.execute_input": "2023-01-30T12:56:26.118125Z",
     "iopub.status.busy": "2023-01-30T12:56:26.117808Z",
     "iopub.status.idle": "2023-01-30T12:56:26.252990Z",
     "shell.execute_reply": "2023-01-30T12:56:26.251900Z"
    },
    "papermill": {
     "duration": 0.184167,
     "end_time": "2023-01-30T12:56:26.256239",
     "exception": false,
     "start_time": "2023-01-30T12:56:26.072072",
     "status": "completed"
    },
    "tags": []
   },
   "outputs": [
    {
     "data": {
      "text/plain": [
       "0.6835989870400715"
      ]
     },
     "execution_count": 108,
     "metadata": {},
     "output_type": "execute_result"
    }
   ],
   "source": [
    "pipe.score(X_test_cvec,y_test_cvec)"
   ]
  },
  {
   "cell_type": "code",
   "execution_count": null,
   "id": "709c34d8",
   "metadata": {
    "papermill": {
     "duration": 0.049149,
     "end_time": "2023-01-30T12:56:26.410537",
     "exception": false,
     "start_time": "2023-01-30T12:56:26.361388",
     "status": "completed"
    },
    "tags": []
   },
   "outputs": [],
   "source": []
  },
  {
   "cell_type": "code",
   "execution_count": 109,
   "id": "b5bd339c",
   "metadata": {
    "execution": {
     "iopub.execute_input": "2023-01-30T12:56:26.492963Z",
     "iopub.status.busy": "2023-01-30T12:56:26.492538Z",
     "iopub.status.idle": "2023-01-30T12:56:27.004495Z",
     "shell.execute_reply": "2023-01-30T12:56:27.003430Z"
    },
    "papermill": {
     "duration": 0.55755,
     "end_time": "2023-01-30T12:56:27.006964",
     "exception": false,
     "start_time": "2023-01-30T12:56:26.449414",
     "status": "completed"
    },
    "tags": []
   },
   "outputs": [
    {
     "data": {
      "image/png": "[encoded data removed]",
      "text/plain": [
       "<Figure size 432x288 with 2 Axes>"
      ]
     },
     "metadata": {
      "needs_background": "light"
     },
     "output_type": "display_data"
    }
   ],
   "source": [
    "pipe_y_pred = pipe.predict(X_test_cvec)\n",
    "cm = confusion_matrix(y_test_cvec, pipe_y_pred)\n",
    "disp = ConfusionMatrixDisplay(confusion_matrix=cm)\n",
    "disp.plot();"
   ]
  },
  {
   "cell_type": "code",
   "execution_count": 110,
   "id": "dab376c2",
   "metadata": {
    "execution": {
     "iopub.execute_input": "2023-01-30T12:56:27.098468Z",
     "iopub.status.busy": "2023-01-30T12:56:27.098182Z",
     "iopub.status.idle": "2023-01-30T12:56:27.115806Z",
     "shell.execute_reply": "2023-01-30T12:56:27.114490Z"
    },
    "papermill": {
     "duration": 0.062704,
     "end_time": "2023-01-30T12:56:27.117916",
     "exception": false,
     "start_time": "2023-01-30T12:56:27.055212",
     "status": "completed"
    },
    "tags": []
   },
   "outputs": [
    {
     "name": "stdout",
     "output_type": "stream",
     "text": [
      "              precision    recall  f1-score   support\n",
      "\n",
      "           0       0.45      0.54      0.49      1883\n",
      "           1       0.81      0.74      0.77      4830\n",
      "\n",
      "    accuracy                           0.68      6713\n",
      "   macro avg       0.63      0.64      0.63      6713\n",
      "weighted avg       0.71      0.68      0.69      6713\n",
      "\n"
     ]
    }
   ],
   "source": [
    "print(classification_report(y_test_cvec, pipe_y_pred))"
   ]
  },
  {
   "cell_type": "code",
   "execution_count": 111,
   "id": "6044d71d",
   "metadata": {
    "execution": {
     "iopub.execute_input": "2023-01-30T12:56:27.228021Z",
     "iopub.status.busy": "2023-01-30T12:56:27.227684Z",
     "iopub.status.idle": "2023-01-30T12:56:27.232461Z",
     "shell.execute_reply": "2023-01-30T12:56:27.231379Z"
    },
    "papermill": {
     "duration": 0.048531,
     "end_time": "2023-01-30T12:56:27.234855",
     "exception": false,
     "start_time": "2023-01-30T12:56:27.186324",
     "status": "completed"
    },
    "tags": []
   },
   "outputs": [],
   "source": [
    "pipe2 = Pipeline([\n",
    "    ('nb', MultinomialNB()) \n",
    "])"
   ]
  },
  {
   "cell_type": "code",
   "execution_count": 112,
   "id": "9eabce52",
   "metadata": {
    "execution": {
     "iopub.execute_input": "2023-01-30T12:56:27.317334Z",
     "iopub.status.busy": "2023-01-30T12:56:27.317056Z",
     "iopub.status.idle": "2023-01-30T12:56:27.652331Z",
     "shell.execute_reply": "2023-01-30T12:56:27.650952Z"
    },
    "papermill": {
     "duration": 0.381814,
     "end_time": "2023-01-30T12:56:27.656510",
     "exception": false,
     "start_time": "2023-01-30T12:56:27.274696",
     "status": "completed"
    },
    "tags": []
   },
   "outputs": [
    {
     "data": {
      "text/plain": [
       "Pipeline(steps=[('nb', MultinomialNB())])"
      ]
     },
     "execution_count": 112,
     "metadata": {},
     "output_type": "execute_result"
    }
   ],
   "source": [
    "pipe2.fit(X_train_tf,y_train_tf)"
   ]
  },
  {
   "cell_type": "code",
   "execution_count": 113,
   "id": "f44d8f8b",
   "metadata": {
    "execution": {
     "iopub.execute_input": "2023-01-30T12:56:27.854278Z",
     "iopub.status.busy": "2023-01-30T12:56:27.853808Z",
     "iopub.status.idle": "2023-01-30T12:56:28.297755Z",
     "shell.execute_reply": "2023-01-30T12:56:28.296517Z"
    },
    "papermill": {
     "duration": 0.526575,
     "end_time": "2023-01-30T12:56:28.301194",
     "exception": false,
     "start_time": "2023-01-30T12:56:27.774619",
     "status": "completed"
    },
    "tags": []
   },
   "outputs": [
    {
     "data": {
      "text/plain": [
       "0.695550700168835"
      ]
     },
     "execution_count": 113,
     "metadata": {},
     "output_type": "execute_result"
    }
   ],
   "source": [
    "pipe2.score(X_train_tf,y_train_tf)"
   ]
  },
  {
   "cell_type": "code",
   "execution_count": 114,
   "id": "7f6a1bb9",
   "metadata": {
    "execution": {
     "iopub.execute_input": "2023-01-30T12:56:28.512138Z",
     "iopub.status.busy": "2023-01-30T12:56:28.511786Z",
     "iopub.status.idle": "2023-01-30T12:56:28.648340Z",
     "shell.execute_reply": "2023-01-30T12:56:28.647358Z"
    },
    "papermill": {
     "duration": 0.209136,
     "end_time": "2023-01-30T12:56:28.651884",
     "exception": false,
     "start_time": "2023-01-30T12:56:28.442748",
     "status": "completed"
    },
    "tags": []
   },
   "outputs": [
    {
     "data": {
      "text/plain": [
       "0.6888127513779234"
      ]
     },
     "execution_count": 114,
     "metadata": {},
     "output_type": "execute_result"
    }
   ],
   "source": [
    "pipe2.score(X_test_tf,y_test_tf)"
   ]
  },
  {
   "cell_type": "code",
   "execution_count": 115,
   "id": "5b8dd91a",
   "metadata": {
    "execution": {
     "iopub.execute_input": "2023-01-30T12:56:28.809219Z",
     "iopub.status.busy": "2023-01-30T12:56:28.808905Z",
     "iopub.status.idle": "2023-01-30T12:56:29.170381Z",
     "shell.execute_reply": "2023-01-30T12:56:29.169472Z"
    },
    "papermill": {
     "duration": 0.41494,
     "end_time": "2023-01-30T12:56:29.172670",
     "exception": false,
     "start_time": "2023-01-30T12:56:28.757730",
     "status": "completed"
    },
    "tags": []
   },
   "outputs": [
    {
     "data": {
      "image/png": "[encoded data removed]",
      "text/plain": [
       "<Figure size 432x288 with 2 Axes>"
      ]
     },
     "metadata": {
      "needs_background": "light"
     },
     "output_type": "display_data"
    }
   ],
   "source": [
    "pipe_y_pred_tf = pipe2.predict(X_test_tf)\n",
    "cm = confusion_matrix(y_test_cvec, pipe_y_pred_tf)\n",
    "disp = ConfusionMatrixDisplay(confusion_matrix=cm)\n",
    "disp.plot();"
   ]
  },
  {
   "cell_type": "code",
   "execution_count": 116,
   "id": "2996630a",
   "metadata": {
    "execution": {
     "iopub.execute_input": "2023-01-30T12:56:29.260867Z",
     "iopub.status.busy": "2023-01-30T12:56:29.259308Z",
     "iopub.status.idle": "2023-01-30T12:56:29.276546Z",
     "shell.execute_reply": "2023-01-30T12:56:29.275356Z"
    },
    "papermill": {
     "duration": 0.06456,
     "end_time": "2023-01-30T12:56:29.278505",
     "exception": false,
     "start_time": "2023-01-30T12:56:29.213945",
     "status": "completed"
    },
    "tags": []
   },
   "outputs": [
    {
     "name": "stdout",
     "output_type": "stream",
     "text": [
      "              precision    recall  f1-score   support\n",
      "\n",
      "           0       0.27      0.33      0.29      1883\n",
      "           1       0.71      0.65      0.68      4830\n",
      "\n",
      "    accuracy                           0.56      6713\n",
      "   macro avg       0.49      0.49      0.49      6713\n",
      "weighted avg       0.59      0.56      0.57      6713\n",
      "\n"
     ]
    }
   ],
   "source": [
    "print(classification_report(y_test_cvec, pipe_y_pred_tf))"
   ]
  },
  {
   "cell_type": "code",
   "execution_count": 117,
   "id": "fb9499ce",
   "metadata": {
    "execution": {
     "iopub.execute_input": "2023-01-30T12:56:29.360160Z",
     "iopub.status.busy": "2023-01-30T12:56:29.359881Z",
     "iopub.status.idle": "2023-01-30T12:56:29.364305Z",
     "shell.execute_reply": "2023-01-30T12:56:29.363304Z"
    },
    "papermill": {
     "duration": 0.047155,
     "end_time": "2023-01-30T12:56:29.366605",
     "exception": false,
     "start_time": "2023-01-30T12:56:29.319450",
     "status": "completed"
    },
    "tags": []
   },
   "outputs": [],
   "source": [
    "rf = Pipeline([\n",
    "    ('rf', RandomForestClassifier())])\n",
    "\n",
    "\n"
   ]
  },
  {
   "cell_type": "code",
   "execution_count": 118,
   "id": "0b25bd07",
   "metadata": {
    "execution": {
     "iopub.execute_input": "2023-01-30T12:56:29.448801Z",
     "iopub.status.busy": "2023-01-30T12:56:29.448543Z",
     "iopub.status.idle": "2023-01-30T12:56:29.452162Z",
     "shell.execute_reply": "2023-01-30T12:56:29.451264Z"
    },
    "papermill": {
     "duration": 0.047037,
     "end_time": "2023-01-30T12:56:29.454384",
     "exception": false,
     "start_time": "2023-01-30T12:56:29.407347",
     "status": "completed"
    },
    "tags": []
   },
   "outputs": [],
   "source": [
    "#  = GridSearchCV(rf,\n",
    "#                   param_grid= {'ngram_range': (1,3),'n_estimators': [100, 150, 200], 'max_depth': ['None', 1, 2, 3, 4, 5]},cv=5) "
   ]
  },
  {
   "cell_type": "code",
   "execution_count": 119,
   "id": "e8d0edf0",
   "metadata": {
    "execution": {
     "iopub.execute_input": "2023-01-30T12:56:29.537613Z",
     "iopub.status.busy": "2023-01-30T12:56:29.536838Z",
     "iopub.status.idle": "2023-01-30T14:33:10.715593Z",
     "shell.execute_reply": "2023-01-30T14:33:10.714573Z"
    },
    "papermill": {
     "duration": 5801.265165,
     "end_time": "2023-01-30T14:33:10.759433",
     "exception": false,
     "start_time": "2023-01-30T12:56:29.494268",
     "status": "completed"
    },
    "tags": []
   },
   "outputs": [
    {
     "name": "stdout",
     "output_type": "stream",
     "text": [
      "{'max_depth': 30, 'min_samples_leaf': 1, 'min_samples_split': 4, 'n_estimators': 200}\n",
      "0.7272816877339132\n"
     ]
    }
   ],
   "source": [
    "# Define the parameter grid\n",
    "param_grid = {\n",
    "    'n_estimators': [100, 200, 300],\n",
    "    'max_depth': [10, 20, 30],\n",
    "    'min_samples_split': [2, 4, 8],\n",
    "    'min_samples_leaf': [1, 2, 4]\n",
    "}\n",
    "\n",
    "# Initialize the classifier\n",
    "clf = RandomForestClassifier()\n",
    "\n",
    "# Initialize the GridSearchCV object\n",
    "rf_gs_cvec = GridSearchCV(clf, param_grid, cv=5)\n",
    "\n",
    "# Fit the GridSearchCV object to the training data\n",
    "rf_gs_cvec.fit(X_train_cvec, y_train_cvec)\n",
    "\n",
    "# Get the best parameters and best score\n",
    "print(rf_gs_cvec.best_params_)\n",
    "print(rf_gs_cvec.best_score_)"
   ]
  },
  {
   "cell_type": "code",
   "execution_count": 120,
   "id": "37af6c4c",
   "metadata": {
    "execution": {
     "iopub.execute_input": "2023-01-30T14:33:10.841882Z",
     "iopub.status.busy": "2023-01-30T14:33:10.840899Z",
     "iopub.status.idle": "2023-01-30T14:33:10.847761Z",
     "shell.execute_reply": "2023-01-30T14:33:10.846713Z"
    },
    "papermill": {
     "duration": 0.050034,
     "end_time": "2023-01-30T14:33:10.849714",
     "exception": false,
     "start_time": "2023-01-30T14:33:10.799680",
     "status": "completed"
    },
    "tags": []
   },
   "outputs": [
    {
     "data": {
      "text/plain": [
       "dict_keys(['bootstrap', 'ccp_alpha', 'class_weight', 'criterion', 'max_depth', 'max_features', 'max_leaf_nodes', 'max_samples', 'min_impurity_decrease', 'min_samples_leaf', 'min_samples_split', 'min_weight_fraction_leaf', 'n_estimators', 'n_jobs', 'oob_score', 'random_state', 'verbose', 'warm_start'])"
      ]
     },
     "execution_count": 120,
     "metadata": {},
     "output_type": "execute_result"
    }
   ],
   "source": [
    "RandomForestClassifier().get_params().keys()"
   ]
  },
  {
   "cell_type": "code",
   "execution_count": 121,
   "id": "55833a7f",
   "metadata": {
    "execution": {
     "iopub.execute_input": "2023-01-30T14:33:10.931906Z",
     "iopub.status.busy": "2023-01-30T14:33:10.930957Z",
     "iopub.status.idle": "2023-01-30T14:33:11.350179Z",
     "shell.execute_reply": "2023-01-30T14:33:11.349169Z"
    },
    "papermill": {
     "duration": 0.463026,
     "end_time": "2023-01-30T14:33:11.352628",
     "exception": false,
     "start_time": "2023-01-30T14:33:10.889602",
     "status": "completed"
    },
    "tags": []
   },
   "outputs": [],
   "source": [
    "rf_gs_cevc_y_pred = rf_gs_cvec.predict(X_test_cvec)"
   ]
  },
  {
   "cell_type": "code",
   "execution_count": 122,
   "id": "16b5d4d4",
   "metadata": {
    "execution": {
     "iopub.execute_input": "2023-01-30T14:33:11.436702Z",
     "iopub.status.busy": "2023-01-30T14:33:11.435699Z",
     "iopub.status.idle": "2023-01-30T14:33:11.630782Z",
     "shell.execute_reply": "2023-01-30T14:33:11.629851Z"
    },
    "papermill": {
     "duration": 0.239003,
     "end_time": "2023-01-30T14:33:11.633055",
     "exception": false,
     "start_time": "2023-01-30T14:33:11.394052",
     "status": "completed"
    },
    "tags": []
   },
   "outputs": [
    {
     "data": {
      "image/png": "[encoded data removed]",
      "text/plain": [
       "<Figure size 432x288 with 2 Axes>"
      ]
     },
     "metadata": {
      "needs_background": "light"
     },
     "output_type": "display_data"
    }
   ],
   "source": [
    "cm = confusion_matrix(y_test_cvec, rf_gs_cevc_y_pred)\n",
    "disp = ConfusionMatrixDisplay(confusion_matrix=cm)\n",
    "disp.plot();"
   ]
  },
  {
   "cell_type": "code",
   "execution_count": 123,
   "id": "87060abf",
   "metadata": {
    "execution": {
     "iopub.execute_input": "2023-01-30T14:33:11.716809Z",
     "iopub.status.busy": "2023-01-30T14:33:11.715881Z",
     "iopub.status.idle": "2023-01-30T14:33:11.732039Z",
     "shell.execute_reply": "2023-01-30T14:33:11.730711Z"
    },
    "papermill": {
     "duration": 0.06012,
     "end_time": "2023-01-30T14:33:11.734291",
     "exception": false,
     "start_time": "2023-01-30T14:33:11.674171",
     "status": "completed"
    },
    "tags": []
   },
   "outputs": [
    {
     "name": "stdout",
     "output_type": "stream",
     "text": [
      "              precision    recall  f1-score   support\n",
      "\n",
      "           0       0.72      0.05      0.10      1883\n",
      "           1       0.73      0.99      0.84      4830\n",
      "\n",
      "    accuracy                           0.73      6713\n",
      "   macro avg       0.72      0.52      0.47      6713\n",
      "weighted avg       0.73      0.73      0.63      6713\n",
      "\n"
     ]
    }
   ],
   "source": [
    "print(classification_report(y_test_cvec, rf_gs_cevc_y_pred))"
   ]
  },
  {
   "cell_type": "code",
   "execution_count": 124,
   "id": "ab0494c9",
   "metadata": {
    "execution": {
     "iopub.execute_input": "2023-01-30T14:33:11.818783Z",
     "iopub.status.busy": "2023-01-30T14:33:11.818462Z",
     "iopub.status.idle": "2023-01-30T14:33:11.822861Z",
     "shell.execute_reply": "2023-01-30T14:33:11.821881Z"
    },
    "papermill": {
     "duration": 0.04836,
     "end_time": "2023-01-30T14:33:11.824810",
     "exception": false,
     "start_time": "2023-01-30T14:33:11.776450",
     "status": "completed"
    },
    "tags": []
   },
   "outputs": [],
   "source": [
    "rf_tf = Pipeline([\n",
    "    ('rf', RandomForestClassifier())])"
   ]
  },
  {
   "cell_type": "code",
   "execution_count": 125,
   "id": "ecc09d78",
   "metadata": {
    "execution": {
     "iopub.execute_input": "2023-01-30T14:33:11.907708Z",
     "iopub.status.busy": "2023-01-30T14:33:11.906934Z",
     "iopub.status.idle": "2023-01-30T16:32:07.574364Z",
     "shell.execute_reply": "2023-01-30T16:32:07.573361Z"
    },
    "papermill": {
     "duration": 7135.754722,
     "end_time": "2023-01-30T16:32:07.619988",
     "exception": false,
     "start_time": "2023-01-30T14:33:11.865266",
     "status": "completed"
    },
    "tags": []
   },
   "outputs": [
    {
     "name": "stdout",
     "output_type": "stream",
     "text": [
      "{'max_depth': 30, 'min_samples_leaf': 1, 'min_samples_split': 4, 'n_estimators': 200}\n",
      "0.7272816877339132\n"
     ]
    }
   ],
   "source": [
    "# Define the parameter grid\n",
    "param_grid = {\n",
    "    'n_estimators': [100, 200, 300],\n",
    "    'max_depth': [10, 20, 30],\n",
    "    'min_samples_split': [2, 4, 8],\n",
    "    'min_samples_leaf': [1, 2, 4]\n",
    "}\n",
    "\n",
    "# Initialize the classifier\n",
    "clf2 = RandomForestClassifier()\n",
    "\n",
    "# Initialize the GridSearchCV object\n",
    "rf_gs_tf = GridSearchCV(clf2, param_grid, cv=5)\n",
    "\n",
    "# Fit the GridSearchCV object to the training data\n",
    "rf_gs_tf.fit(X_train_tf, y_train_tf)\n",
    "\n",
    "# Get the best parameters and best score\n",
    "print(rf_gs_cvec.best_params_)\n",
    "print(rf_gs_cvec.best_score_)"
   ]
  },
  {
   "cell_type": "code",
   "execution_count": 126,
   "id": "cc1477d3",
   "metadata": {
    "execution": {
     "iopub.execute_input": "2023-01-30T16:32:07.705023Z",
     "iopub.status.busy": "2023-01-30T16:32:07.703789Z",
     "iopub.status.idle": "2023-01-30T18:34:55.938380Z",
     "shell.execute_reply": "2023-01-30T18:34:55.937368Z"
    },
    "papermill": {
     "duration": 7368.322691,
     "end_time": "2023-01-30T18:34:55.984935",
     "exception": false,
     "start_time": "2023-01-30T16:32:07.662244",
     "status": "completed"
    },
    "tags": []
   },
   "outputs": [
    {
     "data": {
      "text/plain": [
       "GridSearchCV(cv=5, estimator=RandomForestClassifier(),\n",
       "             param_grid={'max_depth': [10, 20, 30],\n",
       "                         'min_samples_leaf': [1, 2, 4],\n",
       "                         'min_samples_split': [2, 4, 8],\n",
       "                         'n_estimators': [100, 200, 300]})"
      ]
     },
     "execution_count": 126,
     "metadata": {},
     "output_type": "execute_result"
    }
   ],
   "source": [
    "rf_gs_tf.fit(X_train_tf,y_train_tf)"
   ]
  },
  {
   "cell_type": "code",
   "execution_count": 127,
   "id": "69283838",
   "metadata": {
    "execution": {
     "iopub.execute_input": "2023-01-30T18:34:56.069718Z",
     "iopub.status.busy": "2023-01-30T18:34:56.069355Z",
     "iopub.status.idle": "2023-01-30T18:34:58.095511Z",
     "shell.execute_reply": "2023-01-30T18:34:58.094507Z"
    },
    "papermill": {
     "duration": 2.071548,
     "end_time": "2023-01-30T18:34:58.097741",
     "exception": false,
     "start_time": "2023-01-30T18:34:56.026193",
     "status": "completed"
    },
    "tags": []
   },
   "outputs": [
    {
     "data": {
      "text/plain": [
       "0.8339954315224948"
      ]
     },
     "execution_count": 127,
     "metadata": {},
     "output_type": "execute_result"
    }
   ],
   "source": [
    "rf_gs_tf.score(X_train_tf,y_train_tf)"
   ]
  },
  {
   "cell_type": "code",
   "execution_count": 128,
   "id": "c91914e1",
   "metadata": {
    "execution": {
     "iopub.execute_input": "2023-01-30T18:34:58.272231Z",
     "iopub.status.busy": "2023-01-30T18:34:58.271863Z",
     "iopub.status.idle": "2023-01-30T18:34:59.070806Z",
     "shell.execute_reply": "2023-01-30T18:34:59.069712Z"
    },
    "papermill": {
     "duration": 0.844373,
     "end_time": "2023-01-30T18:34:59.073338",
     "exception": false,
     "start_time": "2023-01-30T18:34:58.228965",
     "status": "completed"
    },
    "tags": []
   },
   "outputs": [
    {
     "data": {
      "text/plain": [
       "0.7263518546104574"
      ]
     },
     "execution_count": 128,
     "metadata": {},
     "output_type": "execute_result"
    }
   ],
   "source": [
    "rf_gs_tf.score(X_test_tf,y_test_tf)"
   ]
  },
  {
   "cell_type": "code",
   "execution_count": 129,
   "id": "92d2b962",
   "metadata": {
    "execution": {
     "iopub.execute_input": "2023-01-30T18:34:59.161690Z",
     "iopub.status.busy": "2023-01-30T18:34:59.160838Z",
     "iopub.status.idle": "2023-01-30T18:34:59.807033Z",
     "shell.execute_reply": "2023-01-30T18:34:59.805830Z"
    },
    "papermill": {
     "duration": 0.692491,
     "end_time": "2023-01-30T18:34:59.809819",
     "exception": false,
     "start_time": "2023-01-30T18:34:59.117328",
     "status": "completed"
    },
    "tags": []
   },
   "outputs": [],
   "source": [
    "rf_gs_tf_y_pred = rf_gs_tf.predict(X_test_tf)"
   ]
  },
  {
   "cell_type": "code",
   "execution_count": 130,
   "id": "8b925b31",
   "metadata": {
    "execution": {
     "iopub.execute_input": "2023-01-30T18:34:59.897988Z",
     "iopub.status.busy": "2023-01-30T18:34:59.897359Z",
     "iopub.status.idle": "2023-01-30T18:35:00.107564Z",
     "shell.execute_reply": "2023-01-30T18:35:00.106531Z"
    },
    "papermill": {
     "duration": 0.255891,
     "end_time": "2023-01-30T18:35:00.110116",
     "exception": false,
     "start_time": "2023-01-30T18:34:59.854225",
     "status": "completed"
    },
    "tags": []
   },
   "outputs": [
    {
     "data": {
      "image/png": "[encoded data removed]",
      "text/plain": [
       "<Figure size 432x288 with 2 Axes>"
      ]
     },
     "metadata": {
      "needs_background": "light"
     },
     "output_type": "display_data"
    }
   ],
   "source": [
    "cm = confusion_matrix(y_test_cvec, rf_gs_tf_y_pred)\n",
    "disp = ConfusionMatrixDisplay(confusion_matrix=cm)\n",
    "disp.plot();"
   ]
  },
  {
   "cell_type": "code",
   "execution_count": 131,
   "id": "934095ba",
   "metadata": {
    "execution": {
     "iopub.execute_input": "2023-01-30T18:35:00.198795Z",
     "iopub.status.busy": "2023-01-30T18:35:00.198452Z",
     "iopub.status.idle": "2023-01-30T18:35:00.215294Z",
     "shell.execute_reply": "2023-01-30T18:35:00.214191Z"
    },
    "papermill": {
     "duration": 0.062919,
     "end_time": "2023-01-30T18:35:00.217625",
     "exception": false,
     "start_time": "2023-01-30T18:35:00.154706",
     "status": "completed"
    },
    "tags": []
   },
   "outputs": [
    {
     "name": "stdout",
     "output_type": "stream",
     "text": [
      "              precision    recall  f1-score   support\n",
      "\n",
      "           0       0.22      0.01      0.02      1883\n",
      "           1       0.72      0.98      0.83      4830\n",
      "\n",
      "    accuracy                           0.71      6713\n",
      "   macro avg       0.47      0.50      0.43      6713\n",
      "weighted avg       0.58      0.71      0.60      6713\n",
      "\n"
     ]
    }
   ],
   "source": [
    "print(classification_report(y_test_cvec, rf_gs_tf_y_pred))"
   ]
  }
 ],
 "metadata": {
  "kernelspec": {
   "display_name": "Python 3",
   "language": "python",
   "name": "python3"
  },
  "language_info": {
   "codemirror_mode": {
    "name": "ipython",
    "version": 3
   },
   "file_extension": ".py",
   "mimetype": "text/x-python",
   "name": "python",
   "nbconvert_exporter": "python",
   "pygments_lexer": "ipython3",
   "version": "3.7.12"
  },
  "papermill": {
   "default_parameters": {},
   "duration": 21200.649549,
   "end_time": "2023-01-30T18:35:03.012272",
   "environment_variables": {},
   "exception": null,
   "input_path": "__notebook__.ipynb",
   "output_path": "__notebook__.ipynb",
   "parameters": {},
   "start_time": "2023-01-30T12:41:42.362723",
   "version": "2.3.4"
  }
 },
 "nbformat": 4,
 "nbformat_minor": 5
}
