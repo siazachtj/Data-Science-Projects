{
 "cells": [
  {
   "cell_type": "code",
   "execution_count": 17,
   "id": "e398f2c7-9773-43c0-bde9-c9d2c78b1cac",
   "metadata": {},
   "outputs": [
    {
     "name": "stdout",
     "output_type": "stream",
     "text": [
      "Collecting selenium\n",
      "  Downloading selenium-4.7.2-py3-none-any.whl (6.3 MB)\n",
      "     ---------------------------------------- 6.3/6.3 MB 16.1 MB/s eta 0:00:00\n",
      "Requirement already satisfied: urllib3[socks]~=1.26 in c:\\users\\siaza\\.conda\\envs\\dsi-sg\\lib\\site-packages (from selenium) (1.26.11)\n",
      "Collecting trio-websocket~=0.9\n",
      "  Downloading trio_websocket-0.9.2-py3-none-any.whl (16 kB)\n",
      "Collecting trio~=0.17\n",
      "  Downloading trio-0.22.0-py3-none-any.whl (384 kB)\n",
      "     ------------------------------------- 384.9/384.9 kB 25.0 MB/s eta 0:00:00\n",
      "Requirement already satisfied: certifi>=2021.10.8 in c:\\users\\siaza\\.conda\\envs\\dsi-sg\\lib\\site-packages (from selenium) (2022.9.24)\n",
      "Requirement already satisfied: sniffio in c:\\users\\siaza\\.conda\\envs\\dsi-sg\\lib\\site-packages (from trio~=0.17->selenium) (1.3.0)\n",
      "Requirement already satisfied: idna in c:\\users\\siaza\\.conda\\envs\\dsi-sg\\lib\\site-packages (from trio~=0.17->selenium) (3.4)\n",
      "Collecting exceptiongroup>=1.0.0rc9\n",
      "  Downloading exceptiongroup-1.1.0-py3-none-any.whl (14 kB)\n",
      "Collecting async-generator>=1.9\n",
      "  Downloading async_generator-1.10-py3-none-any.whl (18 kB)\n",
      "Requirement already satisfied: cffi>=1.14 in c:\\users\\siaza\\.conda\\envs\\dsi-sg\\lib\\site-packages (from trio~=0.17->selenium) (1.15.1)\n",
      "Collecting sortedcontainers\n",
      "  Downloading sortedcontainers-2.4.0-py2.py3-none-any.whl (29 kB)\n",
      "Requirement already satisfied: attrs>=19.2.0 in c:\\users\\siaza\\.conda\\envs\\dsi-sg\\lib\\site-packages (from trio~=0.17->selenium) (22.1.0)\n",
      "Collecting outcome\n",
      "  Downloading outcome-1.2.0-py2.py3-none-any.whl (9.7 kB)\n",
      "Collecting wsproto>=0.14\n",
      "  Downloading wsproto-1.2.0-py3-none-any.whl (24 kB)\n",
      "Requirement already satisfied: PySocks!=1.5.7,<2.0,>=1.5.6 in c:\\users\\siaza\\.conda\\envs\\dsi-sg\\lib\\site-packages (from urllib3[socks]~=1.26->selenium) (1.7.1)\n",
      "Requirement already satisfied: pycparser in c:\\users\\siaza\\.conda\\envs\\dsi-sg\\lib\\site-packages (from cffi>=1.14->trio~=0.17->selenium) (2.21)\n",
      "Collecting h11<1,>=0.9.0\n",
      "  Downloading h11-0.14.0-py3-none-any.whl (58 kB)\n",
      "     ---------------------------------------- 58.3/58.3 kB ? eta 0:00:00\n",
      "Installing collected packages: sortedcontainers, outcome, h11, exceptiongroup, async-generator, wsproto, trio, trio-websocket, selenium\n",
      "Successfully installed async-generator-1.10 exceptiongroup-1.1.0 h11-0.14.0 outcome-1.2.0 selenium-4.7.2 sortedcontainers-2.4.0 trio-0.22.0 trio-websocket-0.9.2 wsproto-1.2.0\n",
      "Note: you may need to restart the kernel to use updated packages.\n"
     ]
    }
   ],
   "source": [
    "pip install selenium"
   ]
  },
  {
   "cell_type": "code",
   "execution_count": 18,
   "id": "c72b2973-949a-41b8-a881-41dc5e5eba78",
   "metadata": {},
   "outputs": [
    {
     "name": "stdout",
     "output_type": "stream",
     "text": [
      "CPU times: total: 1.06 s\n",
      "Wall time: 2.48 s\n"
     ]
    }
   ],
   "source": [
    "%%time\n",
    "from selenium import webdriver\n",
    "from bs4 import BeautifulSoup\n",
    "import requests\n",
    "import pandas as pd\n",
    "import time\n"
   ]
  },
  {
   "cell_type": "code",
   "execution_count": 33,
   "id": "71ceeeb7-5885-4c17-9e1a-aa42f0f97293",
   "metadata": {},
   "outputs": [],
   "source": [
    "class time_class:\n",
    "    def __init__(self,var,scroll,count_scrolls,url):\n",
    "        self.var = var\n",
    "        self.scroll = scroll\n",
    "        self.count_scrolls = count_scrolls\n",
    "        self.driver = webdriver.Chrome()\n",
    "        self.driver.get(url)\n",
    "        \n",
    "    def main_time(self):\n",
    "        for i in range(self.count_scrolls):\n",
    "            time.sleep(self.var)\n",
    "            self.driver.execute_script(self.scroll)\n",
    "        soup = BeautifulSoup(self.driver.page_source, \"html.parser\")\n",
    "        games = soup.find_all(\"a\", class_=\"search_result_row\")\n",
    "        return games\n"
   ]
  },
  {
   "cell_type": "code",
   "execution_count": 35,
   "id": "923e07ac-6b30-41fc-ac10-f8a5c14fd54a",
   "metadata": {},
   "outputs": [
    {
     "ename": "NoSuchWindowException",
     "evalue": "Message: no such window: target window already closed\nfrom unknown error: web view not found\n  (Session info: chrome=109.0.5414.75)\nStacktrace:\nBacktrace:\n\t(No symbol) [0x00A56643]\n\t(No symbol) [0x009EBE21]\n\t(No symbol) [0x008EDA9D]\n\t(No symbol) [0x008CEF6A]\n\t(No symbol) [0x00943AAB]\n\t(No symbol) [0x009561B6]\n\t(No symbol) [0x0093FB76]\n\t(No symbol) [0x009149C1]\n\t(No symbol) [0x00915E5D]\n\tGetHandleVerifier [0x00CCA142+2497106]\n\tGetHandleVerifier [0x00CF85D3+2686691]\n\tGetHandleVerifier [0x00CFBB9C+2700460]\n\tGetHandleVerifier [0x00B03B10+635936]\n\t(No symbol) [0x009F4A1F]\n\t(No symbol) [0x009FA418]\n\t(No symbol) [0x009FA505]\n\t(No symbol) [0x00A0508B]\n\tBaseThreadInitThunk [0x769A6BD9+25]\n\tRtlGetFullPathName_UEx [0x77A08FD2+1218]\n\tRtlGetFullPathName_UEx [0x77A08F9D+1165]\n",
     "output_type": "error",
     "traceback": [
      "\u001b[1;31m---------------------------------------------------------------------------\u001b[0m",
      "\u001b[1;31mNoSuchWindowException\u001b[0m                     Traceback (most recent call last)",
      "Cell \u001b[1;32mIn [35], line 3\u001b[0m\n\u001b[0;32m      1\u001b[0m url \u001b[38;5;241m=\u001b[39m \u001b[38;5;124m\"\u001b[39m\u001b[38;5;124mhttps://store.steampowered.com/search/?filter=globaltopsellers&os=win&ignore_preferences=1\u001b[39m\u001b[38;5;124m\"\u001b[39m\u001b[38;5;66;03m# Start a new Chrome browser instance\u001b[39;00m\n\u001b[0;32m      2\u001b[0m driver \u001b[38;5;241m=\u001b[39m webdriver\u001b[38;5;241m.\u001b[39mChrome()\u001b[38;5;66;03m# Navigate to the URL\u001b[39;00m\n\u001b[1;32m----> 3\u001b[0m \u001b[43mdriver\u001b[49m\u001b[38;5;241;43m.\u001b[39;49m\u001b[43mget\u001b[49m\u001b[43m(\u001b[49m\u001b[43murl\u001b[49m\u001b[43m)\u001b[49m\u001b[38;5;66;03m# Wait for the page to load\u001b[39;00m\n\u001b[0;32m      5\u001b[0m test \u001b[38;5;241m=\u001b[39m time_class(\u001b[38;5;241m5\u001b[39m,\u001b[38;5;124m\"\u001b[39m\u001b[38;5;124mwindow.scrollTo(0,document.body.scrollHeight);\u001b[39m\u001b[38;5;124m\"\u001b[39m, \u001b[38;5;241m5\u001b[39m,\u001b[38;5;124m\"\u001b[39m\u001b[38;5;124mhttps://store.steampowered.com/search/?filter=globaltopsellers&os=win&ignore_preferences=1\u001b[39m\u001b[38;5;124m\"\u001b[39m)\n\u001b[0;32m      6\u001b[0m test\u001b[38;5;241m.\u001b[39mmain_time()\n",
      "File \u001b[1;32m~\\.conda\\envs\\dsi-sg\\lib\\site-packages\\selenium\\webdriver\\remote\\webdriver.py:455\u001b[0m, in \u001b[0;36mWebDriver.get\u001b[1;34m(self, url)\u001b[0m\n\u001b[0;32m    451\u001b[0m \u001b[38;5;28;01mdef\u001b[39;00m \u001b[38;5;21mget\u001b[39m(\u001b[38;5;28mself\u001b[39m, url: \u001b[38;5;28mstr\u001b[39m) \u001b[38;5;241m-\u001b[39m\u001b[38;5;241m>\u001b[39m \u001b[38;5;28;01mNone\u001b[39;00m:\n\u001b[0;32m    452\u001b[0m     \u001b[38;5;124;03m\"\"\"\u001b[39;00m\n\u001b[0;32m    453\u001b[0m \u001b[38;5;124;03m    Loads a web page in the current browser session.\u001b[39;00m\n\u001b[0;32m    454\u001b[0m \u001b[38;5;124;03m    \"\"\"\u001b[39;00m\n\u001b[1;32m--> 455\u001b[0m     \u001b[38;5;28;43mself\u001b[39;49m\u001b[38;5;241;43m.\u001b[39;49m\u001b[43mexecute\u001b[49m\u001b[43m(\u001b[49m\u001b[43mCommand\u001b[49m\u001b[38;5;241;43m.\u001b[39;49m\u001b[43mGET\u001b[49m\u001b[43m,\u001b[49m\u001b[43m \u001b[49m\u001b[43m{\u001b[49m\u001b[38;5;124;43m\"\u001b[39;49m\u001b[38;5;124;43murl\u001b[39;49m\u001b[38;5;124;43m\"\u001b[39;49m\u001b[43m:\u001b[49m\u001b[43m \u001b[49m\u001b[43murl\u001b[49m\u001b[43m}\u001b[49m\u001b[43m)\u001b[49m\n",
      "File \u001b[1;32m~\\.conda\\envs\\dsi-sg\\lib\\site-packages\\selenium\\webdriver\\remote\\webdriver.py:444\u001b[0m, in \u001b[0;36mWebDriver.execute\u001b[1;34m(self, driver_command, params)\u001b[0m\n\u001b[0;32m    442\u001b[0m response \u001b[38;5;241m=\u001b[39m \u001b[38;5;28mself\u001b[39m\u001b[38;5;241m.\u001b[39mcommand_executor\u001b[38;5;241m.\u001b[39mexecute(driver_command, params)\n\u001b[0;32m    443\u001b[0m \u001b[38;5;28;01mif\u001b[39;00m response:\n\u001b[1;32m--> 444\u001b[0m     \u001b[38;5;28;43mself\u001b[39;49m\u001b[38;5;241;43m.\u001b[39;49m\u001b[43merror_handler\u001b[49m\u001b[38;5;241;43m.\u001b[39;49m\u001b[43mcheck_response\u001b[49m\u001b[43m(\u001b[49m\u001b[43mresponse\u001b[49m\u001b[43m)\u001b[49m\n\u001b[0;32m    445\u001b[0m     response[\u001b[38;5;124m\"\u001b[39m\u001b[38;5;124mvalue\u001b[39m\u001b[38;5;124m\"\u001b[39m] \u001b[38;5;241m=\u001b[39m \u001b[38;5;28mself\u001b[39m\u001b[38;5;241m.\u001b[39m_unwrap_value(response\u001b[38;5;241m.\u001b[39mget(\u001b[38;5;124m\"\u001b[39m\u001b[38;5;124mvalue\u001b[39m\u001b[38;5;124m\"\u001b[39m, \u001b[38;5;28;01mNone\u001b[39;00m))\n\u001b[0;32m    446\u001b[0m     \u001b[38;5;28;01mreturn\u001b[39;00m response\n",
      "File \u001b[1;32m~\\.conda\\envs\\dsi-sg\\lib\\site-packages\\selenium\\webdriver\\remote\\errorhandler.py:249\u001b[0m, in \u001b[0;36mErrorHandler.check_response\u001b[1;34m(self, response)\u001b[0m\n\u001b[0;32m    247\u001b[0m         alert_text \u001b[38;5;241m=\u001b[39m value[\u001b[38;5;124m\"\u001b[39m\u001b[38;5;124malert\u001b[39m\u001b[38;5;124m\"\u001b[39m]\u001b[38;5;241m.\u001b[39mget(\u001b[38;5;124m\"\u001b[39m\u001b[38;5;124mtext\u001b[39m\u001b[38;5;124m\"\u001b[39m)\n\u001b[0;32m    248\u001b[0m     \u001b[38;5;28;01mraise\u001b[39;00m exception_class(message, screen, stacktrace, alert_text)  \u001b[38;5;66;03m# type: ignore[call-arg]  # mypy is not smart enough here\u001b[39;00m\n\u001b[1;32m--> 249\u001b[0m \u001b[38;5;28;01mraise\u001b[39;00m exception_class(message, screen, stacktrace)\n",
      "\u001b[1;31mNoSuchWindowException\u001b[0m: Message: no such window: target window already closed\nfrom unknown error: web view not found\n  (Session info: chrome=109.0.5414.75)\nStacktrace:\nBacktrace:\n\t(No symbol) [0x00A56643]\n\t(No symbol) [0x009EBE21]\n\t(No symbol) [0x008EDA9D]\n\t(No symbol) [0x008CEF6A]\n\t(No symbol) [0x00943AAB]\n\t(No symbol) [0x009561B6]\n\t(No symbol) [0x0093FB76]\n\t(No symbol) [0x009149C1]\n\t(No symbol) [0x00915E5D]\n\tGetHandleVerifier [0x00CCA142+2497106]\n\tGetHandleVerifier [0x00CF85D3+2686691]\n\tGetHandleVerifier [0x00CFBB9C+2700460]\n\tGetHandleVerifier [0x00B03B10+635936]\n\t(No symbol) [0x009F4A1F]\n\t(No symbol) [0x009FA418]\n\t(No symbol) [0x009FA505]\n\t(No symbol) [0x00A0508B]\n\tBaseThreadInitThunk [0x769A6BD9+25]\n\tRtlGetFullPathName_UEx [0x77A08FD2+1218]\n\tRtlGetFullPathName_UEx [0x77A08F9D+1165]\n"
     ]
    }
   ],
   "source": [
    "url = \"https://store.steampowered.com/search/?filter=globaltopsellers&os=win&ignore_preferences=1\"# Start a new Chrome browser instance\n",
    "driver = webdriver.Chrome()# Navigate to the URL\n",
    "driver.get(url)# Wait for the page to load\n",
    "    \n",
    "test = time_class(5,\"window.scrollTo(0,document.body.scrollHeight);\", 5,\"https://store.steampowered.com/search/?filter=globaltopsellers&os=win&ignore_preferences=1\")\n",
    "test.main_time()\n",
    "print(test.games)\n",
    "# data = \n",
    "\n",
    "# for game in games:\n",
    "#     name = game.find(\"span\", class_=\"title\").text\n",
    "#     link = game.get(\"href\")\n",
    "#     release = game.find('div', class_='col search_released responsive_secondrow').text\n",
    "#     price = game.find(\"div\", class_=\"col search_price_discount_combined responsive_secondrow\").text.strip()    response = requests.get(link)\n",
    "#     soup1 = BeautifulSoup(response.text, 'html.parser')    description = soup1.find('div',id='game_area_description').text.strip().replace('\\r','').replace('\\t','')\n",
    "#     reviews = soup1.find('div', class_='user_reviews_summary_row').text.strip().replace('\\r','').replace('\\t','')\n",
    "#     tags_div = soup1.find('div', class_='glance_tags popular_tags')\n",
    "#     tags = tags_div.find_all('a', class_='app_tag')    tagged = []\n",
    "#     for tag in tags:\n",
    "#         tagged.append((tag.text).replace('\\r','').replace('\\t','').replace('\\n',''))\n",
    "#     data.append([name, link, release, price, description, reviews, tagged])\n",
    "driver.quit()"
   ]
  },
  {
   "cell_type": "code",
   "execution_count": 8,
   "id": "fe1718ab-690b-4a0d-9406-387ee38f2291",
   "metadata": {},
   "outputs": [],
   "source": [
    "class parent:\n",
    "    def sum(self,a,b):\n",
    "        return a+b\n",
    "class your_class:\n",
    "    def Fun(self,a,b):\n",
    "        self.a=a\n",
    "        self.b=b\n",
    "        x=parent.sum(self,a,b)\n",
    "        print(\"sum=\",x)"
   ]
  },
  {
   "cell_type": "code",
   "execution_count": 9,
   "id": "f30f1e92-bfe4-4de0-b535-9d806c818126",
   "metadata": {},
   "outputs": [
    {
     "name": "stdout",
     "output_type": "stream",
     "text": [
      "sum= 3\n"
     ]
    }
   ],
   "source": [
    "a = your_class()\n",
    "a.Fun(1,2)"
   ]
  }
 ],
 "metadata": {
  "kernelspec": {
   "display_name": "Python 3 (ipykernel)",
   "language": "python",
   "name": "python3"
  },
  "language_info": {
   "codemirror_mode": {
    "name": "ipython",
    "version": 3
   },
   "file_extension": ".py",
   "mimetype": "text/x-python",
   "name": "python",
   "nbconvert_exporter": "python",
   "pygments_lexer": "ipython3",
   "version": "3.8.13"
  }
 },
 "nbformat": 4,
 "nbformat_minor": 5
}
